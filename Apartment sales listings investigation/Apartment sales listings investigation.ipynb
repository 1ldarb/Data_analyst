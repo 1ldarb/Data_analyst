{
 "cells": [
  {
   "cell_type": "markdown",
   "metadata": {},
   "source": [
    "# Этап 1. Получение данных"
   ]
  },
  {
   "cell_type": "markdown",
   "metadata": {},
   "source": [
    "# Импорт библиотек"
   ]
  },
  {
   "cell_type": "code",
   "execution_count": 1,
   "metadata": {},
   "outputs": [],
   "source": [
    "import pandas as pd"
   ]
  },
  {
   "cell_type": "markdown",
   "metadata": {},
   "source": [
    "Прочитаем файл real_estate_data.csv и сохраним его в переменной data."
   ]
  },
  {
   "cell_type": "code",
   "execution_count": 2,
   "metadata": {
    "scrolled": false
   },
   "outputs": [],
   "source": [
    "data = pd.read_csv('/datasets/real_estate_data.csv', sep='\\t')"
   ]
  },
  {
   "cell_type": "markdown",
   "metadata": {},
   "source": [
    "Получение первых 10 строк таблицы."
   ]
  },
  {
   "cell_type": "code",
   "execution_count": 3,
   "metadata": {
    "scrolled": true
   },
   "outputs": [
    {
     "data": {
      "text/html": [
       "<div>\n",
       "<style scoped>\n",
       "    .dataframe tbody tr th:only-of-type {\n",
       "        vertical-align: middle;\n",
       "    }\n",
       "\n",
       "    .dataframe tbody tr th {\n",
       "        vertical-align: top;\n",
       "    }\n",
       "\n",
       "    .dataframe thead th {\n",
       "        text-align: right;\n",
       "    }\n",
       "</style>\n",
       "<table border=\"1\" class=\"dataframe\">\n",
       "  <thead>\n",
       "    <tr style=\"text-align: right;\">\n",
       "      <th></th>\n",
       "      <th>total_images</th>\n",
       "      <th>last_price</th>\n",
       "      <th>total_area</th>\n",
       "      <th>first_day_exposition</th>\n",
       "      <th>rooms</th>\n",
       "      <th>ceiling_height</th>\n",
       "      <th>floors_total</th>\n",
       "      <th>living_area</th>\n",
       "      <th>floor</th>\n",
       "      <th>is_apartment</th>\n",
       "      <th>...</th>\n",
       "      <th>kitchen_area</th>\n",
       "      <th>balcony</th>\n",
       "      <th>locality_name</th>\n",
       "      <th>airports_nearest</th>\n",
       "      <th>cityCenters_nearest</th>\n",
       "      <th>parks_around3000</th>\n",
       "      <th>parks_nearest</th>\n",
       "      <th>ponds_around3000</th>\n",
       "      <th>ponds_nearest</th>\n",
       "      <th>days_exposition</th>\n",
       "    </tr>\n",
       "  </thead>\n",
       "  <tbody>\n",
       "    <tr>\n",
       "      <th>0</th>\n",
       "      <td>20</td>\n",
       "      <td>13000000.0</td>\n",
       "      <td>108.00</td>\n",
       "      <td>2019-03-07T00:00:00</td>\n",
       "      <td>3</td>\n",
       "      <td>2.70</td>\n",
       "      <td>16.0</td>\n",
       "      <td>51.00</td>\n",
       "      <td>8</td>\n",
       "      <td>NaN</td>\n",
       "      <td>...</td>\n",
       "      <td>25.00</td>\n",
       "      <td>NaN</td>\n",
       "      <td>Санкт-Петербург</td>\n",
       "      <td>18863.0</td>\n",
       "      <td>16028.0</td>\n",
       "      <td>1.0</td>\n",
       "      <td>482.0</td>\n",
       "      <td>2.0</td>\n",
       "      <td>755.0</td>\n",
       "      <td>NaN</td>\n",
       "    </tr>\n",
       "    <tr>\n",
       "      <th>1</th>\n",
       "      <td>7</td>\n",
       "      <td>3350000.0</td>\n",
       "      <td>40.40</td>\n",
       "      <td>2018-12-04T00:00:00</td>\n",
       "      <td>1</td>\n",
       "      <td>NaN</td>\n",
       "      <td>11.0</td>\n",
       "      <td>18.60</td>\n",
       "      <td>1</td>\n",
       "      <td>NaN</td>\n",
       "      <td>...</td>\n",
       "      <td>11.00</td>\n",
       "      <td>2.0</td>\n",
       "      <td>посёлок Шушары</td>\n",
       "      <td>12817.0</td>\n",
       "      <td>18603.0</td>\n",
       "      <td>0.0</td>\n",
       "      <td>NaN</td>\n",
       "      <td>0.0</td>\n",
       "      <td>NaN</td>\n",
       "      <td>81.0</td>\n",
       "    </tr>\n",
       "    <tr>\n",
       "      <th>2</th>\n",
       "      <td>10</td>\n",
       "      <td>5196000.0</td>\n",
       "      <td>56.00</td>\n",
       "      <td>2015-08-20T00:00:00</td>\n",
       "      <td>2</td>\n",
       "      <td>NaN</td>\n",
       "      <td>5.0</td>\n",
       "      <td>34.30</td>\n",
       "      <td>4</td>\n",
       "      <td>NaN</td>\n",
       "      <td>...</td>\n",
       "      <td>8.30</td>\n",
       "      <td>0.0</td>\n",
       "      <td>Санкт-Петербург</td>\n",
       "      <td>21741.0</td>\n",
       "      <td>13933.0</td>\n",
       "      <td>1.0</td>\n",
       "      <td>90.0</td>\n",
       "      <td>2.0</td>\n",
       "      <td>574.0</td>\n",
       "      <td>558.0</td>\n",
       "    </tr>\n",
       "    <tr>\n",
       "      <th>3</th>\n",
       "      <td>0</td>\n",
       "      <td>64900000.0</td>\n",
       "      <td>159.00</td>\n",
       "      <td>2015-07-24T00:00:00</td>\n",
       "      <td>3</td>\n",
       "      <td>NaN</td>\n",
       "      <td>14.0</td>\n",
       "      <td>NaN</td>\n",
       "      <td>9</td>\n",
       "      <td>NaN</td>\n",
       "      <td>...</td>\n",
       "      <td>NaN</td>\n",
       "      <td>0.0</td>\n",
       "      <td>Санкт-Петербург</td>\n",
       "      <td>28098.0</td>\n",
       "      <td>6800.0</td>\n",
       "      <td>2.0</td>\n",
       "      <td>84.0</td>\n",
       "      <td>3.0</td>\n",
       "      <td>234.0</td>\n",
       "      <td>424.0</td>\n",
       "    </tr>\n",
       "    <tr>\n",
       "      <th>4</th>\n",
       "      <td>2</td>\n",
       "      <td>10000000.0</td>\n",
       "      <td>100.00</td>\n",
       "      <td>2018-06-19T00:00:00</td>\n",
       "      <td>2</td>\n",
       "      <td>3.03</td>\n",
       "      <td>14.0</td>\n",
       "      <td>32.00</td>\n",
       "      <td>13</td>\n",
       "      <td>NaN</td>\n",
       "      <td>...</td>\n",
       "      <td>41.00</td>\n",
       "      <td>NaN</td>\n",
       "      <td>Санкт-Петербург</td>\n",
       "      <td>31856.0</td>\n",
       "      <td>8098.0</td>\n",
       "      <td>2.0</td>\n",
       "      <td>112.0</td>\n",
       "      <td>1.0</td>\n",
       "      <td>48.0</td>\n",
       "      <td>121.0</td>\n",
       "    </tr>\n",
       "    <tr>\n",
       "      <th>5</th>\n",
       "      <td>10</td>\n",
       "      <td>2890000.0</td>\n",
       "      <td>30.40</td>\n",
       "      <td>2018-09-10T00:00:00</td>\n",
       "      <td>1</td>\n",
       "      <td>NaN</td>\n",
       "      <td>12.0</td>\n",
       "      <td>14.40</td>\n",
       "      <td>5</td>\n",
       "      <td>NaN</td>\n",
       "      <td>...</td>\n",
       "      <td>9.10</td>\n",
       "      <td>NaN</td>\n",
       "      <td>городской посёлок Янино-1</td>\n",
       "      <td>NaN</td>\n",
       "      <td>NaN</td>\n",
       "      <td>NaN</td>\n",
       "      <td>NaN</td>\n",
       "      <td>NaN</td>\n",
       "      <td>NaN</td>\n",
       "      <td>55.0</td>\n",
       "    </tr>\n",
       "    <tr>\n",
       "      <th>6</th>\n",
       "      <td>6</td>\n",
       "      <td>3700000.0</td>\n",
       "      <td>37.30</td>\n",
       "      <td>2017-11-02T00:00:00</td>\n",
       "      <td>1</td>\n",
       "      <td>NaN</td>\n",
       "      <td>26.0</td>\n",
       "      <td>10.60</td>\n",
       "      <td>6</td>\n",
       "      <td>NaN</td>\n",
       "      <td>...</td>\n",
       "      <td>14.40</td>\n",
       "      <td>1.0</td>\n",
       "      <td>посёлок Парголово</td>\n",
       "      <td>52996.0</td>\n",
       "      <td>19143.0</td>\n",
       "      <td>0.0</td>\n",
       "      <td>NaN</td>\n",
       "      <td>0.0</td>\n",
       "      <td>NaN</td>\n",
       "      <td>155.0</td>\n",
       "    </tr>\n",
       "    <tr>\n",
       "      <th>7</th>\n",
       "      <td>5</td>\n",
       "      <td>7915000.0</td>\n",
       "      <td>71.60</td>\n",
       "      <td>2019-04-18T00:00:00</td>\n",
       "      <td>2</td>\n",
       "      <td>NaN</td>\n",
       "      <td>24.0</td>\n",
       "      <td>NaN</td>\n",
       "      <td>22</td>\n",
       "      <td>NaN</td>\n",
       "      <td>...</td>\n",
       "      <td>18.90</td>\n",
       "      <td>2.0</td>\n",
       "      <td>Санкт-Петербург</td>\n",
       "      <td>23982.0</td>\n",
       "      <td>11634.0</td>\n",
       "      <td>0.0</td>\n",
       "      <td>NaN</td>\n",
       "      <td>0.0</td>\n",
       "      <td>NaN</td>\n",
       "      <td>NaN</td>\n",
       "    </tr>\n",
       "    <tr>\n",
       "      <th>8</th>\n",
       "      <td>20</td>\n",
       "      <td>2900000.0</td>\n",
       "      <td>33.16</td>\n",
       "      <td>2018-05-23T00:00:00</td>\n",
       "      <td>1</td>\n",
       "      <td>NaN</td>\n",
       "      <td>27.0</td>\n",
       "      <td>15.43</td>\n",
       "      <td>26</td>\n",
       "      <td>NaN</td>\n",
       "      <td>...</td>\n",
       "      <td>8.81</td>\n",
       "      <td>NaN</td>\n",
       "      <td>посёлок Мурино</td>\n",
       "      <td>NaN</td>\n",
       "      <td>NaN</td>\n",
       "      <td>NaN</td>\n",
       "      <td>NaN</td>\n",
       "      <td>NaN</td>\n",
       "      <td>NaN</td>\n",
       "      <td>189.0</td>\n",
       "    </tr>\n",
       "    <tr>\n",
       "      <th>9</th>\n",
       "      <td>18</td>\n",
       "      <td>5400000.0</td>\n",
       "      <td>61.00</td>\n",
       "      <td>2017-02-26T00:00:00</td>\n",
       "      <td>3</td>\n",
       "      <td>2.50</td>\n",
       "      <td>9.0</td>\n",
       "      <td>43.60</td>\n",
       "      <td>7</td>\n",
       "      <td>NaN</td>\n",
       "      <td>...</td>\n",
       "      <td>6.50</td>\n",
       "      <td>2.0</td>\n",
       "      <td>Санкт-Петербург</td>\n",
       "      <td>50898.0</td>\n",
       "      <td>15008.0</td>\n",
       "      <td>0.0</td>\n",
       "      <td>NaN</td>\n",
       "      <td>0.0</td>\n",
       "      <td>NaN</td>\n",
       "      <td>289.0</td>\n",
       "    </tr>\n",
       "  </tbody>\n",
       "</table>\n",
       "<p>10 rows × 22 columns</p>\n",
       "</div>"
      ],
      "text/plain": [
       "   total_images  last_price  total_area first_day_exposition  rooms  \\\n",
       "0            20  13000000.0      108.00  2019-03-07T00:00:00      3   \n",
       "1             7   3350000.0       40.40  2018-12-04T00:00:00      1   \n",
       "2            10   5196000.0       56.00  2015-08-20T00:00:00      2   \n",
       "3             0  64900000.0      159.00  2015-07-24T00:00:00      3   \n",
       "4             2  10000000.0      100.00  2018-06-19T00:00:00      2   \n",
       "5            10   2890000.0       30.40  2018-09-10T00:00:00      1   \n",
       "6             6   3700000.0       37.30  2017-11-02T00:00:00      1   \n",
       "7             5   7915000.0       71.60  2019-04-18T00:00:00      2   \n",
       "8            20   2900000.0       33.16  2018-05-23T00:00:00      1   \n",
       "9            18   5400000.0       61.00  2017-02-26T00:00:00      3   \n",
       "\n",
       "   ceiling_height  floors_total  living_area  floor is_apartment  ...  \\\n",
       "0            2.70          16.0        51.00      8          NaN  ...   \n",
       "1             NaN          11.0        18.60      1          NaN  ...   \n",
       "2             NaN           5.0        34.30      4          NaN  ...   \n",
       "3             NaN          14.0          NaN      9          NaN  ...   \n",
       "4            3.03          14.0        32.00     13          NaN  ...   \n",
       "5             NaN          12.0        14.40      5          NaN  ...   \n",
       "6             NaN          26.0        10.60      6          NaN  ...   \n",
       "7             NaN          24.0          NaN     22          NaN  ...   \n",
       "8             NaN          27.0        15.43     26          NaN  ...   \n",
       "9            2.50           9.0        43.60      7          NaN  ...   \n",
       "\n",
       "   kitchen_area  balcony              locality_name  airports_nearest  \\\n",
       "0         25.00      NaN            Санкт-Петербург           18863.0   \n",
       "1         11.00      2.0             посёлок Шушары           12817.0   \n",
       "2          8.30      0.0            Санкт-Петербург           21741.0   \n",
       "3           NaN      0.0            Санкт-Петербург           28098.0   \n",
       "4         41.00      NaN            Санкт-Петербург           31856.0   \n",
       "5          9.10      NaN  городской посёлок Янино-1               NaN   \n",
       "6         14.40      1.0          посёлок Парголово           52996.0   \n",
       "7         18.90      2.0            Санкт-Петербург           23982.0   \n",
       "8          8.81      NaN             посёлок Мурино               NaN   \n",
       "9          6.50      2.0            Санкт-Петербург           50898.0   \n",
       "\n",
       "  cityCenters_nearest  parks_around3000  parks_nearest  ponds_around3000  \\\n",
       "0             16028.0               1.0          482.0               2.0   \n",
       "1             18603.0               0.0            NaN               0.0   \n",
       "2             13933.0               1.0           90.0               2.0   \n",
       "3              6800.0               2.0           84.0               3.0   \n",
       "4              8098.0               2.0          112.0               1.0   \n",
       "5                 NaN               NaN            NaN               NaN   \n",
       "6             19143.0               0.0            NaN               0.0   \n",
       "7             11634.0               0.0            NaN               0.0   \n",
       "8                 NaN               NaN            NaN               NaN   \n",
       "9             15008.0               0.0            NaN               0.0   \n",
       "\n",
       "   ponds_nearest  days_exposition  \n",
       "0          755.0              NaN  \n",
       "1            NaN             81.0  \n",
       "2          574.0            558.0  \n",
       "3          234.0            424.0  \n",
       "4           48.0            121.0  \n",
       "5            NaN             55.0  \n",
       "6            NaN            155.0  \n",
       "7            NaN              NaN  \n",
       "8            NaN            189.0  \n",
       "9            NaN            289.0  \n",
       "\n",
       "[10 rows x 22 columns]"
      ]
     },
     "execution_count": 3,
     "metadata": {},
     "output_type": "execute_result"
    }
   ],
   "source": [
    "data.head(10)"
   ]
  },
  {
   "cell_type": "markdown",
   "metadata": {},
   "source": [
    "Общая информация о данных таблицы "
   ]
  },
  {
   "cell_type": "code",
   "execution_count": 4,
   "metadata": {},
   "outputs": [
    {
     "name": "stdout",
     "output_type": "stream",
     "text": [
      "<class 'pandas.core.frame.DataFrame'>\n",
      "RangeIndex: 23699 entries, 0 to 23698\n",
      "Data columns (total 22 columns):\n",
      " #   Column                Non-Null Count  Dtype  \n",
      "---  ------                --------------  -----  \n",
      " 0   total_images          23699 non-null  int64  \n",
      " 1   last_price            23699 non-null  float64\n",
      " 2   total_area            23699 non-null  float64\n",
      " 3   first_day_exposition  23699 non-null  object \n",
      " 4   rooms                 23699 non-null  int64  \n",
      " 5   ceiling_height        14504 non-null  float64\n",
      " 6   floors_total          23613 non-null  float64\n",
      " 7   living_area           21796 non-null  float64\n",
      " 8   floor                 23699 non-null  int64  \n",
      " 9   is_apartment          2775 non-null   object \n",
      " 10  studio                23699 non-null  bool   \n",
      " 11  open_plan             23699 non-null  bool   \n",
      " 12  kitchen_area          21421 non-null  float64\n",
      " 13  balcony               12180 non-null  float64\n",
      " 14  locality_name         23650 non-null  object \n",
      " 15  airports_nearest      18157 non-null  float64\n",
      " 16  cityCenters_nearest   18180 non-null  float64\n",
      " 17  parks_around3000      18181 non-null  float64\n",
      " 18  parks_nearest         8079 non-null   float64\n",
      " 19  ponds_around3000      18181 non-null  float64\n",
      " 20  ponds_nearest         9110 non-null   float64\n",
      " 21  days_exposition       20518 non-null  float64\n",
      "dtypes: bool(2), float64(14), int64(3), object(3)\n",
      "memory usage: 3.7+ MB\n"
     ]
    }
   ],
   "source": [
    "data.info()"
   ]
  },
  {
   "cell_type": "markdown",
   "metadata": {},
   "source": [
    "Построим общую гистограмму для всех числовых столбцов таблицы"
   ]
  },
  {
   "cell_type": "code",
   "execution_count": 5,
   "metadata": {},
   "outputs": [
    {
     "data": {
      "text/plain": [
       "array([[<AxesSubplot:title={'center':'total_images'}>,\n",
       "        <AxesSubplot:title={'center':'last_price'}>,\n",
       "        <AxesSubplot:title={'center':'total_area'}>,\n",
       "        <AxesSubplot:title={'center':'rooms'}>],\n",
       "       [<AxesSubplot:title={'center':'ceiling_height'}>,\n",
       "        <AxesSubplot:title={'center':'floors_total'}>,\n",
       "        <AxesSubplot:title={'center':'living_area'}>,\n",
       "        <AxesSubplot:title={'center':'floor'}>],\n",
       "       [<AxesSubplot:title={'center':'kitchen_area'}>,\n",
       "        <AxesSubplot:title={'center':'balcony'}>,\n",
       "        <AxesSubplot:title={'center':'airports_nearest'}>,\n",
       "        <AxesSubplot:title={'center':'cityCenters_nearest'}>],\n",
       "       [<AxesSubplot:title={'center':'parks_around3000'}>,\n",
       "        <AxesSubplot:title={'center':'parks_nearest'}>,\n",
       "        <AxesSubplot:title={'center':'ponds_around3000'}>,\n",
       "        <AxesSubplot:title={'center':'ponds_nearest'}>],\n",
       "       [<AxesSubplot:title={'center':'days_exposition'}>, <AxesSubplot:>,\n",
       "        <AxesSubplot:>, <AxesSubplot:>]], dtype=object)"
      ]
     },
     "execution_count": 5,
     "metadata": {},
     "output_type": "execute_result"
    },
    {
     "data": {
      "image/png": "[encoded data removed]",
      "text/plain": [
       "<Figure size 1080x1440 with 20 Axes>"
      ]
     },
     "metadata": {
      "needs_background": "light"
     },
     "output_type": "display_data"
    }
   ],
   "source": [
    "data.hist(figsize=(15, 20))"
   ]
  },
  {
   "cell_type": "markdown",
   "metadata": {},
   "source": [
    "Выведем всю таблицу, чтобы посмотреть как выглядят данные"
   ]
  },
  {
   "cell_type": "code",
   "execution_count": 6,
   "metadata": {
    "scrolled": true
   },
   "outputs": [
    {
     "data": {
      "text/html": [
       "<div>\n",
       "<style scoped>\n",
       "    .dataframe tbody tr th:only-of-type {\n",
       "        vertical-align: middle;\n",
       "    }\n",
       "\n",
       "    .dataframe tbody tr th {\n",
       "        vertical-align: top;\n",
       "    }\n",
       "\n",
       "    .dataframe thead th {\n",
       "        text-align: right;\n",
       "    }\n",
       "</style>\n",
       "<table border=\"1\" class=\"dataframe\">\n",
       "  <thead>\n",
       "    <tr style=\"text-align: right;\">\n",
       "      <th></th>\n",
       "      <th>total_images</th>\n",
       "      <th>last_price</th>\n",
       "      <th>total_area</th>\n",
       "      <th>first_day_exposition</th>\n",
       "      <th>rooms</th>\n",
       "      <th>ceiling_height</th>\n",
       "      <th>floors_total</th>\n",
       "      <th>living_area</th>\n",
       "      <th>floor</th>\n",
       "      <th>is_apartment</th>\n",
       "      <th>...</th>\n",
       "      <th>kitchen_area</th>\n",
       "      <th>balcony</th>\n",
       "      <th>locality_name</th>\n",
       "      <th>airports_nearest</th>\n",
       "      <th>cityCenters_nearest</th>\n",
       "      <th>parks_around3000</th>\n",
       "      <th>parks_nearest</th>\n",
       "      <th>ponds_around3000</th>\n",
       "      <th>ponds_nearest</th>\n",
       "      <th>days_exposition</th>\n",
       "    </tr>\n",
       "  </thead>\n",
       "  <tbody>\n",
       "    <tr>\n",
       "      <th>0</th>\n",
       "      <td>20</td>\n",
       "      <td>13000000.0</td>\n",
       "      <td>108.00</td>\n",
       "      <td>2019-03-07T00:00:00</td>\n",
       "      <td>3</td>\n",
       "      <td>2.70</td>\n",
       "      <td>16.0</td>\n",
       "      <td>51.0</td>\n",
       "      <td>8</td>\n",
       "      <td>NaN</td>\n",
       "      <td>...</td>\n",
       "      <td>25.00</td>\n",
       "      <td>NaN</td>\n",
       "      <td>Санкт-Петербург</td>\n",
       "      <td>18863.0</td>\n",
       "      <td>16028.0</td>\n",
       "      <td>1.0</td>\n",
       "      <td>482.0</td>\n",
       "      <td>2.0</td>\n",
       "      <td>755.0</td>\n",
       "      <td>NaN</td>\n",
       "    </tr>\n",
       "    <tr>\n",
       "      <th>1</th>\n",
       "      <td>7</td>\n",
       "      <td>3350000.0</td>\n",
       "      <td>40.40</td>\n",
       "      <td>2018-12-04T00:00:00</td>\n",
       "      <td>1</td>\n",
       "      <td>NaN</td>\n",
       "      <td>11.0</td>\n",
       "      <td>18.6</td>\n",
       "      <td>1</td>\n",
       "      <td>NaN</td>\n",
       "      <td>...</td>\n",
       "      <td>11.00</td>\n",
       "      <td>2.0</td>\n",
       "      <td>посёлок Шушары</td>\n",
       "      <td>12817.0</td>\n",
       "      <td>18603.0</td>\n",
       "      <td>0.0</td>\n",
       "      <td>NaN</td>\n",
       "      <td>0.0</td>\n",
       "      <td>NaN</td>\n",
       "      <td>81.0</td>\n",
       "    </tr>\n",
       "    <tr>\n",
       "      <th>2</th>\n",
       "      <td>10</td>\n",
       "      <td>5196000.0</td>\n",
       "      <td>56.00</td>\n",
       "      <td>2015-08-20T00:00:00</td>\n",
       "      <td>2</td>\n",
       "      <td>NaN</td>\n",
       "      <td>5.0</td>\n",
       "      <td>34.3</td>\n",
       "      <td>4</td>\n",
       "      <td>NaN</td>\n",
       "      <td>...</td>\n",
       "      <td>8.30</td>\n",
       "      <td>0.0</td>\n",
       "      <td>Санкт-Петербург</td>\n",
       "      <td>21741.0</td>\n",
       "      <td>13933.0</td>\n",
       "      <td>1.0</td>\n",
       "      <td>90.0</td>\n",
       "      <td>2.0</td>\n",
       "      <td>574.0</td>\n",
       "      <td>558.0</td>\n",
       "    </tr>\n",
       "    <tr>\n",
       "      <th>3</th>\n",
       "      <td>0</td>\n",
       "      <td>64900000.0</td>\n",
       "      <td>159.00</td>\n",
       "      <td>2015-07-24T00:00:00</td>\n",
       "      <td>3</td>\n",
       "      <td>NaN</td>\n",
       "      <td>14.0</td>\n",
       "      <td>NaN</td>\n",
       "      <td>9</td>\n",
       "      <td>NaN</td>\n",
       "      <td>...</td>\n",
       "      <td>NaN</td>\n",
       "      <td>0.0</td>\n",
       "      <td>Санкт-Петербург</td>\n",
       "      <td>28098.0</td>\n",
       "      <td>6800.0</td>\n",
       "      <td>2.0</td>\n",
       "      <td>84.0</td>\n",
       "      <td>3.0</td>\n",
       "      <td>234.0</td>\n",
       "      <td>424.0</td>\n",
       "    </tr>\n",
       "    <tr>\n",
       "      <th>4</th>\n",
       "      <td>2</td>\n",
       "      <td>10000000.0</td>\n",
       "      <td>100.00</td>\n",
       "      <td>2018-06-19T00:00:00</td>\n",
       "      <td>2</td>\n",
       "      <td>3.03</td>\n",
       "      <td>14.0</td>\n",
       "      <td>32.0</td>\n",
       "      <td>13</td>\n",
       "      <td>NaN</td>\n",
       "      <td>...</td>\n",
       "      <td>41.00</td>\n",
       "      <td>NaN</td>\n",
       "      <td>Санкт-Петербург</td>\n",
       "      <td>31856.0</td>\n",
       "      <td>8098.0</td>\n",
       "      <td>2.0</td>\n",
       "      <td>112.0</td>\n",
       "      <td>1.0</td>\n",
       "      <td>48.0</td>\n",
       "      <td>121.0</td>\n",
       "    </tr>\n",
       "    <tr>\n",
       "      <th>...</th>\n",
       "      <td>...</td>\n",
       "      <td>...</td>\n",
       "      <td>...</td>\n",
       "      <td>...</td>\n",
       "      <td>...</td>\n",
       "      <td>...</td>\n",
       "      <td>...</td>\n",
       "      <td>...</td>\n",
       "      <td>...</td>\n",
       "      <td>...</td>\n",
       "      <td>...</td>\n",
       "      <td>...</td>\n",
       "      <td>...</td>\n",
       "      <td>...</td>\n",
       "      <td>...</td>\n",
       "      <td>...</td>\n",
       "      <td>...</td>\n",
       "      <td>...</td>\n",
       "      <td>...</td>\n",
       "      <td>...</td>\n",
       "      <td>...</td>\n",
       "    </tr>\n",
       "    <tr>\n",
       "      <th>23694</th>\n",
       "      <td>9</td>\n",
       "      <td>9700000.0</td>\n",
       "      <td>133.81</td>\n",
       "      <td>2017-03-21T00:00:00</td>\n",
       "      <td>3</td>\n",
       "      <td>3.70</td>\n",
       "      <td>5.0</td>\n",
       "      <td>73.3</td>\n",
       "      <td>3</td>\n",
       "      <td>NaN</td>\n",
       "      <td>...</td>\n",
       "      <td>13.83</td>\n",
       "      <td>NaN</td>\n",
       "      <td>Санкт-Петербург</td>\n",
       "      <td>24665.0</td>\n",
       "      <td>4232.0</td>\n",
       "      <td>1.0</td>\n",
       "      <td>796.0</td>\n",
       "      <td>3.0</td>\n",
       "      <td>381.0</td>\n",
       "      <td>NaN</td>\n",
       "    </tr>\n",
       "    <tr>\n",
       "      <th>23695</th>\n",
       "      <td>14</td>\n",
       "      <td>3100000.0</td>\n",
       "      <td>59.00</td>\n",
       "      <td>2018-01-15T00:00:00</td>\n",
       "      <td>3</td>\n",
       "      <td>NaN</td>\n",
       "      <td>5.0</td>\n",
       "      <td>38.0</td>\n",
       "      <td>4</td>\n",
       "      <td>NaN</td>\n",
       "      <td>...</td>\n",
       "      <td>8.50</td>\n",
       "      <td>NaN</td>\n",
       "      <td>Тосно</td>\n",
       "      <td>NaN</td>\n",
       "      <td>NaN</td>\n",
       "      <td>NaN</td>\n",
       "      <td>NaN</td>\n",
       "      <td>NaN</td>\n",
       "      <td>NaN</td>\n",
       "      <td>45.0</td>\n",
       "    </tr>\n",
       "    <tr>\n",
       "      <th>23696</th>\n",
       "      <td>18</td>\n",
       "      <td>2500000.0</td>\n",
       "      <td>56.70</td>\n",
       "      <td>2018-02-11T00:00:00</td>\n",
       "      <td>2</td>\n",
       "      <td>NaN</td>\n",
       "      <td>3.0</td>\n",
       "      <td>29.7</td>\n",
       "      <td>1</td>\n",
       "      <td>NaN</td>\n",
       "      <td>...</td>\n",
       "      <td>NaN</td>\n",
       "      <td>NaN</td>\n",
       "      <td>село Рождествено</td>\n",
       "      <td>NaN</td>\n",
       "      <td>NaN</td>\n",
       "      <td>NaN</td>\n",
       "      <td>NaN</td>\n",
       "      <td>NaN</td>\n",
       "      <td>NaN</td>\n",
       "      <td>NaN</td>\n",
       "    </tr>\n",
       "    <tr>\n",
       "      <th>23697</th>\n",
       "      <td>13</td>\n",
       "      <td>11475000.0</td>\n",
       "      <td>76.75</td>\n",
       "      <td>2017-03-28T00:00:00</td>\n",
       "      <td>2</td>\n",
       "      <td>3.00</td>\n",
       "      <td>17.0</td>\n",
       "      <td>NaN</td>\n",
       "      <td>12</td>\n",
       "      <td>NaN</td>\n",
       "      <td>...</td>\n",
       "      <td>23.30</td>\n",
       "      <td>2.0</td>\n",
       "      <td>Санкт-Петербург</td>\n",
       "      <td>39140.0</td>\n",
       "      <td>10364.0</td>\n",
       "      <td>2.0</td>\n",
       "      <td>173.0</td>\n",
       "      <td>3.0</td>\n",
       "      <td>196.0</td>\n",
       "      <td>602.0</td>\n",
       "    </tr>\n",
       "    <tr>\n",
       "      <th>23698</th>\n",
       "      <td>4</td>\n",
       "      <td>1350000.0</td>\n",
       "      <td>32.30</td>\n",
       "      <td>2017-07-21T00:00:00</td>\n",
       "      <td>1</td>\n",
       "      <td>2.50</td>\n",
       "      <td>5.0</td>\n",
       "      <td>12.3</td>\n",
       "      <td>1</td>\n",
       "      <td>NaN</td>\n",
       "      <td>...</td>\n",
       "      <td>9.00</td>\n",
       "      <td>NaN</td>\n",
       "      <td>поселок Новый Учхоз</td>\n",
       "      <td>NaN</td>\n",
       "      <td>NaN</td>\n",
       "      <td>NaN</td>\n",
       "      <td>NaN</td>\n",
       "      <td>NaN</td>\n",
       "      <td>NaN</td>\n",
       "      <td>NaN</td>\n",
       "    </tr>\n",
       "  </tbody>\n",
       "</table>\n",
       "<p>23699 rows × 22 columns</p>\n",
       "</div>"
      ],
      "text/plain": [
       "       total_images  last_price  total_area first_day_exposition  rooms  \\\n",
       "0                20  13000000.0      108.00  2019-03-07T00:00:00      3   \n",
       "1                 7   3350000.0       40.40  2018-12-04T00:00:00      1   \n",
       "2                10   5196000.0       56.00  2015-08-20T00:00:00      2   \n",
       "3                 0  64900000.0      159.00  2015-07-24T00:00:00      3   \n",
       "4                 2  10000000.0      100.00  2018-06-19T00:00:00      2   \n",
       "...             ...         ...         ...                  ...    ...   \n",
       "23694             9   9700000.0      133.81  2017-03-21T00:00:00      3   \n",
       "23695            14   3100000.0       59.00  2018-01-15T00:00:00      3   \n",
       "23696            18   2500000.0       56.70  2018-02-11T00:00:00      2   \n",
       "23697            13  11475000.0       76.75  2017-03-28T00:00:00      2   \n",
       "23698             4   1350000.0       32.30  2017-07-21T00:00:00      1   \n",
       "\n",
       "       ceiling_height  floors_total  living_area  floor is_apartment  ...  \\\n",
       "0                2.70          16.0         51.0      8          NaN  ...   \n",
       "1                 NaN          11.0         18.6      1          NaN  ...   \n",
       "2                 NaN           5.0         34.3      4          NaN  ...   \n",
       "3                 NaN          14.0          NaN      9          NaN  ...   \n",
       "4                3.03          14.0         32.0     13          NaN  ...   \n",
       "...               ...           ...          ...    ...          ...  ...   \n",
       "23694            3.70           5.0         73.3      3          NaN  ...   \n",
       "23695             NaN           5.0         38.0      4          NaN  ...   \n",
       "23696             NaN           3.0         29.7      1          NaN  ...   \n",
       "23697            3.00          17.0          NaN     12          NaN  ...   \n",
       "23698            2.50           5.0         12.3      1          NaN  ...   \n",
       "\n",
       "       kitchen_area  balcony        locality_name  airports_nearest  \\\n",
       "0             25.00      NaN      Санкт-Петербург           18863.0   \n",
       "1             11.00      2.0       посёлок Шушары           12817.0   \n",
       "2              8.30      0.0      Санкт-Петербург           21741.0   \n",
       "3               NaN      0.0      Санкт-Петербург           28098.0   \n",
       "4             41.00      NaN      Санкт-Петербург           31856.0   \n",
       "...             ...      ...                  ...               ...   \n",
       "23694         13.83      NaN      Санкт-Петербург           24665.0   \n",
       "23695          8.50      NaN                Тосно               NaN   \n",
       "23696           NaN      NaN     село Рождествено               NaN   \n",
       "23697         23.30      2.0      Санкт-Петербург           39140.0   \n",
       "23698          9.00      NaN  поселок Новый Учхоз               NaN   \n",
       "\n",
       "      cityCenters_nearest  parks_around3000  parks_nearest  ponds_around3000  \\\n",
       "0                 16028.0               1.0          482.0               2.0   \n",
       "1                 18603.0               0.0            NaN               0.0   \n",
       "2                 13933.0               1.0           90.0               2.0   \n",
       "3                  6800.0               2.0           84.0               3.0   \n",
       "4                  8098.0               2.0          112.0               1.0   \n",
       "...                   ...               ...            ...               ...   \n",
       "23694              4232.0               1.0          796.0               3.0   \n",
       "23695                 NaN               NaN            NaN               NaN   \n",
       "23696                 NaN               NaN            NaN               NaN   \n",
       "23697             10364.0               2.0          173.0               3.0   \n",
       "23698                 NaN               NaN            NaN               NaN   \n",
       "\n",
       "       ponds_nearest  days_exposition  \n",
       "0              755.0              NaN  \n",
       "1                NaN             81.0  \n",
       "2              574.0            558.0  \n",
       "3              234.0            424.0  \n",
       "4               48.0            121.0  \n",
       "...              ...              ...  \n",
       "23694          381.0              NaN  \n",
       "23695            NaN             45.0  \n",
       "23696            NaN              NaN  \n",
       "23697          196.0            602.0  \n",
       "23698            NaN              NaN  \n",
       "\n",
       "[23699 rows x 22 columns]"
      ]
     },
     "execution_count": 6,
     "metadata": {},
     "output_type": "execute_result"
    }
   ],
   "source": [
    "data"
   ]
  },
  {
   "cell_type": "markdown",
   "metadata": {},
   "source": [
    "Часть столбцов заменилась на \"...\". Чтобы это исправить, нужно увеличить максимальное количество отображающихся столбцов командой"
   ]
  },
  {
   "cell_type": "code",
   "execution_count": 7,
   "metadata": {},
   "outputs": [],
   "source": [
    "pd.set_option('display.max_columns', None)"
   ]
  },
  {
   "cell_type": "code",
   "execution_count": 8,
   "metadata": {},
   "outputs": [
    {
     "data": {
      "text/html": [
       "<div>\n",
       "<style scoped>\n",
       "    .dataframe tbody tr th:only-of-type {\n",
       "        vertical-align: middle;\n",
       "    }\n",
       "\n",
       "    .dataframe tbody tr th {\n",
       "        vertical-align: top;\n",
       "    }\n",
       "\n",
       "    .dataframe thead th {\n",
       "        text-align: right;\n",
       "    }\n",
       "</style>\n",
       "<table border=\"1\" class=\"dataframe\">\n",
       "  <thead>\n",
       "    <tr style=\"text-align: right;\">\n",
       "      <th></th>\n",
       "      <th>total_images</th>\n",
       "      <th>last_price</th>\n",
       "      <th>total_area</th>\n",
       "      <th>first_day_exposition</th>\n",
       "      <th>rooms</th>\n",
       "      <th>ceiling_height</th>\n",
       "      <th>floors_total</th>\n",
       "      <th>living_area</th>\n",
       "      <th>floor</th>\n",
       "      <th>is_apartment</th>\n",
       "      <th>studio</th>\n",
       "      <th>open_plan</th>\n",
       "      <th>kitchen_area</th>\n",
       "      <th>balcony</th>\n",
       "      <th>locality_name</th>\n",
       "      <th>airports_nearest</th>\n",
       "      <th>cityCenters_nearest</th>\n",
       "      <th>parks_around3000</th>\n",
       "      <th>parks_nearest</th>\n",
       "      <th>ponds_around3000</th>\n",
       "      <th>ponds_nearest</th>\n",
       "      <th>days_exposition</th>\n",
       "    </tr>\n",
       "  </thead>\n",
       "  <tbody>\n",
       "    <tr>\n",
       "      <th>0</th>\n",
       "      <td>20</td>\n",
       "      <td>13000000.0</td>\n",
       "      <td>108.00</td>\n",
       "      <td>2019-03-07T00:00:00</td>\n",
       "      <td>3</td>\n",
       "      <td>2.70</td>\n",
       "      <td>16.0</td>\n",
       "      <td>51.0</td>\n",
       "      <td>8</td>\n",
       "      <td>NaN</td>\n",
       "      <td>False</td>\n",
       "      <td>False</td>\n",
       "      <td>25.00</td>\n",
       "      <td>NaN</td>\n",
       "      <td>Санкт-Петербург</td>\n",
       "      <td>18863.0</td>\n",
       "      <td>16028.0</td>\n",
       "      <td>1.0</td>\n",
       "      <td>482.0</td>\n",
       "      <td>2.0</td>\n",
       "      <td>755.0</td>\n",
       "      <td>NaN</td>\n",
       "    </tr>\n",
       "    <tr>\n",
       "      <th>1</th>\n",
       "      <td>7</td>\n",
       "      <td>3350000.0</td>\n",
       "      <td>40.40</td>\n",
       "      <td>2018-12-04T00:00:00</td>\n",
       "      <td>1</td>\n",
       "      <td>NaN</td>\n",
       "      <td>11.0</td>\n",
       "      <td>18.6</td>\n",
       "      <td>1</td>\n",
       "      <td>NaN</td>\n",
       "      <td>False</td>\n",
       "      <td>False</td>\n",
       "      <td>11.00</td>\n",
       "      <td>2.0</td>\n",
       "      <td>посёлок Шушары</td>\n",
       "      <td>12817.0</td>\n",
       "      <td>18603.0</td>\n",
       "      <td>0.0</td>\n",
       "      <td>NaN</td>\n",
       "      <td>0.0</td>\n",
       "      <td>NaN</td>\n",
       "      <td>81.0</td>\n",
       "    </tr>\n",
       "    <tr>\n",
       "      <th>2</th>\n",
       "      <td>10</td>\n",
       "      <td>5196000.0</td>\n",
       "      <td>56.00</td>\n",
       "      <td>2015-08-20T00:00:00</td>\n",
       "      <td>2</td>\n",
       "      <td>NaN</td>\n",
       "      <td>5.0</td>\n",
       "      <td>34.3</td>\n",
       "      <td>4</td>\n",
       "      <td>NaN</td>\n",
       "      <td>False</td>\n",
       "      <td>False</td>\n",
       "      <td>8.30</td>\n",
       "      <td>0.0</td>\n",
       "      <td>Санкт-Петербург</td>\n",
       "      <td>21741.0</td>\n",
       "      <td>13933.0</td>\n",
       "      <td>1.0</td>\n",
       "      <td>90.0</td>\n",
       "      <td>2.0</td>\n",
       "      <td>574.0</td>\n",
       "      <td>558.0</td>\n",
       "    </tr>\n",
       "    <tr>\n",
       "      <th>3</th>\n",
       "      <td>0</td>\n",
       "      <td>64900000.0</td>\n",
       "      <td>159.00</td>\n",
       "      <td>2015-07-24T00:00:00</td>\n",
       "      <td>3</td>\n",
       "      <td>NaN</td>\n",
       "      <td>14.0</td>\n",
       "      <td>NaN</td>\n",
       "      <td>9</td>\n",
       "      <td>NaN</td>\n",
       "      <td>False</td>\n",
       "      <td>False</td>\n",
       "      <td>NaN</td>\n",
       "      <td>0.0</td>\n",
       "      <td>Санкт-Петербург</td>\n",
       "      <td>28098.0</td>\n",
       "      <td>6800.0</td>\n",
       "      <td>2.0</td>\n",
       "      <td>84.0</td>\n",
       "      <td>3.0</td>\n",
       "      <td>234.0</td>\n",
       "      <td>424.0</td>\n",
       "    </tr>\n",
       "    <tr>\n",
       "      <th>4</th>\n",
       "      <td>2</td>\n",
       "      <td>10000000.0</td>\n",
       "      <td>100.00</td>\n",
       "      <td>2018-06-19T00:00:00</td>\n",
       "      <td>2</td>\n",
       "      <td>3.03</td>\n",
       "      <td>14.0</td>\n",
       "      <td>32.0</td>\n",
       "      <td>13</td>\n",
       "      <td>NaN</td>\n",
       "      <td>False</td>\n",
       "      <td>False</td>\n",
       "      <td>41.00</td>\n",
       "      <td>NaN</td>\n",
       "      <td>Санкт-Петербург</td>\n",
       "      <td>31856.0</td>\n",
       "      <td>8098.0</td>\n",
       "      <td>2.0</td>\n",
       "      <td>112.0</td>\n",
       "      <td>1.0</td>\n",
       "      <td>48.0</td>\n",
       "      <td>121.0</td>\n",
       "    </tr>\n",
       "    <tr>\n",
       "      <th>...</th>\n",
       "      <td>...</td>\n",
       "      <td>...</td>\n",
       "      <td>...</td>\n",
       "      <td>...</td>\n",
       "      <td>...</td>\n",
       "      <td>...</td>\n",
       "      <td>...</td>\n",
       "      <td>...</td>\n",
       "      <td>...</td>\n",
       "      <td>...</td>\n",
       "      <td>...</td>\n",
       "      <td>...</td>\n",
       "      <td>...</td>\n",
       "      <td>...</td>\n",
       "      <td>...</td>\n",
       "      <td>...</td>\n",
       "      <td>...</td>\n",
       "      <td>...</td>\n",
       "      <td>...</td>\n",
       "      <td>...</td>\n",
       "      <td>...</td>\n",
       "      <td>...</td>\n",
       "    </tr>\n",
       "    <tr>\n",
       "      <th>23694</th>\n",
       "      <td>9</td>\n",
       "      <td>9700000.0</td>\n",
       "      <td>133.81</td>\n",
       "      <td>2017-03-21T00:00:00</td>\n",
       "      <td>3</td>\n",
       "      <td>3.70</td>\n",
       "      <td>5.0</td>\n",
       "      <td>73.3</td>\n",
       "      <td>3</td>\n",
       "      <td>NaN</td>\n",
       "      <td>False</td>\n",
       "      <td>False</td>\n",
       "      <td>13.83</td>\n",
       "      <td>NaN</td>\n",
       "      <td>Санкт-Петербург</td>\n",
       "      <td>24665.0</td>\n",
       "      <td>4232.0</td>\n",
       "      <td>1.0</td>\n",
       "      <td>796.0</td>\n",
       "      <td>3.0</td>\n",
       "      <td>381.0</td>\n",
       "      <td>NaN</td>\n",
       "    </tr>\n",
       "    <tr>\n",
       "      <th>23695</th>\n",
       "      <td>14</td>\n",
       "      <td>3100000.0</td>\n",
       "      <td>59.00</td>\n",
       "      <td>2018-01-15T00:00:00</td>\n",
       "      <td>3</td>\n",
       "      <td>NaN</td>\n",
       "      <td>5.0</td>\n",
       "      <td>38.0</td>\n",
       "      <td>4</td>\n",
       "      <td>NaN</td>\n",
       "      <td>False</td>\n",
       "      <td>False</td>\n",
       "      <td>8.50</td>\n",
       "      <td>NaN</td>\n",
       "      <td>Тосно</td>\n",
       "      <td>NaN</td>\n",
       "      <td>NaN</td>\n",
       "      <td>NaN</td>\n",
       "      <td>NaN</td>\n",
       "      <td>NaN</td>\n",
       "      <td>NaN</td>\n",
       "      <td>45.0</td>\n",
       "    </tr>\n",
       "    <tr>\n",
       "      <th>23696</th>\n",
       "      <td>18</td>\n",
       "      <td>2500000.0</td>\n",
       "      <td>56.70</td>\n",
       "      <td>2018-02-11T00:00:00</td>\n",
       "      <td>2</td>\n",
       "      <td>NaN</td>\n",
       "      <td>3.0</td>\n",
       "      <td>29.7</td>\n",
       "      <td>1</td>\n",
       "      <td>NaN</td>\n",
       "      <td>False</td>\n",
       "      <td>False</td>\n",
       "      <td>NaN</td>\n",
       "      <td>NaN</td>\n",
       "      <td>село Рождествено</td>\n",
       "      <td>NaN</td>\n",
       "      <td>NaN</td>\n",
       "      <td>NaN</td>\n",
       "      <td>NaN</td>\n",
       "      <td>NaN</td>\n",
       "      <td>NaN</td>\n",
       "      <td>NaN</td>\n",
       "    </tr>\n",
       "    <tr>\n",
       "      <th>23697</th>\n",
       "      <td>13</td>\n",
       "      <td>11475000.0</td>\n",
       "      <td>76.75</td>\n",
       "      <td>2017-03-28T00:00:00</td>\n",
       "      <td>2</td>\n",
       "      <td>3.00</td>\n",
       "      <td>17.0</td>\n",
       "      <td>NaN</td>\n",
       "      <td>12</td>\n",
       "      <td>NaN</td>\n",
       "      <td>False</td>\n",
       "      <td>False</td>\n",
       "      <td>23.30</td>\n",
       "      <td>2.0</td>\n",
       "      <td>Санкт-Петербург</td>\n",
       "      <td>39140.0</td>\n",
       "      <td>10364.0</td>\n",
       "      <td>2.0</td>\n",
       "      <td>173.0</td>\n",
       "      <td>3.0</td>\n",
       "      <td>196.0</td>\n",
       "      <td>602.0</td>\n",
       "    </tr>\n",
       "    <tr>\n",
       "      <th>23698</th>\n",
       "      <td>4</td>\n",
       "      <td>1350000.0</td>\n",
       "      <td>32.30</td>\n",
       "      <td>2017-07-21T00:00:00</td>\n",
       "      <td>1</td>\n",
       "      <td>2.50</td>\n",
       "      <td>5.0</td>\n",
       "      <td>12.3</td>\n",
       "      <td>1</td>\n",
       "      <td>NaN</td>\n",
       "      <td>False</td>\n",
       "      <td>False</td>\n",
       "      <td>9.00</td>\n",
       "      <td>NaN</td>\n",
       "      <td>поселок Новый Учхоз</td>\n",
       "      <td>NaN</td>\n",
       "      <td>NaN</td>\n",
       "      <td>NaN</td>\n",
       "      <td>NaN</td>\n",
       "      <td>NaN</td>\n",
       "      <td>NaN</td>\n",
       "      <td>NaN</td>\n",
       "    </tr>\n",
       "  </tbody>\n",
       "</table>\n",
       "<p>23699 rows × 22 columns</p>\n",
       "</div>"
      ],
      "text/plain": [
       "       total_images  last_price  total_area first_day_exposition  rooms  \\\n",
       "0                20  13000000.0      108.00  2019-03-07T00:00:00      3   \n",
       "1                 7   3350000.0       40.40  2018-12-04T00:00:00      1   \n",
       "2                10   5196000.0       56.00  2015-08-20T00:00:00      2   \n",
       "3                 0  64900000.0      159.00  2015-07-24T00:00:00      3   \n",
       "4                 2  10000000.0      100.00  2018-06-19T00:00:00      2   \n",
       "...             ...         ...         ...                  ...    ...   \n",
       "23694             9   9700000.0      133.81  2017-03-21T00:00:00      3   \n",
       "23695            14   3100000.0       59.00  2018-01-15T00:00:00      3   \n",
       "23696            18   2500000.0       56.70  2018-02-11T00:00:00      2   \n",
       "23697            13  11475000.0       76.75  2017-03-28T00:00:00      2   \n",
       "23698             4   1350000.0       32.30  2017-07-21T00:00:00      1   \n",
       "\n",
       "       ceiling_height  floors_total  living_area  floor is_apartment  studio  \\\n",
       "0                2.70          16.0         51.0      8          NaN   False   \n",
       "1                 NaN          11.0         18.6      1          NaN   False   \n",
       "2                 NaN           5.0         34.3      4          NaN   False   \n",
       "3                 NaN          14.0          NaN      9          NaN   False   \n",
       "4                3.03          14.0         32.0     13          NaN   False   \n",
       "...               ...           ...          ...    ...          ...     ...   \n",
       "23694            3.70           5.0         73.3      3          NaN   False   \n",
       "23695             NaN           5.0         38.0      4          NaN   False   \n",
       "23696             NaN           3.0         29.7      1          NaN   False   \n",
       "23697            3.00          17.0          NaN     12          NaN   False   \n",
       "23698            2.50           5.0         12.3      1          NaN   False   \n",
       "\n",
       "       open_plan  kitchen_area  balcony        locality_name  \\\n",
       "0          False         25.00      NaN      Санкт-Петербург   \n",
       "1          False         11.00      2.0       посёлок Шушары   \n",
       "2          False          8.30      0.0      Санкт-Петербург   \n",
       "3          False           NaN      0.0      Санкт-Петербург   \n",
       "4          False         41.00      NaN      Санкт-Петербург   \n",
       "...          ...           ...      ...                  ...   \n",
       "23694      False         13.83      NaN      Санкт-Петербург   \n",
       "23695      False          8.50      NaN                Тосно   \n",
       "23696      False           NaN      NaN     село Рождествено   \n",
       "23697      False         23.30      2.0      Санкт-Петербург   \n",
       "23698      False          9.00      NaN  поселок Новый Учхоз   \n",
       "\n",
       "       airports_nearest  cityCenters_nearest  parks_around3000  parks_nearest  \\\n",
       "0               18863.0              16028.0               1.0          482.0   \n",
       "1               12817.0              18603.0               0.0            NaN   \n",
       "2               21741.0              13933.0               1.0           90.0   \n",
       "3               28098.0               6800.0               2.0           84.0   \n",
       "4               31856.0               8098.0               2.0          112.0   \n",
       "...                 ...                  ...               ...            ...   \n",
       "23694           24665.0               4232.0               1.0          796.0   \n",
       "23695               NaN                  NaN               NaN            NaN   \n",
       "23696               NaN                  NaN               NaN            NaN   \n",
       "23697           39140.0              10364.0               2.0          173.0   \n",
       "23698               NaN                  NaN               NaN            NaN   \n",
       "\n",
       "       ponds_around3000  ponds_nearest  days_exposition  \n",
       "0                   2.0          755.0              NaN  \n",
       "1                   0.0            NaN             81.0  \n",
       "2                   2.0          574.0            558.0  \n",
       "3                   3.0          234.0            424.0  \n",
       "4                   1.0           48.0            121.0  \n",
       "...                 ...            ...              ...  \n",
       "23694               3.0          381.0              NaN  \n",
       "23695               NaN            NaN             45.0  \n",
       "23696               NaN            NaN              NaN  \n",
       "23697               3.0          196.0            602.0  \n",
       "23698               NaN            NaN              NaN  \n",
       "\n",
       "[23699 rows x 22 columns]"
      ]
     },
     "execution_count": 8,
     "metadata": {},
     "output_type": "execute_result"
    }
   ],
   "source": [
    "data"
   ]
  },
  {
   "cell_type": "markdown",
   "metadata": {},
   "source": [
    "**Вывод**\n",
    "\n",
    "У нас 23699 записи. Есть пропущенные значения. Их необходимо обработать\n"
   ]
  },
  {
   "cell_type": "markdown",
   "metadata": {},
   "source": [
    "# Этап 2. Предобработка данных"
   ]
  },
  {
   "cell_type": "code",
   "execution_count": 3,
   "metadata": {},
   "outputs": [
    {
     "data": {
      "text/html": [
       "<div>\n",
       "<style scoped>\n",
       "    .dataframe tbody tr th:only-of-type {\n",
       "        vertical-align: middle;\n",
       "    }\n",
       "\n",
       "    .dataframe tbody tr th {\n",
       "        vertical-align: top;\n",
       "    }\n",
       "\n",
       "    .dataframe thead th {\n",
       "        text-align: right;\n",
       "    }\n",
       "</style>\n",
       "<table border=\"1\" class=\"dataframe\">\n",
       "  <thead>\n",
       "    <tr style=\"text-align: right;\">\n",
       "      <th></th>\n",
       "      <th>total_images</th>\n",
       "      <th>last_price</th>\n",
       "      <th>total_area</th>\n",
       "      <th>first_day_exposition</th>\n",
       "      <th>rooms</th>\n",
       "      <th>ceiling_height</th>\n",
       "      <th>floors_total</th>\n",
       "      <th>living_area</th>\n",
       "      <th>floor</th>\n",
       "      <th>is_apartment</th>\n",
       "      <th>...</th>\n",
       "      <th>kitchen_area</th>\n",
       "      <th>balcony</th>\n",
       "      <th>locality_name</th>\n",
       "      <th>airports_nearest</th>\n",
       "      <th>cityCenters_nearest</th>\n",
       "      <th>parks_around3000</th>\n",
       "      <th>parks_nearest</th>\n",
       "      <th>ponds_around3000</th>\n",
       "      <th>ponds_nearest</th>\n",
       "      <th>days_exposition</th>\n",
       "    </tr>\n",
       "  </thead>\n",
       "  <tbody>\n",
       "    <tr>\n",
       "      <th>0</th>\n",
       "      <td>20</td>\n",
       "      <td>13000000.0</td>\n",
       "      <td>108.00</td>\n",
       "      <td>2019-03-07T00:00:00</td>\n",
       "      <td>3</td>\n",
       "      <td>2.70</td>\n",
       "      <td>16.0</td>\n",
       "      <td>51.00</td>\n",
       "      <td>8</td>\n",
       "      <td>NaN</td>\n",
       "      <td>...</td>\n",
       "      <td>25.00</td>\n",
       "      <td>NaN</td>\n",
       "      <td>Санкт-Петербург</td>\n",
       "      <td>18863.0</td>\n",
       "      <td>16028.0</td>\n",
       "      <td>1.0</td>\n",
       "      <td>482.0</td>\n",
       "      <td>2.0</td>\n",
       "      <td>755.0</td>\n",
       "      <td>NaN</td>\n",
       "    </tr>\n",
       "    <tr>\n",
       "      <th>1</th>\n",
       "      <td>7</td>\n",
       "      <td>3350000.0</td>\n",
       "      <td>40.40</td>\n",
       "      <td>2018-12-04T00:00:00</td>\n",
       "      <td>1</td>\n",
       "      <td>NaN</td>\n",
       "      <td>11.0</td>\n",
       "      <td>18.60</td>\n",
       "      <td>1</td>\n",
       "      <td>NaN</td>\n",
       "      <td>...</td>\n",
       "      <td>11.00</td>\n",
       "      <td>2.0</td>\n",
       "      <td>посёлок Шушары</td>\n",
       "      <td>12817.0</td>\n",
       "      <td>18603.0</td>\n",
       "      <td>0.0</td>\n",
       "      <td>NaN</td>\n",
       "      <td>0.0</td>\n",
       "      <td>NaN</td>\n",
       "      <td>81.0</td>\n",
       "    </tr>\n",
       "    <tr>\n",
       "      <th>2</th>\n",
       "      <td>10</td>\n",
       "      <td>5196000.0</td>\n",
       "      <td>56.00</td>\n",
       "      <td>2015-08-20T00:00:00</td>\n",
       "      <td>2</td>\n",
       "      <td>NaN</td>\n",
       "      <td>5.0</td>\n",
       "      <td>34.30</td>\n",
       "      <td>4</td>\n",
       "      <td>NaN</td>\n",
       "      <td>...</td>\n",
       "      <td>8.30</td>\n",
       "      <td>0.0</td>\n",
       "      <td>Санкт-Петербург</td>\n",
       "      <td>21741.0</td>\n",
       "      <td>13933.0</td>\n",
       "      <td>1.0</td>\n",
       "      <td>90.0</td>\n",
       "      <td>2.0</td>\n",
       "      <td>574.0</td>\n",
       "      <td>558.0</td>\n",
       "    </tr>\n",
       "    <tr>\n",
       "      <th>3</th>\n",
       "      <td>0</td>\n",
       "      <td>64900000.0</td>\n",
       "      <td>159.00</td>\n",
       "      <td>2015-07-24T00:00:00</td>\n",
       "      <td>3</td>\n",
       "      <td>NaN</td>\n",
       "      <td>14.0</td>\n",
       "      <td>NaN</td>\n",
       "      <td>9</td>\n",
       "      <td>NaN</td>\n",
       "      <td>...</td>\n",
       "      <td>NaN</td>\n",
       "      <td>0.0</td>\n",
       "      <td>Санкт-Петербург</td>\n",
       "      <td>28098.0</td>\n",
       "      <td>6800.0</td>\n",
       "      <td>2.0</td>\n",
       "      <td>84.0</td>\n",
       "      <td>3.0</td>\n",
       "      <td>234.0</td>\n",
       "      <td>424.0</td>\n",
       "    </tr>\n",
       "    <tr>\n",
       "      <th>4</th>\n",
       "      <td>2</td>\n",
       "      <td>10000000.0</td>\n",
       "      <td>100.00</td>\n",
       "      <td>2018-06-19T00:00:00</td>\n",
       "      <td>2</td>\n",
       "      <td>3.03</td>\n",
       "      <td>14.0</td>\n",
       "      <td>32.00</td>\n",
       "      <td>13</td>\n",
       "      <td>NaN</td>\n",
       "      <td>...</td>\n",
       "      <td>41.00</td>\n",
       "      <td>NaN</td>\n",
       "      <td>Санкт-Петербург</td>\n",
       "      <td>31856.0</td>\n",
       "      <td>8098.0</td>\n",
       "      <td>2.0</td>\n",
       "      <td>112.0</td>\n",
       "      <td>1.0</td>\n",
       "      <td>48.0</td>\n",
       "      <td>121.0</td>\n",
       "    </tr>\n",
       "    <tr>\n",
       "      <th>5</th>\n",
       "      <td>10</td>\n",
       "      <td>2890000.0</td>\n",
       "      <td>30.40</td>\n",
       "      <td>2018-09-10T00:00:00</td>\n",
       "      <td>1</td>\n",
       "      <td>NaN</td>\n",
       "      <td>12.0</td>\n",
       "      <td>14.40</td>\n",
       "      <td>5</td>\n",
       "      <td>NaN</td>\n",
       "      <td>...</td>\n",
       "      <td>9.10</td>\n",
       "      <td>NaN</td>\n",
       "      <td>городской посёлок Янино-1</td>\n",
       "      <td>NaN</td>\n",
       "      <td>NaN</td>\n",
       "      <td>NaN</td>\n",
       "      <td>NaN</td>\n",
       "      <td>NaN</td>\n",
       "      <td>NaN</td>\n",
       "      <td>55.0</td>\n",
       "    </tr>\n",
       "    <tr>\n",
       "      <th>6</th>\n",
       "      <td>6</td>\n",
       "      <td>3700000.0</td>\n",
       "      <td>37.30</td>\n",
       "      <td>2017-11-02T00:00:00</td>\n",
       "      <td>1</td>\n",
       "      <td>NaN</td>\n",
       "      <td>26.0</td>\n",
       "      <td>10.60</td>\n",
       "      <td>6</td>\n",
       "      <td>NaN</td>\n",
       "      <td>...</td>\n",
       "      <td>14.40</td>\n",
       "      <td>1.0</td>\n",
       "      <td>посёлок Парголово</td>\n",
       "      <td>52996.0</td>\n",
       "      <td>19143.0</td>\n",
       "      <td>0.0</td>\n",
       "      <td>NaN</td>\n",
       "      <td>0.0</td>\n",
       "      <td>NaN</td>\n",
       "      <td>155.0</td>\n",
       "    </tr>\n",
       "    <tr>\n",
       "      <th>7</th>\n",
       "      <td>5</td>\n",
       "      <td>7915000.0</td>\n",
       "      <td>71.60</td>\n",
       "      <td>2019-04-18T00:00:00</td>\n",
       "      <td>2</td>\n",
       "      <td>NaN</td>\n",
       "      <td>24.0</td>\n",
       "      <td>NaN</td>\n",
       "      <td>22</td>\n",
       "      <td>NaN</td>\n",
       "      <td>...</td>\n",
       "      <td>18.90</td>\n",
       "      <td>2.0</td>\n",
       "      <td>Санкт-Петербург</td>\n",
       "      <td>23982.0</td>\n",
       "      <td>11634.0</td>\n",
       "      <td>0.0</td>\n",
       "      <td>NaN</td>\n",
       "      <td>0.0</td>\n",
       "      <td>NaN</td>\n",
       "      <td>NaN</td>\n",
       "    </tr>\n",
       "    <tr>\n",
       "      <th>8</th>\n",
       "      <td>20</td>\n",
       "      <td>2900000.0</td>\n",
       "      <td>33.16</td>\n",
       "      <td>2018-05-23T00:00:00</td>\n",
       "      <td>1</td>\n",
       "      <td>NaN</td>\n",
       "      <td>27.0</td>\n",
       "      <td>15.43</td>\n",
       "      <td>26</td>\n",
       "      <td>NaN</td>\n",
       "      <td>...</td>\n",
       "      <td>8.81</td>\n",
       "      <td>NaN</td>\n",
       "      <td>посёлок Мурино</td>\n",
       "      <td>NaN</td>\n",
       "      <td>NaN</td>\n",
       "      <td>NaN</td>\n",
       "      <td>NaN</td>\n",
       "      <td>NaN</td>\n",
       "      <td>NaN</td>\n",
       "      <td>189.0</td>\n",
       "    </tr>\n",
       "    <tr>\n",
       "      <th>9</th>\n",
       "      <td>18</td>\n",
       "      <td>5400000.0</td>\n",
       "      <td>61.00</td>\n",
       "      <td>2017-02-26T00:00:00</td>\n",
       "      <td>3</td>\n",
       "      <td>2.50</td>\n",
       "      <td>9.0</td>\n",
       "      <td>43.60</td>\n",
       "      <td>7</td>\n",
       "      <td>NaN</td>\n",
       "      <td>...</td>\n",
       "      <td>6.50</td>\n",
       "      <td>2.0</td>\n",
       "      <td>Санкт-Петербург</td>\n",
       "      <td>50898.0</td>\n",
       "      <td>15008.0</td>\n",
       "      <td>0.0</td>\n",
       "      <td>NaN</td>\n",
       "      <td>0.0</td>\n",
       "      <td>NaN</td>\n",
       "      <td>289.0</td>\n",
       "    </tr>\n",
       "    <tr>\n",
       "      <th>10</th>\n",
       "      <td>5</td>\n",
       "      <td>5050000.0</td>\n",
       "      <td>39.60</td>\n",
       "      <td>2017-11-16T00:00:00</td>\n",
       "      <td>1</td>\n",
       "      <td>2.67</td>\n",
       "      <td>12.0</td>\n",
       "      <td>20.30</td>\n",
       "      <td>3</td>\n",
       "      <td>NaN</td>\n",
       "      <td>...</td>\n",
       "      <td>8.50</td>\n",
       "      <td>NaN</td>\n",
       "      <td>Санкт-Петербург</td>\n",
       "      <td>38357.0</td>\n",
       "      <td>13878.0</td>\n",
       "      <td>1.0</td>\n",
       "      <td>310.0</td>\n",
       "      <td>2.0</td>\n",
       "      <td>553.0</td>\n",
       "      <td>137.0</td>\n",
       "    </tr>\n",
       "    <tr>\n",
       "      <th>11</th>\n",
       "      <td>9</td>\n",
       "      <td>3300000.0</td>\n",
       "      <td>44.00</td>\n",
       "      <td>2018-08-27T00:00:00</td>\n",
       "      <td>2</td>\n",
       "      <td>NaN</td>\n",
       "      <td>5.0</td>\n",
       "      <td>31.00</td>\n",
       "      <td>4</td>\n",
       "      <td>False</td>\n",
       "      <td>...</td>\n",
       "      <td>6.00</td>\n",
       "      <td>1.0</td>\n",
       "      <td>Ломоносов</td>\n",
       "      <td>48252.0</td>\n",
       "      <td>51677.0</td>\n",
       "      <td>0.0</td>\n",
       "      <td>NaN</td>\n",
       "      <td>0.0</td>\n",
       "      <td>NaN</td>\n",
       "      <td>7.0</td>\n",
       "    </tr>\n",
       "    <tr>\n",
       "      <th>12</th>\n",
       "      <td>10</td>\n",
       "      <td>3890000.0</td>\n",
       "      <td>54.00</td>\n",
       "      <td>2016-06-30T00:00:00</td>\n",
       "      <td>2</td>\n",
       "      <td>NaN</td>\n",
       "      <td>5.0</td>\n",
       "      <td>30.00</td>\n",
       "      <td>5</td>\n",
       "      <td>NaN</td>\n",
       "      <td>...</td>\n",
       "      <td>9.00</td>\n",
       "      <td>0.0</td>\n",
       "      <td>Сертолово</td>\n",
       "      <td>NaN</td>\n",
       "      <td>NaN</td>\n",
       "      <td>NaN</td>\n",
       "      <td>NaN</td>\n",
       "      <td>NaN</td>\n",
       "      <td>NaN</td>\n",
       "      <td>90.0</td>\n",
       "    </tr>\n",
       "    <tr>\n",
       "      <th>13</th>\n",
       "      <td>20</td>\n",
       "      <td>3550000.0</td>\n",
       "      <td>42.80</td>\n",
       "      <td>2017-07-01T00:00:00</td>\n",
       "      <td>2</td>\n",
       "      <td>2.56</td>\n",
       "      <td>5.0</td>\n",
       "      <td>27.00</td>\n",
       "      <td>5</td>\n",
       "      <td>NaN</td>\n",
       "      <td>...</td>\n",
       "      <td>5.20</td>\n",
       "      <td>1.0</td>\n",
       "      <td>Петергоф</td>\n",
       "      <td>37868.0</td>\n",
       "      <td>33058.0</td>\n",
       "      <td>1.0</td>\n",
       "      <td>294.0</td>\n",
       "      <td>3.0</td>\n",
       "      <td>298.0</td>\n",
       "      <td>366.0</td>\n",
       "    </tr>\n",
       "    <tr>\n",
       "      <th>14</th>\n",
       "      <td>1</td>\n",
       "      <td>4400000.0</td>\n",
       "      <td>36.00</td>\n",
       "      <td>2016-06-23T00:00:00</td>\n",
       "      <td>1</td>\n",
       "      <td>NaN</td>\n",
       "      <td>6.0</td>\n",
       "      <td>17.00</td>\n",
       "      <td>1</td>\n",
       "      <td>NaN</td>\n",
       "      <td>...</td>\n",
       "      <td>8.00</td>\n",
       "      <td>0.0</td>\n",
       "      <td>Пушкин</td>\n",
       "      <td>20782.0</td>\n",
       "      <td>30759.0</td>\n",
       "      <td>0.0</td>\n",
       "      <td>NaN</td>\n",
       "      <td>1.0</td>\n",
       "      <td>96.0</td>\n",
       "      <td>203.0</td>\n",
       "    </tr>\n",
       "    <tr>\n",
       "      <th>15</th>\n",
       "      <td>16</td>\n",
       "      <td>4650000.0</td>\n",
       "      <td>39.00</td>\n",
       "      <td>2017-11-18T00:00:00</td>\n",
       "      <td>1</td>\n",
       "      <td>NaN</td>\n",
       "      <td>14.0</td>\n",
       "      <td>20.50</td>\n",
       "      <td>5</td>\n",
       "      <td>NaN</td>\n",
       "      <td>...</td>\n",
       "      <td>7.60</td>\n",
       "      <td>1.0</td>\n",
       "      <td>Санкт-Петербург</td>\n",
       "      <td>12900.0</td>\n",
       "      <td>14259.0</td>\n",
       "      <td>1.0</td>\n",
       "      <td>590.0</td>\n",
       "      <td>1.0</td>\n",
       "      <td>296.0</td>\n",
       "      <td>19.0</td>\n",
       "    </tr>\n",
       "    <tr>\n",
       "      <th>16</th>\n",
       "      <td>11</td>\n",
       "      <td>6700000.0</td>\n",
       "      <td>82.00</td>\n",
       "      <td>2017-11-23T00:00:00</td>\n",
       "      <td>3</td>\n",
       "      <td>3.05</td>\n",
       "      <td>5.0</td>\n",
       "      <td>55.60</td>\n",
       "      <td>1</td>\n",
       "      <td>NaN</td>\n",
       "      <td>...</td>\n",
       "      <td>9.00</td>\n",
       "      <td>NaN</td>\n",
       "      <td>Санкт-Петербург</td>\n",
       "      <td>22108.0</td>\n",
       "      <td>10698.0</td>\n",
       "      <td>3.0</td>\n",
       "      <td>420.0</td>\n",
       "      <td>0.0</td>\n",
       "      <td>NaN</td>\n",
       "      <td>397.0</td>\n",
       "    </tr>\n",
       "    <tr>\n",
       "      <th>17</th>\n",
       "      <td>6</td>\n",
       "      <td>4180000.0</td>\n",
       "      <td>36.00</td>\n",
       "      <td>2016-09-09T00:00:00</td>\n",
       "      <td>1</td>\n",
       "      <td>NaN</td>\n",
       "      <td>17.0</td>\n",
       "      <td>16.50</td>\n",
       "      <td>7</td>\n",
       "      <td>NaN</td>\n",
       "      <td>...</td>\n",
       "      <td>11.00</td>\n",
       "      <td>1.0</td>\n",
       "      <td>Санкт-Петербург</td>\n",
       "      <td>33564.0</td>\n",
       "      <td>14616.0</td>\n",
       "      <td>0.0</td>\n",
       "      <td>NaN</td>\n",
       "      <td>1.0</td>\n",
       "      <td>859.0</td>\n",
       "      <td>571.0</td>\n",
       "    </tr>\n",
       "    <tr>\n",
       "      <th>18</th>\n",
       "      <td>8</td>\n",
       "      <td>3250000.0</td>\n",
       "      <td>31.00</td>\n",
       "      <td>2017-01-27T00:00:00</td>\n",
       "      <td>1</td>\n",
       "      <td>2.50</td>\n",
       "      <td>5.0</td>\n",
       "      <td>19.40</td>\n",
       "      <td>2</td>\n",
       "      <td>NaN</td>\n",
       "      <td>...</td>\n",
       "      <td>5.60</td>\n",
       "      <td>1.0</td>\n",
       "      <td>Санкт-Петербург</td>\n",
       "      <td>44060.0</td>\n",
       "      <td>10842.0</td>\n",
       "      <td>1.0</td>\n",
       "      <td>759.0</td>\n",
       "      <td>0.0</td>\n",
       "      <td>NaN</td>\n",
       "      <td>168.0</td>\n",
       "    </tr>\n",
       "    <tr>\n",
       "      <th>19</th>\n",
       "      <td>16</td>\n",
       "      <td>14200000.0</td>\n",
       "      <td>121.00</td>\n",
       "      <td>2019-01-09T00:00:00</td>\n",
       "      <td>3</td>\n",
       "      <td>2.75</td>\n",
       "      <td>16.0</td>\n",
       "      <td>76.00</td>\n",
       "      <td>8</td>\n",
       "      <td>NaN</td>\n",
       "      <td>...</td>\n",
       "      <td>12.00</td>\n",
       "      <td>NaN</td>\n",
       "      <td>Санкт-Петербург</td>\n",
       "      <td>38900.0</td>\n",
       "      <td>12843.0</td>\n",
       "      <td>0.0</td>\n",
       "      <td>NaN</td>\n",
       "      <td>0.0</td>\n",
       "      <td>NaN</td>\n",
       "      <td>97.0</td>\n",
       "    </tr>\n",
       "    <tr>\n",
       "      <th>20</th>\n",
       "      <td>12</td>\n",
       "      <td>6120000.0</td>\n",
       "      <td>80.00</td>\n",
       "      <td>2017-09-28T00:00:00</td>\n",
       "      <td>3</td>\n",
       "      <td>2.70</td>\n",
       "      <td>27.0</td>\n",
       "      <td>48.00</td>\n",
       "      <td>11</td>\n",
       "      <td>NaN</td>\n",
       "      <td>...</td>\n",
       "      <td>12.00</td>\n",
       "      <td>2.0</td>\n",
       "      <td>посёлок Парголово</td>\n",
       "      <td>53134.0</td>\n",
       "      <td>19311.0</td>\n",
       "      <td>0.0</td>\n",
       "      <td>NaN</td>\n",
       "      <td>0.0</td>\n",
       "      <td>NaN</td>\n",
       "      <td>74.0</td>\n",
       "    </tr>\n",
       "    <tr>\n",
       "      <th>21</th>\n",
       "      <td>13</td>\n",
       "      <td>3200000.0</td>\n",
       "      <td>31.60</td>\n",
       "      <td>2018-03-14T00:00:00</td>\n",
       "      <td>1</td>\n",
       "      <td>NaN</td>\n",
       "      <td>5.0</td>\n",
       "      <td>16.90</td>\n",
       "      <td>2</td>\n",
       "      <td>NaN</td>\n",
       "      <td>...</td>\n",
       "      <td>5.70</td>\n",
       "      <td>1.0</td>\n",
       "      <td>Санкт-Петербург</td>\n",
       "      <td>36064.0</td>\n",
       "      <td>9722.0</td>\n",
       "      <td>1.0</td>\n",
       "      <td>248.0</td>\n",
       "      <td>0.0</td>\n",
       "      <td>NaN</td>\n",
       "      <td>310.0</td>\n",
       "    </tr>\n",
       "    <tr>\n",
       "      <th>22</th>\n",
       "      <td>20</td>\n",
       "      <td>5000000.0</td>\n",
       "      <td>58.00</td>\n",
       "      <td>2017-04-24T00:00:00</td>\n",
       "      <td>2</td>\n",
       "      <td>2.75</td>\n",
       "      <td>25.0</td>\n",
       "      <td>30.00</td>\n",
       "      <td>15</td>\n",
       "      <td>NaN</td>\n",
       "      <td>...</td>\n",
       "      <td>11.00</td>\n",
       "      <td>2.0</td>\n",
       "      <td>деревня Кудрово</td>\n",
       "      <td>NaN</td>\n",
       "      <td>NaN</td>\n",
       "      <td>NaN</td>\n",
       "      <td>NaN</td>\n",
       "      <td>NaN</td>\n",
       "      <td>NaN</td>\n",
       "      <td>60.0</td>\n",
       "    </tr>\n",
       "    <tr>\n",
       "      <th>23</th>\n",
       "      <td>11</td>\n",
       "      <td>2950000.0</td>\n",
       "      <td>32.00</td>\n",
       "      <td>2016-10-29T00:00:00</td>\n",
       "      <td>1</td>\n",
       "      <td>2.60</td>\n",
       "      <td>9.0</td>\n",
       "      <td>17.70</td>\n",
       "      <td>9</td>\n",
       "      <td>NaN</td>\n",
       "      <td>...</td>\n",
       "      <td>6.10</td>\n",
       "      <td>NaN</td>\n",
       "      <td>Санкт-Петербург</td>\n",
       "      <td>15414.0</td>\n",
       "      <td>14211.0</td>\n",
       "      <td>2.0</td>\n",
       "      <td>517.0</td>\n",
       "      <td>1.0</td>\n",
       "      <td>190.0</td>\n",
       "      <td>615.0</td>\n",
       "    </tr>\n",
       "    <tr>\n",
       "      <th>24</th>\n",
       "      <td>8</td>\n",
       "      <td>6500000.0</td>\n",
       "      <td>97.20</td>\n",
       "      <td>2015-10-31T00:00:00</td>\n",
       "      <td>2</td>\n",
       "      <td>NaN</td>\n",
       "      <td>3.0</td>\n",
       "      <td>46.50</td>\n",
       "      <td>1</td>\n",
       "      <td>NaN</td>\n",
       "      <td>...</td>\n",
       "      <td>19.60</td>\n",
       "      <td>0.0</td>\n",
       "      <td>Санкт-Петербург</td>\n",
       "      <td>20052.0</td>\n",
       "      <td>2336.0</td>\n",
       "      <td>3.0</td>\n",
       "      <td>411.0</td>\n",
       "      <td>3.0</td>\n",
       "      <td>124.0</td>\n",
       "      <td>265.0</td>\n",
       "    </tr>\n",
       "    <tr>\n",
       "      <th>25</th>\n",
       "      <td>3</td>\n",
       "      <td>6800000.0</td>\n",
       "      <td>76.00</td>\n",
       "      <td>2015-10-01T00:00:00</td>\n",
       "      <td>2</td>\n",
       "      <td>2.75</td>\n",
       "      <td>23.0</td>\n",
       "      <td>39.00</td>\n",
       "      <td>18</td>\n",
       "      <td>False</td>\n",
       "      <td>...</td>\n",
       "      <td>15.00</td>\n",
       "      <td>2.0</td>\n",
       "      <td>Санкт-Петербург</td>\n",
       "      <td>34967.0</td>\n",
       "      <td>14640.0</td>\n",
       "      <td>0.0</td>\n",
       "      <td>NaN</td>\n",
       "      <td>1.0</td>\n",
       "      <td>564.0</td>\n",
       "      <td>300.0</td>\n",
       "    </tr>\n",
       "    <tr>\n",
       "      <th>26</th>\n",
       "      <td>6</td>\n",
       "      <td>4050000.0</td>\n",
       "      <td>60.00</td>\n",
       "      <td>2017-04-28T00:00:00</td>\n",
       "      <td>4</td>\n",
       "      <td>NaN</td>\n",
       "      <td>5.0</td>\n",
       "      <td>43.00</td>\n",
       "      <td>4</td>\n",
       "      <td>NaN</td>\n",
       "      <td>...</td>\n",
       "      <td>7.00</td>\n",
       "      <td>NaN</td>\n",
       "      <td>Санкт-Петербург</td>\n",
       "      <td>11580.0</td>\n",
       "      <td>10510.0</td>\n",
       "      <td>0.0</td>\n",
       "      <td>NaN</td>\n",
       "      <td>1.0</td>\n",
       "      <td>95.0</td>\n",
       "      <td>265.0</td>\n",
       "    </tr>\n",
       "    <tr>\n",
       "      <th>27</th>\n",
       "      <td>20</td>\n",
       "      <td>7100000.0</td>\n",
       "      <td>70.00</td>\n",
       "      <td>2017-05-12T00:00:00</td>\n",
       "      <td>3</td>\n",
       "      <td>2.60</td>\n",
       "      <td>17.0</td>\n",
       "      <td>49.00</td>\n",
       "      <td>11</td>\n",
       "      <td>NaN</td>\n",
       "      <td>...</td>\n",
       "      <td>9.20</td>\n",
       "      <td>0.0</td>\n",
       "      <td>Санкт-Петербург</td>\n",
       "      <td>29197.0</td>\n",
       "      <td>11456.0</td>\n",
       "      <td>2.0</td>\n",
       "      <td>452.0</td>\n",
       "      <td>1.0</td>\n",
       "      <td>779.0</td>\n",
       "      <td>151.0</td>\n",
       "    </tr>\n",
       "    <tr>\n",
       "      <th>28</th>\n",
       "      <td>8</td>\n",
       "      <td>4170000.0</td>\n",
       "      <td>44.00</td>\n",
       "      <td>2017-12-13T00:00:00</td>\n",
       "      <td>1</td>\n",
       "      <td>2.90</td>\n",
       "      <td>6.0</td>\n",
       "      <td>20.80</td>\n",
       "      <td>1</td>\n",
       "      <td>NaN</td>\n",
       "      <td>...</td>\n",
       "      <td>11.70</td>\n",
       "      <td>1.0</td>\n",
       "      <td>Пушкин</td>\n",
       "      <td>18557.0</td>\n",
       "      <td>30710.0</td>\n",
       "      <td>0.0</td>\n",
       "      <td>NaN</td>\n",
       "      <td>1.0</td>\n",
       "      <td>118.0</td>\n",
       "      <td>74.0</td>\n",
       "    </tr>\n",
       "    <tr>\n",
       "      <th>29</th>\n",
       "      <td>9</td>\n",
       "      <td>8600000.0</td>\n",
       "      <td>100.00</td>\n",
       "      <td>2016-04-09T00:00:00</td>\n",
       "      <td>3</td>\n",
       "      <td>NaN</td>\n",
       "      <td>19.0</td>\n",
       "      <td>52.00</td>\n",
       "      <td>15</td>\n",
       "      <td>False</td>\n",
       "      <td>...</td>\n",
       "      <td>11.00</td>\n",
       "      <td>0.0</td>\n",
       "      <td>Санкт-Петербург</td>\n",
       "      <td>30394.0</td>\n",
       "      <td>11526.0</td>\n",
       "      <td>1.0</td>\n",
       "      <td>532.0</td>\n",
       "      <td>1.0</td>\n",
       "      <td>896.0</td>\n",
       "      <td>125.0</td>\n",
       "    </tr>\n",
       "    <tr>\n",
       "      <th>30</th>\n",
       "      <td>12</td>\n",
       "      <td>2200000.0</td>\n",
       "      <td>32.80</td>\n",
       "      <td>2018-02-19T00:00:00</td>\n",
       "      <td>1</td>\n",
       "      <td>NaN</td>\n",
       "      <td>9.0</td>\n",
       "      <td>NaN</td>\n",
       "      <td>2</td>\n",
       "      <td>NaN</td>\n",
       "      <td>...</td>\n",
       "      <td>NaN</td>\n",
       "      <td>NaN</td>\n",
       "      <td>Коммунар</td>\n",
       "      <td>NaN</td>\n",
       "      <td>NaN</td>\n",
       "      <td>NaN</td>\n",
       "      <td>NaN</td>\n",
       "      <td>NaN</td>\n",
       "      <td>NaN</td>\n",
       "      <td>63.0</td>\n",
       "    </tr>\n",
       "    <tr>\n",
       "      <th>31</th>\n",
       "      <td>8</td>\n",
       "      <td>7200000.0</td>\n",
       "      <td>67.90</td>\n",
       "      <td>2017-10-26T00:00:00</td>\n",
       "      <td>2</td>\n",
       "      <td>2.80</td>\n",
       "      <td>16.0</td>\n",
       "      <td>38.10</td>\n",
       "      <td>4</td>\n",
       "      <td>NaN</td>\n",
       "      <td>...</td>\n",
       "      <td>13.40</td>\n",
       "      <td>2.0</td>\n",
       "      <td>Санкт-Петербург</td>\n",
       "      <td>32888.0</td>\n",
       "      <td>12944.0</td>\n",
       "      <td>0.0</td>\n",
       "      <td>NaN</td>\n",
       "      <td>0.0</td>\n",
       "      <td>NaN</td>\n",
       "      <td>112.0</td>\n",
       "    </tr>\n",
       "    <tr>\n",
       "      <th>32</th>\n",
       "      <td>7</td>\n",
       "      <td>4990000.0</td>\n",
       "      <td>60.00</td>\n",
       "      <td>2016-05-22T00:00:00</td>\n",
       "      <td>3</td>\n",
       "      <td>NaN</td>\n",
       "      <td>5.0</td>\n",
       "      <td>39.00</td>\n",
       "      <td>4</td>\n",
       "      <td>NaN</td>\n",
       "      <td>...</td>\n",
       "      <td>6.00</td>\n",
       "      <td>0.0</td>\n",
       "      <td>Санкт-Петербург</td>\n",
       "      <td>11349.0</td>\n",
       "      <td>12889.0</td>\n",
       "      <td>0.0</td>\n",
       "      <td>NaN</td>\n",
       "      <td>1.0</td>\n",
       "      <td>426.0</td>\n",
       "      <td>224.0</td>\n",
       "    </tr>\n",
       "    <tr>\n",
       "      <th>33</th>\n",
       "      <td>8</td>\n",
       "      <td>4800000.0</td>\n",
       "      <td>73.00</td>\n",
       "      <td>2018-10-15T00:00:00</td>\n",
       "      <td>4</td>\n",
       "      <td>NaN</td>\n",
       "      <td>9.0</td>\n",
       "      <td>51.60</td>\n",
       "      <td>5</td>\n",
       "      <td>NaN</td>\n",
       "      <td>...</td>\n",
       "      <td>6.50</td>\n",
       "      <td>NaN</td>\n",
       "      <td>Колпино</td>\n",
       "      <td>26535.0</td>\n",
       "      <td>32321.0</td>\n",
       "      <td>0.0</td>\n",
       "      <td>NaN</td>\n",
       "      <td>0.0</td>\n",
       "      <td>NaN</td>\n",
       "      <td>92.0</td>\n",
       "    </tr>\n",
       "    <tr>\n",
       "      <th>34</th>\n",
       "      <td>3</td>\n",
       "      <td>3290000.0</td>\n",
       "      <td>33.00</td>\n",
       "      <td>2018-02-04T00:00:00</td>\n",
       "      <td>1</td>\n",
       "      <td>2.55</td>\n",
       "      <td>16.0</td>\n",
       "      <td>14.00</td>\n",
       "      <td>3</td>\n",
       "      <td>NaN</td>\n",
       "      <td>...</td>\n",
       "      <td>8.00</td>\n",
       "      <td>NaN</td>\n",
       "      <td>Санкт-Петербург</td>\n",
       "      <td>13943.0</td>\n",
       "      <td>12739.0</td>\n",
       "      <td>0.0</td>\n",
       "      <td>NaN</td>\n",
       "      <td>0.0</td>\n",
       "      <td>NaN</td>\n",
       "      <td>15.0</td>\n",
       "    </tr>\n",
       "    <tr>\n",
       "      <th>35</th>\n",
       "      <td>6</td>\n",
       "      <td>15500000.0</td>\n",
       "      <td>149.00</td>\n",
       "      <td>2017-06-26T00:00:00</td>\n",
       "      <td>5</td>\n",
       "      <td>NaN</td>\n",
       "      <td>5.0</td>\n",
       "      <td>104.00</td>\n",
       "      <td>4</td>\n",
       "      <td>NaN</td>\n",
       "      <td>...</td>\n",
       "      <td>17.00</td>\n",
       "      <td>NaN</td>\n",
       "      <td>Санкт-Петербург</td>\n",
       "      <td>23670.0</td>\n",
       "      <td>3502.0</td>\n",
       "      <td>0.0</td>\n",
       "      <td>NaN</td>\n",
       "      <td>1.0</td>\n",
       "      <td>779.0</td>\n",
       "      <td>644.0</td>\n",
       "    </tr>\n",
       "    <tr>\n",
       "      <th>36</th>\n",
       "      <td>13</td>\n",
       "      <td>3790000.0</td>\n",
       "      <td>45.00</td>\n",
       "      <td>2017-01-25T00:00:00</td>\n",
       "      <td>2</td>\n",
       "      <td>NaN</td>\n",
       "      <td>9.0</td>\n",
       "      <td>27.00</td>\n",
       "      <td>9</td>\n",
       "      <td>False</td>\n",
       "      <td>...</td>\n",
       "      <td>6.30</td>\n",
       "      <td>2.0</td>\n",
       "      <td>Санкт-Петербург</td>\n",
       "      <td>49574.0</td>\n",
       "      <td>16461.0</td>\n",
       "      <td>1.0</td>\n",
       "      <td>459.0</td>\n",
       "      <td>0.0</td>\n",
       "      <td>NaN</td>\n",
       "      <td>139.0</td>\n",
       "    </tr>\n",
       "    <tr>\n",
       "      <th>37</th>\n",
       "      <td>10</td>\n",
       "      <td>1990000.0</td>\n",
       "      <td>45.80</td>\n",
       "      <td>2017-10-28T00:00:00</td>\n",
       "      <td>2</td>\n",
       "      <td>2.50</td>\n",
       "      <td>5.0</td>\n",
       "      <td>NaN</td>\n",
       "      <td>1</td>\n",
       "      <td>NaN</td>\n",
       "      <td>...</td>\n",
       "      <td>NaN</td>\n",
       "      <td>NaN</td>\n",
       "      <td>поселок городского типа Красный Бор</td>\n",
       "      <td>NaN</td>\n",
       "      <td>NaN</td>\n",
       "      <td>NaN</td>\n",
       "      <td>NaN</td>\n",
       "      <td>NaN</td>\n",
       "      <td>NaN</td>\n",
       "      <td>196.0</td>\n",
       "    </tr>\n",
       "    <tr>\n",
       "      <th>38</th>\n",
       "      <td>10</td>\n",
       "      <td>3150000.0</td>\n",
       "      <td>40.00</td>\n",
       "      <td>2018-03-29T00:00:00</td>\n",
       "      <td>1</td>\n",
       "      <td>2.75</td>\n",
       "      <td>18.0</td>\n",
       "      <td>16.30</td>\n",
       "      <td>9</td>\n",
       "      <td>NaN</td>\n",
       "      <td>...</td>\n",
       "      <td>11.60</td>\n",
       "      <td>NaN</td>\n",
       "      <td>посёлок Мурино</td>\n",
       "      <td>NaN</td>\n",
       "      <td>NaN</td>\n",
       "      <td>NaN</td>\n",
       "      <td>NaN</td>\n",
       "      <td>NaN</td>\n",
       "      <td>NaN</td>\n",
       "      <td>103.0</td>\n",
       "    </tr>\n",
       "    <tr>\n",
       "      <th>39</th>\n",
       "      <td>15</td>\n",
       "      <td>5200000.0</td>\n",
       "      <td>54.40</td>\n",
       "      <td>2018-11-29T00:00:00</td>\n",
       "      <td>2</td>\n",
       "      <td>2.75</td>\n",
       "      <td>9.0</td>\n",
       "      <td>29.70</td>\n",
       "      <td>2</td>\n",
       "      <td>NaN</td>\n",
       "      <td>...</td>\n",
       "      <td>8.80</td>\n",
       "      <td>2.0</td>\n",
       "      <td>Санкт-Петербург</td>\n",
       "      <td>13413.0</td>\n",
       "      <td>12209.0</td>\n",
       "      <td>0.0</td>\n",
       "      <td>NaN</td>\n",
       "      <td>1.0</td>\n",
       "      <td>1175.0</td>\n",
       "      <td>29.0</td>\n",
       "    </tr>\n",
       "    <tr>\n",
       "      <th>40</th>\n",
       "      <td>9</td>\n",
       "      <td>3590000.0</td>\n",
       "      <td>36.00</td>\n",
       "      <td>2017-03-15T00:00:00</td>\n",
       "      <td>1</td>\n",
       "      <td>2.60</td>\n",
       "      <td>26.0</td>\n",
       "      <td>15.00</td>\n",
       "      <td>22</td>\n",
       "      <td>NaN</td>\n",
       "      <td>...</td>\n",
       "      <td>10.00</td>\n",
       "      <td>2.0</td>\n",
       "      <td>посёлок Парголово</td>\n",
       "      <td>52996.0</td>\n",
       "      <td>19143.0</td>\n",
       "      <td>0.0</td>\n",
       "      <td>NaN</td>\n",
       "      <td>0.0</td>\n",
       "      <td>NaN</td>\n",
       "      <td>430.0</td>\n",
       "    </tr>\n",
       "    <tr>\n",
       "      <th>41</th>\n",
       "      <td>16</td>\n",
       "      <td>7900000.0</td>\n",
       "      <td>74.00</td>\n",
       "      <td>2016-05-04T00:00:00</td>\n",
       "      <td>3</td>\n",
       "      <td>NaN</td>\n",
       "      <td>14.0</td>\n",
       "      <td>59.00</td>\n",
       "      <td>8</td>\n",
       "      <td>False</td>\n",
       "      <td>...</td>\n",
       "      <td>12.00</td>\n",
       "      <td>5.0</td>\n",
       "      <td>Санкт-Петербург</td>\n",
       "      <td>37715.0</td>\n",
       "      <td>12612.0</td>\n",
       "      <td>1.0</td>\n",
       "      <td>725.0</td>\n",
       "      <td>1.0</td>\n",
       "      <td>759.0</td>\n",
       "      <td>179.0</td>\n",
       "    </tr>\n",
       "    <tr>\n",
       "      <th>42</th>\n",
       "      <td>13</td>\n",
       "      <td>22000000.0</td>\n",
       "      <td>161.80</td>\n",
       "      <td>2015-07-08T00:00:00</td>\n",
       "      <td>4</td>\n",
       "      <td>2.80</td>\n",
       "      <td>4.0</td>\n",
       "      <td>80.90</td>\n",
       "      <td>2</td>\n",
       "      <td>False</td>\n",
       "      <td>...</td>\n",
       "      <td>17.60</td>\n",
       "      <td>5.0</td>\n",
       "      <td>Петергоф</td>\n",
       "      <td>35416.0</td>\n",
       "      <td>30605.0</td>\n",
       "      <td>2.0</td>\n",
       "      <td>47.0</td>\n",
       "      <td>1.0</td>\n",
       "      <td>907.0</td>\n",
       "      <td>987.0</td>\n",
       "    </tr>\n",
       "    <tr>\n",
       "      <th>43</th>\n",
       "      <td>13</td>\n",
       "      <td>9330000.0</td>\n",
       "      <td>48.00</td>\n",
       "      <td>2017-01-10T00:00:00</td>\n",
       "      <td>2</td>\n",
       "      <td>3.00</td>\n",
       "      <td>4.0</td>\n",
       "      <td>28.00</td>\n",
       "      <td>4</td>\n",
       "      <td>NaN</td>\n",
       "      <td>...</td>\n",
       "      <td>7.50</td>\n",
       "      <td>NaN</td>\n",
       "      <td>Санкт-Петербург</td>\n",
       "      <td>15016.0</td>\n",
       "      <td>10822.0</td>\n",
       "      <td>0.0</td>\n",
       "      <td>NaN</td>\n",
       "      <td>1.0</td>\n",
       "      <td>492.0</td>\n",
       "      <td>763.0</td>\n",
       "    </tr>\n",
       "    <tr>\n",
       "      <th>44</th>\n",
       "      <td>13</td>\n",
       "      <td>5350000.0</td>\n",
       "      <td>40.00</td>\n",
       "      <td>2018-11-18T00:00:00</td>\n",
       "      <td>1</td>\n",
       "      <td>NaN</td>\n",
       "      <td>22.0</td>\n",
       "      <td>NaN</td>\n",
       "      <td>3</td>\n",
       "      <td>NaN</td>\n",
       "      <td>...</td>\n",
       "      <td>NaN</td>\n",
       "      <td>1.0</td>\n",
       "      <td>Санкт-Петербург</td>\n",
       "      <td>30471.0</td>\n",
       "      <td>11603.0</td>\n",
       "      <td>1.0</td>\n",
       "      <td>620.0</td>\n",
       "      <td>1.0</td>\n",
       "      <td>1152.0</td>\n",
       "      <td>NaN</td>\n",
       "    </tr>\n",
       "    <tr>\n",
       "      <th>45</th>\n",
       "      <td>17</td>\n",
       "      <td>5200000.0</td>\n",
       "      <td>50.60</td>\n",
       "      <td>2018-12-02T00:00:00</td>\n",
       "      <td>2</td>\n",
       "      <td>2.65</td>\n",
       "      <td>9.0</td>\n",
       "      <td>30.30</td>\n",
       "      <td>7</td>\n",
       "      <td>NaN</td>\n",
       "      <td>...</td>\n",
       "      <td>7.00</td>\n",
       "      <td>NaN</td>\n",
       "      <td>Санкт-Петербург</td>\n",
       "      <td>30011.0</td>\n",
       "      <td>12872.0</td>\n",
       "      <td>0.0</td>\n",
       "      <td>NaN</td>\n",
       "      <td>0.0</td>\n",
       "      <td>NaN</td>\n",
       "      <td>NaN</td>\n",
       "    </tr>\n",
       "    <tr>\n",
       "      <th>46</th>\n",
       "      <td>17</td>\n",
       "      <td>6600000.0</td>\n",
       "      <td>52.10</td>\n",
       "      <td>2019-01-31T00:00:00</td>\n",
       "      <td>2</td>\n",
       "      <td>2.60</td>\n",
       "      <td>24.0</td>\n",
       "      <td>29.70</td>\n",
       "      <td>9</td>\n",
       "      <td>NaN</td>\n",
       "      <td>...</td>\n",
       "      <td>8.30</td>\n",
       "      <td>2.0</td>\n",
       "      <td>Санкт-Петербург</td>\n",
       "      <td>15114.0</td>\n",
       "      <td>12702.0</td>\n",
       "      <td>0.0</td>\n",
       "      <td>NaN</td>\n",
       "      <td>0.0</td>\n",
       "      <td>NaN</td>\n",
       "      <td>NaN</td>\n",
       "    </tr>\n",
       "    <tr>\n",
       "      <th>47</th>\n",
       "      <td>17</td>\n",
       "      <td>3600000.0</td>\n",
       "      <td>56.10</td>\n",
       "      <td>2018-10-18T00:00:00</td>\n",
       "      <td>3</td>\n",
       "      <td>NaN</td>\n",
       "      <td>4.0</td>\n",
       "      <td>42.50</td>\n",
       "      <td>3</td>\n",
       "      <td>NaN</td>\n",
       "      <td>...</td>\n",
       "      <td>5.70</td>\n",
       "      <td>1.0</td>\n",
       "      <td>Гатчина</td>\n",
       "      <td>NaN</td>\n",
       "      <td>NaN</td>\n",
       "      <td>NaN</td>\n",
       "      <td>NaN</td>\n",
       "      <td>NaN</td>\n",
       "      <td>NaN</td>\n",
       "      <td>179.0</td>\n",
       "    </tr>\n",
       "    <tr>\n",
       "      <th>48</th>\n",
       "      <td>10</td>\n",
       "      <td>3600000.0</td>\n",
       "      <td>33.83</td>\n",
       "      <td>2017-10-03T00:00:00</td>\n",
       "      <td>1</td>\n",
       "      <td>NaN</td>\n",
       "      <td>24.0</td>\n",
       "      <td>15.35</td>\n",
       "      <td>6</td>\n",
       "      <td>NaN</td>\n",
       "      <td>...</td>\n",
       "      <td>9.50</td>\n",
       "      <td>NaN</td>\n",
       "      <td>Санкт-Петербург</td>\n",
       "      <td>21460.0</td>\n",
       "      <td>16788.0</td>\n",
       "      <td>0.0</td>\n",
       "      <td>NaN</td>\n",
       "      <td>1.0</td>\n",
       "      <td>170.0</td>\n",
       "      <td>322.0</td>\n",
       "    </tr>\n",
       "    <tr>\n",
       "      <th>49</th>\n",
       "      <td>1</td>\n",
       "      <td>3050000.0</td>\n",
       "      <td>30.80</td>\n",
       "      <td>2018-11-22T00:00:00</td>\n",
       "      <td>1</td>\n",
       "      <td>2.50</td>\n",
       "      <td>9.0</td>\n",
       "      <td>18.00</td>\n",
       "      <td>7</td>\n",
       "      <td>NaN</td>\n",
       "      <td>...</td>\n",
       "      <td>6.00</td>\n",
       "      <td>NaN</td>\n",
       "      <td>Санкт-Петербург</td>\n",
       "      <td>45341.0</td>\n",
       "      <td>16603.0</td>\n",
       "      <td>1.0</td>\n",
       "      <td>675.0</td>\n",
       "      <td>0.0</td>\n",
       "      <td>NaN</td>\n",
       "      <td>NaN</td>\n",
       "    </tr>\n",
       "  </tbody>\n",
       "</table>\n",
       "<p>50 rows × 22 columns</p>\n",
       "</div>"
      ],
      "text/plain": [
       "    total_images  last_price  total_area first_day_exposition  rooms  \\\n",
       "0             20  13000000.0      108.00  2019-03-07T00:00:00      3   \n",
       "1              7   3350000.0       40.40  2018-12-04T00:00:00      1   \n",
       "2             10   5196000.0       56.00  2015-08-20T00:00:00      2   \n",
       "3              0  64900000.0      159.00  2015-07-24T00:00:00      3   \n",
       "4              2  10000000.0      100.00  2018-06-19T00:00:00      2   \n",
       "5             10   2890000.0       30.40  2018-09-10T00:00:00      1   \n",
       "6              6   3700000.0       37.30  2017-11-02T00:00:00      1   \n",
       "7              5   7915000.0       71.60  2019-04-18T00:00:00      2   \n",
       "8             20   2900000.0       33.16  2018-05-23T00:00:00      1   \n",
       "9             18   5400000.0       61.00  2017-02-26T00:00:00      3   \n",
       "10             5   5050000.0       39.60  2017-11-16T00:00:00      1   \n",
       "11             9   3300000.0       44.00  2018-08-27T00:00:00      2   \n",
       "12            10   3890000.0       54.00  2016-06-30T00:00:00      2   \n",
       "13            20   3550000.0       42.80  2017-07-01T00:00:00      2   \n",
       "14             1   4400000.0       36.00  2016-06-23T00:00:00      1   \n",
       "15            16   4650000.0       39.00  2017-11-18T00:00:00      1   \n",
       "16            11   6700000.0       82.00  2017-11-23T00:00:00      3   \n",
       "17             6   4180000.0       36.00  2016-09-09T00:00:00      1   \n",
       "18             8   3250000.0       31.00  2017-01-27T00:00:00      1   \n",
       "19            16  14200000.0      121.00  2019-01-09T00:00:00      3   \n",
       "20            12   6120000.0       80.00  2017-09-28T00:00:00      3   \n",
       "21            13   3200000.0       31.60  2018-03-14T00:00:00      1   \n",
       "22            20   5000000.0       58.00  2017-04-24T00:00:00      2   \n",
       "23            11   2950000.0       32.00  2016-10-29T00:00:00      1   \n",
       "24             8   6500000.0       97.20  2015-10-31T00:00:00      2   \n",
       "25             3   6800000.0       76.00  2015-10-01T00:00:00      2   \n",
       "26             6   4050000.0       60.00  2017-04-28T00:00:00      4   \n",
       "27            20   7100000.0       70.00  2017-05-12T00:00:00      3   \n",
       "28             8   4170000.0       44.00  2017-12-13T00:00:00      1   \n",
       "29             9   8600000.0      100.00  2016-04-09T00:00:00      3   \n",
       "30            12   2200000.0       32.80  2018-02-19T00:00:00      1   \n",
       "31             8   7200000.0       67.90  2017-10-26T00:00:00      2   \n",
       "32             7   4990000.0       60.00  2016-05-22T00:00:00      3   \n",
       "33             8   4800000.0       73.00  2018-10-15T00:00:00      4   \n",
       "34             3   3290000.0       33.00  2018-02-04T00:00:00      1   \n",
       "35             6  15500000.0      149.00  2017-06-26T00:00:00      5   \n",
       "36            13   3790000.0       45.00  2017-01-25T00:00:00      2   \n",
       "37            10   1990000.0       45.80  2017-10-28T00:00:00      2   \n",
       "38            10   3150000.0       40.00  2018-03-29T00:00:00      1   \n",
       "39            15   5200000.0       54.40  2018-11-29T00:00:00      2   \n",
       "40             9   3590000.0       36.00  2017-03-15T00:00:00      1   \n",
       "41            16   7900000.0       74.00  2016-05-04T00:00:00      3   \n",
       "42            13  22000000.0      161.80  2015-07-08T00:00:00      4   \n",
       "43            13   9330000.0       48.00  2017-01-10T00:00:00      2   \n",
       "44            13   5350000.0       40.00  2018-11-18T00:00:00      1   \n",
       "45            17   5200000.0       50.60  2018-12-02T00:00:00      2   \n",
       "46            17   6600000.0       52.10  2019-01-31T00:00:00      2   \n",
       "47            17   3600000.0       56.10  2018-10-18T00:00:00      3   \n",
       "48            10   3600000.0       33.83  2017-10-03T00:00:00      1   \n",
       "49             1   3050000.0       30.80  2018-11-22T00:00:00      1   \n",
       "\n",
       "    ceiling_height  floors_total  living_area  floor is_apartment  ...  \\\n",
       "0             2.70          16.0        51.00      8          NaN  ...   \n",
       "1              NaN          11.0        18.60      1          NaN  ...   \n",
       "2              NaN           5.0        34.30      4          NaN  ...   \n",
       "3              NaN          14.0          NaN      9          NaN  ...   \n",
       "4             3.03          14.0        32.00     13          NaN  ...   \n",
       "5              NaN          12.0        14.40      5          NaN  ...   \n",
       "6              NaN          26.0        10.60      6          NaN  ...   \n",
       "7              NaN          24.0          NaN     22          NaN  ...   \n",
       "8              NaN          27.0        15.43     26          NaN  ...   \n",
       "9             2.50           9.0        43.60      7          NaN  ...   \n",
       "10            2.67          12.0        20.30      3          NaN  ...   \n",
       "11             NaN           5.0        31.00      4        False  ...   \n",
       "12             NaN           5.0        30.00      5          NaN  ...   \n",
       "13            2.56           5.0        27.00      5          NaN  ...   \n",
       "14             NaN           6.0        17.00      1          NaN  ...   \n",
       "15             NaN          14.0        20.50      5          NaN  ...   \n",
       "16            3.05           5.0        55.60      1          NaN  ...   \n",
       "17             NaN          17.0        16.50      7          NaN  ...   \n",
       "18            2.50           5.0        19.40      2          NaN  ...   \n",
       "19            2.75          16.0        76.00      8          NaN  ...   \n",
       "20            2.70          27.0        48.00     11          NaN  ...   \n",
       "21             NaN           5.0        16.90      2          NaN  ...   \n",
       "22            2.75          25.0        30.00     15          NaN  ...   \n",
       "23            2.60           9.0        17.70      9          NaN  ...   \n",
       "24             NaN           3.0        46.50      1          NaN  ...   \n",
       "25            2.75          23.0        39.00     18        False  ...   \n",
       "26             NaN           5.0        43.00      4          NaN  ...   \n",
       "27            2.60          17.0        49.00     11          NaN  ...   \n",
       "28            2.90           6.0        20.80      1          NaN  ...   \n",
       "29             NaN          19.0        52.00     15        False  ...   \n",
       "30             NaN           9.0          NaN      2          NaN  ...   \n",
       "31            2.80          16.0        38.10      4          NaN  ...   \n",
       "32             NaN           5.0        39.00      4          NaN  ...   \n",
       "33             NaN           9.0        51.60      5          NaN  ...   \n",
       "34            2.55          16.0        14.00      3          NaN  ...   \n",
       "35             NaN           5.0       104.00      4          NaN  ...   \n",
       "36             NaN           9.0        27.00      9        False  ...   \n",
       "37            2.50           5.0          NaN      1          NaN  ...   \n",
       "38            2.75          18.0        16.30      9          NaN  ...   \n",
       "39            2.75           9.0        29.70      2          NaN  ...   \n",
       "40            2.60          26.0        15.00     22          NaN  ...   \n",
       "41             NaN          14.0        59.00      8        False  ...   \n",
       "42            2.80           4.0        80.90      2        False  ...   \n",
       "43            3.00           4.0        28.00      4          NaN  ...   \n",
       "44             NaN          22.0          NaN      3          NaN  ...   \n",
       "45            2.65           9.0        30.30      7          NaN  ...   \n",
       "46            2.60          24.0        29.70      9          NaN  ...   \n",
       "47             NaN           4.0        42.50      3          NaN  ...   \n",
       "48             NaN          24.0        15.35      6          NaN  ...   \n",
       "49            2.50           9.0        18.00      7          NaN  ...   \n",
       "\n",
       "    kitchen_area  balcony                        locality_name  \\\n",
       "0          25.00      NaN                      Санкт-Петербург   \n",
       "1          11.00      2.0                       посёлок Шушары   \n",
       "2           8.30      0.0                      Санкт-Петербург   \n",
       "3            NaN      0.0                      Санкт-Петербург   \n",
       "4          41.00      NaN                      Санкт-Петербург   \n",
       "5           9.10      NaN            городской посёлок Янино-1   \n",
       "6          14.40      1.0                    посёлок Парголово   \n",
       "7          18.90      2.0                      Санкт-Петербург   \n",
       "8           8.81      NaN                       посёлок Мурино   \n",
       "9           6.50      2.0                      Санкт-Петербург   \n",
       "10          8.50      NaN                      Санкт-Петербург   \n",
       "11          6.00      1.0                            Ломоносов   \n",
       "12          9.00      0.0                            Сертолово   \n",
       "13          5.20      1.0                             Петергоф   \n",
       "14          8.00      0.0                               Пушкин   \n",
       "15          7.60      1.0                      Санкт-Петербург   \n",
       "16          9.00      NaN                      Санкт-Петербург   \n",
       "17         11.00      1.0                      Санкт-Петербург   \n",
       "18          5.60      1.0                      Санкт-Петербург   \n",
       "19         12.00      NaN                      Санкт-Петербург   \n",
       "20         12.00      2.0                    посёлок Парголово   \n",
       "21          5.70      1.0                      Санкт-Петербург   \n",
       "22         11.00      2.0                      деревня Кудрово   \n",
       "23          6.10      NaN                      Санкт-Петербург   \n",
       "24         19.60      0.0                      Санкт-Петербург   \n",
       "25         15.00      2.0                      Санкт-Петербург   \n",
       "26          7.00      NaN                      Санкт-Петербург   \n",
       "27          9.20      0.0                      Санкт-Петербург   \n",
       "28         11.70      1.0                               Пушкин   \n",
       "29         11.00      0.0                      Санкт-Петербург   \n",
       "30           NaN      NaN                             Коммунар   \n",
       "31         13.40      2.0                      Санкт-Петербург   \n",
       "32          6.00      0.0                      Санкт-Петербург   \n",
       "33          6.50      NaN                              Колпино   \n",
       "34          8.00      NaN                      Санкт-Петербург   \n",
       "35         17.00      NaN                      Санкт-Петербург   \n",
       "36          6.30      2.0                      Санкт-Петербург   \n",
       "37           NaN      NaN  поселок городского типа Красный Бор   \n",
       "38         11.60      NaN                       посёлок Мурино   \n",
       "39          8.80      2.0                      Санкт-Петербург   \n",
       "40         10.00      2.0                    посёлок Парголово   \n",
       "41         12.00      5.0                      Санкт-Петербург   \n",
       "42         17.60      5.0                             Петергоф   \n",
       "43          7.50      NaN                      Санкт-Петербург   \n",
       "44           NaN      1.0                      Санкт-Петербург   \n",
       "45          7.00      NaN                      Санкт-Петербург   \n",
       "46          8.30      2.0                      Санкт-Петербург   \n",
       "47          5.70      1.0                              Гатчина   \n",
       "48          9.50      NaN                      Санкт-Петербург   \n",
       "49          6.00      NaN                      Санкт-Петербург   \n",
       "\n",
       "    airports_nearest cityCenters_nearest  parks_around3000  parks_nearest  \\\n",
       "0            18863.0             16028.0               1.0          482.0   \n",
       "1            12817.0             18603.0               0.0            NaN   \n",
       "2            21741.0             13933.0               1.0           90.0   \n",
       "3            28098.0              6800.0               2.0           84.0   \n",
       "4            31856.0              8098.0               2.0          112.0   \n",
       "5                NaN                 NaN               NaN            NaN   \n",
       "6            52996.0             19143.0               0.0            NaN   \n",
       "7            23982.0             11634.0               0.0            NaN   \n",
       "8                NaN                 NaN               NaN            NaN   \n",
       "9            50898.0             15008.0               0.0            NaN   \n",
       "10           38357.0             13878.0               1.0          310.0   \n",
       "11           48252.0             51677.0               0.0            NaN   \n",
       "12               NaN                 NaN               NaN            NaN   \n",
       "13           37868.0             33058.0               1.0          294.0   \n",
       "14           20782.0             30759.0               0.0            NaN   \n",
       "15           12900.0             14259.0               1.0          590.0   \n",
       "16           22108.0             10698.0               3.0          420.0   \n",
       "17           33564.0             14616.0               0.0            NaN   \n",
       "18           44060.0             10842.0               1.0          759.0   \n",
       "19           38900.0             12843.0               0.0            NaN   \n",
       "20           53134.0             19311.0               0.0            NaN   \n",
       "21           36064.0              9722.0               1.0          248.0   \n",
       "22               NaN                 NaN               NaN            NaN   \n",
       "23           15414.0             14211.0               2.0          517.0   \n",
       "24           20052.0              2336.0               3.0          411.0   \n",
       "25           34967.0             14640.0               0.0            NaN   \n",
       "26           11580.0             10510.0               0.0            NaN   \n",
       "27           29197.0             11456.0               2.0          452.0   \n",
       "28           18557.0             30710.0               0.0            NaN   \n",
       "29           30394.0             11526.0               1.0          532.0   \n",
       "30               NaN                 NaN               NaN            NaN   \n",
       "31           32888.0             12944.0               0.0            NaN   \n",
       "32           11349.0             12889.0               0.0            NaN   \n",
       "33           26535.0             32321.0               0.0            NaN   \n",
       "34           13943.0             12739.0               0.0            NaN   \n",
       "35           23670.0              3502.0               0.0            NaN   \n",
       "36           49574.0             16461.0               1.0          459.0   \n",
       "37               NaN                 NaN               NaN            NaN   \n",
       "38               NaN                 NaN               NaN            NaN   \n",
       "39           13413.0             12209.0               0.0            NaN   \n",
       "40           52996.0             19143.0               0.0            NaN   \n",
       "41           37715.0             12612.0               1.0          725.0   \n",
       "42           35416.0             30605.0               2.0           47.0   \n",
       "43           15016.0             10822.0               0.0            NaN   \n",
       "44           30471.0             11603.0               1.0          620.0   \n",
       "45           30011.0             12872.0               0.0            NaN   \n",
       "46           15114.0             12702.0               0.0            NaN   \n",
       "47               NaN                 NaN               NaN            NaN   \n",
       "48           21460.0             16788.0               0.0            NaN   \n",
       "49           45341.0             16603.0               1.0          675.0   \n",
       "\n",
       "    ponds_around3000  ponds_nearest  days_exposition  \n",
       "0                2.0          755.0              NaN  \n",
       "1                0.0            NaN             81.0  \n",
       "2                2.0          574.0            558.0  \n",
       "3                3.0          234.0            424.0  \n",
       "4                1.0           48.0            121.0  \n",
       "5                NaN            NaN             55.0  \n",
       "6                0.0            NaN            155.0  \n",
       "7                0.0            NaN              NaN  \n",
       "8                NaN            NaN            189.0  \n",
       "9                0.0            NaN            289.0  \n",
       "10               2.0          553.0            137.0  \n",
       "11               0.0            NaN              7.0  \n",
       "12               NaN            NaN             90.0  \n",
       "13               3.0          298.0            366.0  \n",
       "14               1.0           96.0            203.0  \n",
       "15               1.0          296.0             19.0  \n",
       "16               0.0            NaN            397.0  \n",
       "17               1.0          859.0            571.0  \n",
       "18               0.0            NaN            168.0  \n",
       "19               0.0            NaN             97.0  \n",
       "20               0.0            NaN             74.0  \n",
       "21               0.0            NaN            310.0  \n",
       "22               NaN            NaN             60.0  \n",
       "23               1.0          190.0            615.0  \n",
       "24               3.0          124.0            265.0  \n",
       "25               1.0          564.0            300.0  \n",
       "26               1.0           95.0            265.0  \n",
       "27               1.0          779.0            151.0  \n",
       "28               1.0          118.0             74.0  \n",
       "29               1.0          896.0            125.0  \n",
       "30               NaN            NaN             63.0  \n",
       "31               0.0            NaN            112.0  \n",
       "32               1.0          426.0            224.0  \n",
       "33               0.0            NaN             92.0  \n",
       "34               0.0            NaN             15.0  \n",
       "35               1.0          779.0            644.0  \n",
       "36               0.0            NaN            139.0  \n",
       "37               NaN            NaN            196.0  \n",
       "38               NaN            NaN            103.0  \n",
       "39               1.0         1175.0             29.0  \n",
       "40               0.0            NaN            430.0  \n",
       "41               1.0          759.0            179.0  \n",
       "42               1.0          907.0            987.0  \n",
       "43               1.0          492.0            763.0  \n",
       "44               1.0         1152.0              NaN  \n",
       "45               0.0            NaN              NaN  \n",
       "46               0.0            NaN              NaN  \n",
       "47               NaN            NaN            179.0  \n",
       "48               1.0          170.0            322.0  \n",
       "49               0.0            NaN              NaN  \n",
       "\n",
       "[50 rows x 22 columns]"
      ]
     },
     "execution_count": 3,
     "metadata": {},
     "output_type": "execute_result"
    }
   ],
   "source": [
    "data.head(50)\n",
    "\n",
    "# first_day_exposition - object - должен быть формат datetime\n",
    "# ceiling_height - Есть NaN\n",
    "# floors_total - должен быть формат int. Есть NaN\n",
    "# is_apartment - должен быть формат bool. Есть NaN\n",
    "# living_area - Есть NaN\n",
    "# kitchen_area - Есть NaN\n",
    "# balcony - Есть NaN\n",
    "# locality_name - Есть NaN\n",
    "# airports_nearest - Есть NaN\n",
    "# cityCenters_nearest - Есть NaN\n",
    "# parks_around3000 - формат должен быть int. Есть NaN\n",
    "# parks_nearest - Есть NaN\n",
    "# ponds_around3000 - формат должен быть int. Есть NaN\n",
    "# ponds_nearest - Есть NaN\n",
    "# days_exposition - формат должен быть int. Есть NaN"
   ]
  },
  {
   "cell_type": "markdown",
   "metadata": {},
   "source": [
    "#### Обработаем столбцы с аномалиями"
   ]
  },
  {
   "cell_type": "code",
   "execution_count": 4,
   "metadata": {},
   "outputs": [
    {
     "data": {
      "text/plain": [
       "22590    1.00\n",
       "5712     1.20\n",
       "16934    1.75\n",
       "11352    2.00\n",
       "19329    2.00\n",
       "         ... \n",
       "1026     5.30\n",
       "7578     5.50\n",
       "1388     5.60\n",
       "21227    5.80\n",
       "20264    6.00\n",
       "Name: ceiling_height, Length: 23699, dtype: float64"
      ]
     },
     "execution_count": 4,
     "metadata": {},
     "output_type": "execute_result"
    }
   ],
   "source": [
    "# рассмотрим ceiling_height\n",
    "data['ceiling_height'].head(50)\n",
    "\n",
    "# приведем аномально высокие значения к нормальному виду\n",
    "data.loc[data['ceiling_height'] > 20, 'ceiling_height'] = data.loc[data['ceiling_height'] > 20, 'ceiling_height'] / 10\n",
    "\n",
    "data['ceiling_height'] = data.loc[data['ceiling_height'] < 7, 'ceiling_height']\n",
    "\n",
    "# заменим NaN средним значением\n",
    "data['ceiling_height'] = data['ceiling_height'].fillna(data['ceiling_height'].mean())\n",
    "\n",
    "data['ceiling_height'].sort_values()"
   ]
  },
  {
   "cell_type": "code",
   "execution_count": 5,
   "metadata": {},
   "outputs": [
    {
     "data": {
      "text/plain": [
       "0        16.0\n",
       "1        11.0\n",
       "2         5.0\n",
       "3        14.0\n",
       "4        14.0\n",
       "         ... \n",
       "23694     5.0\n",
       "23695     5.0\n",
       "23696     3.0\n",
       "23697    17.0\n",
       "23698     5.0\n",
       "Name: floors_total, Length: 23699, dtype: float64"
      ]
     },
     "execution_count": 5,
     "metadata": {},
     "output_type": "execute_result"
    }
   ],
   "source": [
    "# рассмотрим floors_total\n",
    "data['floors_total'].head(50)\n",
    "\n",
    "# в floors_total пропущенных значений меньше 1%\n",
    "# мы можем их заменить средним значением: это не повлияет на статистику\n",
    "data['floors_total'] = data['floors_total'].fillna(data['floors_total'].mean())\n",
    "data['floors_total']"
   ]
  },
  {
   "cell_type": "code",
   "execution_count": 6,
   "metadata": {},
   "outputs": [
    {
     "data": {
      "text/plain": [
       "0        False\n",
       "1        False\n",
       "2        False\n",
       "3        False\n",
       "4        False\n",
       "         ...  \n",
       "23694    False\n",
       "23695    False\n",
       "23696    False\n",
       "23697    False\n",
       "23698    False\n",
       "Name: is_apartment, Length: 23699, dtype: bool"
      ]
     },
     "execution_count": 6,
     "metadata": {},
     "output_type": "execute_result"
    }
   ],
   "source": [
    "# рассмотрим is_apartment\n",
    "data['is_apartment'].head(50)\n",
    "\n",
    "# добавим в пустые значения False, так как это булев тип данных\n",
    "data['is_apartment'] = data['is_apartment'].fillna(False)\n",
    "data['is_apartment']"
   ]
  },
  {
   "cell_type": "code",
   "execution_count": 7,
   "metadata": {},
   "outputs": [],
   "source": [
    "# рассмотрим living_area. \n",
    "data['living_area'].head(50)\n",
    "\n",
    "# в living_area пропущенных значений меньше 10%\n",
    "# мы можем их заменить средним значением: это не повлияет на статистику\n",
    "data['living_area'] = data['living_area'].fillna(data['living_area'].mean())"
   ]
  },
  {
   "cell_type": "code",
   "execution_count": 8,
   "metadata": {},
   "outputs": [
    {
     "data": {
      "text/plain": [
       "0     25\n",
       "1     11\n",
       "2      8\n",
       "3     10\n",
       "4     41\n",
       "5      9\n",
       "6     14\n",
       "7     18\n",
       "8      8\n",
       "9      6\n",
       "10     8\n",
       "11     6\n",
       "12     9\n",
       "13     5\n",
       "14     8\n",
       "15     7\n",
       "16     9\n",
       "17    11\n",
       "18     5\n",
       "19    12\n",
       "20    12\n",
       "21     5\n",
       "22    11\n",
       "23     6\n",
       "24    19\n",
       "25    15\n",
       "26     7\n",
       "27     9\n",
       "28    11\n",
       "29    11\n",
       "30    10\n",
       "31    13\n",
       "32     6\n",
       "33     6\n",
       "34     8\n",
       "35    17\n",
       "36     6\n",
       "37    10\n",
       "38    11\n",
       "39     8\n",
       "40    10\n",
       "41    12\n",
       "42    17\n",
       "43     7\n",
       "44    10\n",
       "45     7\n",
       "46     8\n",
       "47     5\n",
       "48     9\n",
       "49     6\n",
       "Name: kitchen_area, dtype: int64"
      ]
     },
     "execution_count": 8,
     "metadata": {},
     "output_type": "execute_result"
    }
   ],
   "source": [
    "# рассмотрим kitchen_area.\n",
    "data['kitchen_area'].head(50)\n",
    "\n",
    "# в kitchen_area пропущенных значений меньше 10%\n",
    "# мы можем их заменить средним значением: это не повлияет на статистику\n",
    "data['kitchen_area'] = data['kitchen_area'].fillna(data['kitchen_area'].mean())\n",
    "\n",
    "# для удобства переведем в формат int\n",
    "data['kitchen_area'] = data['kitchen_area'].astype('int')\n",
    "data['kitchen_area'].head(50)"
   ]
  },
  {
   "cell_type": "code",
   "execution_count": 9,
   "metadata": {},
   "outputs": [],
   "source": [
    "# рассмотрим balcony и заменим пропуски на 0, изменим тип данных на int\n",
    "data['balcony'] = data['balcony'].fillna(0)\n",
    "data['balcony'] = data['balcony'].astype('int')"
   ]
  },
  {
   "cell_type": "code",
   "execution_count": 10,
   "metadata": {},
   "outputs": [
    {
     "data": {
      "text/plain": [
       "0     18863.0\n",
       "1     12817.0\n",
       "2     21741.0\n",
       "3     28098.0\n",
       "4     31856.0\n",
       "5         NaN\n",
       "6     52996.0\n",
       "7     23982.0\n",
       "8         NaN\n",
       "9     50898.0\n",
       "10    38357.0\n",
       "11    48252.0\n",
       "12        NaN\n",
       "13    37868.0\n",
       "14    20782.0\n",
       "15    12900.0\n",
       "16    22108.0\n",
       "17    33564.0\n",
       "18    44060.0\n",
       "19    38900.0\n",
       "20    53134.0\n",
       "21    36064.0\n",
       "22        NaN\n",
       "23    15414.0\n",
       "24    20052.0\n",
       "25    34967.0\n",
       "26    11580.0\n",
       "27    29197.0\n",
       "28    18557.0\n",
       "29    30394.0\n",
       "30        NaN\n",
       "31    32888.0\n",
       "32    11349.0\n",
       "33    26535.0\n",
       "34    13943.0\n",
       "35    23670.0\n",
       "36    49574.0\n",
       "37        NaN\n",
       "38        NaN\n",
       "39    13413.0\n",
       "40    52996.0\n",
       "41    37715.0\n",
       "42    35416.0\n",
       "43    15016.0\n",
       "44    30471.0\n",
       "45    30011.0\n",
       "46    15114.0\n",
       "47        NaN\n",
       "48    21460.0\n",
       "49    45341.0\n",
       "Name: airports_nearest, dtype: float64"
      ]
     },
     "execution_count": 10,
     "metadata": {},
     "output_type": "execute_result"
    }
   ],
   "source": [
    "# рассмотрим airports_nearest. В данном столбце присутствие NaN объясняется отсутствие аэропорта в населенном пункте. \n",
    "# оставляем как есть\n",
    "data['airports_nearest'].head(50)"
   ]
  },
  {
   "cell_type": "code",
   "execution_count": 11,
   "metadata": {},
   "outputs": [
    {
     "data": {
      "text/plain": [
       "array(['Санкт-Петербург', 'Шушары', 'Янино-1', 'Парголово', 'Мурино',\n",
       "       'Ломоносов', 'Сертолово', 'Петергоф', 'Пушкин', 'Кудрово',\n",
       "       'Коммунар', 'Колпино', 'КрасныйБор', 'Гатчина', 'Фёдоровское',\n",
       "       'Выборг', 'Кронштадт', 'Кировск', 'НовоеДевяткино', 'Металлострой',\n",
       "       'Лебяжье', 'Сиверский', 'Молодцово', 'Кузьмоловский',\n",
       "       'садовоетовариществоНоваяРопша', 'Павловск', 'Пикколово',\n",
       "       'Всеволожск', 'Волхов', 'Кингисепп', 'Приозерск', 'Сестрорецк',\n",
       "       'Куттузи', 'Аннино', 'Ефимовский', 'Плодовое', 'Заклинье',\n",
       "       'Торковичи', 'Первомайское', 'КрасноеСело', 'Понтонный',\n",
       "       'Сясьстрой', 'Старая', 'Лесколово', 'НовыйСвет', 'Сланцы',\n",
       "       'Путилово', 'Ивангород', 'Шлиссельбург', 'Никольское',\n",
       "       'Зеленогорск', 'СосновыйБор', 'Оржицы', 'Кальтино', 'Романовка',\n",
       "       'Бугры', 'Рощино', 'Кириши', 'Луга', 'Волосово', 'Отрадное',\n",
       "       'Павлово', 'Оредеж', 'Копорье', 'Молодёжное', 'Тихвин', 'Победа',\n",
       "       'Нурма', 'Синявино', 'Тосно', 'Стрельна', 'Бокситогорск',\n",
       "       'Александровская', 'Лопухинка', 'Пикалёво', 'Терволово',\n",
       "       'Советский', 'Подпорожье', 'Петровское', 'Токсово', 'Сельцо',\n",
       "       'Вырица', 'Кипень', 'Келози', 'Вартемяги', 'Тельмана',\n",
       "       'Севастьяново', 'БольшаяИжора', nan, 'Агалатово', 'Новогорелово',\n",
       "       'Лесогорский', 'Лаголово', 'Цвелодубово', 'Рахья', 'Белогорка',\n",
       "       'Заводской', 'Новоселье', 'БольшиеКолпаны', 'Горбунки', 'Батово',\n",
       "       'Заневка', 'Иссад', 'Приморск', 'Мистолово', 'НоваяЛадога',\n",
       "       'Зимитицы', 'Барышево', 'Разметелево', 'имениСвердлова', 'Пеники',\n",
       "       'Рябово', 'Пудомяги', 'станцииКорнево', 'Низино', 'Бегуницы',\n",
       "       'Поляны', 'Мга', 'Елизаветино', 'Кузнечное', 'Колтуши',\n",
       "       'Запорожское', 'Гостилицы', 'МалоеКарлино', 'Мичуринское',\n",
       "       'имениМорозова', 'Песочный', 'Сосново', 'Аро', 'Ильичёво', 'Тайцы',\n",
       "       'МалоеВерево', 'Извара', 'станцииВещево', 'Паша', 'Калитино',\n",
       "       'Ульяновка', 'ЧудскойБор', 'Дубровка', 'Мины', 'Войсковицы',\n",
       "       'Коркино', 'Ропша', 'Приладожский', 'Щеглово', 'Гаврилово',\n",
       "       'ЛодейноеПоле', 'Рабитицы', 'Никольский', 'Кузьмолово',\n",
       "       'МалыеКолпаны', 'Петро-Славянка', 'Назия', 'Репино', 'Углово',\n",
       "       'СтараяМалукса', 'садовоетовариществоРахья', 'Меньково',\n",
       "       'СтарыеБегуницы', 'Сапёрный', 'Семрино', 'Глажево', 'Кобринское',\n",
       "       'Гарболово', 'Юкки', 'станцииПриветнинское', 'Мануйлово', 'Пчева',\n",
       "       'Цвылёво', 'Мельниково', 'Пудость', 'Усть-Луга', 'Светогорск',\n",
       "       'Любань', 'Селезнёво', 'Каменногорск', 'Кривко', 'Глебычево',\n",
       "       'Парицы', 'Жил', 'Войскорово', 'Стеклянный', 'Важины',\n",
       "       'Мыза-Ивановка', 'Русско-Высоцкое', 'Форносово', 'СтараяЛадога',\n",
       "       'Житково', 'Виллози', 'Лампово', 'Шпаньково', 'Лаврики', 'Сумино',\n",
       "       'Возрождение', 'Старосиверская', 'Кикерино', 'СтароеХинколово',\n",
       "       'Пригородный', 'Торфяное', 'Будогощь', 'Суходолье',\n",
       "       'КраснаяДолина', 'Хапо-Ое', 'ДружнаяГорка', 'ЛисийНос',\n",
       "       'Яльгелево', 'Рождествено', 'Старополье', 'Левашово', 'Сяськелево',\n",
       "       'Камышовка', 'садоводческоенекоммерческоетовариществоЛеснаяПоляна',\n",
       "       'Хязельки', 'Жилгородок', 'Ялгино', 'НовыйУчхоз', 'Гончарово',\n",
       "       'Почап', 'Сапёрное', 'Платформа69-йкилометр', 'Каложицы',\n",
       "       'Фалилеево', 'Пельгора', 'Торошковичи', 'Белоостров', 'Алексеевка',\n",
       "       'Серебрянский', 'Лукаши', 'Тарасово', 'Кингисеппский',\n",
       "       'прижелезнодорожнойстанцииВещево', 'Ушаки', 'Котлы', 'Сижно',\n",
       "       'Торосово', 'ФортКраснаяГорка', 'Новолисино', 'станцииГромово',\n",
       "       'Глинка', 'СтараяПустошь', 'Коммунары', 'Починок', 'Вознесенье',\n",
       "       'Разбегаево', 'Гладкое', 'прижелезнодорожнойстанцииПриветнинское',\n",
       "       'Тёсово-4', 'Бор', 'Коробицыно', 'БольшаяВруда', 'Курковицы',\n",
       "       'Кобралово', 'Суоранда', 'Кондратьево', 'коттеджныйСчастье',\n",
       "       'Реброво', 'Тойворово', 'Семиозерье', 'Лесное', 'Совхозный',\n",
       "       'Ленинское', 'Суйда', 'НижниеОсельки', 'станцииСвирь', 'Перово',\n",
       "       'Высоцк', 'Шум', 'Котельский', 'станцииЛужайка',\n",
       "       'БольшаяПустомержа', 'Красносельское', 'ВахноваКара', 'Пижма',\n",
       "       'коттеджныйКивеннапаСевер', 'Ромашки', 'Каськово', 'Куровицы',\n",
       "       'Плоское', 'Кирпичное', 'Ям-Тесово', 'Раздолье', 'Терпилицы',\n",
       "       'Шугозеро', 'Ваганово', 'Пушное', 'садовоетовариществоСадко',\n",
       "       'Усть-Ижора', 'Выскатка', 'Свирьстрой', 'Громово', 'Кисельня',\n",
       "       'ТрубниковБор', 'Высокоключевой',\n",
       "       'садовоетовариществоПриладожский', 'ПансионатЗелёныйБор',\n",
       "       'Ненимяки', 'Снегирёвка', 'Рапполово', 'Пустынка', 'БольшойСабск',\n",
       "       'Русско', 'Лупполово', 'БольшоеРейзино', 'МалаяРомановка',\n",
       "       'Дружноселье', 'Пчевжа', 'Володарское', 'Нижняя',\n",
       "       'коттеджныйЛесное', 'Тихковицы', 'БорисоваГрива', 'Дзержинского'],\n",
       "      dtype=object)"
      ]
     },
     "execution_count": 11,
     "metadata": {},
     "output_type": "execute_result"
    }
   ],
   "source": [
    "# рассмотрим locality_name на предмет явных и неявных дубликатов\n",
    "data['locality_name'].unique()\n",
    "\n",
    "# с помощью replace удалим все, кроме имен собственных, это поможет избавиться от неявных дубликатов\n",
    "data['locality_name'] = data['locality_name'].replace('посёлок|деревня|село|городской|типа|пок|городского|поселок','', regex=True)\n",
    "\n",
    "# после удаления дубликатов остались пробелы. Удалим их также с помощью replace\n",
    "data['locality_name'] = data['locality_name'].str.replace(\" \", \"\")\n",
    "\n",
    "# replace удалил лишние пробелы в названиях из нескольких слов. \n",
    "# для решения поставленных задач это не страшно, поэтому оставим как есть.\n",
    "data['locality_name'].unique()"
   ]
  },
  {
   "cell_type": "code",
   "execution_count": 12,
   "metadata": {},
   "outputs": [
    {
     "data": {
      "text/plain": [
       "0     16028.0\n",
       "1     18603.0\n",
       "2     13933.0\n",
       "3      6800.0\n",
       "4      8098.0\n",
       "5         NaN\n",
       "6     19143.0\n",
       "7     11634.0\n",
       "8         NaN\n",
       "9     15008.0\n",
       "10    13878.0\n",
       "11    51677.0\n",
       "12        NaN\n",
       "13    33058.0\n",
       "14    30759.0\n",
       "15    14259.0\n",
       "16    10698.0\n",
       "17    14616.0\n",
       "18    10842.0\n",
       "19    12843.0\n",
       "20    19311.0\n",
       "21     9722.0\n",
       "22        NaN\n",
       "23    14211.0\n",
       "24     2336.0\n",
       "25    14640.0\n",
       "26    10510.0\n",
       "27    11456.0\n",
       "28    30710.0\n",
       "29    11526.0\n",
       "30        NaN\n",
       "31    12944.0\n",
       "32    12889.0\n",
       "33    32321.0\n",
       "34    12739.0\n",
       "35     3502.0\n",
       "36    16461.0\n",
       "37        NaN\n",
       "38        NaN\n",
       "39    12209.0\n",
       "40    19143.0\n",
       "41    12612.0\n",
       "42    30605.0\n",
       "43    10822.0\n",
       "44    11603.0\n",
       "45    12872.0\n",
       "46    12702.0\n",
       "47        NaN\n",
       "48    16788.0\n",
       "49    16603.0\n",
       "Name: cityCenters_nearest, dtype: float64"
      ]
     },
     "execution_count": 12,
     "metadata": {},
     "output_type": "execute_result"
    }
   ],
   "source": [
    "# рассмотрим cityCenters_nearest. В данном столбце мы ничего не можем сделать с пропущенными значениями. Оставляем как есть.\n",
    "data['cityCenters_nearest'].head(50)"
   ]
  },
  {
   "cell_type": "code",
   "execution_count": 13,
   "metadata": {},
   "outputs": [],
   "source": [
    "# рассмотрим parks_around3000\n",
    "data['parks_around3000'].head(50)\n",
    "\n",
    "# заменим пропуски в parks_around3000 на 0 и изменим тип данных на int\n",
    "data['parks_around3000'] = data['parks_around3000'].fillna(0)\n",
    "data['parks_around3000'] = data['parks_around3000'].astype('int')\n"
   ]
  },
  {
   "cell_type": "code",
   "execution_count": 14,
   "metadata": {},
   "outputs": [
    {
     "data": {
      "text/plain": [
       "0     482.0\n",
       "1       NaN\n",
       "2      90.0\n",
       "3      84.0\n",
       "4     112.0\n",
       "5       NaN\n",
       "6       NaN\n",
       "7       NaN\n",
       "8       NaN\n",
       "9       NaN\n",
       "10    310.0\n",
       "11      NaN\n",
       "12      NaN\n",
       "13    294.0\n",
       "14      NaN\n",
       "15    590.0\n",
       "16    420.0\n",
       "17      NaN\n",
       "18    759.0\n",
       "19      NaN\n",
       "20      NaN\n",
       "21    248.0\n",
       "22      NaN\n",
       "23    517.0\n",
       "24    411.0\n",
       "25      NaN\n",
       "26      NaN\n",
       "27    452.0\n",
       "28      NaN\n",
       "29    532.0\n",
       "30      NaN\n",
       "31      NaN\n",
       "32      NaN\n",
       "33      NaN\n",
       "34      NaN\n",
       "35      NaN\n",
       "36    459.0\n",
       "37      NaN\n",
       "38      NaN\n",
       "39      NaN\n",
       "40      NaN\n",
       "41    725.0\n",
       "42     47.0\n",
       "43      NaN\n",
       "44    620.0\n",
       "45      NaN\n",
       "46      NaN\n",
       "47      NaN\n",
       "48      NaN\n",
       "49    675.0\n",
       "Name: parks_nearest, dtype: float64"
      ]
     },
     "execution_count": 14,
     "metadata": {},
     "output_type": "execute_result"
    }
   ],
   "source": [
    "# рассмотрим parks_nearest. Присутствие NaN объясняется отсутствием парков рядом. \n",
    "# здесь ничего не трогаем, так как это не булево значение, и добавить False вместо NaN не получится.\n",
    "data['parks_nearest'].head(50)"
   ]
  },
  {
   "cell_type": "code",
   "execution_count": 15,
   "metadata": {},
   "outputs": [],
   "source": [
    "# рассмотрим ponds_around3000\n",
    "data['ponds_around3000'].head(50)\n",
    "\n",
    "# заменим пропуски в ponds_around3000 на 0 и изменим тип данных на int\n",
    "data['ponds_around3000'] = data['ponds_around3000'].fillna(0)\n",
    "data['ponds_around3000'] = data['ponds_around3000'].astype('int')"
   ]
  },
  {
   "cell_type": "code",
   "execution_count": 16,
   "metadata": {},
   "outputs": [
    {
     "data": {
      "text/plain": [
       "0      755.0\n",
       "1        NaN\n",
       "2      574.0\n",
       "3      234.0\n",
       "4       48.0\n",
       "5        NaN\n",
       "6        NaN\n",
       "7        NaN\n",
       "8        NaN\n",
       "9        NaN\n",
       "10     553.0\n",
       "11       NaN\n",
       "12       NaN\n",
       "13     298.0\n",
       "14      96.0\n",
       "15     296.0\n",
       "16       NaN\n",
       "17     859.0\n",
       "18       NaN\n",
       "19       NaN\n",
       "20       NaN\n",
       "21       NaN\n",
       "22       NaN\n",
       "23     190.0\n",
       "24     124.0\n",
       "25     564.0\n",
       "26      95.0\n",
       "27     779.0\n",
       "28     118.0\n",
       "29     896.0\n",
       "30       NaN\n",
       "31       NaN\n",
       "32     426.0\n",
       "33       NaN\n",
       "34       NaN\n",
       "35     779.0\n",
       "36       NaN\n",
       "37       NaN\n",
       "38       NaN\n",
       "39    1175.0\n",
       "40       NaN\n",
       "41     759.0\n",
       "42     907.0\n",
       "43     492.0\n",
       "44    1152.0\n",
       "45       NaN\n",
       "46       NaN\n",
       "47       NaN\n",
       "48     170.0\n",
       "49       NaN\n",
       "Name: ponds_nearest, dtype: float64"
      ]
     },
     "execution_count": 16,
     "metadata": {},
     "output_type": "execute_result"
    }
   ],
   "source": [
    "# рассмотрим ponds_nearest. Присутствие NaN объясняется отсутствием парков рядом.\n",
    "# פдесь ничего не трогаем, так как это не булево значение, и добавить False вместо NaN не получится.\n",
    "data['ponds_nearest'].head(50)"
   ]
  },
  {
   "cell_type": "code",
   "execution_count": 17,
   "metadata": {
    "scrolled": true
   },
   "outputs": [
    {
     "data": {
      "text/plain": [
       "0       NaN\n",
       "1      81.0\n",
       "2     558.0\n",
       "3     424.0\n",
       "4     121.0\n",
       "5      55.0\n",
       "6     155.0\n",
       "7       NaN\n",
       "8     189.0\n",
       "9     289.0\n",
       "10    137.0\n",
       "11      7.0\n",
       "12     90.0\n",
       "13    366.0\n",
       "14    203.0\n",
       "15     19.0\n",
       "16    397.0\n",
       "17    571.0\n",
       "18    168.0\n",
       "19     97.0\n",
       "20     74.0\n",
       "21    310.0\n",
       "22     60.0\n",
       "23    615.0\n",
       "24    265.0\n",
       "25    300.0\n",
       "26    265.0\n",
       "27    151.0\n",
       "28     74.0\n",
       "29    125.0\n",
       "30     63.0\n",
       "31    112.0\n",
       "32    224.0\n",
       "33     92.0\n",
       "34     15.0\n",
       "35    644.0\n",
       "36    139.0\n",
       "37    196.0\n",
       "38    103.0\n",
       "39     29.0\n",
       "40    430.0\n",
       "41    179.0\n",
       "42    987.0\n",
       "43    763.0\n",
       "44      NaN\n",
       "45      NaN\n",
       "46      NaN\n",
       "47    179.0\n",
       "48    322.0\n",
       "49      NaN\n",
       "Name: days_exposition, dtype: float64"
      ]
     },
     "execution_count": 17,
     "metadata": {},
     "output_type": "execute_result"
    }
   ],
   "source": [
    "# рассмотрим days_exposition. NaN присутствует, потому что, возможно, объявление продолжает размещаться.\n",
    "# оставляем как есть\n",
    "data['days_exposition'].head(50)"
   ]
  },
  {
   "cell_type": "code",
   "execution_count": 18,
   "metadata": {},
   "outputs": [],
   "source": [
    "# переведем столбец с датой в формат даты без времени, т.к. время не указано\n",
    "data['first_day_exposition'] = pd.to_datetime(data['first_day_exposition'], format = '%Y-%m-%d')\n",
    "\n"
   ]
  },
  {
   "cell_type": "code",
   "execution_count": 19,
   "metadata": {},
   "outputs": [
    {
     "data": {
      "text/plain": [
       "0        20\n",
       "1         7\n",
       "2        10\n",
       "3         0\n",
       "4         2\n",
       "         ..\n",
       "23694     9\n",
       "23695    14\n",
       "23696    18\n",
       "23697    13\n",
       "23698     4\n",
       "Name: total_images, Length: 23699, dtype: int64"
      ]
     },
     "execution_count": 19,
     "metadata": {},
     "output_type": "execute_result"
    }
   ],
   "source": [
    "# total_images не понадобится для анализа\n",
    "data['total_images']\n",
    "\n",
    "\n"
   ]
  },
  {
   "cell_type": "code",
   "execution_count": 20,
   "metadata": {},
   "outputs": [
    {
     "data": {
      "image/png": "[encoded data removed]",
      "text/plain": [
       "<Figure size 360x360 with 1 Axes>"
      ]
     },
     "metadata": {
      "needs_background": "light"
     },
     "output_type": "display_data"
    }
   ],
   "source": [
    "# приведем last_price в формат int\n",
    "data['last_price'] = data['last_price'].astype('int')\n",
    "\n",
    "# с помощью сводной таблицы и графика определили, что есть аномально высокие значения. \n",
    "#addiction_last_price = data.pivot_table(\n",
    "    #index = 'last_price', values = 'living_area', \n",
    "    #aggfunc = ['mean', 'count', 'median']).plot(grid=True, y = 'median', style = 'o', figsize=(5, 5))\n",
    "\n",
    "# приведем аномально высокие значения к нормальному виду\n",
    "data['last_price'] = data.loc[data['last_price'] < 10000000, 'last_price'] \n",
    "\n",
    "\n",
    "# заменим NaN средним значением\n",
    "data['last_price'] = data['last_price'].fillna(data['last_price'].mean())\n",
    "\n",
    "data['last_price'].sort_values()\n",
    "\n",
    "# построим график заново\n",
    "addiction_last_price = data.pivot_table(\n",
    "    index = 'last_price', values = 'living_area', \n",
    "    aggfunc = ['mean', 'count', 'median']).plot(grid=True, y = 'median', style = 'o', figsize=(5, 5))"
   ]
  },
  {
   "cell_type": "code",
   "execution_count": 21,
   "metadata": {},
   "outputs": [
    {
     "data": {
      "image/png": "[encoded data removed]",
      "text/plain": [
       "<Figure size 360x360 with 1 Axes>"
      ]
     },
     "metadata": {
      "needs_background": "light"
     },
     "output_type": "display_data"
    },
    {
     "data": {
      "image/png": "[encoded data removed]",
      "text/plain": [
       "<Figure size 360x360 with 1 Axes>"
      ]
     },
     "metadata": {
      "needs_background": "light"
     },
     "output_type": "display_data"
    }
   ],
   "source": [
    "# рассмотрим total_area. \n",
    "data['total_area'].head(50)\n",
    "\n",
    "# приведем в формат int\n",
    "data['total_area'] = data['total_area'].astype('int')\n",
    "\n",
    "addiction_total_area = data.pivot_table(\n",
    "    index = 'total_area', values = 'living_area', \n",
    "    aggfunc = ['mean', 'count', 'median']).plot(grid=True, y = 'median', style = 'o', figsize=(5, 5))\n",
    "\n",
    "# приведем аномально высокие значения к нормальному виду\n",
    "data['total_area'] = data.loc[data['total_area'] < 600, 'total_area'] \n",
    "\n",
    "# заменим NaN средним значением\n",
    "data['total_area'] = data['total_area'].fillna(data['total_area'].mean())\n",
    "\n",
    "data['total_area'].sort_values()\n",
    "\n",
    "# построим график заново\n",
    "addiction_total_area = data.pivot_table(\n",
    "    index = 'total_area', values = 'living_area', \n",
    "    aggfunc = ['mean', 'count', 'median']).plot(grid=True, y = 'median', style = 'o', figsize=(5, 5))"
   ]
  },
  {
   "cell_type": "code",
   "execution_count": 22,
   "metadata": {},
   "outputs": [
    {
     "data": {
      "image/png": "[encoded data removed]",
      "text/plain": [
       "<Figure size 360x360 with 1 Axes>"
      ]
     },
     "metadata": {
      "needs_background": "light"
     },
     "output_type": "display_data"
    }
   ],
   "source": [
    "# рассмотрим rooms. \n",
    "data['rooms'].head(50)\n",
    "\n",
    "# с помощью sort_values выяснили, что есть необычно большое количество комнат. Будем иметь это ввиду.\n",
    "data['rooms'].sort_values(ascending=False).head(30)\n",
    "\n",
    "#addiction_rooms = data.pivot_table(\n",
    "    #index = 'rooms', values = 'living_area', \n",
    "    #aggfunc = ['mean', 'count', 'median']).plot(grid=True, y = 'median', style = 'o', figsize=(5, 5))\n",
    "\n",
    "# приведем аномально высокие значения к нормальному виду\n",
    "data['rooms'] = data.loc[data['rooms'] < 11, 'total_area'] \n",
    "\n",
    "# заменим NaN средним значением\n",
    "data['rooms'] = data['rooms'].fillna(data['rooms'].mean())\n",
    "\n",
    "data['rooms'].sort_values()\n",
    "\n",
    "# построим график заново\n",
    "addiction_rooms = data.pivot_table(index = 'rooms', values = 'living_area', \n",
    "    aggfunc = ['mean', 'count', 'median']).plot(grid=True, y = 'median', style = 'o', figsize=(5, 5))"
   ]
  },
  {
   "cell_type": "code",
   "execution_count": 23,
   "metadata": {},
   "outputs": [
    {
     "data": {
      "text/plain": [
       "0      8\n",
       "1      1\n",
       "2      4\n",
       "3      9\n",
       "4     13\n",
       "5      5\n",
       "6      6\n",
       "7     22\n",
       "8     26\n",
       "9      7\n",
       "10     3\n",
       "11     4\n",
       "12     5\n",
       "13     5\n",
       "14     1\n",
       "15     5\n",
       "16     1\n",
       "17     7\n",
       "18     2\n",
       "19     8\n",
       "20    11\n",
       "21     2\n",
       "22    15\n",
       "23     9\n",
       "24     1\n",
       "25    18\n",
       "26     4\n",
       "27    11\n",
       "28     1\n",
       "29    15\n",
       "30     2\n",
       "31     4\n",
       "32     4\n",
       "33     5\n",
       "34     3\n",
       "35     4\n",
       "36     9\n",
       "37     1\n",
       "38     9\n",
       "39     2\n",
       "40    22\n",
       "41     8\n",
       "42     2\n",
       "43     4\n",
       "44     3\n",
       "45     7\n",
       "46     9\n",
       "47     3\n",
       "48     6\n",
       "49     7\n",
       "Name: floor, dtype: int64"
      ]
     },
     "execution_count": 23,
     "metadata": {},
     "output_type": "execute_result"
    }
   ],
   "source": [
    "# рассмотрим floor . Оставляем без изменений\n",
    "data['floor'].head(50)\n",
    "\n"
   ]
  },
  {
   "cell_type": "code",
   "execution_count": 24,
   "metadata": {},
   "outputs": [
    {
     "data": {
      "text/plain": [
       "array([False,  True])"
      ]
     },
     "execution_count": 24,
     "metadata": {},
     "output_type": "execute_result"
    }
   ],
   "source": [
    "# рассмотрим studio . Оставляем без изменений\n",
    "data['studio'].unique() \n",
    "\n"
   ]
  },
  {
   "cell_type": "code",
   "execution_count": 25,
   "metadata": {},
   "outputs": [
    {
     "data": {
      "text/plain": [
       "array([False,  True])"
      ]
     },
     "execution_count": 25,
     "metadata": {},
     "output_type": "execute_result"
    }
   ],
   "source": [
    "# рассмотрим open_plan . Оставляем без изменений\n",
    "data['open_plan'].unique() "
   ]
  },
  {
   "cell_type": "code",
   "execution_count": 26,
   "metadata": {},
   "outputs": [
    {
     "name": "stdout",
     "output_type": "stream",
     "text": [
      "<class 'pandas.core.frame.DataFrame'>\n",
      "RangeIndex: 23699 entries, 0 to 23698\n",
      "Data columns (total 22 columns):\n",
      " #   Column                Non-Null Count  Dtype         \n",
      "---  ------                --------------  -----         \n",
      " 0   total_images          23699 non-null  int64         \n",
      " 1   last_price            23699 non-null  float64       \n",
      " 2   total_area            23699 non-null  float64       \n",
      " 3   first_day_exposition  23699 non-null  datetime64[ns]\n",
      " 4   rooms                 23699 non-null  float64       \n",
      " 5   ceiling_height        23699 non-null  float64       \n",
      " 6   floors_total          23699 non-null  float64       \n",
      " 7   living_area           23699 non-null  float64       \n",
      " 8   floor                 23699 non-null  int64         \n",
      " 9   is_apartment          23699 non-null  bool          \n",
      " 10  studio                23699 non-null  bool          \n",
      " 11  open_plan             23699 non-null  bool          \n",
      " 12  kitchen_area          23699 non-null  int64         \n",
      " 13  balcony               23699 non-null  int64         \n",
      " 14  locality_name         23650 non-null  object        \n",
      " 15  airports_nearest      18157 non-null  float64       \n",
      " 16  cityCenters_nearest   18180 non-null  float64       \n",
      " 17  parks_around3000      23699 non-null  int64         \n",
      " 18  parks_nearest         8079 non-null   float64       \n",
      " 19  ponds_around3000      23699 non-null  int64         \n",
      " 20  ponds_nearest         9110 non-null   float64       \n",
      " 21  days_exposition       20518 non-null  float64       \n",
      "dtypes: bool(3), datetime64[ns](1), float64(11), int64(6), object(1)\n",
      "memory usage: 3.5+ MB\n"
     ]
    }
   ],
   "source": [
    "# проверим, как мы обработали данные\n",
    "data.info()"
   ]
  },
  {
   "cell_type": "markdown",
   "metadata": {},
   "source": [
    "### Посчитаем и добавим в таблицу новые столбцы"
   ]
  },
  {
   "cell_type": "code",
   "execution_count": 27,
   "metadata": {},
   "outputs": [
    {
     "data": {
      "text/html": [
       "<div>\n",
       "<style scoped>\n",
       "    .dataframe tbody tr th:only-of-type {\n",
       "        vertical-align: middle;\n",
       "    }\n",
       "\n",
       "    .dataframe tbody tr th {\n",
       "        vertical-align: top;\n",
       "    }\n",
       "\n",
       "    .dataframe thead th {\n",
       "        text-align: right;\n",
       "    }\n",
       "</style>\n",
       "<table border=\"1\" class=\"dataframe\">\n",
       "  <thead>\n",
       "    <tr style=\"text-align: right;\">\n",
       "      <th></th>\n",
       "      <th>total_images</th>\n",
       "      <th>last_price</th>\n",
       "      <th>total_area</th>\n",
       "      <th>rooms</th>\n",
       "      <th>ceiling_height</th>\n",
       "      <th>floors_total</th>\n",
       "      <th>living_area</th>\n",
       "      <th>floor</th>\n",
       "      <th>kitchen_area</th>\n",
       "      <th>balcony</th>\n",
       "      <th>...</th>\n",
       "      <th>parks_around3000</th>\n",
       "      <th>parks_nearest</th>\n",
       "      <th>ponds_around3000</th>\n",
       "      <th>ponds_nearest</th>\n",
       "      <th>days_exposition</th>\n",
       "      <th>price_per_square_meter</th>\n",
       "      <th>weekday_exposition</th>\n",
       "      <th>month_exposition</th>\n",
       "      <th>year_exposition</th>\n",
       "      <th>cityCenters_nearest_km</th>\n",
       "    </tr>\n",
       "  </thead>\n",
       "  <tbody>\n",
       "    <tr>\n",
       "      <th>count</th>\n",
       "      <td>23699.000000</td>\n",
       "      <td>2.369900e+04</td>\n",
       "      <td>23699.000000</td>\n",
       "      <td>23699.000000</td>\n",
       "      <td>23699.000000</td>\n",
       "      <td>23699.000000</td>\n",
       "      <td>23699.000000</td>\n",
       "      <td>23699.000000</td>\n",
       "      <td>23699.000000</td>\n",
       "      <td>23699.000000</td>\n",
       "      <td>...</td>\n",
       "      <td>23699.000000</td>\n",
       "      <td>8079.000000</td>\n",
       "      <td>23699.000000</td>\n",
       "      <td>9110.000000</td>\n",
       "      <td>20518.000000</td>\n",
       "      <td>23699.000000</td>\n",
       "      <td>23699.000000</td>\n",
       "      <td>23699.000000</td>\n",
       "      <td>23699.000000</td>\n",
       "      <td>18180.000000</td>\n",
       "    </tr>\n",
       "    <tr>\n",
       "      <th>mean</th>\n",
       "      <td>9.858475</td>\n",
       "      <td>4.633430e+06</td>\n",
       "      <td>60.013336</td>\n",
       "      <td>59.937404</td>\n",
       "      <td>2.726382</td>\n",
       "      <td>10.673824</td>\n",
       "      <td>34.457852</td>\n",
       "      <td>5.892358</td>\n",
       "      <td>10.290476</td>\n",
       "      <td>0.591080</td>\n",
       "      <td>...</td>\n",
       "      <td>0.469049</td>\n",
       "      <td>490.804555</td>\n",
       "      <td>0.590911</td>\n",
       "      <td>517.980900</td>\n",
       "      <td>180.888634</td>\n",
       "      <td>85646.245200</td>\n",
       "      <td>2.569307</td>\n",
       "      <td>6.400101</td>\n",
       "      <td>2017.367146</td>\n",
       "      <td>14.184818</td>\n",
       "    </tr>\n",
       "    <tr>\n",
       "      <th>std</th>\n",
       "      <td>5.682529</td>\n",
       "      <td>1.830420e+06</td>\n",
       "      <td>34.664613</td>\n",
       "      <td>34.308052</td>\n",
       "      <td>0.218508</td>\n",
       "      <td>6.585192</td>\n",
       "      <td>21.127391</td>\n",
       "      <td>4.885249</td>\n",
       "      <td>5.626473</td>\n",
       "      <td>0.959298</td>\n",
       "      <td>...</td>\n",
       "      <td>0.748534</td>\n",
       "      <td>342.317995</td>\n",
       "      <td>0.883999</td>\n",
       "      <td>277.720643</td>\n",
       "      <td>219.727988</td>\n",
       "      <td>31610.408424</td>\n",
       "      <td>1.789082</td>\n",
       "      <td>3.491561</td>\n",
       "      <td>1.039771</td>\n",
       "      <td>8.616194</td>\n",
       "    </tr>\n",
       "    <tr>\n",
       "      <th>min</th>\n",
       "      <td>0.000000</td>\n",
       "      <td>1.219000e+04</td>\n",
       "      <td>12.000000</td>\n",
       "      <td>12.000000</td>\n",
       "      <td>1.000000</td>\n",
       "      <td>1.000000</td>\n",
       "      <td>2.000000</td>\n",
       "      <td>1.000000</td>\n",
       "      <td>1.000000</td>\n",
       "      <td>0.000000</td>\n",
       "      <td>...</td>\n",
       "      <td>0.000000</td>\n",
       "      <td>1.000000</td>\n",
       "      <td>0.000000</td>\n",
       "      <td>13.000000</td>\n",
       "      <td>1.000000</td>\n",
       "      <td>111.000000</td>\n",
       "      <td>0.000000</td>\n",
       "      <td>1.000000</td>\n",
       "      <td>2014.000000</td>\n",
       "      <td>0.000000</td>\n",
       "    </tr>\n",
       "    <tr>\n",
       "      <th>25%</th>\n",
       "      <td>6.000000</td>\n",
       "      <td>3.400000e+06</td>\n",
       "      <td>40.000000</td>\n",
       "      <td>40.000000</td>\n",
       "      <td>2.600000</td>\n",
       "      <td>5.000000</td>\n",
       "      <td>19.000000</td>\n",
       "      <td>2.000000</td>\n",
       "      <td>7.000000</td>\n",
       "      <td>0.000000</td>\n",
       "      <td>...</td>\n",
       "      <td>0.000000</td>\n",
       "      <td>288.000000</td>\n",
       "      <td>0.000000</td>\n",
       "      <td>294.000000</td>\n",
       "      <td>45.000000</td>\n",
       "      <td>64285.000000</td>\n",
       "      <td>1.000000</td>\n",
       "      <td>3.000000</td>\n",
       "      <td>2017.000000</td>\n",
       "      <td>9.000000</td>\n",
       "    </tr>\n",
       "    <tr>\n",
       "      <th>50%</th>\n",
       "      <td>9.000000</td>\n",
       "      <td>4.633430e+06</td>\n",
       "      <td>52.000000</td>\n",
       "      <td>52.000000</td>\n",
       "      <td>2.726382</td>\n",
       "      <td>9.000000</td>\n",
       "      <td>31.100000</td>\n",
       "      <td>4.000000</td>\n",
       "      <td>10.000000</td>\n",
       "      <td>0.000000</td>\n",
       "      <td>...</td>\n",
       "      <td>0.000000</td>\n",
       "      <td>455.000000</td>\n",
       "      <td>0.000000</td>\n",
       "      <td>502.000000</td>\n",
       "      <td>95.000000</td>\n",
       "      <td>88000.000000</td>\n",
       "      <td>3.000000</td>\n",
       "      <td>6.000000</td>\n",
       "      <td>2017.000000</td>\n",
       "      <td>13.000000</td>\n",
       "    </tr>\n",
       "    <tr>\n",
       "      <th>75%</th>\n",
       "      <td>14.000000</td>\n",
       "      <td>5.500000e+06</td>\n",
       "      <td>69.000000</td>\n",
       "      <td>69.000000</td>\n",
       "      <td>2.726382</td>\n",
       "      <td>16.000000</td>\n",
       "      <td>41.100000</td>\n",
       "      <td>8.000000</td>\n",
       "      <td>11.000000</td>\n",
       "      <td>1.000000</td>\n",
       "      <td>...</td>\n",
       "      <td>1.000000</td>\n",
       "      <td>612.000000</td>\n",
       "      <td>1.000000</td>\n",
       "      <td>729.000000</td>\n",
       "      <td>232.000000</td>\n",
       "      <td>105769.000000</td>\n",
       "      <td>4.000000</td>\n",
       "      <td>10.000000</td>\n",
       "      <td>2018.000000</td>\n",
       "      <td>16.000000</td>\n",
       "    </tr>\n",
       "    <tr>\n",
       "      <th>max</th>\n",
       "      <td>50.000000</td>\n",
       "      <td>9.999999e+06</td>\n",
       "      <td>590.000000</td>\n",
       "      <td>517.000000</td>\n",
       "      <td>6.000000</td>\n",
       "      <td>60.000000</td>\n",
       "      <td>409.700000</td>\n",
       "      <td>33.000000</td>\n",
       "      <td>112.000000</td>\n",
       "      <td>5.000000</td>\n",
       "      <td>...</td>\n",
       "      <td>3.000000</td>\n",
       "      <td>3190.000000</td>\n",
       "      <td>3.000000</td>\n",
       "      <td>1344.000000</td>\n",
       "      <td>1580.000000</td>\n",
       "      <td>312240.000000</td>\n",
       "      <td>6.000000</td>\n",
       "      <td>12.000000</td>\n",
       "      <td>2019.000000</td>\n",
       "      <td>66.000000</td>\n",
       "    </tr>\n",
       "  </tbody>\n",
       "</table>\n",
       "<p>8 rows × 22 columns</p>\n",
       "</div>"
      ],
      "text/plain": [
       "       total_images    last_price    total_area         rooms  ceiling_height  \\\n",
       "count  23699.000000  2.369900e+04  23699.000000  23699.000000    23699.000000   \n",
       "mean       9.858475  4.633430e+06     60.013336     59.937404        2.726382   \n",
       "std        5.682529  1.830420e+06     34.664613     34.308052        0.218508   \n",
       "min        0.000000  1.219000e+04     12.000000     12.000000        1.000000   \n",
       "25%        6.000000  3.400000e+06     40.000000     40.000000        2.600000   \n",
       "50%        9.000000  4.633430e+06     52.000000     52.000000        2.726382   \n",
       "75%       14.000000  5.500000e+06     69.000000     69.000000        2.726382   \n",
       "max       50.000000  9.999999e+06    590.000000    517.000000        6.000000   \n",
       "\n",
       "       floors_total   living_area         floor  kitchen_area       balcony  \\\n",
       "count  23699.000000  23699.000000  23699.000000  23699.000000  23699.000000   \n",
       "mean      10.673824     34.457852      5.892358     10.290476      0.591080   \n",
       "std        6.585192     21.127391      4.885249      5.626473      0.959298   \n",
       "min        1.000000      2.000000      1.000000      1.000000      0.000000   \n",
       "25%        5.000000     19.000000      2.000000      7.000000      0.000000   \n",
       "50%        9.000000     31.100000      4.000000     10.000000      0.000000   \n",
       "75%       16.000000     41.100000      8.000000     11.000000      1.000000   \n",
       "max       60.000000    409.700000     33.000000    112.000000      5.000000   \n",
       "\n",
       "       ...  parks_around3000  parks_nearest  ponds_around3000  ponds_nearest  \\\n",
       "count  ...      23699.000000    8079.000000      23699.000000    9110.000000   \n",
       "mean   ...          0.469049     490.804555          0.590911     517.980900   \n",
       "std    ...          0.748534     342.317995          0.883999     277.720643   \n",
       "min    ...          0.000000       1.000000          0.000000      13.000000   \n",
       "25%    ...          0.000000     288.000000          0.000000     294.000000   \n",
       "50%    ...          0.000000     455.000000          0.000000     502.000000   \n",
       "75%    ...          1.000000     612.000000          1.000000     729.000000   \n",
       "max    ...          3.000000    3190.000000          3.000000    1344.000000   \n",
       "\n",
       "       days_exposition  price_per_square_meter  weekday_exposition  \\\n",
       "count     20518.000000            23699.000000        23699.000000   \n",
       "mean        180.888634            85646.245200            2.569307   \n",
       "std         219.727988            31610.408424            1.789082   \n",
       "min           1.000000              111.000000            0.000000   \n",
       "25%          45.000000            64285.000000            1.000000   \n",
       "50%          95.000000            88000.000000            3.000000   \n",
       "75%         232.000000           105769.000000            4.000000   \n",
       "max        1580.000000           312240.000000            6.000000   \n",
       "\n",
       "       month_exposition  year_exposition  cityCenters_nearest_km  \n",
       "count      23699.000000     23699.000000            18180.000000  \n",
       "mean           6.400101      2017.367146               14.184818  \n",
       "std            3.491561         1.039771                8.616194  \n",
       "min            1.000000      2014.000000                0.000000  \n",
       "25%            3.000000      2017.000000                9.000000  \n",
       "50%            6.000000      2017.000000               13.000000  \n",
       "75%           10.000000      2018.000000               16.000000  \n",
       "max           12.000000      2019.000000               66.000000  \n",
       "\n",
       "[8 rows x 22 columns]"
      ]
     },
     "execution_count": 27,
     "metadata": {},
     "output_type": "execute_result"
    }
   ],
   "source": [
    "# посчитаем цену квадратного метра в новом столбце\n",
    "data['price_per_square_meter'] = data['last_price'] / data['total_area']\n",
    "\n",
    "# для удобства просмотра приведем к типу int\n",
    "data['price_per_square_meter'] = data['price_per_square_meter'].astype('int')\n",
    "\n",
    "# создадим столбец дня недели\n",
    "data['weekday_exposition'] = data['first_day_exposition'].dt.weekday\n",
    "\n",
    "# создадим столбец месяца\n",
    "data['month_exposition'] = data['first_day_exposition'].dt.month\n",
    "\n",
    "# создадим столбец года\n",
    "data['year_exposition'] = data['first_day_exposition'].dt.year\n",
    "\n",
    "# напишем функцию для деления этажей\n",
    "def floor_type(row):\n",
    "    floors_total = row['floors_total']\n",
    "    floor = row['floor']\n",
    "    if floor == 1:\n",
    "        return 'первый'\n",
    "    elif floor == floors_total:\n",
    "        return 'последний'\n",
    "    elif 1 < floor < floors_total:\n",
    "        return 'другой'\n",
    "    \n",
    "# сохраняем результат в новом столбце\n",
    "data['floor_type'] = data.apply(floor_type, axis = 1)\n",
    "\n",
    "# считаем расстояние до центра города в километрах, создаем новый столбец, переводим из м в км и округлим до целых значений\n",
    "data['cityCenters_nearest_km'] = data['cityCenters_nearest'] / 1000\n",
    "data['cityCenters_nearest_km'] =round(data['cityCenters_nearest_km'])\n",
    "\n",
    "# проверим, появились ли новые столбцы\n",
    "data.describe()"
   ]
  },
  {
   "cell_type": "markdown",
   "metadata": {},
   "source": [
    "# Этап 3. Исследовательский анализ данных"
   ]
  },
  {
   "cell_type": "markdown",
   "metadata": {},
   "source": [
    "#### Изучим следующие параметры объектов"
   ]
  },
  {
   "cell_type": "code",
   "execution_count": 28,
   "metadata": {},
   "outputs": [
    {
     "data": {
      "text/plain": [
       "<AxesSubplot:ylabel='Frequency'>"
      ]
     },
     "execution_count": 28,
     "metadata": {},
     "output_type": "execute_result"
    },
    {
     "data": {
      "image/png": "[encoded data removed]",
      "text/plain": [
       "<Figure size 360x216 with 1 Axes>"
      ]
     },
     "metadata": {
      "needs_background": "light"
     },
     "output_type": "display_data"
    }
   ],
   "source": [
    "# изучаем общую площадь\n",
    "data.plot(y = 'total_area', kind = 'hist', bins = 100, grid=True, figsize = (5,3), range = (0,350))"
   ]
  },
  {
   "cell_type": "code",
   "execution_count": 29,
   "metadata": {},
   "outputs": [
    {
     "data": {
      "text/plain": [
       "count    23699.000000\n",
       "mean        34.457852\n",
       "std         21.127391\n",
       "min          2.000000\n",
       "25%         19.000000\n",
       "50%         31.100000\n",
       "75%         41.100000\n",
       "max        409.700000\n",
       "Name: living_area, dtype: float64"
      ]
     },
     "execution_count": 29,
     "metadata": {},
     "output_type": "execute_result"
    },
    {
     "data": {
      "image/png": "[encoded data removed]",
      "text/plain": [
       "<Figure size 360x216 with 1 Axes>"
      ]
     },
     "metadata": {
      "needs_background": "light"
     },
     "output_type": "display_data"
    }
   ],
   "source": [
    "# изучаем жилую площадь, помогаем себе с помощью describe\n",
    "data.plot(y = 'living_area', kind = 'hist', bins = 100, grid=True, figsize = (5,3), range = (0,200))\n",
    "data['living_area'].describe()"
   ]
  },
  {
   "cell_type": "code",
   "execution_count": 30,
   "metadata": {},
   "outputs": [
    {
     "data": {
      "text/plain": [
       "count    23699.000000\n",
       "mean        10.290476\n",
       "std          5.626473\n",
       "min          1.000000\n",
       "25%          7.000000\n",
       "50%         10.000000\n",
       "75%         11.000000\n",
       "max        112.000000\n",
       "Name: kitchen_area, dtype: float64"
      ]
     },
     "execution_count": 30,
     "metadata": {},
     "output_type": "execute_result"
    },
    {
     "data": {
      "image/png": "[encoded data removed]",
      "text/plain": [
       "<Figure size 360x216 with 1 Axes>"
      ]
     },
     "metadata": {
      "needs_background": "light"
     },
     "output_type": "display_data"
    }
   ],
   "source": [
    "# изучаем площадь кухон, помогаем себе с помощью describe\n",
    "data.plot(y = 'kitchen_area', kind = 'hist', bins = 100, grid=True, figsize = (5,3), range = (0,60))\n",
    "data['kitchen_area'].describe()\n"
   ]
  },
  {
   "cell_type": "code",
   "execution_count": 31,
   "metadata": {},
   "outputs": [
    {
     "data": {
      "text/plain": [
       "count    2.369900e+04\n",
       "mean     4.633430e+06\n",
       "std      1.830420e+06\n",
       "min      1.219000e+04\n",
       "25%      3.400000e+06\n",
       "50%      4.633430e+06\n",
       "75%      5.500000e+06\n",
       "max      9.999999e+06\n",
       "Name: last_price, dtype: float64"
      ]
     },
     "execution_count": 31,
     "metadata": {},
     "output_type": "execute_result"
    },
    {
     "data": {
      "image/png": "[encoded data removed]",
      "text/plain": [
       "<Figure size 360x216 with 1 Axes>"
      ]
     },
     "metadata": {
      "needs_background": "light"
     },
     "output_type": "display_data"
    }
   ],
   "source": [
    "# изучаем цену объекта, помогаем себе с помощью describe\n",
    "data.plot(y = 'last_price', kind = 'hist', bins = 100, grid=True, figsize = (5,3), range = (0,15000000))\n",
    "data['last_price'].describe()"
   ]
  },
  {
   "cell_type": "code",
   "execution_count": 32,
   "metadata": {},
   "outputs": [
    {
     "data": {
      "text/plain": [
       "count    23699.000000\n",
       "mean        59.937404\n",
       "std         34.308052\n",
       "min         12.000000\n",
       "25%         40.000000\n",
       "50%         52.000000\n",
       "75%         69.000000\n",
       "max        517.000000\n",
       "Name: rooms, dtype: float64"
      ]
     },
     "execution_count": 32,
     "metadata": {},
     "output_type": "execute_result"
    },
    {
     "data": {
      "image/png": "[encoded data removed]",
      "text/plain": [
       "<Figure size 360x216 with 1 Axes>"
      ]
     },
     "metadata": {
      "needs_background": "light"
     },
     "output_type": "display_data"
    }
   ],
   "source": [
    "# изучаем количество комнат, помогаем себе с помощью describe\n",
    "data.plot(y = 'rooms', kind = 'hist', grid=True, figsize = (5,3))\n",
    "data['rooms'].describe()"
   ]
  },
  {
   "cell_type": "code",
   "execution_count": 33,
   "metadata": {},
   "outputs": [
    {
     "data": {
      "text/plain": [
       "count    23699.000000\n",
       "mean         2.726382\n",
       "std          0.218508\n",
       "min          1.000000\n",
       "25%          2.600000\n",
       "50%          2.726382\n",
       "75%          2.726382\n",
       "max          6.000000\n",
       "Name: ceiling_height, dtype: float64"
      ]
     },
     "execution_count": 33,
     "metadata": {},
     "output_type": "execute_result"
    },
    {
     "data": {
      "image/png": "[encoded data removed]",
      "text/plain": [
       "<Figure size 360x216 with 1 Axes>"
      ]
     },
     "metadata": {
      "needs_background": "light"
     },
     "output_type": "display_data"
    }
   ],
   "source": [
    "# изучаем высоту потолков, помогаем себе с помощью describe\n",
    "data.plot(y = 'ceiling_height', kind = 'hist', bins = 30, range = (2,5), grid=True, figsize = (5,3))\n",
    "data['ceiling_height'].describe()"
   ]
  },
  {
   "cell_type": "code",
   "execution_count": 34,
   "metadata": {},
   "outputs": [
    {
     "data": {
      "text/plain": [
       "count    23699.000000\n",
       "mean         5.892358\n",
       "std          4.885249\n",
       "min          1.000000\n",
       "25%          2.000000\n",
       "50%          4.000000\n",
       "75%          8.000000\n",
       "max         33.000000\n",
       "Name: floor, dtype: float64"
      ]
     },
     "execution_count": 34,
     "metadata": {},
     "output_type": "execute_result"
    },
    {
     "data": {
      "image/png": "[encoded data removed]",
      "text/plain": [
       "<Figure size 360x216 with 1 Axes>"
      ]
     },
     "metadata": {
      "needs_background": "light"
     },
     "output_type": "display_data"
    }
   ],
   "source": [
    "# изучаем этажи, помогаем себе с помощью describe\n",
    "data.plot(y = 'floor', kind = 'hist', grid=True, figsize = (5,3))\n",
    "data['floor'].describe()"
   ]
  },
  {
   "cell_type": "code",
   "execution_count": 35,
   "metadata": {},
   "outputs": [
    {
     "data": {
      "text/plain": [
       "count    23699.000000\n",
       "mean        10.673824\n",
       "std          6.585192\n",
       "min          1.000000\n",
       "25%          5.000000\n",
       "50%          9.000000\n",
       "75%         16.000000\n",
       "max         60.000000\n",
       "Name: floors_total, dtype: float64"
      ]
     },
     "execution_count": 35,
     "metadata": {},
     "output_type": "execute_result"
    },
    {
     "data": {
      "image/png": "[encoded data removed]",
      "text/plain": [
       "<Figure size 360x216 with 1 Axes>"
      ]
     },
     "metadata": {
      "needs_background": "light"
     },
     "output_type": "display_data"
    }
   ],
   "source": [
    "# изучаем общее количество этажей, помогаем себе с помощью describe\n",
    "data.plot(y = 'floors_total', kind = 'hist', grid=True, figsize = (5,3))\n",
    "data['floors_total'].describe()"
   ]
  },
  {
   "cell_type": "code",
   "execution_count": 36,
   "metadata": {},
   "outputs": [
    {
     "data": {
      "text/plain": [
       "count    18180.000000\n",
       "mean     14191.277833\n",
       "std       8608.386210\n",
       "min        181.000000\n",
       "25%       9238.000000\n",
       "50%      13098.500000\n",
       "75%      16293.000000\n",
       "max      65968.000000\n",
       "Name: cityCenters_nearest, dtype: float64"
      ]
     },
     "execution_count": 36,
     "metadata": {},
     "output_type": "execute_result"
    },
    {
     "data": {
      "image/png": "[encoded data removed]",
      "text/plain": [
       "<Figure size 360x216 with 1 Axes>"
      ]
     },
     "metadata": {
      "needs_background": "light"
     },
     "output_type": "display_data"
    }
   ],
   "source": [
    "# изучаем расстояние квартир до центра, помогаем себе с помощью describe, \n",
    "data.plot(y = 'cityCenters_nearest', kind = 'hist', grid=True, figsize = (5,3))\n",
    "data['cityCenters_nearest'].describe()"
   ]
  },
  {
   "cell_type": "code",
   "execution_count": 37,
   "metadata": {},
   "outputs": [
    {
     "data": {
      "text/plain": [
       "count    18157.000000\n",
       "mean     28793.672193\n",
       "std      12630.880622\n",
       "min          0.000000\n",
       "25%      18585.000000\n",
       "50%      26726.000000\n",
       "75%      37273.000000\n",
       "max      84869.000000\n",
       "Name: airports_nearest, dtype: float64"
      ]
     },
     "execution_count": 37,
     "metadata": {},
     "output_type": "execute_result"
    },
    {
     "data": {
      "image/png": "[encoded data removed]",
      "text/plain": [
       "<Figure size 360x216 with 1 Axes>"
      ]
     },
     "metadata": {
      "needs_background": "light"
     },
     "output_type": "display_data"
    }
   ],
   "source": [
    "# изучаем расстояние квартир до аэропорта, помогаем себе с помощью describe\n",
    "data.plot(y = 'airports_nearest', kind = 'hist', grid=True, figsize = (5,3))\n",
    "data['airports_nearest'].describe()"
   ]
  },
  {
   "cell_type": "code",
   "execution_count": 38,
   "metadata": {},
   "outputs": [
    {
     "data": {
      "text/plain": [
       "count    8079.000000\n",
       "mean      490.804555\n",
       "std       342.317995\n",
       "min         1.000000\n",
       "25%       288.000000\n",
       "50%       455.000000\n",
       "75%       612.000000\n",
       "max      3190.000000\n",
       "Name: parks_nearest, dtype: float64"
      ]
     },
     "execution_count": 38,
     "metadata": {},
     "output_type": "execute_result"
    },
    {
     "data": {
      "image/png": "[encoded data removed]",
      "text/plain": [
       "<Figure size 360x216 with 1 Axes>"
      ]
     },
     "metadata": {
      "needs_background": "light"
     },
     "output_type": "display_data"
    }
   ],
   "source": [
    "# изучаем расстояние квартир до парка, помогаем себе с помощью describe, \n",
    "data.plot(y = 'parks_nearest', kind = 'hist', grid=True, figsize = (5,3))\n",
    "data['parks_nearest'].describe()"
   ]
  },
  {
   "cell_type": "code",
   "execution_count": 39,
   "metadata": {},
   "outputs": [
    {
     "data": {
      "text/plain": [
       "<AxesSubplot:xlabel='floor_type', ylabel='last_price'>"
      ]
     },
     "execution_count": 39,
     "metadata": {},
     "output_type": "execute_result"
    },
    {
     "data": {
      "image/png": "[encoded data removed]",
      "text/plain": [
       "<Figure size 432x288 with 1 Axes>"
      ]
     },
     "metadata": {
      "needs_background": "light"
     },
     "output_type": "display_data"
    }
   ],
   "source": [
    "# изучаем типы квартир\n",
    "import seaborn\n",
    "\n",
    "seaborn.barplot(x=data['floor_type'], y=data['last_price'])"
   ]
  },
  {
   "cell_type": "code",
   "execution_count": 40,
   "metadata": {},
   "outputs": [
    {
     "data": {
      "text/plain": [
       "count    23699.000000\n",
       "mean         6.400101\n",
       "std          3.491561\n",
       "min          1.000000\n",
       "25%          3.000000\n",
       "50%          6.000000\n",
       "75%         10.000000\n",
       "max         12.000000\n",
       "Name: month_exposition, dtype: float64"
      ]
     },
     "execution_count": 40,
     "metadata": {},
     "output_type": "execute_result"
    },
    {
     "data": {
      "image/png": "[encoded data removed]",
      "text/plain": [
       "<Figure size 360x216 with 1 Axes>"
      ]
     },
     "metadata": {
      "needs_background": "light"
     },
     "output_type": "display_data"
    }
   ],
   "source": [
    "# изучаем размещение объявлений по месяцам. \n",
    "data.plot(y = 'month_exposition', kind = 'hist', grid=True, figsize = (5,3))\n",
    "data['month_exposition'].describe()"
   ]
  },
  {
   "cell_type": "code",
   "execution_count": 41,
   "metadata": {},
   "outputs": [
    {
     "data": {
      "text/plain": [
       "count    23699.000000\n",
       "mean         2.569307\n",
       "std          1.789082\n",
       "min          0.000000\n",
       "25%          1.000000\n",
       "50%          3.000000\n",
       "75%          4.000000\n",
       "max          6.000000\n",
       "Name: weekday_exposition, dtype: float64"
      ]
     },
     "execution_count": 41,
     "metadata": {},
     "output_type": "execute_result"
    },
    {
     "data": {
      "image/png": "[encoded data removed]",
      "text/plain": [
       "<Figure size 432x288 with 1 Axes>"
      ]
     },
     "metadata": {
      "needs_background": "light"
     },
     "output_type": "display_data"
    }
   ],
   "source": [
    "# изучаем размещение объявлений по дням. \n",
    "data.plot(y = 'weekday_exposition', kind = 'hist', bins = 7, grid = True)\n",
    "data['weekday_exposition'].describe()"
   ]
  },
  {
   "cell_type": "markdown",
   "metadata": {},
   "source": [
    "#### Изучим, как быстро продавались квартиры "
   ]
  },
  {
   "cell_type": "code",
   "execution_count": 42,
   "metadata": {},
   "outputs": [
    {
     "data": {
      "text/plain": [
       "count    20518.000000\n",
       "mean       180.888634\n",
       "std        219.727988\n",
       "min          1.000000\n",
       "25%         45.000000\n",
       "50%         95.000000\n",
       "75%        232.000000\n",
       "max       1580.000000\n",
       "Name: days_exposition, dtype: float64"
      ]
     },
     "execution_count": 42,
     "metadata": {},
     "output_type": "execute_result"
    },
    {
     "data": {
      "image/png": "[encoded data removed]",
      "text/plain": [
       "<Figure size 432x288 with 1 Axes>"
      ]
     },
     "metadata": {
      "needs_background": "light"
     },
     "output_type": "display_data"
    },
    {
     "data": {
      "image/png": "[encoded data removed]",
      "text/plain": [
       "<Figure size 432x288 with 1 Axes>"
      ]
     },
     "metadata": {
      "needs_background": "light"
     },
     "output_type": "display_data"
    }
   ],
   "source": [
    "# посмотрим гистограмму, нормальное распределение\n",
    "data.plot(y = 'days_exposition', kind = 'hist', bins = 30, grid = True, range = (1, 2000))\n",
    "\n",
    "# проверим более детально данные\n",
    "\n",
    "data.plot(y = 'days_exposition', kind = 'hist', bins = 100, grid = True, range = (1,200))\n",
    " \n",
    "# помогаем с помощью describe\n",
    "data['days_exposition'].describe()\n",
    "\n",
    "\n"
   ]
  },
  {
   "cell_type": "markdown",
   "metadata": {},
   "source": [
    "**Вывод:**\n",
    "\n",
    "Среднее время продажи квартиры - 180 дней.\n",
    "Медиана - 95 дней.\n",
    "\n",
    "Быстрой продажей можно назвать, если квартира продана за 45 дней. Долгой продажей, если более чем 232 дня.\n",
    "\n",
    "Есть пики по длительности объявлений в такие промежутки дней: 7, 30, 45, 60, 90. Предположу, что так публикуют чаще, потому что с таким сроком тарифы на данной площадке.\n",
    "\n",
    "В выходные ожидаемо объявлений меньше 🙂\n"
   ]
  },
  {
   "cell_type": "markdown",
   "metadata": {},
   "source": [
    "#### Изучим какие факторы больше всего влияют на общую (полную) стоимость объекта"
   ]
  },
  {
   "cell_type": "code",
   "execution_count": 43,
   "metadata": {
    "scrolled": true
   },
   "outputs": [
    {
     "data": {
      "text/html": [
       "<div>\n",
       "<style scoped>\n",
       "    .dataframe tbody tr th:only-of-type {\n",
       "        vertical-align: middle;\n",
       "    }\n",
       "\n",
       "    .dataframe tbody tr th {\n",
       "        vertical-align: top;\n",
       "    }\n",
       "\n",
       "    .dataframe thead th {\n",
       "        text-align: right;\n",
       "    }\n",
       "</style>\n",
       "<table border=\"1\" class=\"dataframe\">\n",
       "  <thead>\n",
       "    <tr style=\"text-align: right;\">\n",
       "      <th></th>\n",
       "      <th>last_price</th>\n",
       "      <th>total_area</th>\n",
       "    </tr>\n",
       "  </thead>\n",
       "  <tbody>\n",
       "    <tr>\n",
       "      <th>last_price</th>\n",
       "      <td>1.00000</td>\n",
       "      <td>0.83121</td>\n",
       "    </tr>\n",
       "    <tr>\n",
       "      <th>total_area</th>\n",
       "      <td>0.83121</td>\n",
       "      <td>1.00000</td>\n",
       "    </tr>\n",
       "  </tbody>\n",
       "</table>\n",
       "</div>"
      ],
      "text/plain": [
       "            last_price  total_area\n",
       "last_price     1.00000     0.83121\n",
       "total_area     0.83121     1.00000"
      ]
     },
     "execution_count": 43,
     "metadata": {},
     "output_type": "execute_result"
    },
    {
     "data": {
      "image/png": "[encoded data removed]",
      "text/plain": [
       "<Figure size 360x360 with 1 Axes>"
      ]
     },
     "metadata": {
      "needs_background": "light"
     },
     "output_type": "display_data"
    }
   ],
   "source": [
    "# изучаем зависимость цены от общей площади\n",
    "\n",
    "addiction_total_area = data.pivot_table(\n",
    "    index = 'total_area', values = 'last_price', \n",
    "    aggfunc = ['mean', 'count', 'median']).plot(grid=True, y = 'median', style = 'o', figsize=(5, 5))\n",
    "\n",
    "data.pivot_table(index='floor', values=['total_area', 'last_price']).corr()\n",
    "\n",
    "\n"
   ]
  },
  {
   "cell_type": "markdown",
   "metadata": {},
   "source": [
    "Существует достаточно высокая корреляция между площадью квартиры и ее стоимостью.\n"
   ]
  },
  {
   "cell_type": "code",
   "execution_count": 44,
   "metadata": {},
   "outputs": [
    {
     "data": {
      "text/html": [
       "<div>\n",
       "<style scoped>\n",
       "    .dataframe tbody tr th:only-of-type {\n",
       "        vertical-align: middle;\n",
       "    }\n",
       "\n",
       "    .dataframe tbody tr th {\n",
       "        vertical-align: top;\n",
       "    }\n",
       "\n",
       "    .dataframe thead th {\n",
       "        text-align: right;\n",
       "    }\n",
       "</style>\n",
       "<table border=\"1\" class=\"dataframe\">\n",
       "  <thead>\n",
       "    <tr style=\"text-align: right;\">\n",
       "      <th></th>\n",
       "      <th>last_price</th>\n",
       "      <th>living_area</th>\n",
       "    </tr>\n",
       "  </thead>\n",
       "  <tbody>\n",
       "    <tr>\n",
       "      <th>last_price</th>\n",
       "      <td>1.000000</td>\n",
       "      <td>0.652374</td>\n",
       "    </tr>\n",
       "    <tr>\n",
       "      <th>living_area</th>\n",
       "      <td>0.652374</td>\n",
       "      <td>1.000000</td>\n",
       "    </tr>\n",
       "  </tbody>\n",
       "</table>\n",
       "</div>"
      ],
      "text/plain": [
       "             last_price  living_area\n",
       "last_price     1.000000     0.652374\n",
       "living_area    0.652374     1.000000"
      ]
     },
     "execution_count": 44,
     "metadata": {},
     "output_type": "execute_result"
    },
    {
     "data": {
      "image/png": "[encoded data removed]",
      "text/plain": [
       "<Figure size 360x360 with 1 Axes>"
      ]
     },
     "metadata": {
      "needs_background": "light"
     },
     "output_type": "display_data"
    }
   ],
   "source": [
    "# изучаем зависимость цены от жилой площади\n",
    "addiction_living_area = data.pivot_table(\n",
    "    index = 'living_area', values = 'last_price', \n",
    "    aggfunc = ['mean', 'count', 'median']).plot(grid=True, y = 'median', style = 'o', figsize=(5, 5))\n",
    "\n",
    "data.pivot_table(index='floor', values=['living_area', 'last_price']).corr()"
   ]
  },
  {
   "cell_type": "markdown",
   "metadata": {},
   "source": [
    "Корреляция между жилой площадью квартиры и ее стоимостью есть, но она чуть меньше в сравнении с общей площадью\n"
   ]
  },
  {
   "cell_type": "code",
   "execution_count": 45,
   "metadata": {},
   "outputs": [
    {
     "data": {
      "text/html": [
       "<div>\n",
       "<style scoped>\n",
       "    .dataframe tbody tr th:only-of-type {\n",
       "        vertical-align: middle;\n",
       "    }\n",
       "\n",
       "    .dataframe tbody tr th {\n",
       "        vertical-align: top;\n",
       "    }\n",
       "\n",
       "    .dataframe thead th {\n",
       "        text-align: right;\n",
       "    }\n",
       "</style>\n",
       "<table border=\"1\" class=\"dataframe\">\n",
       "  <thead>\n",
       "    <tr style=\"text-align: right;\">\n",
       "      <th></th>\n",
       "      <th>kitchen_area</th>\n",
       "      <th>last_price</th>\n",
       "    </tr>\n",
       "  </thead>\n",
       "  <tbody>\n",
       "    <tr>\n",
       "      <th>kitchen_area</th>\n",
       "      <td>1.000000</td>\n",
       "      <td>0.553648</td>\n",
       "    </tr>\n",
       "    <tr>\n",
       "      <th>last_price</th>\n",
       "      <td>0.553648</td>\n",
       "      <td>1.000000</td>\n",
       "    </tr>\n",
       "  </tbody>\n",
       "</table>\n",
       "</div>"
      ],
      "text/plain": [
       "              kitchen_area  last_price\n",
       "kitchen_area      1.000000    0.553648\n",
       "last_price        0.553648    1.000000"
      ]
     },
     "execution_count": 45,
     "metadata": {},
     "output_type": "execute_result"
    },
    {
     "data": {
      "image/png": "[encoded data removed]",
      "text/plain": [
       "<Figure size 360x360 with 1 Axes>"
      ]
     },
     "metadata": {
      "needs_background": "light"
     },
     "output_type": "display_data"
    }
   ],
   "source": [
    "# изучаем зависимость цены от площади Существует достаточно высокая корреляция между площадью квартиры и ее стоимостью.кухни\n",
    "addiction_kitchen_area = data.pivot_table(\n",
    "    index = 'kitchen_area', values = 'last_price', \n",
    "    aggfunc = ['mean', 'count', 'median']).plot(grid=True, y = 'median', style = '-o', figsize=(5, 5))\n",
    "\n",
    "data.pivot_table(index='floor', values=['kitchen_area', 'last_price']).corr()"
   ]
  },
  {
   "cell_type": "markdown",
   "metadata": {},
   "source": [
    "Корреляция между площадью кухни и стоимостью квартиры низкая.🙂"
   ]
  },
  {
   "cell_type": "code",
   "execution_count": 46,
   "metadata": {},
   "outputs": [
    {
     "data": {
      "text/html": [
       "<div>\n",
       "<style scoped>\n",
       "    .dataframe tbody tr th:only-of-type {\n",
       "        vertical-align: middle;\n",
       "    }\n",
       "\n",
       "    .dataframe tbody tr th {\n",
       "        vertical-align: top;\n",
       "    }\n",
       "\n",
       "    .dataframe thead th {\n",
       "        text-align: right;\n",
       "    }\n",
       "</style>\n",
       "<table border=\"1\" class=\"dataframe\">\n",
       "  <thead>\n",
       "    <tr style=\"text-align: right;\">\n",
       "      <th></th>\n",
       "      <th>last_price</th>\n",
       "      <th>rooms</th>\n",
       "    </tr>\n",
       "  </thead>\n",
       "  <tbody>\n",
       "    <tr>\n",
       "      <th>last_price</th>\n",
       "      <td>1.000000</td>\n",
       "      <td>0.832256</td>\n",
       "    </tr>\n",
       "    <tr>\n",
       "      <th>rooms</th>\n",
       "      <td>0.832256</td>\n",
       "      <td>1.000000</td>\n",
       "    </tr>\n",
       "  </tbody>\n",
       "</table>\n",
       "</div>"
      ],
      "text/plain": [
       "            last_price     rooms\n",
       "last_price    1.000000  0.832256\n",
       "rooms         0.832256  1.000000"
      ]
     },
     "execution_count": 46,
     "metadata": {},
     "output_type": "execute_result"
    },
    {
     "data": {
      "image/png": "[encoded data removed]",
      "text/plain": [
       "<Figure size 360x360 with 1 Axes>"
      ]
     },
     "metadata": {
      "needs_background": "light"
     },
     "output_type": "display_data"
    }
   ],
   "source": [
    "# изучаем зависимость цены от площади кухни\n",
    "addiction_rooms = data.pivot_table(\n",
    "    index = 'rooms', values = 'last_price', \n",
    "    aggfunc = ['mean', 'count', 'median']).plot(grid=True, y = 'median', style = '-o', figsize=(5, 5))\n",
    "\n",
    "data.pivot_table(index='floor', values=['rooms', 'last_price']).corr()"
   ]
  },
  {
   "cell_type": "markdown",
   "metadata": {},
   "source": [
    "Корреляция между количеством комнат и стоимостью квартиры низкая.🙂"
   ]
  },
  {
   "cell_type": "code",
   "execution_count": 47,
   "metadata": {},
   "outputs": [
    {
     "data": {
      "text/plain": [
       "<AxesSubplot:xlabel='floor_type', ylabel='last_price'>"
      ]
     },
     "execution_count": 47,
     "metadata": {},
     "output_type": "execute_result"
    },
    {
     "data": {
      "image/png": "[encoded data removed]",
      "text/plain": [
       "<Figure size 432x288 with 1 Axes>"
      ]
     },
     "metadata": {
      "needs_background": "light"
     },
     "output_type": "display_data"
    }
   ],
   "source": [
    "# изучаем зависимость цены от типа этажей\n",
    "\n",
    "import seaborn\n",
    "\n",
    "seaborn.barplot(x=data['floor_type'], y=data['last_price'])\n"
   ]
  },
  {
   "cell_type": "markdown",
   "metadata": {},
   "source": [
    "Квартиры между первым и последним этажом стоят дороже. Первый этаж дешевле последнего."
   ]
  },
  {
   "cell_type": "code",
   "execution_count": 48,
   "metadata": {},
   "outputs": [
    {
     "data": {
      "text/html": [
       "<div>\n",
       "<style scoped>\n",
       "    .dataframe tbody tr th:only-of-type {\n",
       "        vertical-align: middle;\n",
       "    }\n",
       "\n",
       "    .dataframe tbody tr th {\n",
       "        vertical-align: top;\n",
       "    }\n",
       "\n",
       "    .dataframe thead th {\n",
       "        text-align: right;\n",
       "    }\n",
       "</style>\n",
       "<table border=\"1\" class=\"dataframe\">\n",
       "  <thead>\n",
       "    <tr style=\"text-align: right;\">\n",
       "      <th></th>\n",
       "      <th>last_price</th>\n",
       "      <th>weekday_exposition</th>\n",
       "    </tr>\n",
       "  </thead>\n",
       "  <tbody>\n",
       "    <tr>\n",
       "      <th>last_price</th>\n",
       "      <td>1.000000</td>\n",
       "      <td>0.445566</td>\n",
       "    </tr>\n",
       "    <tr>\n",
       "      <th>weekday_exposition</th>\n",
       "      <td>0.445566</td>\n",
       "      <td>1.000000</td>\n",
       "    </tr>\n",
       "  </tbody>\n",
       "</table>\n",
       "</div>"
      ],
      "text/plain": [
       "                    last_price  weekday_exposition\n",
       "last_price            1.000000            0.445566\n",
       "weekday_exposition    0.445566            1.000000"
      ]
     },
     "execution_count": 48,
     "metadata": {},
     "output_type": "execute_result"
    },
    {
     "data": {
      "image/png": "[encoded data removed]",
      "text/plain": [
       "<Figure size 720x360 with 1 Axes>"
      ]
     },
     "metadata": {
      "needs_background": "light"
     },
     "output_type": "display_data"
    }
   ],
   "source": [
    "# изучаем зависимость цены от дня недели\n",
    "addiction_weekday_exposition = data.pivot_table(\n",
    "    index = 'weekday_exposition', values = 'last_price', \n",
    "    aggfunc = ['mean', 'count', 'median']).plot(grid=True, y = 'median', style = '-o', figsize=(10, 5))\n",
    "\n",
    "data.pivot_table(index='floor', values=['weekday_exposition', 'last_price']).corr()"
   ]
  },
  {
   "cell_type": "markdown",
   "metadata": {},
   "source": [
    "Чем ближе к окончанию недели, тем меньше активности по публикации объявлений. 🙂\n"
   ]
  },
  {
   "cell_type": "code",
   "execution_count": 49,
   "metadata": {},
   "outputs": [
    {
     "data": {
      "text/html": [
       "<div>\n",
       "<style scoped>\n",
       "    .dataframe tbody tr th:only-of-type {\n",
       "        vertical-align: middle;\n",
       "    }\n",
       "\n",
       "    .dataframe tbody tr th {\n",
       "        vertical-align: top;\n",
       "    }\n",
       "\n",
       "    .dataframe thead th {\n",
       "        text-align: right;\n",
       "    }\n",
       "</style>\n",
       "<table border=\"1\" class=\"dataframe\">\n",
       "  <thead>\n",
       "    <tr style=\"text-align: right;\">\n",
       "      <th></th>\n",
       "      <th>last_price</th>\n",
       "      <th>month_exposition</th>\n",
       "    </tr>\n",
       "  </thead>\n",
       "  <tbody>\n",
       "    <tr>\n",
       "      <th>last_price</th>\n",
       "      <td>1.000000</td>\n",
       "      <td>-0.263593</td>\n",
       "    </tr>\n",
       "    <tr>\n",
       "      <th>month_exposition</th>\n",
       "      <td>-0.263593</td>\n",
       "      <td>1.000000</td>\n",
       "    </tr>\n",
       "  </tbody>\n",
       "</table>\n",
       "</div>"
      ],
      "text/plain": [
       "                  last_price  month_exposition\n",
       "last_price          1.000000         -0.263593\n",
       "month_exposition   -0.263593          1.000000"
      ]
     },
     "execution_count": 49,
     "metadata": {},
     "output_type": "execute_result"
    },
    {
     "data": {
      "image/png": "[encoded data removed]",
      "text/plain": [
       "<Figure size 720x360 with 1 Axes>"
      ]
     },
     "metadata": {
      "needs_background": "light"
     },
     "output_type": "display_data"
    }
   ],
   "source": [
    "# изучаем зависимость цены от месяца\n",
    "addiction_month_exposition = data.pivot_table(\n",
    "    index = 'month_exposition', values = 'last_price', \n",
    "    aggfunc = ['mean', 'count', 'median']).plot(grid=True, y = 'median', style = '-o', figsize=(10, 5))\n",
    "\n",
    "data.pivot_table(index='floor', values=['month_exposition', 'last_price']).corr()"
   ]
  },
  {
   "cell_type": "markdown",
   "metadata": {},
   "source": [
    "Летом очень низкая активность по публикациям. 🙂"
   ]
  },
  {
   "cell_type": "code",
   "execution_count": 50,
   "metadata": {},
   "outputs": [
    {
     "data": {
      "image/png": "[encoded data removed]",
      "text/plain": [
       "<Figure size 360x360 with 1 Axes>"
      ]
     },
     "metadata": {
      "needs_background": "light"
     },
     "output_type": "display_data"
    }
   ],
   "source": [
    "# изучаем зависимость цены от года\n",
    "\n",
    "addiction_year_exposition = data.pivot_table(index='year_exposition', values='last_price').plot(grid=True, style='o-', figsize=(5, 5))"
   ]
  },
  {
   "cell_type": "markdown",
   "metadata": {},
   "source": [
    "Начиная с 2014 года продажа квартир стала резко падать\n",
    "\n"
   ]
  },
  {
   "cell_type": "markdown",
   "metadata": {},
   "source": [
    "#### Посчитаем среднюю цену одного квадратного метра в 10 населённых пунктах с наибольшим числом объявлений"
   ]
  },
  {
   "cell_type": "code",
   "execution_count": 51,
   "metadata": {},
   "outputs": [
    {
     "data": {
      "text/html": [
       "<div>\n",
       "<style scoped>\n",
       "    .dataframe tbody tr th:only-of-type {\n",
       "        vertical-align: middle;\n",
       "    }\n",
       "\n",
       "    .dataframe tbody tr th {\n",
       "        vertical-align: top;\n",
       "    }\n",
       "\n",
       "    .dataframe thead th {\n",
       "        text-align: right;\n",
       "    }\n",
       "</style>\n",
       "<table border=\"1\" class=\"dataframe\">\n",
       "  <thead>\n",
       "    <tr style=\"text-align: right;\">\n",
       "      <th></th>\n",
       "      <th>price_per_square_meter</th>\n",
       "    </tr>\n",
       "    <tr>\n",
       "      <th>locality_name</th>\n",
       "      <th></th>\n",
       "    </tr>\n",
       "  </thead>\n",
       "  <tbody>\n",
       "    <tr>\n",
       "      <th>Кудрово</th>\n",
       "      <td>95058</td>\n",
       "    </tr>\n",
       "    <tr>\n",
       "      <th>Санкт-Петербург</th>\n",
       "      <td>94531</td>\n",
       "    </tr>\n",
       "    <tr>\n",
       "      <th>Пушкин</th>\n",
       "      <td>93939</td>\n",
       "    </tr>\n",
       "    <tr>\n",
       "      <th>Парголово</th>\n",
       "      <td>90675</td>\n",
       "    </tr>\n",
       "    <tr>\n",
       "      <th>Мурино</th>\n",
       "      <td>86729</td>\n",
       "    </tr>\n",
       "    <tr>\n",
       "      <th>Шушары</th>\n",
       "      <td>78727</td>\n",
       "    </tr>\n",
       "    <tr>\n",
       "      <th>Колпино</th>\n",
       "      <td>75224</td>\n",
       "    </tr>\n",
       "    <tr>\n",
       "      <th>Гатчина</th>\n",
       "      <td>68540</td>\n",
       "    </tr>\n",
       "    <tr>\n",
       "      <th>Всеволожск</th>\n",
       "      <td>66987</td>\n",
       "    </tr>\n",
       "    <tr>\n",
       "      <th>Выборг</th>\n",
       "      <td>57947</td>\n",
       "    </tr>\n",
       "  </tbody>\n",
       "</table>\n",
       "</div>"
      ],
      "text/plain": [
       "                 price_per_square_meter\n",
       "locality_name                          \n",
       "Кудрово                           95058\n",
       "Санкт-Петербург                   94531\n",
       "Пушкин                            93939\n",
       "Парголово                         90675\n",
       "Мурино                            86729\n",
       "Шушары                            78727\n",
       "Колпино                           75224\n",
       "Гатчина                           68540\n",
       "Всеволожск                        66987\n",
       "Выборг                            57947"
      ]
     },
     "execution_count": 51,
     "metadata": {},
     "output_type": "execute_result"
    }
   ],
   "source": [
    "# с помощью value_counts отфильтруем по убыванию населенные пункты с наибольшим числом объявлений\n",
    "city_top = data['locality_name'].value_counts().head(10)\n",
    "\n",
    "# выясним среднюю цену одного квадратного метра\n",
    "\n",
    "city_cost_avg = data.query('locality_name in (@city_top.index)').pivot_table(\n",
    "    values='price_per_square_meter', index='locality_name')\n",
    "\n",
    "# переведем данные в формат int для удобства и отфильтруем по убыванию\n",
    "city_cost_avg = city_cost_avg.astype(int)\n",
    "city_cost_avg.sort_values('price_per_square_meter', ascending=False)"
   ]
  },
  {
   "cell_type": "markdown",
   "metadata": {},
   "source": [
    "Ожидаемо, что наибольшая средняя цена квадратного метра в Санкт-Петербурге. Наименьшая - в Выборге. В целом есть тренд по уменьшению средней цены за квадратный метр по мере удаленности от Санкт-Петербурга.\n"
   ]
  },
  {
   "cell_type": "markdown",
   "metadata": {},
   "source": [
    "#### Вычислим среднюю цену каждого километра в Санкт-Петербурге по мере приближения к центру"
   ]
  },
  {
   "cell_type": "code",
   "execution_count": 52,
   "metadata": {},
   "outputs": [
    {
     "data": {
      "text/plain": [
       "<AxesSubplot:xlabel='cityCenters_nearest_km'>"
      ]
     },
     "execution_count": 52,
     "metadata": {},
     "output_type": "execute_result"
    },
    {
     "data": {
      "image/png": "[encoded data removed]",
      "text/plain": [
       "<Figure size 720x360 with 1 Axes>"
      ]
     },
     "metadata": {
      "needs_background": "light"
     },
     "output_type": "display_data"
    }
   ],
   "source": [
    "# перед построением графика параметр округляем до целого\n",
    "data['cityCenters_nearest_km'] = data['cityCenters_nearest_km'].fillna(value=0).astype(int)\n",
    "\n",
    "# построим график по параметрам задачи\n",
    "(\n",
    "    data.query('locality_name == \"Санкт-Петербург\"')\n",
    "    .pivot_table(index='cityCenters_nearest_km', values='last_price')\n",
    "    .plot(grid=True, style='o-', xlim=(0,15), figsize=(10, 5))\n",
    ")\n",
    "\n"
   ]
  },
  {
   "cell_type": "markdown",
   "metadata": {},
   "source": [
    "Центральной зоной можно считать границу в 7 км. Дальше цена сильно уменьшается.\n"
   ]
  },
  {
   "cell_type": "markdown",
   "metadata": {},
   "source": [
    "### Общий вывод"
   ]
  },
  {
   "cell_type": "markdown",
   "metadata": {},
   "source": [
    "#### Файл с данными\n",
    "\n",
    "Больше половины информации пришлось дорабатывать, чтобы не было аномалий, который могли повлиять на анализ данных.\n",
    "\n",
    "#### Новые данные\n",
    "\n",
    "Были успешно добавлены новые столбцы, которые помогли нам в анализе.\n",
    "\n",
    "#### Изучение параметров\n",
    "\n",
    "В ходе изучения выяснилилось следующее:\n",
    "- самые распространенные по площади кухни - до 15 метров;\n",
    "- первый этаж самый дешевый, следующий по стоимости - последний этаж;\n",
    "- в срезе по месяцам летом меньше всего объявлений;\n",
    "- в срезе по дням в выходные меньше всего объявлений.\n",
    "\n",
    "#### Срок продажи квартиры\n",
    "\n",
    "Чаще всего квартиру продают за 95 дней. Если срок продажи уместился в 45 дней, продажа считается быстрой. \n",
    "Если срок продажи больше 232 дней, это считается долгой продажей.\n",
    "Есть большое число квартир, проданных всего за несколько дней после публикации.\n",
    "Также есть варианты, которые продавались несколько десятков месяцев.\n",
    "\n",
    "Есть пики по длительности объявлений в такие промежутки дней: 7, 30, 45, 60, 90. Предположу, что так публикуют чаще, потому что с таким сроком тарифы на данной площадке.\n",
    "\n",
    "#### Факторы, влияющие на стоимость\n",
    "\n",
    "Из всех проанализированных факторов наибольшую корреляцию имеет площадь квартиры. Чем она выше, тем дороже жилье. \n",
    "\n",
    "Жилье между первым и последним этажом считаются более дорогим, чем упомянутые два варианта. Первый этаж самый дешевый.\n",
    "\n",
    "Стоимость квадратного метра в топ-10 населённых пунктов\n",
    "\n",
    "Самая высокая средняя цена квадратного метра в Санкт-Петербурге - 114848\n",
    "Самая низкая средняя цена квадратного метра в Выборге - 58141\n",
    "\n",
    "#### Cредняя цена каждого километра в Санкт-Петербурге по мере приближения к центру\n",
    "\n",
    "Первые 7 км стоят достаточно высоко. Все, что дальше, значительно меньше в цене.\n"
   ]
  }
 ],
 "metadata": {
  "ExecuteTimeLog": [
   {
    "duration": 728,
    "start_time": "2022-11-07T09:01:40.088Z"
   },
   {
    "duration": 93,
    "start_time": "2022-11-07T09:01:54.072Z"
   },
   {
    "duration": 1183,
    "start_time": "2022-11-07T09:02:19.968Z"
   },
   {
    "duration": 117,
    "start_time": "2022-11-07T09:02:40.659Z"
   },
   {
    "duration": 149,
    "start_time": "2022-11-07T09:07:04.222Z"
   },
   {
    "duration": 94,
    "start_time": "2022-11-07T09:07:41.337Z"
   },
   {
    "duration": 149,
    "start_time": "2022-11-07T09:07:57.420Z"
   },
   {
    "duration": 93,
    "start_time": "2022-11-07T09:08:42.922Z"
   },
   {
    "duration": 102,
    "start_time": "2022-11-07T09:08:48.140Z"
   },
   {
    "duration": 105,
    "start_time": "2022-11-07T09:14:40.721Z"
   },
   {
    "duration": 99,
    "start_time": "2022-11-07T09:31:12.443Z"
   },
   {
    "duration": 23,
    "start_time": "2022-11-07T09:31:45.603Z"
   },
   {
    "duration": 5,
    "start_time": "2022-11-07T10:09:00.748Z"
   },
   {
    "duration": 5,
    "start_time": "2022-11-07T10:09:17.087Z"
   },
   {
    "duration": 12,
    "start_time": "2022-11-07T10:11:30.827Z"
   },
   {
    "duration": 57,
    "start_time": "2022-11-07T10:12:49.709Z"
   },
   {
    "duration": 11,
    "start_time": "2022-11-07T10:13:06.694Z"
   },
   {
    "duration": 14,
    "start_time": "2022-11-07T10:18:00.725Z"
   },
   {
    "duration": 13,
    "start_time": "2022-11-07T10:18:18.926Z"
   },
   {
    "duration": 14,
    "start_time": "2022-11-07T10:18:30.712Z"
   },
   {
    "duration": 18,
    "start_time": "2022-11-07T10:19:38.034Z"
   },
   {
    "duration": 20,
    "start_time": "2022-11-07T10:19:55.044Z"
   },
   {
    "duration": 43,
    "start_time": "2022-11-07T22:18:12.012Z"
   },
   {
    "duration": 6,
    "start_time": "2022-11-07T22:18:31.209Z"
   },
   {
    "duration": 47,
    "start_time": "2022-11-07T22:18:58.495Z"
   },
   {
    "duration": 487,
    "start_time": "2022-11-07T22:19:07.123Z"
   },
   {
    "duration": 28,
    "start_time": "2022-11-07T22:19:10.582Z"
   },
   {
    "duration": 35,
    "start_time": "2022-11-07T22:21:03.817Z"
   },
   {
    "duration": 43,
    "start_time": "2022-11-07T22:21:28.829Z"
   },
   {
    "duration": 20,
    "start_time": "2022-11-07T22:21:43.550Z"
   },
   {
    "duration": 87,
    "start_time": "2022-11-07T22:21:55.138Z"
   },
   {
    "duration": 58,
    "start_time": "2022-11-07T22:22:35.296Z"
   },
   {
    "duration": 12,
    "start_time": "2022-11-07T22:24:15.393Z"
   },
   {
    "duration": 14,
    "start_time": "2022-11-07T22:24:25.218Z"
   },
   {
    "duration": 16,
    "start_time": "2022-11-07T22:31:12.587Z"
   },
   {
    "duration": 15,
    "start_time": "2022-11-07T22:31:22.135Z"
   },
   {
    "duration": 15,
    "start_time": "2022-11-07T22:32:50.988Z"
   },
   {
    "duration": 14,
    "start_time": "2022-11-07T22:33:02.502Z"
   },
   {
    "duration": 35,
    "start_time": "2022-11-07T22:36:14.752Z"
   },
   {
    "duration": 23,
    "start_time": "2022-11-07T22:36:43.453Z"
   },
   {
    "duration": 43,
    "start_time": "2022-11-07T22:38:02.609Z"
   },
   {
    "duration": 16,
    "start_time": "2022-11-07T22:38:39.015Z"
   },
   {
    "duration": 11,
    "start_time": "2022-11-07T22:41:50.332Z"
   },
   {
    "duration": 13,
    "start_time": "2022-11-07T22:41:52.131Z"
   },
   {
    "duration": 15,
    "start_time": "2022-11-07T22:42:04.663Z"
   },
   {
    "duration": 22,
    "start_time": "2022-11-07T22:43:10.213Z"
   },
   {
    "duration": 60,
    "start_time": "2022-11-07T22:43:52.842Z"
   },
   {
    "duration": 24,
    "start_time": "2022-11-07T22:44:07.877Z"
   },
   {
    "duration": 15,
    "start_time": "2022-11-07T22:46:03.247Z"
   },
   {
    "duration": 43,
    "start_time": "2022-11-07T22:46:28.402Z"
   },
   {
    "duration": 17,
    "start_time": "2022-11-07T22:47:04.527Z"
   },
   {
    "duration": 20,
    "start_time": "2022-11-07T22:47:12.336Z"
   },
   {
    "duration": 23,
    "start_time": "2022-11-07T22:47:20.768Z"
   },
   {
    "duration": 15,
    "start_time": "2022-11-07T22:48:35.130Z"
   },
   {
    "duration": 17,
    "start_time": "2022-11-07T22:56:33.136Z"
   },
   {
    "duration": 49,
    "start_time": "2022-11-07T22:59:51.559Z"
   },
   {
    "duration": 36,
    "start_time": "2022-11-07T23:00:43.674Z"
   },
   {
    "duration": 25,
    "start_time": "2022-11-07T23:01:23.485Z"
   },
   {
    "duration": 21,
    "start_time": "2022-11-07T23:01:36.470Z"
   },
   {
    "duration": 48,
    "start_time": "2022-11-07T23:02:05.980Z"
   },
   {
    "duration": 19,
    "start_time": "2022-11-07T23:04:39.927Z"
   },
   {
    "duration": 20,
    "start_time": "2022-11-07T23:04:52.216Z"
   },
   {
    "duration": 22,
    "start_time": "2022-11-07T23:09:54.965Z"
   },
   {
    "duration": 24,
    "start_time": "2022-11-07T23:14:44.396Z"
   },
   {
    "duration": 36,
    "start_time": "2022-11-07T23:22:19.466Z"
   },
   {
    "duration": 33,
    "start_time": "2022-11-07T23:22:40.571Z"
   },
   {
    "duration": 25,
    "start_time": "2022-11-07T23:25:04.068Z"
   },
   {
    "duration": 23,
    "start_time": "2022-11-07T23:25:09.012Z"
   },
   {
    "duration": 51,
    "start_time": "2022-11-07T23:25:20.772Z"
   },
   {
    "duration": 28,
    "start_time": "2022-11-07T23:25:56.665Z"
   },
   {
    "duration": 37,
    "start_time": "2022-11-07T23:26:05.026Z"
   },
   {
    "duration": 30,
    "start_time": "2022-11-07T23:26:09.690Z"
   },
   {
    "duration": 16,
    "start_time": "2022-11-07T23:27:51.211Z"
   },
   {
    "duration": 17,
    "start_time": "2022-11-07T23:28:16.266Z"
   },
   {
    "duration": 17,
    "start_time": "2022-11-07T23:28:26.376Z"
   },
   {
    "duration": 26,
    "start_time": "2022-11-07T23:28:37.380Z"
   },
   {
    "duration": 48,
    "start_time": "2022-11-08T10:44:59.278Z"
   },
   {
    "duration": 686,
    "start_time": "2022-11-08T10:45:03.658Z"
   },
   {
    "duration": 22,
    "start_time": "2022-11-08T10:45:08.291Z"
   },
   {
    "duration": 20,
    "start_time": "2022-11-08T10:45:19.582Z"
   },
   {
    "duration": 47,
    "start_time": "2022-11-08T10:47:47.441Z"
   },
   {
    "duration": 19,
    "start_time": "2022-11-08T10:48:12.909Z"
   },
   {
    "duration": 18,
    "start_time": "2022-11-08T10:48:44.559Z"
   },
   {
    "duration": 17,
    "start_time": "2022-11-08T10:49:02.451Z"
   },
   {
    "duration": 22,
    "start_time": "2022-11-08T10:51:20.576Z"
   },
   {
    "duration": 24,
    "start_time": "2022-11-08T10:51:30.755Z"
   },
   {
    "duration": 23,
    "start_time": "2022-11-08T10:51:57.798Z"
   },
   {
    "duration": 25,
    "start_time": "2022-11-08T10:53:31.228Z"
   },
   {
    "duration": 16,
    "start_time": "2022-11-08T10:53:48.045Z"
   },
   {
    "duration": 67,
    "start_time": "2022-11-08T11:04:10.524Z"
   },
   {
    "duration": 44,
    "start_time": "2022-11-08T11:04:39.498Z"
   },
   {
    "duration": 37,
    "start_time": "2022-11-08T11:04:55.657Z"
   },
   {
    "duration": 41,
    "start_time": "2022-11-08T11:06:45.035Z"
   },
   {
    "duration": 96,
    "start_time": "2022-11-08T11:06:54.438Z"
   },
   {
    "duration": 41,
    "start_time": "2022-11-08T11:06:57.245Z"
   },
   {
    "duration": 41,
    "start_time": "2022-11-08T11:13:22.063Z"
   },
   {
    "duration": 41,
    "start_time": "2022-11-08T11:13:36.047Z"
   },
   {
    "duration": 45,
    "start_time": "2022-11-08T11:13:46.364Z"
   },
   {
    "duration": 41,
    "start_time": "2022-11-08T11:14:04.251Z"
   },
   {
    "duration": 50,
    "start_time": "2022-11-08T11:14:47.293Z"
   },
   {
    "duration": 50,
    "start_time": "2022-11-08T11:15:22.715Z"
   },
   {
    "duration": 45,
    "start_time": "2022-11-08T11:16:00.937Z"
   },
   {
    "duration": 41,
    "start_time": "2022-11-08T11:16:28.550Z"
   },
   {
    "duration": 70,
    "start_time": "2022-11-08T11:20:59.848Z"
   },
   {
    "duration": 53,
    "start_time": "2022-11-08T11:21:32.435Z"
   },
   {
    "duration": 40,
    "start_time": "2022-11-08T11:22:02.794Z"
   },
   {
    "duration": 33,
    "start_time": "2022-11-08T11:23:22.621Z"
   },
   {
    "duration": 30,
    "start_time": "2022-11-08T11:24:12.682Z"
   },
   {
    "duration": 31,
    "start_time": "2022-11-08T11:24:17.145Z"
   },
   {
    "duration": 30,
    "start_time": "2022-11-08T11:24:23.450Z"
   },
   {
    "duration": 17,
    "start_time": "2022-11-08T11:24:36.036Z"
   },
   {
    "duration": 19,
    "start_time": "2022-11-08T11:25:12.792Z"
   },
   {
    "duration": 42,
    "start_time": "2022-11-08T11:25:23.496Z"
   },
   {
    "duration": 90,
    "start_time": "2022-11-08T11:30:44.100Z"
   },
   {
    "duration": 14,
    "start_time": "2022-11-08T11:30:46.835Z"
   },
   {
    "duration": 42,
    "start_time": "2022-11-08T11:31:20.407Z"
   },
   {
    "duration": 44,
    "start_time": "2022-11-08T11:35:06.317Z"
   },
   {
    "duration": 72,
    "start_time": "2022-11-08T11:35:08.835Z"
   },
   {
    "duration": 65,
    "start_time": "2022-11-08T11:35:36.374Z"
   },
   {
    "duration": 21,
    "start_time": "2022-11-08T11:38:03.070Z"
   },
   {
    "duration": 25,
    "start_time": "2022-11-08T11:38:10.866Z"
   },
   {
    "duration": 45,
    "start_time": "2022-11-08T11:38:42.454Z"
   },
   {
    "duration": 91,
    "start_time": "2022-11-08T11:38:52.591Z"
   },
   {
    "duration": 17,
    "start_time": "2022-11-08T11:38:55.471Z"
   },
   {
    "duration": 24,
    "start_time": "2022-11-08T11:39:03.167Z"
   },
   {
    "duration": 18,
    "start_time": "2022-11-08T11:43:31.522Z"
   },
   {
    "duration": 50,
    "start_time": "2022-11-08T11:43:40.462Z"
   },
   {
    "duration": 40,
    "start_time": "2022-11-08T11:54:55.013Z"
   },
   {
    "duration": 89,
    "start_time": "2022-11-08T11:55:04.054Z"
   },
   {
    "duration": 42,
    "start_time": "2022-11-08T11:55:06.596Z"
   },
   {
    "duration": 50,
    "start_time": "2022-11-08T11:55:34.653Z"
   },
   {
    "duration": 45,
    "start_time": "2022-11-08T11:59:41.705Z"
   },
   {
    "duration": 44,
    "start_time": "2022-11-08T11:59:48.900Z"
   },
   {
    "duration": 47,
    "start_time": "2022-11-08T12:03:00.093Z"
   },
   {
    "duration": 80,
    "start_time": "2022-11-08T12:19:35.347Z"
   },
   {
    "duration": 41,
    "start_time": "2022-11-08T12:19:50.414Z"
   },
   {
    "duration": 48,
    "start_time": "2022-11-08T12:20:21.626Z"
   },
   {
    "duration": 47,
    "start_time": "2022-11-08T12:20:32.161Z"
   },
   {
    "duration": 53,
    "start_time": "2022-11-08T12:25:04.381Z"
   },
   {
    "duration": 51,
    "start_time": "2022-11-08T12:29:42.812Z"
   },
   {
    "duration": 51,
    "start_time": "2022-11-08T12:29:50.863Z"
   },
   {
    "duration": 51,
    "start_time": "2022-11-08T12:30:18.294Z"
   },
   {
    "duration": 52,
    "start_time": "2022-11-08T12:30:28.591Z"
   },
   {
    "duration": 51,
    "start_time": "2022-11-08T12:30:34.788Z"
   },
   {
    "duration": 79,
    "start_time": "2022-11-08T12:32:38.689Z"
   },
   {
    "duration": 55,
    "start_time": "2022-11-08T12:34:01.326Z"
   },
   {
    "duration": 50,
    "start_time": "2022-11-08T12:35:04.152Z"
   },
   {
    "duration": 48,
    "start_time": "2022-11-08T12:35:08.862Z"
   },
   {
    "duration": 54,
    "start_time": "2022-11-08T12:35:17.526Z"
   },
   {
    "duration": 50,
    "start_time": "2022-11-08T12:35:32.083Z"
   },
   {
    "duration": 51,
    "start_time": "2022-11-08T12:38:40.052Z"
   },
   {
    "duration": 50,
    "start_time": "2022-11-08T12:38:45.895Z"
   },
   {
    "duration": 51,
    "start_time": "2022-11-08T12:39:40.883Z"
   },
   {
    "duration": 82,
    "start_time": "2022-11-08T12:40:14.428Z"
   },
   {
    "duration": 52,
    "start_time": "2022-11-08T12:42:14.150Z"
   },
   {
    "duration": 55,
    "start_time": "2022-11-08T12:46:13.597Z"
   },
   {
    "duration": 58,
    "start_time": "2022-11-08T12:46:47.873Z"
   },
   {
    "duration": 54,
    "start_time": "2022-11-08T12:46:55.650Z"
   },
   {
    "duration": 54,
    "start_time": "2022-11-08T12:47:50.820Z"
   },
   {
    "duration": 54,
    "start_time": "2022-11-08T12:47:57.775Z"
   },
   {
    "duration": 818,
    "start_time": "2022-11-08T12:49:20.632Z"
   },
   {
    "duration": 55,
    "start_time": "2022-11-08T12:49:26.183Z"
   },
   {
    "duration": 82,
    "start_time": "2022-11-08T12:53:48.119Z"
   },
   {
    "duration": 57,
    "start_time": "2022-11-08T12:54:37.799Z"
   },
   {
    "duration": 53,
    "start_time": "2022-11-08T12:54:41.055Z"
   },
   {
    "duration": 63,
    "start_time": "2022-11-08T12:57:02.895Z"
   },
   {
    "duration": 55,
    "start_time": "2022-11-08T12:57:51.145Z"
   },
   {
    "duration": 2324,
    "start_time": "2022-11-08T13:17:44.979Z"
   },
   {
    "duration": 66,
    "start_time": "2022-11-08T13:34:51.440Z"
   },
   {
    "duration": 58,
    "start_time": "2022-11-08T13:35:02.763Z"
   },
   {
    "duration": 56,
    "start_time": "2022-11-08T13:35:14.105Z"
   },
   {
    "duration": 1995,
    "start_time": "2022-11-08T13:41:47.540Z"
   },
   {
    "duration": 1860,
    "start_time": "2022-11-08T13:43:03.571Z"
   },
   {
    "duration": 2009,
    "start_time": "2022-11-08T13:43:25.314Z"
   },
   {
    "duration": 61,
    "start_time": "2022-11-08T13:57:06.677Z"
   },
   {
    "duration": 58,
    "start_time": "2022-11-08T13:58:45.817Z"
   },
   {
    "duration": 144,
    "start_time": "2022-11-08T13:59:07.893Z"
   },
   {
    "duration": 70,
    "start_time": "2022-11-08T13:59:15.248Z"
   },
   {
    "duration": 62,
    "start_time": "2022-11-08T13:59:27.856Z"
   },
   {
    "duration": 57,
    "start_time": "2022-11-08T14:15:54.675Z"
   },
   {
    "duration": 622,
    "start_time": "2022-11-08T14:21:31.505Z"
   },
   {
    "duration": 58,
    "start_time": "2022-11-08T14:26:50.475Z"
   },
   {
    "duration": 61,
    "start_time": "2022-11-08T14:27:20.271Z"
   },
   {
    "duration": 110,
    "start_time": "2022-11-08T15:08:09.169Z"
   },
   {
    "duration": 142,
    "start_time": "2022-11-08T15:08:26.848Z"
   },
   {
    "duration": 63,
    "start_time": "2022-11-08T15:08:35.763Z"
   },
   {
    "duration": 1846,
    "start_time": "2022-11-08T15:09:21.259Z"
   },
   {
    "duration": 1918,
    "start_time": "2022-11-08T15:09:49.477Z"
   },
   {
    "duration": 60,
    "start_time": "2022-11-08T15:09:56.123Z"
   },
   {
    "duration": 58,
    "start_time": "2022-11-08T15:11:26.233Z"
   },
   {
    "duration": 142,
    "start_time": "2022-11-08T15:18:01.764Z"
   },
   {
    "duration": 63,
    "start_time": "2022-11-08T15:18:57.486Z"
   },
   {
    "duration": 61,
    "start_time": "2022-11-08T15:20:07.936Z"
   },
   {
    "duration": 64,
    "start_time": "2022-11-08T15:22:07.259Z"
   },
   {
    "duration": 60,
    "start_time": "2022-11-08T15:22:58.957Z"
   },
   {
    "duration": 74,
    "start_time": "2022-11-08T15:23:54.319Z"
   },
   {
    "duration": 71,
    "start_time": "2022-11-08T15:25:42.954Z"
   },
   {
    "duration": 61,
    "start_time": "2022-11-08T15:25:55.650Z"
   },
   {
    "duration": 66,
    "start_time": "2022-11-08T15:39:49.283Z"
   },
   {
    "duration": 157,
    "start_time": "2022-11-08T15:40:08.292Z"
   },
   {
    "duration": 64,
    "start_time": "2022-11-08T15:44:49.600Z"
   },
   {
    "duration": 71,
    "start_time": "2022-11-08T15:45:00.026Z"
   },
   {
    "duration": 60,
    "start_time": "2022-11-08T15:45:24.163Z"
   },
   {
    "duration": 91,
    "start_time": "2022-11-08T15:45:35.186Z"
   },
   {
    "duration": 2070,
    "start_time": "2022-11-08T15:55:03.819Z"
   },
   {
    "duration": 78,
    "start_time": "2022-11-08T15:56:55.743Z"
   },
   {
    "duration": 3,
    "start_time": "2022-11-08T15:57:51.760Z"
   },
   {
    "duration": 5,
    "start_time": "2022-11-08T15:58:01.210Z"
   },
   {
    "duration": 39,
    "start_time": "2022-11-08T15:59:24.411Z"
   },
   {
    "duration": 47,
    "start_time": "2022-11-08T15:59:33.373Z"
   },
   {
    "duration": 5,
    "start_time": "2022-11-08T16:00:11.635Z"
   },
   {
    "duration": 4,
    "start_time": "2022-11-08T16:00:15.771Z"
   },
   {
    "duration": 67,
    "start_time": "2022-11-08T16:25:02.360Z"
   },
   {
    "duration": 67,
    "start_time": "2022-11-08T16:26:22.036Z"
   },
   {
    "duration": 1183,
    "start_time": "2022-11-08T16:30:53.808Z"
   },
   {
    "duration": 69,
    "start_time": "2022-11-08T16:31:02.791Z"
   },
   {
    "duration": 918,
    "start_time": "2022-11-08T16:33:20.148Z"
   },
   {
    "duration": 67,
    "start_time": "2022-11-08T16:33:24.693Z"
   },
   {
    "duration": 63,
    "start_time": "2022-11-08T16:33:41.568Z"
   },
   {
    "duration": 178,
    "start_time": "2022-11-08T16:34:21.764Z"
   },
   {
    "duration": 68,
    "start_time": "2022-11-08T16:36:44.255Z"
   },
   {
    "duration": 60,
    "start_time": "2022-11-08T16:38:09.605Z"
   },
   {
    "duration": 64,
    "start_time": "2022-11-08T16:38:16.872Z"
   },
   {
    "duration": 62,
    "start_time": "2022-11-08T16:39:05.864Z"
   },
   {
    "duration": 65,
    "start_time": "2022-11-08T16:39:11.633Z"
   },
   {
    "duration": 69,
    "start_time": "2022-11-08T16:39:19.837Z"
   },
   {
    "duration": 106,
    "start_time": "2022-11-08T16:48:24.701Z"
   },
   {
    "duration": 68,
    "start_time": "2022-11-08T16:48:53.530Z"
   },
   {
    "duration": 62,
    "start_time": "2022-11-08T16:52:49.931Z"
   },
   {
    "duration": 147,
    "start_time": "2022-11-08T16:54:12.235Z"
   },
   {
    "duration": 66,
    "start_time": "2022-11-08T16:54:19.172Z"
   },
   {
    "duration": 57,
    "start_time": "2022-11-08T17:00:07.698Z"
   },
   {
    "duration": 61,
    "start_time": "2022-11-08T17:01:56.562Z"
   },
   {
    "duration": 66,
    "start_time": "2022-11-08T17:02:08.756Z"
   },
   {
    "duration": 67,
    "start_time": "2022-11-08T17:02:29.964Z"
   },
   {
    "duration": 63,
    "start_time": "2022-11-08T17:03:08.230Z"
   },
   {
    "duration": 67,
    "start_time": "2022-11-08T17:03:26.439Z"
   },
   {
    "duration": 67,
    "start_time": "2022-11-08T17:04:01.773Z"
   },
   {
    "duration": 91,
    "start_time": "2022-11-08T17:04:25.328Z"
   },
   {
    "duration": 67,
    "start_time": "2022-11-08T17:08:23.030Z"
   },
   {
    "duration": 149,
    "start_time": "2022-11-08T17:08:51.413Z"
   },
   {
    "duration": 76,
    "start_time": "2022-11-08T17:10:11.556Z"
   },
   {
    "duration": 1841,
    "start_time": "2022-11-08T17:10:21.551Z"
   },
   {
    "duration": 183,
    "start_time": "2022-11-08T17:10:24.916Z"
   },
   {
    "duration": 63,
    "start_time": "2022-11-08T17:10:41.687Z"
   },
   {
    "duration": 61,
    "start_time": "2022-11-08T17:11:22.638Z"
   },
   {
    "duration": 66,
    "start_time": "2022-11-08T17:11:30.462Z"
   },
   {
    "duration": 64,
    "start_time": "2022-11-08T17:11:52.944Z"
   },
   {
    "duration": 66,
    "start_time": "2022-11-08T17:12:06.059Z"
   },
   {
    "duration": 66,
    "start_time": "2022-11-08T17:12:50.981Z"
   },
   {
    "duration": 1953,
    "start_time": "2022-11-08T17:12:58.019Z"
   },
   {
    "duration": 94,
    "start_time": "2022-11-08T17:13:01.298Z"
   },
   {
    "duration": 70,
    "start_time": "2022-11-08T17:14:32.379Z"
   },
   {
    "duration": 66,
    "start_time": "2022-11-08T17:15:21.654Z"
   },
   {
    "duration": 189,
    "start_time": "2022-11-08T17:15:38.977Z"
   },
   {
    "duration": 67,
    "start_time": "2022-11-08T17:28:18.739Z"
   },
   {
    "duration": 70,
    "start_time": "2022-11-08T17:38:36.735Z"
   },
   {
    "duration": 62,
    "start_time": "2022-11-08T17:40:59.871Z"
   },
   {
    "duration": 69,
    "start_time": "2022-11-08T17:41:07.681Z"
   },
   {
    "duration": 69,
    "start_time": "2022-11-08T17:41:31.631Z"
   },
   {
    "duration": 64,
    "start_time": "2022-11-08T17:43:39.483Z"
   },
   {
    "duration": 66,
    "start_time": "2022-11-08T17:43:56.101Z"
   },
   {
    "duration": 71,
    "start_time": "2022-11-08T17:46:16.993Z"
   },
   {
    "duration": 2213,
    "start_time": "2022-11-08T17:54:38.095Z"
   },
   {
    "duration": 197,
    "start_time": "2022-11-08T17:55:03.965Z"
   },
   {
    "duration": 4,
    "start_time": "2022-11-08T17:56:13.272Z"
   },
   {
    "duration": 7,
    "start_time": "2022-11-08T17:56:20.306Z"
   },
   {
    "duration": 4,
    "start_time": "2022-11-08T17:57:09.545Z"
   },
   {
    "duration": 7,
    "start_time": "2022-11-08T17:57:15.723Z"
   },
   {
    "duration": 11,
    "start_time": "2022-11-08T17:57:54.204Z"
   },
   {
    "duration": 13,
    "start_time": "2022-11-08T17:58:14.262Z"
   },
   {
    "duration": 16,
    "start_time": "2022-11-08T17:58:31.965Z"
   },
   {
    "duration": 282,
    "start_time": "2022-11-08T18:02:38.986Z"
   },
   {
    "duration": 259,
    "start_time": "2022-11-08T18:02:45.659Z"
   },
   {
    "duration": 255,
    "start_time": "2022-11-08T18:02:57.936Z"
   },
   {
    "duration": 341,
    "start_time": "2022-11-08T18:12:07.858Z"
   },
   {
    "duration": 268,
    "start_time": "2022-11-08T18:12:21.904Z"
   },
   {
    "duration": 266,
    "start_time": "2022-11-08T18:12:28.385Z"
   },
   {
    "duration": 267,
    "start_time": "2022-11-08T18:14:08.855Z"
   },
   {
    "duration": 375,
    "start_time": "2022-11-08T18:14:17.440Z"
   },
   {
    "duration": 262,
    "start_time": "2022-11-08T18:14:33.713Z"
   },
   {
    "duration": 272,
    "start_time": "2022-11-08T18:16:04.656Z"
   },
   {
    "duration": 262,
    "start_time": "2022-11-08T18:16:19.682Z"
   },
   {
    "duration": 1978,
    "start_time": "2022-11-08T18:16:33.003Z"
   },
   {
    "duration": 82,
    "start_time": "2022-11-08T18:16:36.147Z"
   },
   {
    "duration": 382,
    "start_time": "2022-11-08T18:16:39.273Z"
   },
   {
    "duration": 288,
    "start_time": "2022-11-08T18:17:45.942Z"
   },
   {
    "duration": 264,
    "start_time": "2022-11-08T18:17:55.482Z"
   },
   {
    "duration": 269,
    "start_time": "2022-11-08T18:21:20.240Z"
   },
   {
    "duration": 291,
    "start_time": "2022-11-08T18:26:15.730Z"
   },
   {
    "duration": 52,
    "start_time": "2022-11-09T06:42:47.626Z"
   },
   {
    "duration": 8,
    "start_time": "2022-11-09T06:43:07.786Z"
   },
   {
    "duration": 1931,
    "start_time": "2022-11-09T06:43:16.466Z"
   },
   {
    "duration": 126,
    "start_time": "2022-11-09T06:43:22.446Z"
   },
   {
    "duration": 271,
    "start_time": "2022-11-09T06:43:25.154Z"
   },
   {
    "duration": 477,
    "start_time": "2022-11-09T06:43:28.243Z"
   },
   {
    "duration": 961,
    "start_time": "2022-11-09T06:44:18.966Z"
   },
   {
    "duration": 1035,
    "start_time": "2022-11-09T06:46:42.225Z"
   },
   {
    "duration": 1332,
    "start_time": "2022-11-09T06:52:19.409Z"
   },
   {
    "duration": 1411,
    "start_time": "2022-11-09T06:53:25.923Z"
   },
   {
    "duration": 1242,
    "start_time": "2022-11-09T06:59:07.650Z"
   },
   {
    "duration": 1845,
    "start_time": "2022-11-09T07:00:41.673Z"
   },
   {
    "duration": 73,
    "start_time": "2022-11-09T07:00:44.584Z"
   },
   {
    "duration": 357,
    "start_time": "2022-11-09T07:00:47.320Z"
   },
   {
    "duration": 1159,
    "start_time": "2022-11-09T07:00:50.174Z"
   },
   {
    "duration": 1200,
    "start_time": "2022-11-09T07:01:29.591Z"
   },
   {
    "duration": 1192,
    "start_time": "2022-11-09T07:02:00.554Z"
   },
   {
    "duration": 1126,
    "start_time": "2022-11-09T07:03:16.483Z"
   },
   {
    "duration": 1315,
    "start_time": "2022-11-09T07:16:36.319Z"
   },
   {
    "duration": 1195,
    "start_time": "2022-11-09T07:18:01.060Z"
   },
   {
    "duration": 1484,
    "start_time": "2022-11-09T07:18:18.371Z"
   },
   {
    "duration": 1326,
    "start_time": "2022-11-09T07:18:37.901Z"
   },
   {
    "duration": 1134,
    "start_time": "2022-11-09T07:19:39.609Z"
   },
   {
    "duration": 593,
    "start_time": "2022-11-09T07:20:16.073Z"
   },
   {
    "duration": 485,
    "start_time": "2022-11-09T07:20:28.992Z"
   },
   {
    "duration": 297,
    "start_time": "2022-11-09T07:20:48.586Z"
   },
   {
    "duration": 1199,
    "start_time": "2022-11-09T07:20:52.519Z"
   },
   {
    "duration": 1241,
    "start_time": "2022-11-09T07:21:00.473Z"
   },
   {
    "duration": 1218,
    "start_time": "2022-11-09T07:21:46.351Z"
   },
   {
    "duration": 1178,
    "start_time": "2022-11-09T07:22:30.545Z"
   },
   {
    "duration": 1322,
    "start_time": "2022-11-09T07:30:04.924Z"
   },
   {
    "duration": 75,
    "start_time": "2022-11-09T07:30:15.470Z"
   },
   {
    "duration": 1159,
    "start_time": "2022-11-09T07:31:46.846Z"
   },
   {
    "duration": 1512,
    "start_time": "2022-11-09T07:33:32.924Z"
   },
   {
    "duration": 1597,
    "start_time": "2022-11-09T07:33:59.351Z"
   },
   {
    "duration": 1427,
    "start_time": "2022-11-09T07:34:29.379Z"
   },
   {
    "duration": 1263,
    "start_time": "2022-11-09T07:38:39.321Z"
   },
   {
    "duration": 1286,
    "start_time": "2022-11-09T07:48:02.960Z"
   },
   {
    "duration": 1204,
    "start_time": "2022-11-09T07:48:13.465Z"
   },
   {
    "duration": 2339,
    "start_time": "2022-11-09T07:48:29.669Z"
   },
   {
    "duration": 1284,
    "start_time": "2022-11-09T07:49:36.141Z"
   },
   {
    "duration": 52,
    "start_time": "2022-11-09T07:53:50.118Z"
   },
   {
    "duration": 2830,
    "start_time": "2022-11-09T07:54:11.192Z"
   },
   {
    "duration": 82,
    "start_time": "2022-11-09T07:54:14.865Z"
   },
   {
    "duration": 51,
    "start_time": "2022-11-09T07:54:17.609Z"
   },
   {
    "duration": 265,
    "start_time": "2022-11-09T07:54:39.761Z"
   },
   {
    "duration": 1383,
    "start_time": "2022-11-09T07:54:44.443Z"
   },
   {
    "duration": 1165,
    "start_time": "2022-11-09T07:54:54.068Z"
   },
   {
    "duration": 1365,
    "start_time": "2022-11-09T07:55:12.158Z"
   },
   {
    "duration": 1447,
    "start_time": "2022-11-09T07:55:18.808Z"
   },
   {
    "duration": 98,
    "start_time": "2022-11-09T07:59:33.651Z"
   },
   {
    "duration": 2624,
    "start_time": "2022-11-09T08:00:04.102Z"
   },
   {
    "duration": 127,
    "start_time": "2022-11-09T08:00:06.728Z"
   },
   {
    "duration": 289,
    "start_time": "2022-11-09T08:00:07.640Z"
   },
   {
    "duration": 61,
    "start_time": "2022-11-09T08:03:15.978Z"
   },
   {
    "duration": 14,
    "start_time": "2022-11-09T08:03:31.311Z"
   },
   {
    "duration": 2686,
    "start_time": "2022-11-09T08:03:37.168Z"
   },
   {
    "duration": 124,
    "start_time": "2022-11-09T08:03:41.576Z"
   },
   {
    "duration": 315,
    "start_time": "2022-11-09T08:03:44.055Z"
   },
   {
    "duration": 45,
    "start_time": "2022-11-09T08:09:13.193Z"
   },
   {
    "duration": 2954,
    "start_time": "2022-11-09T08:09:18.540Z"
   },
   {
    "duration": 94,
    "start_time": "2022-11-09T08:09:21.496Z"
   },
   {
    "duration": 309,
    "start_time": "2022-11-09T08:09:21.591Z"
   },
   {
    "duration": 1388,
    "start_time": "2022-11-09T08:12:11.025Z"
   },
   {
    "duration": 1510,
    "start_time": "2022-11-09T08:13:25.735Z"
   },
   {
    "duration": 1573,
    "start_time": "2022-11-09T08:15:18.423Z"
   },
   {
    "duration": 1610,
    "start_time": "2022-11-09T08:15:36.202Z"
   },
   {
    "duration": 1803,
    "start_time": "2022-11-09T08:16:10.521Z"
   },
   {
    "duration": 92,
    "start_time": "2022-11-09T08:16:12.326Z"
   },
   {
    "duration": 273,
    "start_time": "2022-11-09T08:16:13.134Z"
   },
   {
    "duration": 1512,
    "start_time": "2022-11-09T08:16:15.078Z"
   },
   {
    "duration": 1790,
    "start_time": "2022-11-09T08:16:33.785Z"
   },
   {
    "duration": 1878,
    "start_time": "2022-11-09T08:16:52.018Z"
   },
   {
    "duration": 1844,
    "start_time": "2022-11-09T08:17:25.295Z"
   },
   {
    "duration": 275,
    "start_time": "2022-11-09T08:20:50.272Z"
   },
   {
    "duration": 77,
    "start_time": "2022-11-09T08:21:03.037Z"
   },
   {
    "duration": 88,
    "start_time": "2022-11-09T08:21:10.256Z"
   },
   {
    "duration": 1817,
    "start_time": "2022-11-09T08:21:40.980Z"
   },
   {
    "duration": 1997,
    "start_time": "2022-11-09T08:26:32.821Z"
   },
   {
    "duration": 1912,
    "start_time": "2022-11-09T08:38:25.370Z"
   },
   {
    "duration": 2115,
    "start_time": "2022-11-09T08:38:51.340Z"
   },
   {
    "duration": 2001,
    "start_time": "2022-11-09T08:40:40.273Z"
   },
   {
    "duration": 2419,
    "start_time": "2022-11-09T08:47:42.396Z"
   },
   {
    "duration": 2364,
    "start_time": "2022-11-09T08:48:24.005Z"
   },
   {
    "duration": 2183,
    "start_time": "2022-11-09T08:50:08.574Z"
   },
   {
    "duration": 2276,
    "start_time": "2022-11-09T09:00:40.297Z"
   },
   {
    "duration": 2183,
    "start_time": "2022-11-09T09:01:49.234Z"
   },
   {
    "duration": 2661,
    "start_time": "2022-11-09T09:37:54.536Z"
   },
   {
    "duration": 2699,
    "start_time": "2022-11-09T09:40:50.476Z"
   },
   {
    "duration": 2748,
    "start_time": "2022-11-09T09:45:54.928Z"
   },
   {
    "duration": 2907,
    "start_time": "2022-11-09T09:47:58.875Z"
   },
   {
    "duration": 3381,
    "start_time": "2022-11-09T09:48:19.803Z"
   },
   {
    "duration": 2701,
    "start_time": "2022-11-09T09:48:46.237Z"
   },
   {
    "duration": 2927,
    "start_time": "2022-11-09T09:58:29.831Z"
   },
   {
    "duration": 3238,
    "start_time": "2022-11-09T09:59:42.642Z"
   },
   {
    "duration": 3030,
    "start_time": "2022-11-09T10:01:35.158Z"
   },
   {
    "duration": 3289,
    "start_time": "2022-11-09T10:02:26.228Z"
   },
   {
    "duration": 3299,
    "start_time": "2022-11-09T10:09:20.859Z"
   },
   {
    "duration": 424,
    "start_time": "2022-11-09T10:09:36.250Z"
   },
   {
    "duration": 3222,
    "start_time": "2022-11-09T10:09:38.622Z"
   },
   {
    "duration": 3443,
    "start_time": "2022-11-09T10:09:50.853Z"
   },
   {
    "duration": 3242,
    "start_time": "2022-11-09T10:10:24.518Z"
   },
   {
    "duration": 3301,
    "start_time": "2022-11-09T10:10:40.581Z"
   },
   {
    "duration": 3493,
    "start_time": "2022-11-09T10:11:12.618Z"
   },
   {
    "duration": 3362,
    "start_time": "2022-11-09T10:36:12.752Z"
   },
   {
    "duration": 3506,
    "start_time": "2022-11-09T10:36:21.286Z"
   },
   {
    "duration": 3438,
    "start_time": "2022-11-09T11:05:48.168Z"
   },
   {
    "duration": 3508,
    "start_time": "2022-11-09T11:06:09.677Z"
   },
   {
    "duration": 3729,
    "start_time": "2022-11-09T11:08:19.182Z"
   },
   {
    "duration": 3473,
    "start_time": "2022-11-09T11:13:43.389Z"
   },
   {
    "duration": 3460,
    "start_time": "2022-11-09T11:21:43.197Z"
   },
   {
    "duration": 103,
    "start_time": "2022-11-09T11:22:11.949Z"
   },
   {
    "duration": 3484,
    "start_time": "2022-11-09T11:22:24.055Z"
   },
   {
    "duration": 3440,
    "start_time": "2022-11-09T11:22:50.563Z"
   },
   {
    "duration": 3484,
    "start_time": "2022-11-09T11:24:34.024Z"
   },
   {
    "duration": 3486,
    "start_time": "2022-11-09T11:24:42.833Z"
   },
   {
    "duration": 3469,
    "start_time": "2022-11-09T11:25:41.912Z"
   },
   {
    "duration": 3765,
    "start_time": "2022-11-09T11:26:00.464Z"
   },
   {
    "duration": 3737,
    "start_time": "2022-11-09T11:26:42.922Z"
   },
   {
    "duration": 3906,
    "start_time": "2022-11-09T11:26:59.796Z"
   },
   {
    "duration": 3745,
    "start_time": "2022-11-09T11:30:08.678Z"
   },
   {
    "duration": 4024,
    "start_time": "2022-11-09T11:31:15.410Z"
   },
   {
    "duration": 4205,
    "start_time": "2022-11-09T11:31:50.082Z"
   },
   {
    "duration": 4207,
    "start_time": "2022-11-09T11:33:02.394Z"
   },
   {
    "duration": 4350,
    "start_time": "2022-11-09T11:36:44.728Z"
   },
   {
    "duration": 2484,
    "start_time": "2022-11-09T11:41:09.316Z"
   },
   {
    "duration": 2045,
    "start_time": "2022-11-09T11:41:18.604Z"
   },
   {
    "duration": 529,
    "start_time": "2022-11-09T11:42:09.528Z"
   },
   {
    "duration": 1441,
    "start_time": "2022-11-09T11:42:22.962Z"
   },
   {
    "duration": 1173,
    "start_time": "2022-11-09T11:47:17.024Z"
   },
   {
    "duration": 264,
    "start_time": "2022-11-09T12:00:55.986Z"
   },
   {
    "duration": 549,
    "start_time": "2022-11-09T12:03:09.770Z"
   },
   {
    "duration": 679,
    "start_time": "2022-11-09T12:05:07.197Z"
   },
   {
    "duration": 542,
    "start_time": "2022-11-09T12:06:37.377Z"
   },
   {
    "duration": 534,
    "start_time": "2022-11-09T12:07:29.589Z"
   },
   {
    "duration": 674,
    "start_time": "2022-11-09T12:07:45.717Z"
   },
   {
    "duration": 568,
    "start_time": "2022-11-09T12:08:21.461Z"
   },
   {
    "duration": 560,
    "start_time": "2022-11-09T12:08:35.210Z"
   },
   {
    "duration": 680,
    "start_time": "2022-11-09T12:09:00.121Z"
   },
   {
    "duration": 550,
    "start_time": "2022-11-09T12:12:30.172Z"
   },
   {
    "duration": 606,
    "start_time": "2022-11-09T12:12:58.199Z"
   },
   {
    "duration": 953,
    "start_time": "2022-11-09T12:15:27.978Z"
   },
   {
    "duration": 809,
    "start_time": "2022-11-09T12:15:37.361Z"
   },
   {
    "duration": 951,
    "start_time": "2022-11-09T12:15:58.141Z"
   },
   {
    "duration": 1074,
    "start_time": "2022-11-09T12:18:32.951Z"
   },
   {
    "duration": 1177,
    "start_time": "2022-11-09T12:23:06.441Z"
   },
   {
    "duration": 1423,
    "start_time": "2022-11-09T12:26:49.536Z"
   },
   {
    "duration": 1245,
    "start_time": "2022-11-09T12:27:26.885Z"
   },
   {
    "duration": 1610,
    "start_time": "2022-11-09T12:29:25.729Z"
   },
   {
    "duration": 2612,
    "start_time": "2022-11-09T12:32:53.036Z"
   },
   {
    "duration": 1663,
    "start_time": "2022-11-09T12:33:10.131Z"
   },
   {
    "duration": 1514,
    "start_time": "2022-11-09T12:33:29.891Z"
   },
   {
    "duration": 1902,
    "start_time": "2022-11-09T12:36:52.048Z"
   },
   {
    "duration": 2054,
    "start_time": "2022-11-09T12:37:11.767Z"
   },
   {
    "duration": 1969,
    "start_time": "2022-11-09T12:37:46.983Z"
   },
   {
    "duration": 2134,
    "start_time": "2022-11-09T12:41:06.398Z"
   },
   {
    "duration": 2378,
    "start_time": "2022-11-09T12:41:21.757Z"
   },
   {
    "duration": 2393,
    "start_time": "2022-11-09T12:42:18.102Z"
   },
   {
    "duration": 3007,
    "start_time": "2022-11-09T12:44:02.618Z"
   },
   {
    "duration": 2781,
    "start_time": "2022-11-09T12:46:37.425Z"
   },
   {
    "duration": 3082,
    "start_time": "2022-11-09T12:54:52.646Z"
   },
   {
    "duration": 3160,
    "start_time": "2022-11-09T12:55:27.618Z"
   },
   {
    "duration": 3188,
    "start_time": "2022-11-09T12:56:22.546Z"
   },
   {
    "duration": 2699,
    "start_time": "2022-11-09T13:01:46.991Z"
   },
   {
    "duration": 2729,
    "start_time": "2022-11-09T13:02:24.485Z"
   },
   {
    "duration": 566,
    "start_time": "2022-11-09T13:07:51.621Z"
   },
   {
    "duration": 715,
    "start_time": "2022-11-09T13:13:37.123Z"
   },
   {
    "duration": 580,
    "start_time": "2022-11-09T13:16:15.226Z"
   },
   {
    "duration": 1038,
    "start_time": "2022-11-09T13:16:31.526Z"
   },
   {
    "duration": 1283,
    "start_time": "2022-11-09T13:17:07.469Z"
   },
   {
    "duration": 1061,
    "start_time": "2022-11-09T13:17:55.551Z"
   },
   {
    "duration": 670,
    "start_time": "2022-11-09T13:18:23.919Z"
   },
   {
    "duration": 966,
    "start_time": "2022-11-09T13:19:29.741Z"
   },
   {
    "duration": 2041,
    "start_time": "2022-11-09T13:20:28.278Z"
   },
   {
    "duration": 86,
    "start_time": "2022-11-09T13:20:30.321Z"
   },
   {
    "duration": 261,
    "start_time": "2022-11-09T13:20:30.945Z"
   },
   {
    "duration": 2773,
    "start_time": "2022-11-09T13:20:32.965Z"
   },
   {
    "duration": 992,
    "start_time": "2022-11-09T13:20:35.740Z"
   },
   {
    "duration": 961,
    "start_time": "2022-11-09T13:22:41.448Z"
   },
   {
    "duration": 496,
    "start_time": "2022-11-09T13:23:38.397Z"
   },
   {
    "duration": 276,
    "start_time": "2022-11-09T13:24:35.797Z"
   },
   {
    "duration": 1128,
    "start_time": "2022-11-09T13:34:17.874Z"
   },
   {
    "duration": 86,
    "start_time": "2022-11-09T13:37:14.863Z"
   },
   {
    "duration": 1442,
    "start_time": "2022-11-09T13:37:23.065Z"
   },
   {
    "duration": 303,
    "start_time": "2022-11-09T13:38:58.039Z"
   },
   {
    "duration": 151,
    "start_time": "2022-11-09T13:44:18.395Z"
   },
   {
    "duration": 157,
    "start_time": "2022-11-09T13:45:19.638Z"
   },
   {
    "duration": 152,
    "start_time": "2022-11-09T13:47:28.907Z"
   },
   {
    "duration": 151,
    "start_time": "2022-11-09T13:48:51.638Z"
   },
   {
    "duration": 143,
    "start_time": "2022-11-09T13:49:00.818Z"
   },
   {
    "duration": 301,
    "start_time": "2022-11-09T13:49:29.831Z"
   },
   {
    "duration": 438,
    "start_time": "2022-11-09T13:49:55.839Z"
   },
   {
    "duration": 606,
    "start_time": "2022-11-09T13:50:51.493Z"
   },
   {
    "duration": 500,
    "start_time": "2022-11-09T13:52:57.026Z"
   },
   {
    "duration": 643,
    "start_time": "2022-11-09T13:53:28.625Z"
   },
   {
    "duration": 460,
    "start_time": "2022-11-09T13:54:01.890Z"
   },
   {
    "duration": 593,
    "start_time": "2022-11-09T13:54:18.477Z"
   },
   {
    "duration": 451,
    "start_time": "2022-11-09T13:55:28.883Z"
   },
   {
    "duration": 443,
    "start_time": "2022-11-09T13:55:37.667Z"
   },
   {
    "duration": 461,
    "start_time": "2022-11-09T13:55:45.578Z"
   },
   {
    "duration": 588,
    "start_time": "2022-11-09T13:55:57.478Z"
   },
   {
    "duration": 834,
    "start_time": "2022-11-09T13:56:12.415Z"
   },
   {
    "duration": 620,
    "start_time": "2022-11-09T13:58:06.284Z"
   },
   {
    "duration": 604,
    "start_time": "2022-11-09T13:58:16.171Z"
   },
   {
    "duration": 631,
    "start_time": "2022-11-09T13:58:27.287Z"
   },
   {
    "duration": 614,
    "start_time": "2022-11-09T13:59:07.127Z"
   },
   {
    "duration": 598,
    "start_time": "2022-11-09T13:59:17.908Z"
   },
   {
    "duration": 816,
    "start_time": "2022-11-09T13:59:30.210Z"
   },
   {
    "duration": 611,
    "start_time": "2022-11-09T13:59:51.099Z"
   },
   {
    "duration": 652,
    "start_time": "2022-11-09T14:00:09.614Z"
   },
   {
    "duration": 629,
    "start_time": "2022-11-09T14:00:15.409Z"
   },
   {
    "duration": 606,
    "start_time": "2022-11-09T14:00:26.997Z"
   },
   {
    "duration": 737,
    "start_time": "2022-11-09T14:01:15.427Z"
   },
   {
    "duration": 722,
    "start_time": "2022-11-09T14:03:00.591Z"
   },
   {
    "duration": 866,
    "start_time": "2022-11-09T14:03:36.795Z"
   },
   {
    "duration": 1126,
    "start_time": "2022-11-09T14:06:49.645Z"
   },
   {
    "duration": 6,
    "start_time": "2022-11-09T14:08:07.222Z"
   },
   {
    "duration": 7,
    "start_time": "2022-11-09T14:08:13.991Z"
   },
   {
    "duration": 7,
    "start_time": "2022-11-09T14:08:30.265Z"
   },
   {
    "duration": 16,
    "start_time": "2022-11-09T14:09:48.116Z"
   },
   {
    "duration": 18,
    "start_time": "2022-11-09T14:09:57.947Z"
   },
   {
    "duration": 18,
    "start_time": "2022-11-09T14:10:06.346Z"
   },
   {
    "duration": 69,
    "start_time": "2022-11-09T14:12:47.301Z"
   },
   {
    "duration": 20,
    "start_time": "2022-11-09T14:13:05.444Z"
   },
   {
    "duration": 22,
    "start_time": "2022-11-09T14:13:25.212Z"
   },
   {
    "duration": 22,
    "start_time": "2022-11-09T14:13:58.345Z"
   },
   {
    "duration": 25,
    "start_time": "2022-11-09T14:14:24.031Z"
   },
   {
    "duration": 24,
    "start_time": "2022-11-09T14:16:06.366Z"
   },
   {
    "duration": 165,
    "start_time": "2022-11-09T14:19:11.032Z"
   },
   {
    "duration": 362,
    "start_time": "2022-11-09T14:19:25.610Z"
   },
   {
    "duration": 307,
    "start_time": "2022-11-09T14:21:22.389Z"
   },
   {
    "duration": 271,
    "start_time": "2022-11-09T14:21:29.820Z"
   },
   {
    "duration": 177,
    "start_time": "2022-11-09T14:22:09.340Z"
   },
   {
    "duration": 175,
    "start_time": "2022-11-09T14:23:00.122Z"
   },
   {
    "duration": 181,
    "start_time": "2022-11-09T14:24:59.317Z"
   },
   {
    "duration": 181,
    "start_time": "2022-11-09T14:25:29.835Z"
   },
   {
    "duration": 193,
    "start_time": "2022-11-09T14:26:06.459Z"
   },
   {
    "duration": 166,
    "start_time": "2022-11-09T14:26:15.252Z"
   },
   {
    "duration": 3,
    "start_time": "2022-11-09T14:38:14.476Z"
   },
   {
    "duration": 3,
    "start_time": "2022-11-09T14:38:20.825Z"
   },
   {
    "duration": 13,
    "start_time": "2022-11-09T14:43:19.184Z"
   },
   {
    "duration": 543,
    "start_time": "2022-11-09T16:27:24.713Z"
   },
   {
    "duration": 409,
    "start_time": "2022-11-09T16:27:48.297Z"
   },
   {
    "duration": 459,
    "start_time": "2022-11-09T16:36:42.223Z"
   },
   {
    "duration": 3003,
    "start_time": "2022-11-09T16:40:08.089Z"
   },
   {
    "duration": 3033,
    "start_time": "2022-11-09T16:41:41.620Z"
   },
   {
    "duration": 426,
    "start_time": "2022-11-09T17:11:36.069Z"
   },
   {
    "duration": 3,
    "start_time": "2022-11-09T17:14:37.371Z"
   },
   {
    "duration": 3,
    "start_time": "2022-11-09T17:21:47.372Z"
   },
   {
    "duration": 13,
    "start_time": "2022-11-09T17:34:18.813Z"
   },
   {
    "duration": 13,
    "start_time": "2022-11-09T17:34:49.010Z"
   },
   {
    "duration": 80,
    "start_time": "2022-11-09T17:36:15.621Z"
   },
   {
    "duration": 13,
    "start_time": "2022-11-09T17:36:41.202Z"
   },
   {
    "duration": 11,
    "start_time": "2022-11-09T17:37:25.116Z"
   },
   {
    "duration": 170,
    "start_time": "2022-11-09T17:38:00.814Z"
   },
   {
    "duration": 163,
    "start_time": "2022-11-09T17:39:59.035Z"
   },
   {
    "duration": 159,
    "start_time": "2022-11-09T17:41:38.597Z"
   },
   {
    "duration": 274,
    "start_time": "2022-11-09T17:42:11.171Z"
   },
   {
    "duration": 163,
    "start_time": "2022-11-09T17:42:36.357Z"
   },
   {
    "duration": 159,
    "start_time": "2022-11-09T17:42:53.367Z"
   },
   {
    "duration": 161,
    "start_time": "2022-11-09T17:43:11.233Z"
   },
   {
    "duration": 158,
    "start_time": "2022-11-09T17:43:30.235Z"
   },
   {
    "duration": 3084,
    "start_time": "2022-11-09T17:57:31.326Z"
   },
   {
    "duration": 3015,
    "start_time": "2022-11-09T17:58:28.058Z"
   },
   {
    "duration": 3282,
    "start_time": "2022-11-09T18:06:45.867Z"
   },
   {
    "duration": 3239,
    "start_time": "2022-11-09T18:22:59.566Z"
   },
   {
    "duration": 3282,
    "start_time": "2022-11-09T18:23:29.730Z"
   },
   {
    "duration": 3278,
    "start_time": "2022-11-09T18:24:00.119Z"
   },
   {
    "duration": 4118,
    "start_time": "2022-11-09T18:31:27.324Z"
   },
   {
    "duration": 2785,
    "start_time": "2022-11-09T18:31:47.244Z"
   },
   {
    "duration": 3321,
    "start_time": "2022-11-09T18:34:08.309Z"
   },
   {
    "duration": 3059,
    "start_time": "2022-11-09T18:34:31.178Z"
   },
   {
    "duration": 2895,
    "start_time": "2022-11-09T18:35:07.299Z"
   },
   {
    "duration": 2908,
    "start_time": "2022-11-09T18:35:40.723Z"
   },
   {
    "duration": 2604,
    "start_time": "2022-11-09T18:35:52.514Z"
   },
   {
    "duration": 1444,
    "start_time": "2022-11-09T18:37:38.838Z"
   },
   {
    "duration": 151,
    "start_time": "2022-11-09T18:37:59.423Z"
   },
   {
    "duration": 167,
    "start_time": "2022-11-09T18:38:26.339Z"
   },
   {
    "duration": 155,
    "start_time": "2022-11-09T18:39:00.793Z"
   },
   {
    "duration": 160,
    "start_time": "2022-11-09T18:39:47.351Z"
   },
   {
    "duration": 147,
    "start_time": "2022-11-09T18:39:49.064Z"
   },
   {
    "duration": 137,
    "start_time": "2022-11-09T18:39:50.543Z"
   },
   {
    "duration": 154,
    "start_time": "2022-11-09T18:39:51.725Z"
   },
   {
    "duration": 147,
    "start_time": "2022-11-09T18:39:54.576Z"
   },
   {
    "duration": 295,
    "start_time": "2022-11-09T18:44:28.577Z"
   },
   {
    "duration": 292,
    "start_time": "2022-11-09T18:44:39.623Z"
   },
   {
    "duration": 134,
    "start_time": "2022-11-09T18:46:48.070Z"
   },
   {
    "duration": 143,
    "start_time": "2022-11-09T18:46:54.929Z"
   },
   {
    "duration": 139,
    "start_time": "2022-11-09T18:47:23.972Z"
   },
   {
    "duration": 142,
    "start_time": "2022-11-09T18:48:22.749Z"
   },
   {
    "duration": 155,
    "start_time": "2022-11-09T18:48:48.408Z"
   },
   {
    "duration": 218,
    "start_time": "2022-11-09T18:49:05.469Z"
   },
   {
    "duration": 151,
    "start_time": "2022-11-09T18:50:13.391Z"
   },
   {
    "duration": 66,
    "start_time": "2022-11-09T18:50:32.639Z"
   },
   {
    "duration": 185,
    "start_time": "2022-11-09T18:50:42.514Z"
   },
   {
    "duration": 203,
    "start_time": "2022-11-09T18:52:06.197Z"
   },
   {
    "duration": 172,
    "start_time": "2022-11-09T18:52:56.141Z"
   },
   {
    "duration": 141,
    "start_time": "2022-11-09T18:53:03.491Z"
   },
   {
    "duration": 158,
    "start_time": "2022-11-09T18:54:09.113Z"
   },
   {
    "duration": 232,
    "start_time": "2022-11-09T18:55:25.841Z"
   },
   {
    "duration": 18,
    "start_time": "2022-11-09T18:55:31.090Z"
   },
   {
    "duration": 27,
    "start_time": "2022-11-09T18:55:53.341Z"
   },
   {
    "duration": 26,
    "start_time": "2022-11-09T18:56:07.328Z"
   },
   {
    "duration": 4,
    "start_time": "2022-11-09T18:59:01.390Z"
   },
   {
    "duration": 172,
    "start_time": "2022-11-09T18:59:35.202Z"
   },
   {
    "duration": 163,
    "start_time": "2022-11-09T18:59:51.466Z"
   },
   {
    "duration": 213,
    "start_time": "2022-11-09T19:01:56.615Z"
   },
   {
    "duration": 172,
    "start_time": "2022-11-09T19:02:38.053Z"
   },
   {
    "duration": 184,
    "start_time": "2022-11-09T19:02:52.152Z"
   },
   {
    "duration": 162,
    "start_time": "2022-11-09T19:03:32.990Z"
   },
   {
    "duration": 180,
    "start_time": "2022-11-09T19:03:59.544Z"
   },
   {
    "duration": 326,
    "start_time": "2022-11-09T19:05:12.694Z"
   },
   {
    "duration": 411,
    "start_time": "2022-11-09T19:07:32.695Z"
   },
   {
    "duration": 346,
    "start_time": "2022-11-09T19:07:47.176Z"
   },
   {
    "duration": 159,
    "start_time": "2022-11-09T19:09:41.953Z"
   },
   {
    "duration": 156,
    "start_time": "2022-11-09T19:10:05.333Z"
   },
   {
    "duration": 160,
    "start_time": "2022-11-09T19:10:14.321Z"
   },
   {
    "duration": 161,
    "start_time": "2022-11-09T19:10:37.585Z"
   },
   {
    "duration": 234,
    "start_time": "2022-11-09T19:10:42.515Z"
   },
   {
    "duration": 151,
    "start_time": "2022-11-09T19:11:03.781Z"
   },
   {
    "duration": 179,
    "start_time": "2022-11-09T19:12:21.100Z"
   },
   {
    "duration": 202,
    "start_time": "2022-11-09T19:18:02.349Z"
   },
   {
    "duration": 155,
    "start_time": "2022-11-09T19:20:40.315Z"
   },
   {
    "duration": 170,
    "start_time": "2022-11-09T19:21:26.617Z"
   },
   {
    "duration": 174,
    "start_time": "2022-11-09T19:25:03.353Z"
   },
   {
    "duration": 174,
    "start_time": "2022-11-09T19:25:09.298Z"
   },
   {
    "duration": 204,
    "start_time": "2022-11-09T19:26:42.531Z"
   },
   {
    "duration": 167,
    "start_time": "2022-11-09T19:26:55.219Z"
   },
   {
    "duration": 156,
    "start_time": "2022-11-09T19:27:10.499Z"
   },
   {
    "duration": 194,
    "start_time": "2022-11-09T19:27:57.530Z"
   },
   {
    "duration": 382,
    "start_time": "2022-11-09T19:39:21.356Z"
   },
   {
    "duration": 171,
    "start_time": "2022-11-09T19:42:40.779Z"
   },
   {
    "duration": 69,
    "start_time": "2022-11-09T19:44:04.995Z"
   },
   {
    "duration": 70,
    "start_time": "2022-11-09T19:44:21.614Z"
   },
   {
    "duration": 71,
    "start_time": "2022-11-09T19:44:28.551Z"
   },
   {
    "duration": 151,
    "start_time": "2022-11-09T19:45:29.488Z"
   },
   {
    "duration": 174,
    "start_time": "2022-11-09T19:46:29.912Z"
   },
   {
    "duration": 205,
    "start_time": "2022-11-09T19:47:18.942Z"
   },
   {
    "duration": 170,
    "start_time": "2022-11-09T19:47:59.324Z"
   },
   {
    "duration": 148,
    "start_time": "2022-11-09T19:49:14.858Z"
   },
   {
    "duration": 46,
    "start_time": "2022-11-10T03:08:32.676Z"
   },
   {
    "duration": 3223,
    "start_time": "2022-11-10T03:08:41.122Z"
   },
   {
    "duration": 61,
    "start_time": "2022-11-10T03:08:46.561Z"
   },
   {
    "duration": 91,
    "start_time": "2022-11-10T03:08:54.502Z"
   },
   {
    "duration": 25,
    "start_time": "2022-11-10T03:09:42.947Z"
   },
   {
    "duration": 310,
    "start_time": "2022-11-10T03:10:29.785Z"
   },
   {
    "duration": 2737,
    "start_time": "2022-11-10T03:10:37.724Z"
   },
   {
    "duration": 228,
    "start_time": "2022-11-10T03:10:53.140Z"
   },
   {
    "duration": 242,
    "start_time": "2022-11-10T03:12:03.213Z"
   },
   {
    "duration": 185,
    "start_time": "2022-11-10T03:12:10.176Z"
   },
   {
    "duration": 198,
    "start_time": "2022-11-10T03:12:17.686Z"
   },
   {
    "duration": 152,
    "start_time": "2022-11-10T03:12:40.443Z"
   },
   {
    "duration": 23,
    "start_time": "2022-11-10T03:12:47.900Z"
   },
   {
    "duration": 180,
    "start_time": "2022-11-10T03:13:01.652Z"
   },
   {
    "duration": 25,
    "start_time": "2022-11-10T03:33:05.985Z"
   },
   {
    "duration": 387,
    "start_time": "2022-11-10T03:37:00.493Z"
   },
   {
    "duration": 58,
    "start_time": "2022-11-10T03:37:46.715Z"
   },
   {
    "duration": 8546,
    "start_time": "2022-11-10T04:35:30.427Z"
   },
   {
    "duration": 288,
    "start_time": "2022-11-10T04:35:38.974Z"
   },
   {
    "duration": 298,
    "start_time": "2022-11-10T04:35:39.264Z"
   },
   {
    "duration": 95,
    "start_time": "2022-11-10T04:35:39.566Z"
   },
   {
    "duration": 1596,
    "start_time": "2022-11-10T04:35:39.662Z"
   },
   {
    "duration": 2533,
    "start_time": "2022-11-10T04:49:40.199Z"
   },
   {
    "duration": 67,
    "start_time": "2022-11-10T04:49:42.734Z"
   },
   {
    "duration": 85,
    "start_time": "2022-11-10T04:49:42.803Z"
   },
   {
    "duration": 18,
    "start_time": "2022-11-10T04:49:42.891Z"
   },
   {
    "duration": 399,
    "start_time": "2022-11-10T04:49:42.910Z"
   },
   {
    "duration": 2627,
    "start_time": "2022-11-10T04:49:43.311Z"
   },
   {
    "duration": 201,
    "start_time": "2022-11-10T04:49:45.940Z"
   },
   {
    "duration": 162,
    "start_time": "2022-11-10T04:49:46.143Z"
   },
   {
    "duration": 260,
    "start_time": "2022-11-10T04:49:46.307Z"
   },
   {
    "duration": 156,
    "start_time": "2022-11-10T04:49:46.569Z"
   },
   {
    "duration": 163,
    "start_time": "2022-11-10T04:49:46.726Z"
   },
   {
    "duration": 139,
    "start_time": "2022-11-10T04:49:46.891Z"
   },
   {
    "duration": 184,
    "start_time": "2022-11-10T04:49:47.032Z"
   },
   {
    "duration": 186,
    "start_time": "2022-11-10T04:49:47.217Z"
   },
   {
    "duration": 150,
    "start_time": "2022-11-10T04:49:47.405Z"
   },
   {
    "duration": 26,
    "start_time": "2022-11-10T04:49:47.557Z"
   },
   {
    "duration": 169,
    "start_time": "2022-11-10T04:49:47.584Z"
   },
   {
    "duration": 6,
    "start_time": "2022-11-10T04:52:24.084Z"
   },
   {
    "duration": 19,
    "start_time": "2022-11-10T04:53:33.425Z"
   },
   {
    "duration": 107,
    "start_time": "2022-11-10T04:53:36.986Z"
   },
   {
    "duration": 11,
    "start_time": "2022-11-10T04:54:06.981Z"
   },
   {
    "duration": 5,
    "start_time": "2022-11-10T04:54:12.923Z"
   },
   {
    "duration": 1973,
    "start_time": "2022-11-10T05:13:22.536Z"
   },
   {
    "duration": 1965,
    "start_time": "2022-11-10T05:13:48.969Z"
   },
   {
    "duration": 13,
    "start_time": "2022-11-10T05:15:04.723Z"
   },
   {
    "duration": 7,
    "start_time": "2022-11-10T05:20:29.883Z"
   },
   {
    "duration": 10,
    "start_time": "2022-11-10T05:20:32.069Z"
   },
   {
    "duration": 5,
    "start_time": "2022-11-10T05:20:34.367Z"
   },
   {
    "duration": 11,
    "start_time": "2022-11-10T05:20:36.335Z"
   },
   {
    "duration": 6,
    "start_time": "2022-11-10T05:20:39.745Z"
   },
   {
    "duration": 44,
    "start_time": "2022-11-10T05:20:47.879Z"
   },
   {
    "duration": 42,
    "start_time": "2022-11-10T05:21:18.444Z"
   },
   {
    "duration": 6,
    "start_time": "2022-11-10T05:21:35.553Z"
   },
   {
    "duration": 5,
    "start_time": "2022-11-10T05:21:38.758Z"
   },
   {
    "duration": 5,
    "start_time": "2022-11-10T05:21:42.545Z"
   },
   {
    "duration": 6,
    "start_time": "2022-11-10T05:21:49.143Z"
   },
   {
    "duration": 5,
    "start_time": "2022-11-10T05:21:52.097Z"
   },
   {
    "duration": 7,
    "start_time": "2022-11-10T05:21:54.570Z"
   },
   {
    "duration": 6,
    "start_time": "2022-11-10T05:21:57.264Z"
   },
   {
    "duration": 8,
    "start_time": "2022-11-10T05:25:39.822Z"
   },
   {
    "duration": 5,
    "start_time": "2022-11-10T05:25:41.126Z"
   },
   {
    "duration": 7,
    "start_time": "2022-11-10T05:25:42.580Z"
   },
   {
    "duration": 7,
    "start_time": "2022-11-10T05:25:43.327Z"
   },
   {
    "duration": 4,
    "start_time": "2022-11-10T05:25:44.071Z"
   },
   {
    "duration": 5,
    "start_time": "2022-11-10T05:25:44.997Z"
   },
   {
    "duration": 5,
    "start_time": "2022-11-10T05:25:46.478Z"
   },
   {
    "duration": 5,
    "start_time": "2022-11-10T05:25:48.222Z"
   },
   {
    "duration": 14,
    "start_time": "2022-11-10T05:25:51.365Z"
   },
   {
    "duration": 10,
    "start_time": "2022-11-10T06:01:37.960Z"
   },
   {
    "duration": 20,
    "start_time": "2022-11-10T06:01:47.009Z"
   },
   {
    "duration": 58,
    "start_time": "2022-11-10T06:10:12.718Z"
   },
   {
    "duration": 14,
    "start_time": "2022-11-10T06:10:45.608Z"
   },
   {
    "duration": 14,
    "start_time": "2022-11-10T06:10:49.314Z"
   },
   {
    "duration": 50,
    "start_time": "2022-11-10T06:10:56.148Z"
   },
   {
    "duration": 17,
    "start_time": "2022-11-10T06:10:59.227Z"
   },
   {
    "duration": 3,
    "start_time": "2022-11-10T06:11:21.557Z"
   },
   {
    "duration": 2109,
    "start_time": "2022-11-10T06:11:23.230Z"
   },
   {
    "duration": 59,
    "start_time": "2022-11-10T06:11:27.488Z"
   },
   {
    "duration": 15,
    "start_time": "2022-11-10T06:11:30.007Z"
   },
   {
    "duration": 10,
    "start_time": "2022-11-10T06:12:06.623Z"
   },
   {
    "duration": 11,
    "start_time": "2022-11-10T06:12:10.588Z"
   },
   {
    "duration": 22,
    "start_time": "2022-11-10T06:12:46.248Z"
   },
   {
    "duration": 10,
    "start_time": "2022-11-10T06:13:50.753Z"
   },
   {
    "duration": 13,
    "start_time": "2022-11-10T06:13:58.977Z"
   },
   {
    "duration": 13,
    "start_time": "2022-11-10T06:14:13.131Z"
   },
   {
    "duration": 5,
    "start_time": "2022-11-10T06:17:33.757Z"
   },
   {
    "duration": 7,
    "start_time": "2022-11-10T06:17:42.271Z"
   },
   {
    "duration": 7,
    "start_time": "2022-11-10T06:18:15.547Z"
   },
   {
    "duration": 9,
    "start_time": "2022-11-10T06:18:26.957Z"
   },
   {
    "duration": 7,
    "start_time": "2022-11-10T06:19:10.662Z"
   },
   {
    "duration": 8,
    "start_time": "2022-11-10T06:19:18.237Z"
   },
   {
    "duration": 9,
    "start_time": "2022-11-10T06:20:52.344Z"
   },
   {
    "duration": 9,
    "start_time": "2022-11-10T06:21:56.905Z"
   },
   {
    "duration": 9,
    "start_time": "2022-11-10T06:22:05.732Z"
   },
   {
    "duration": 10,
    "start_time": "2022-11-10T06:24:01.434Z"
   },
   {
    "duration": 9,
    "start_time": "2022-11-10T06:24:10.166Z"
   },
   {
    "duration": 11,
    "start_time": "2022-11-10T06:24:16.725Z"
   },
   {
    "duration": 10,
    "start_time": "2022-11-10T06:24:35.159Z"
   },
   {
    "duration": 10,
    "start_time": "2022-11-10T06:25:02.249Z"
   },
   {
    "duration": 9,
    "start_time": "2022-11-10T06:31:11.286Z"
   },
   {
    "duration": 12,
    "start_time": "2022-11-10T06:31:22.477Z"
   },
   {
    "duration": 13,
    "start_time": "2022-11-10T06:31:37.887Z"
   },
   {
    "duration": 15,
    "start_time": "2022-11-10T06:31:46.898Z"
   },
   {
    "duration": 12,
    "start_time": "2022-11-10T06:31:55.107Z"
   },
   {
    "duration": 9,
    "start_time": "2022-11-10T06:32:06.474Z"
   },
   {
    "duration": 6,
    "start_time": "2022-11-10T06:32:06.804Z"
   },
   {
    "duration": 16,
    "start_time": "2022-11-10T06:32:07.684Z"
   },
   {
    "duration": 3,
    "start_time": "2022-11-10T06:32:19.061Z"
   },
   {
    "duration": 2111,
    "start_time": "2022-11-10T06:32:19.349Z"
   },
   {
    "duration": 60,
    "start_time": "2022-11-10T06:32:21.462Z"
   },
   {
    "duration": 17,
    "start_time": "2022-11-10T06:32:21.871Z"
   },
   {
    "duration": 7,
    "start_time": "2022-11-10T06:32:22.150Z"
   },
   {
    "duration": 9,
    "start_time": "2022-11-10T06:32:22.357Z"
   },
   {
    "duration": 5,
    "start_time": "2022-11-10T06:32:23.613Z"
   },
   {
    "duration": 10,
    "start_time": "2022-11-10T06:32:23.886Z"
   },
   {
    "duration": 6,
    "start_time": "2022-11-10T06:32:24.085Z"
   },
   {
    "duration": 6,
    "start_time": "2022-11-10T06:32:24.814Z"
   },
   {
    "duration": 47,
    "start_time": "2022-11-10T06:32:25.320Z"
   },
   {
    "duration": 7,
    "start_time": "2022-11-10T06:32:25.709Z"
   },
   {
    "duration": 7,
    "start_time": "2022-11-10T06:32:26.302Z"
   },
   {
    "duration": 7,
    "start_time": "2022-11-10T06:32:26.757Z"
   },
   {
    "duration": 5,
    "start_time": "2022-11-10T06:32:27.223Z"
   },
   {
    "duration": 6,
    "start_time": "2022-11-10T06:32:27.717Z"
   },
   {
    "duration": 7,
    "start_time": "2022-11-10T06:32:28.274Z"
   },
   {
    "duration": 9,
    "start_time": "2022-11-10T06:32:28.959Z"
   },
   {
    "duration": 6,
    "start_time": "2022-11-10T06:32:30.213Z"
   },
   {
    "duration": 11,
    "start_time": "2022-11-10T06:32:56.970Z"
   },
   {
    "duration": 13,
    "start_time": "2022-11-10T06:33:07.013Z"
   },
   {
    "duration": 14,
    "start_time": "2022-11-10T06:33:34.785Z"
   },
   {
    "duration": 14,
    "start_time": "2022-11-10T06:33:42.932Z"
   },
   {
    "duration": 13,
    "start_time": "2022-11-10T06:34:13.427Z"
   },
   {
    "duration": 12,
    "start_time": "2022-11-10T06:35:55.911Z"
   },
   {
    "duration": 11,
    "start_time": "2022-11-10T06:36:04.980Z"
   },
   {
    "duration": 12,
    "start_time": "2022-11-10T06:36:21.807Z"
   },
   {
    "duration": 11,
    "start_time": "2022-11-10T06:36:36.318Z"
   },
   {
    "duration": 7,
    "start_time": "2022-11-10T06:37:35.600Z"
   },
   {
    "duration": 359,
    "start_time": "2022-11-10T06:37:48.088Z"
   },
   {
    "duration": 2374,
    "start_time": "2022-11-10T06:37:48.591Z"
   },
   {
    "duration": 60,
    "start_time": "2022-11-10T06:37:50.967Z"
   },
   {
    "duration": 19,
    "start_time": "2022-11-10T06:37:51.598Z"
   },
   {
    "duration": 8,
    "start_time": "2022-11-10T06:37:51.906Z"
   },
   {
    "duration": 9,
    "start_time": "2022-11-10T06:37:52.498Z"
   },
   {
    "duration": 4,
    "start_time": "2022-11-10T06:37:52.833Z"
   },
   {
    "duration": 9,
    "start_time": "2022-11-10T06:37:53.418Z"
   },
   {
    "duration": 6,
    "start_time": "2022-11-10T06:37:53.993Z"
   },
   {
    "duration": 9,
    "start_time": "2022-11-10T06:37:54.490Z"
   },
   {
    "duration": 46,
    "start_time": "2022-11-10T06:37:55.036Z"
   },
   {
    "duration": 6,
    "start_time": "2022-11-10T06:37:55.882Z"
   },
   {
    "duration": 5,
    "start_time": "2022-11-10T06:37:56.541Z"
   },
   {
    "duration": 7,
    "start_time": "2022-11-10T06:37:57.147Z"
   },
   {
    "duration": 6,
    "start_time": "2022-11-10T06:37:57.708Z"
   },
   {
    "duration": 6,
    "start_time": "2022-11-10T06:37:58.208Z"
   },
   {
    "duration": 6,
    "start_time": "2022-11-10T06:37:58.794Z"
   },
   {
    "duration": 8,
    "start_time": "2022-11-10T06:37:59.434Z"
   },
   {
    "duration": 6,
    "start_time": "2022-11-10T06:37:59.987Z"
   },
   {
    "duration": 10,
    "start_time": "2022-11-10T06:38:00.642Z"
   },
   {
    "duration": 9,
    "start_time": "2022-11-10T06:38:01.253Z"
   },
   {
    "duration": 8,
    "start_time": "2022-11-10T06:38:41.652Z"
   },
   {
    "duration": 8,
    "start_time": "2022-11-10T06:38:53.271Z"
   },
   {
    "duration": 5,
    "start_time": "2022-11-10T06:40:24.446Z"
   },
   {
    "duration": 8,
    "start_time": "2022-11-10T06:40:50.346Z"
   },
   {
    "duration": 11,
    "start_time": "2022-11-10T06:41:09.312Z"
   },
   {
    "duration": 8,
    "start_time": "2022-11-10T06:43:03.806Z"
   },
   {
    "duration": 10,
    "start_time": "2022-11-10T06:43:09.783Z"
   },
   {
    "duration": 10,
    "start_time": "2022-11-10T06:43:27.985Z"
   },
   {
    "duration": 218,
    "start_time": "2022-11-10T06:45:10.662Z"
   },
   {
    "duration": 129,
    "start_time": "2022-11-10T06:45:33.146Z"
   },
   {
    "duration": 175,
    "start_time": "2022-11-10T06:46:43.602Z"
   },
   {
    "duration": 161,
    "start_time": "2022-11-10T06:49:44.578Z"
   },
   {
    "duration": 192,
    "start_time": "2022-11-10T06:49:53.924Z"
   },
   {
    "duration": 170,
    "start_time": "2022-11-10T06:50:00.182Z"
   },
   {
    "duration": 12,
    "start_time": "2022-11-10T06:51:03.461Z"
   },
   {
    "duration": 11,
    "start_time": "2022-11-10T06:52:03.470Z"
   },
   {
    "duration": 237,
    "start_time": "2022-11-10T06:52:22.153Z"
   },
   {
    "duration": 151,
    "start_time": "2022-11-10T06:52:36.802Z"
   },
   {
    "duration": 155,
    "start_time": "2022-11-10T06:52:48.677Z"
   },
   {
    "duration": 25,
    "start_time": "2022-11-10T06:53:15.593Z"
   },
   {
    "duration": 37,
    "start_time": "2022-11-10T06:53:31.270Z"
   },
   {
    "duration": 5,
    "start_time": "2022-11-10T06:54:12.946Z"
   },
   {
    "duration": 153,
    "start_time": "2022-11-10T06:55:32.411Z"
   },
   {
    "duration": 143,
    "start_time": "2022-11-10T06:56:04.177Z"
   },
   {
    "duration": 14,
    "start_time": "2022-11-10T06:56:22.202Z"
   },
   {
    "duration": 14,
    "start_time": "2022-11-10T06:56:31.971Z"
   },
   {
    "duration": 46,
    "start_time": "2022-11-10T06:56:55.879Z"
   },
   {
    "duration": 405,
    "start_time": "2022-11-10T06:57:05.544Z"
   },
   {
    "duration": 2212,
    "start_time": "2022-11-10T06:57:06.161Z"
   },
   {
    "duration": 59,
    "start_time": "2022-11-10T06:57:08.868Z"
   },
   {
    "duration": 18,
    "start_time": "2022-11-10T06:57:09.889Z"
   },
   {
    "duration": 7,
    "start_time": "2022-11-10T06:57:10.226Z"
   },
   {
    "duration": 9,
    "start_time": "2022-11-10T06:57:10.834Z"
   },
   {
    "duration": 4,
    "start_time": "2022-11-10T06:57:11.201Z"
   },
   {
    "duration": 8,
    "start_time": "2022-11-10T06:57:11.538Z"
   },
   {
    "duration": 8,
    "start_time": "2022-11-10T06:57:11.994Z"
   },
   {
    "duration": 7,
    "start_time": "2022-11-10T06:57:12.442Z"
   },
   {
    "duration": 45,
    "start_time": "2022-11-10T06:57:12.904Z"
   },
   {
    "duration": 6,
    "start_time": "2022-11-10T06:57:13.434Z"
   },
   {
    "duration": 7,
    "start_time": "2022-11-10T06:57:15.002Z"
   },
   {
    "duration": 8,
    "start_time": "2022-11-10T06:57:15.276Z"
   },
   {
    "duration": 6,
    "start_time": "2022-11-10T06:57:16.050Z"
   },
   {
    "duration": 7,
    "start_time": "2022-11-10T06:57:16.667Z"
   },
   {
    "duration": 8,
    "start_time": "2022-11-10T06:57:17.317Z"
   },
   {
    "duration": 8,
    "start_time": "2022-11-10T06:57:18.434Z"
   },
   {
    "duration": 6,
    "start_time": "2022-11-10T06:57:19.203Z"
   },
   {
    "duration": 144,
    "start_time": "2022-11-10T06:57:19.922Z"
   },
   {
    "duration": 45,
    "start_time": "2022-11-10T06:57:27.372Z"
   },
   {
    "duration": 2,
    "start_time": "2022-11-10T06:57:35.572Z"
   },
   {
    "duration": 1985,
    "start_time": "2022-11-10T06:57:35.768Z"
   },
   {
    "duration": 58,
    "start_time": "2022-11-10T06:57:37.755Z"
   },
   {
    "duration": 32,
    "start_time": "2022-11-10T06:57:37.815Z"
   },
   {
    "duration": 8,
    "start_time": "2022-11-10T06:57:37.849Z"
   },
   {
    "duration": 9,
    "start_time": "2022-11-10T06:57:37.858Z"
   },
   {
    "duration": 5,
    "start_time": "2022-11-10T06:57:38.005Z"
   },
   {
    "duration": 9,
    "start_time": "2022-11-10T06:57:38.198Z"
   },
   {
    "duration": 5,
    "start_time": "2022-11-10T06:57:38.417Z"
   },
   {
    "duration": 7,
    "start_time": "2022-11-10T06:57:38.614Z"
   },
   {
    "duration": 54,
    "start_time": "2022-11-10T06:57:38.869Z"
   },
   {
    "duration": 5,
    "start_time": "2022-11-10T06:57:39.086Z"
   },
   {
    "duration": 5,
    "start_time": "2022-11-10T06:57:39.318Z"
   },
   {
    "duration": 7,
    "start_time": "2022-11-10T06:57:39.541Z"
   },
   {
    "duration": 5,
    "start_time": "2022-11-10T06:57:39.758Z"
   },
   {
    "duration": 6,
    "start_time": "2022-11-10T06:57:40.004Z"
   },
   {
    "duration": 6,
    "start_time": "2022-11-10T06:57:40.221Z"
   },
   {
    "duration": 9,
    "start_time": "2022-11-10T06:57:41.270Z"
   },
   {
    "duration": 6,
    "start_time": "2022-11-10T06:57:41.861Z"
   },
   {
    "duration": 167,
    "start_time": "2022-11-10T06:57:43.087Z"
   },
   {
    "duration": 14,
    "start_time": "2022-11-10T06:58:08.358Z"
   },
   {
    "duration": 3,
    "start_time": "2022-11-10T06:58:18.368Z"
   },
   {
    "duration": 1983,
    "start_time": "2022-11-10T06:58:18.586Z"
   },
   {
    "duration": 56,
    "start_time": "2022-11-10T06:58:20.571Z"
   },
   {
    "duration": 28,
    "start_time": "2022-11-10T06:58:20.629Z"
   },
   {
    "duration": 15,
    "start_time": "2022-11-10T06:58:20.659Z"
   },
   {
    "duration": 8,
    "start_time": "2022-11-10T06:58:20.744Z"
   },
   {
    "duration": 5,
    "start_time": "2022-11-10T06:58:20.958Z"
   },
   {
    "duration": 10,
    "start_time": "2022-11-10T06:58:21.175Z"
   },
   {
    "duration": 5,
    "start_time": "2022-11-10T06:58:21.393Z"
   },
   {
    "duration": 6,
    "start_time": "2022-11-10T06:58:21.640Z"
   },
   {
    "duration": 43,
    "start_time": "2022-11-10T06:58:22.113Z"
   },
   {
    "duration": 6,
    "start_time": "2022-11-10T06:58:22.481Z"
   },
   {
    "duration": 5,
    "start_time": "2022-11-10T06:58:23.513Z"
   },
   {
    "duration": 6,
    "start_time": "2022-11-10T06:58:23.856Z"
   },
   {
    "duration": 7,
    "start_time": "2022-11-10T06:58:24.576Z"
   },
   {
    "duration": 6,
    "start_time": "2022-11-10T06:58:25.097Z"
   },
   {
    "duration": 6,
    "start_time": "2022-11-10T06:58:25.730Z"
   },
   {
    "duration": 8,
    "start_time": "2022-11-10T06:58:26.489Z"
   },
   {
    "duration": 5,
    "start_time": "2022-11-10T06:58:27.003Z"
   },
   {
    "duration": 159,
    "start_time": "2022-11-10T06:58:27.802Z"
   },
   {
    "duration": 13,
    "start_time": "2022-11-10T06:59:23.917Z"
   },
   {
    "duration": 4,
    "start_time": "2022-11-10T06:59:44.382Z"
   },
   {
    "duration": 2149,
    "start_time": "2022-11-10T06:59:44.623Z"
   },
   {
    "duration": 71,
    "start_time": "2022-11-10T06:59:46.774Z"
   },
   {
    "duration": 17,
    "start_time": "2022-11-10T06:59:47.520Z"
   },
   {
    "duration": 7,
    "start_time": "2022-11-10T06:59:47.966Z"
   },
   {
    "duration": 9,
    "start_time": "2022-11-10T06:59:48.862Z"
   },
   {
    "duration": 4,
    "start_time": "2022-11-10T06:59:49.454Z"
   },
   {
    "duration": 8,
    "start_time": "2022-11-10T06:59:49.831Z"
   },
   {
    "duration": 5,
    "start_time": "2022-11-10T06:59:50.182Z"
   },
   {
    "duration": 6,
    "start_time": "2022-11-10T06:59:50.632Z"
   },
   {
    "duration": 45,
    "start_time": "2022-11-10T06:59:51.090Z"
   },
   {
    "duration": 6,
    "start_time": "2022-11-10T06:59:51.422Z"
   },
   {
    "duration": 5,
    "start_time": "2022-11-10T06:59:51.840Z"
   },
   {
    "duration": 6,
    "start_time": "2022-11-10T06:59:52.432Z"
   },
   {
    "duration": 5,
    "start_time": "2022-11-10T06:59:53.384Z"
   },
   {
    "duration": 6,
    "start_time": "2022-11-10T06:59:54.168Z"
   },
   {
    "duration": 6,
    "start_time": "2022-11-10T06:59:54.919Z"
   },
   {
    "duration": 7,
    "start_time": "2022-11-10T06:59:56.081Z"
   },
   {
    "duration": 6,
    "start_time": "2022-11-10T06:59:56.808Z"
   },
   {
    "duration": 168,
    "start_time": "2022-11-10T07:00:07.691Z"
   },
   {
    "duration": 13,
    "start_time": "2022-11-10T07:00:33.074Z"
   },
   {
    "duration": 2,
    "start_time": "2022-11-10T07:00:41.211Z"
   },
   {
    "duration": 2008,
    "start_time": "2022-11-10T07:00:41.443Z"
   },
   {
    "duration": 63,
    "start_time": "2022-11-10T07:00:43.453Z"
   },
   {
    "duration": 36,
    "start_time": "2022-11-10T07:00:43.518Z"
   },
   {
    "duration": 8,
    "start_time": "2022-11-10T07:00:43.556Z"
   },
   {
    "duration": 10,
    "start_time": "2022-11-10T07:00:43.659Z"
   },
   {
    "duration": 4,
    "start_time": "2022-11-10T07:00:43.882Z"
   },
   {
    "duration": 11,
    "start_time": "2022-11-10T07:00:44.128Z"
   },
   {
    "duration": 6,
    "start_time": "2022-11-10T07:00:44.331Z"
   },
   {
    "duration": 8,
    "start_time": "2022-11-10T07:00:44.578Z"
   },
   {
    "duration": 46,
    "start_time": "2022-11-10T07:00:44.778Z"
   },
   {
    "duration": 7,
    "start_time": "2022-11-10T07:00:44.986Z"
   },
   {
    "duration": 6,
    "start_time": "2022-11-10T07:00:45.227Z"
   },
   {
    "duration": 6,
    "start_time": "2022-11-10T07:00:45.451Z"
   },
   {
    "duration": 6,
    "start_time": "2022-11-10T07:00:45.731Z"
   },
   {
    "duration": 6,
    "start_time": "2022-11-10T07:00:45.971Z"
   },
   {
    "duration": 7,
    "start_time": "2022-11-10T07:00:46.235Z"
   },
   {
    "duration": 7,
    "start_time": "2022-11-10T07:00:46.932Z"
   },
   {
    "duration": 5,
    "start_time": "2022-11-10T07:00:47.300Z"
   },
   {
    "duration": 175,
    "start_time": "2022-11-10T07:00:47.778Z"
   },
   {
    "duration": 3,
    "start_time": "2022-11-10T07:01:01.869Z"
   },
   {
    "duration": 1974,
    "start_time": "2022-11-10T07:01:02.104Z"
   },
   {
    "duration": 72,
    "start_time": "2022-11-10T07:01:04.080Z"
   },
   {
    "duration": 16,
    "start_time": "2022-11-10T07:01:04.154Z"
   },
   {
    "duration": 9,
    "start_time": "2022-11-10T07:01:04.171Z"
   },
   {
    "duration": 8,
    "start_time": "2022-11-10T07:01:04.261Z"
   },
   {
    "duration": 4,
    "start_time": "2022-11-10T07:01:04.771Z"
   },
   {
    "duration": 9,
    "start_time": "2022-11-10T07:01:04.964Z"
   },
   {
    "duration": 6,
    "start_time": "2022-11-10T07:01:05.432Z"
   },
   {
    "duration": 7,
    "start_time": "2022-11-10T07:01:05.646Z"
   },
   {
    "duration": 44,
    "start_time": "2022-11-10T07:01:05.845Z"
   },
   {
    "duration": 6,
    "start_time": "2022-11-10T07:01:06.065Z"
   },
   {
    "duration": 5,
    "start_time": "2022-11-10T07:01:06.734Z"
   },
   {
    "duration": 6,
    "start_time": "2022-11-10T07:01:07.063Z"
   },
   {
    "duration": 5,
    "start_time": "2022-11-10T07:01:07.518Z"
   },
   {
    "duration": 7,
    "start_time": "2022-11-10T07:01:07.991Z"
   },
   {
    "duration": 6,
    "start_time": "2022-11-10T07:01:08.439Z"
   },
   {
    "duration": 11,
    "start_time": "2022-11-10T07:01:09.190Z"
   },
   {
    "duration": 6,
    "start_time": "2022-11-10T07:01:09.747Z"
   },
   {
    "duration": 295,
    "start_time": "2022-11-10T07:01:10.471Z"
   },
   {
    "duration": 8,
    "start_time": "2022-11-10T07:01:11.310Z"
   },
   {
    "duration": 3,
    "start_time": "2022-11-10T07:01:55.189Z"
   },
   {
    "duration": 1874,
    "start_time": "2022-11-10T07:01:55.439Z"
   },
   {
    "duration": 64,
    "start_time": "2022-11-10T07:01:57.315Z"
   },
   {
    "duration": 20,
    "start_time": "2022-11-10T07:01:57.380Z"
   },
   {
    "duration": 8,
    "start_time": "2022-11-10T07:01:57.402Z"
   },
   {
    "duration": 9,
    "start_time": "2022-11-10T07:01:57.548Z"
   },
   {
    "duration": 5,
    "start_time": "2022-11-10T07:01:57.748Z"
   },
   {
    "duration": 8,
    "start_time": "2022-11-10T07:01:58.149Z"
   },
   {
    "duration": 5,
    "start_time": "2022-11-10T07:01:58.348Z"
   },
   {
    "duration": 6,
    "start_time": "2022-11-10T07:01:58.549Z"
   },
   {
    "duration": 48,
    "start_time": "2022-11-10T07:01:58.759Z"
   },
   {
    "duration": 6,
    "start_time": "2022-11-10T07:01:58.955Z"
   },
   {
    "duration": 5,
    "start_time": "2022-11-10T07:01:59.158Z"
   },
   {
    "duration": 7,
    "start_time": "2022-11-10T07:01:59.406Z"
   },
   {
    "duration": 6,
    "start_time": "2022-11-10T07:01:59.781Z"
   },
   {
    "duration": 5,
    "start_time": "2022-11-10T07:02:00.192Z"
   },
   {
    "duration": 6,
    "start_time": "2022-11-10T07:02:00.790Z"
   },
   {
    "duration": 8,
    "start_time": "2022-11-10T07:02:01.477Z"
   },
   {
    "duration": 6,
    "start_time": "2022-11-10T07:02:02.327Z"
   },
   {
    "duration": 12,
    "start_time": "2022-11-10T07:02:03.462Z"
   },
   {
    "duration": 9,
    "start_time": "2022-11-10T07:02:05.267Z"
   },
   {
    "duration": 13,
    "start_time": "2022-11-10T07:03:34.421Z"
   },
   {
    "duration": 3,
    "start_time": "2022-11-10T07:03:42.317Z"
   },
   {
    "duration": 2019,
    "start_time": "2022-11-10T07:03:42.576Z"
   },
   {
    "duration": 86,
    "start_time": "2022-11-10T07:03:44.598Z"
   },
   {
    "duration": 15,
    "start_time": "2022-11-10T07:03:44.685Z"
   },
   {
    "duration": 6,
    "start_time": "2022-11-10T07:03:44.702Z"
   },
   {
    "duration": 12,
    "start_time": "2022-11-10T07:03:44.710Z"
   },
   {
    "duration": 4,
    "start_time": "2022-11-10T07:03:44.843Z"
   },
   {
    "duration": 10,
    "start_time": "2022-11-10T07:03:45.044Z"
   },
   {
    "duration": 6,
    "start_time": "2022-11-10T07:03:45.251Z"
   },
   {
    "duration": 6,
    "start_time": "2022-11-10T07:03:45.452Z"
   },
   {
    "duration": 46,
    "start_time": "2022-11-10T07:03:45.653Z"
   },
   {
    "duration": 7,
    "start_time": "2022-11-10T07:03:45.910Z"
   },
   {
    "duration": 6,
    "start_time": "2022-11-10T07:03:46.157Z"
   },
   {
    "duration": 8,
    "start_time": "2022-11-10T07:03:46.389Z"
   },
   {
    "duration": 5,
    "start_time": "2022-11-10T07:03:46.807Z"
   },
   {
    "duration": 6,
    "start_time": "2022-11-10T07:03:47.231Z"
   },
   {
    "duration": 7,
    "start_time": "2022-11-10T07:03:47.766Z"
   },
   {
    "duration": 8,
    "start_time": "2022-11-10T07:03:48.821Z"
   },
   {
    "duration": 5,
    "start_time": "2022-11-10T07:03:49.582Z"
   },
   {
    "duration": 167,
    "start_time": "2022-11-10T07:03:50.862Z"
   },
   {
    "duration": 181,
    "start_time": "2022-11-10T07:06:10.804Z"
   },
   {
    "duration": 7,
    "start_time": "2022-11-10T07:06:58.708Z"
   },
   {
    "duration": 163,
    "start_time": "2022-11-10T07:08:13.263Z"
   },
   {
    "duration": 25,
    "start_time": "2022-11-10T07:28:43.453Z"
   },
   {
    "duration": 3,
    "start_time": "2022-11-10T07:28:50.121Z"
   },
   {
    "duration": 2084,
    "start_time": "2022-11-10T07:28:50.584Z"
   },
   {
    "duration": 62,
    "start_time": "2022-11-10T07:28:53.306Z"
   },
   {
    "duration": 17,
    "start_time": "2022-11-10T07:28:54.004Z"
   },
   {
    "duration": 10,
    "start_time": "2022-11-10T07:29:30.709Z"
   },
   {
    "duration": 13,
    "start_time": "2022-11-10T07:29:46.223Z"
   },
   {
    "duration": 27,
    "start_time": "2022-11-10T07:31:47.446Z"
   },
   {
    "duration": 38,
    "start_time": "2022-11-10T07:32:02.519Z"
   },
   {
    "duration": 31,
    "start_time": "2022-11-10T07:33:21.832Z"
   },
   {
    "duration": 2,
    "start_time": "2022-11-10T07:33:32.705Z"
   },
   {
    "duration": 2341,
    "start_time": "2022-11-10T07:33:33.089Z"
   },
   {
    "duration": 88,
    "start_time": "2022-11-10T07:33:35.432Z"
   },
   {
    "duration": 37,
    "start_time": "2022-11-10T07:33:35.522Z"
   },
   {
    "duration": 11,
    "start_time": "2022-11-10T07:33:35.562Z"
   },
   {
    "duration": 25,
    "start_time": "2022-11-10T07:33:35.575Z"
   },
   {
    "duration": 5,
    "start_time": "2022-11-10T07:33:35.603Z"
   },
   {
    "duration": 13,
    "start_time": "2022-11-10T07:33:35.611Z"
   },
   {
    "duration": 5,
    "start_time": "2022-11-10T07:33:35.722Z"
   },
   {
    "duration": 7,
    "start_time": "2022-11-10T07:33:35.996Z"
   },
   {
    "duration": 50,
    "start_time": "2022-11-10T07:33:36.809Z"
   },
   {
    "duration": 6,
    "start_time": "2022-11-10T07:33:37.337Z"
   },
   {
    "duration": 5,
    "start_time": "2022-11-10T07:33:39.394Z"
   },
   {
    "duration": 7,
    "start_time": "2022-11-10T07:33:39.858Z"
   },
   {
    "duration": 5,
    "start_time": "2022-11-10T07:33:40.290Z"
   },
   {
    "duration": 7,
    "start_time": "2022-11-10T07:33:40.529Z"
   },
   {
    "duration": 8,
    "start_time": "2022-11-10T07:33:40.809Z"
   },
   {
    "duration": 8,
    "start_time": "2022-11-10T07:33:41.794Z"
   },
   {
    "duration": 7,
    "start_time": "2022-11-10T07:33:42.913Z"
   },
   {
    "duration": 29,
    "start_time": "2022-11-10T07:33:44.906Z"
   },
   {
    "duration": 22,
    "start_time": "2022-11-10T07:34:12.294Z"
   },
   {
    "duration": 186,
    "start_time": "2022-11-10T07:34:23.924Z"
   },
   {
    "duration": 4,
    "start_time": "2022-11-10T07:37:13.330Z"
   },
   {
    "duration": 205,
    "start_time": "2022-11-10T07:37:18.330Z"
   },
   {
    "duration": 187,
    "start_time": "2022-11-10T07:37:50.671Z"
   },
   {
    "duration": 189,
    "start_time": "2022-11-10T07:38:03.764Z"
   },
   {
    "duration": 303,
    "start_time": "2022-11-10T07:38:43.289Z"
   },
   {
    "duration": 202,
    "start_time": "2022-11-10T07:39:02.394Z"
   },
   {
    "duration": 205,
    "start_time": "2022-11-10T07:41:13.130Z"
   },
   {
    "duration": 192,
    "start_time": "2022-11-10T07:41:30.867Z"
   },
   {
    "duration": 216,
    "start_time": "2022-11-10T07:41:49.166Z"
   },
   {
    "duration": 21,
    "start_time": "2022-11-10T07:42:15.232Z"
   },
   {
    "duration": 16,
    "start_time": "2022-11-10T07:42:35.205Z"
   },
   {
    "duration": 14,
    "start_time": "2022-11-10T07:42:44.781Z"
   },
   {
    "duration": 3,
    "start_time": "2022-11-10T07:43:00.112Z"
   },
   {
    "duration": 2223,
    "start_time": "2022-11-10T07:43:00.521Z"
   },
   {
    "duration": 64,
    "start_time": "2022-11-10T07:43:02.746Z"
   },
   {
    "duration": 36,
    "start_time": "2022-11-10T07:43:02.812Z"
   },
   {
    "duration": 12,
    "start_time": "2022-11-10T07:43:02.851Z"
   },
   {
    "duration": 16,
    "start_time": "2022-11-10T07:43:02.864Z"
   },
   {
    "duration": 5,
    "start_time": "2022-11-10T07:43:02.974Z"
   },
   {
    "duration": 8,
    "start_time": "2022-11-10T07:43:03.192Z"
   },
   {
    "duration": 6,
    "start_time": "2022-11-10T07:43:03.407Z"
   },
   {
    "duration": 7,
    "start_time": "2022-11-10T07:43:03.622Z"
   },
   {
    "duration": 49,
    "start_time": "2022-11-10T07:43:03.849Z"
   },
   {
    "duration": 7,
    "start_time": "2022-11-10T07:43:04.086Z"
   },
   {
    "duration": 7,
    "start_time": "2022-11-10T07:43:04.504Z"
   },
   {
    "duration": 6,
    "start_time": "2022-11-10T07:43:05.026Z"
   },
   {
    "duration": 7,
    "start_time": "2022-11-10T07:43:05.528Z"
   },
   {
    "duration": 8,
    "start_time": "2022-11-10T07:43:06.032Z"
   },
   {
    "duration": 7,
    "start_time": "2022-11-10T07:43:06.915Z"
   },
   {
    "duration": 10,
    "start_time": "2022-11-10T07:43:07.330Z"
   },
   {
    "duration": 6,
    "start_time": "2022-11-10T07:43:07.975Z"
   },
   {
    "duration": 17,
    "start_time": "2022-11-10T07:43:08.612Z"
   },
   {
    "duration": 161,
    "start_time": "2022-11-10T07:43:46.118Z"
   },
   {
    "duration": 161,
    "start_time": "2022-11-10T07:43:59.399Z"
   },
   {
    "duration": 165,
    "start_time": "2022-11-10T07:44:05.577Z"
   },
   {
    "duration": 169,
    "start_time": "2022-11-10T07:44:11.105Z"
   },
   {
    "duration": 158,
    "start_time": "2022-11-10T07:44:16.945Z"
   },
   {
    "duration": 159,
    "start_time": "2022-11-10T07:44:25.610Z"
   },
   {
    "duration": 163,
    "start_time": "2022-11-10T07:45:06.794Z"
   },
   {
    "duration": 200,
    "start_time": "2022-11-10T07:45:27.092Z"
   },
   {
    "duration": 47,
    "start_time": "2022-11-13T12:33:38.036Z"
   },
   {
    "duration": 379,
    "start_time": "2022-11-13T12:33:45.172Z"
   },
   {
    "duration": 2941,
    "start_time": "2022-11-13T12:33:45.866Z"
   },
   {
    "duration": 68,
    "start_time": "2022-11-13T12:33:48.810Z"
   },
   {
    "duration": 33,
    "start_time": "2022-11-13T12:33:48.880Z"
   },
   {
    "duration": 19,
    "start_time": "2022-11-13T12:33:48.915Z"
   },
   {
    "duration": 23,
    "start_time": "2022-11-13T12:33:48.936Z"
   },
   {
    "duration": 24,
    "start_time": "2022-11-13T12:33:48.961Z"
   },
   {
    "duration": 10,
    "start_time": "2022-11-13T12:33:49.277Z"
   },
   {
    "duration": 7,
    "start_time": "2022-11-13T12:33:49.772Z"
   },
   {
    "duration": 6,
    "start_time": "2022-11-13T12:33:50.195Z"
   },
   {
    "duration": 50,
    "start_time": "2022-11-13T12:33:50.564Z"
   },
   {
    "duration": 8,
    "start_time": "2022-11-13T12:33:50.802Z"
   },
   {
    "duration": 7,
    "start_time": "2022-11-13T12:33:51.083Z"
   },
   {
    "duration": 6,
    "start_time": "2022-11-13T12:33:51.316Z"
   },
   {
    "duration": 7,
    "start_time": "2022-11-13T12:33:51.587Z"
   },
   {
    "duration": 6,
    "start_time": "2022-11-13T12:33:51.863Z"
   },
   {
    "duration": 6,
    "start_time": "2022-11-13T12:33:52.101Z"
   },
   {
    "duration": 8,
    "start_time": "2022-11-13T12:33:52.324Z"
   },
   {
    "duration": 6,
    "start_time": "2022-11-13T12:33:52.517Z"
   },
   {
    "duration": 225,
    "start_time": "2022-11-13T12:33:53.662Z"
   },
   {
    "duration": 166,
    "start_time": "2022-11-13T12:33:54.096Z"
   },
   {
    "duration": 175,
    "start_time": "2022-11-13T12:33:54.388Z"
   },
   {
    "duration": 7,
    "start_time": "2022-11-13T12:33:54.788Z"
   },
   {
    "duration": 5,
    "start_time": "2022-11-13T12:33:55.115Z"
   },
   {
    "duration": 5,
    "start_time": "2022-11-13T12:33:55.683Z"
   },
   {
    "duration": 13,
    "start_time": "2022-11-13T12:33:56.171Z"
   },
   {
    "duration": 467,
    "start_time": "2022-11-13T12:33:59.612Z"
   },
   {
    "duration": 316,
    "start_time": "2022-11-13T12:34:01.283Z"
   },
   {
    "duration": 310,
    "start_time": "2022-11-13T12:34:02.363Z"
   },
   {
    "duration": 316,
    "start_time": "2022-11-13T12:34:03.366Z"
   },
   {
    "duration": 316,
    "start_time": "2022-11-13T12:34:04.257Z"
   },
   {
    "duration": 172,
    "start_time": "2022-11-13T12:34:05.759Z"
   },
   {
    "duration": 188,
    "start_time": "2022-11-13T12:34:06.908Z"
   },
   {
    "duration": 276,
    "start_time": "2022-11-13T12:38:11.215Z"
   },
   {
    "duration": 209,
    "start_time": "2022-11-13T12:38:12.779Z"
   },
   {
    "duration": 177,
    "start_time": "2022-11-13T12:38:14.364Z"
   },
   {
    "duration": 154,
    "start_time": "2022-11-13T12:38:15.931Z"
   },
   {
    "duration": 55,
    "start_time": "2022-11-13T12:38:16.718Z"
   },
   {
    "duration": 178,
    "start_time": "2022-11-13T12:38:17.422Z"
   },
   {
    "duration": 165,
    "start_time": "2022-11-13T12:38:30.699Z"
   },
   {
    "duration": 152,
    "start_time": "2022-11-13T12:38:37.611Z"
   },
   {
    "duration": 177,
    "start_time": "2022-11-13T12:38:39.580Z"
   },
   {
    "duration": 40,
    "start_time": "2022-11-13T12:38:50.774Z"
   },
   {
    "duration": 158,
    "start_time": "2022-11-13T12:38:52.494Z"
   },
   {
    "duration": 60,
    "start_time": "2022-11-13T12:38:53.720Z"
   },
   {
    "duration": 179,
    "start_time": "2022-11-13T12:38:55.967Z"
   },
   {
    "duration": 157,
    "start_time": "2022-11-13T12:38:59.006Z"
   },
   {
    "duration": 46,
    "start_time": "2022-11-13T12:38:59.809Z"
   },
   {
    "duration": 617,
    "start_time": "2022-11-13T12:44:44.462Z"
   },
   {
    "duration": 735,
    "start_time": "2022-11-13T12:49:13.726Z"
   },
   {
    "duration": 258,
    "start_time": "2022-11-13T12:49:25.008Z"
   },
   {
    "duration": 353,
    "start_time": "2022-11-13T12:49:53.291Z"
   },
   {
    "duration": 184,
    "start_time": "2022-11-13T12:56:07.084Z"
   },
   {
    "duration": 207,
    "start_time": "2022-11-13T12:57:58.139Z"
   },
   {
    "duration": 215,
    "start_time": "2022-11-13T12:58:14.988Z"
   },
   {
    "duration": 51,
    "start_time": "2022-11-13T12:58:24.942Z"
   },
   {
    "duration": 47,
    "start_time": "2022-11-13T12:58:42.577Z"
   },
   {
    "duration": 30,
    "start_time": "2022-11-13T12:59:14.954Z"
   },
   {
    "duration": 3,
    "start_time": "2022-11-13T12:59:35.085Z"
   },
   {
    "duration": 2528,
    "start_time": "2022-11-13T12:59:35.692Z"
   },
   {
    "duration": 65,
    "start_time": "2022-11-13T12:59:38.392Z"
   },
   {
    "duration": 17,
    "start_time": "2022-11-13T12:59:39.339Z"
   },
   {
    "duration": 8,
    "start_time": "2022-11-13T12:59:39.700Z"
   },
   {
    "duration": 14,
    "start_time": "2022-11-13T12:59:40.004Z"
   },
   {
    "duration": 6,
    "start_time": "2022-11-13T12:59:40.315Z"
   },
   {
    "duration": 10,
    "start_time": "2022-11-13T12:59:40.631Z"
   },
   {
    "duration": 5,
    "start_time": "2022-11-13T12:59:40.939Z"
   },
   {
    "duration": 7,
    "start_time": "2022-11-13T12:59:41.211Z"
   },
   {
    "duration": 50,
    "start_time": "2022-11-13T12:59:41.539Z"
   },
   {
    "duration": 7,
    "start_time": "2022-11-13T12:59:41.780Z"
   },
   {
    "duration": 5,
    "start_time": "2022-11-13T12:59:42.004Z"
   },
   {
    "duration": 7,
    "start_time": "2022-11-13T12:59:42.228Z"
   },
   {
    "duration": 6,
    "start_time": "2022-11-13T12:59:42.460Z"
   },
   {
    "duration": 6,
    "start_time": "2022-11-13T12:59:42.669Z"
   },
   {
    "duration": 7,
    "start_time": "2022-11-13T12:59:42.956Z"
   },
   {
    "duration": 8,
    "start_time": "2022-11-13T12:59:43.172Z"
   },
   {
    "duration": 5,
    "start_time": "2022-11-13T12:59:43.396Z"
   },
   {
    "duration": 216,
    "start_time": "2022-11-13T12:59:43.637Z"
   },
   {
    "duration": 184,
    "start_time": "2022-11-13T12:59:44.541Z"
   },
   {
    "duration": 187,
    "start_time": "2022-11-13T12:59:45.582Z"
   },
   {
    "duration": 5,
    "start_time": "2022-11-13T12:59:46.373Z"
   },
   {
    "duration": 52,
    "start_time": "2022-11-13T13:14:07.644Z"
   },
   {
    "duration": 216,
    "start_time": "2022-11-13T13:14:16.797Z"
   },
   {
    "duration": 2,
    "start_time": "2022-11-13T13:14:24.292Z"
   },
   {
    "duration": 2311,
    "start_time": "2022-11-13T13:14:24.918Z"
   },
   {
    "duration": 104,
    "start_time": "2022-11-13T13:14:27.231Z"
   },
   {
    "duration": 65,
    "start_time": "2022-11-13T13:14:39.495Z"
   },
   {
    "duration": 3,
    "start_time": "2022-11-13T13:15:06.506Z"
   },
   {
    "duration": 2311,
    "start_time": "2022-11-13T13:15:06.863Z"
   },
   {
    "duration": 67,
    "start_time": "2022-11-13T13:15:09.175Z"
   },
   {
    "duration": 43,
    "start_time": "2022-11-13T13:15:48.266Z"
   },
   {
    "duration": 54,
    "start_time": "2022-11-13T13:16:24.016Z"
   },
   {
    "duration": 47,
    "start_time": "2022-11-13T13:16:28.336Z"
   },
   {
    "duration": 3,
    "start_time": "2022-11-13T13:16:39.103Z"
   },
   {
    "duration": 2102,
    "start_time": "2022-11-13T13:16:39.382Z"
   },
   {
    "duration": 49,
    "start_time": "2022-11-13T13:16:41.487Z"
   },
   {
    "duration": 48,
    "start_time": "2022-11-13T13:16:49.563Z"
   },
   {
    "duration": 49,
    "start_time": "2022-11-13T13:19:51.539Z"
   },
   {
    "duration": 45,
    "start_time": "2022-11-13T13:25:20.560Z"
   },
   {
    "duration": 43,
    "start_time": "2022-11-13T13:37:38.844Z"
   },
   {
    "duration": 696,
    "start_time": "2022-11-13T13:39:42.180Z"
   },
   {
    "duration": 2,
    "start_time": "2022-11-13T13:39:50.235Z"
   },
   {
    "duration": 2300,
    "start_time": "2022-11-13T13:39:50.476Z"
   },
   {
    "duration": 78,
    "start_time": "2022-11-13T13:39:52.778Z"
   },
   {
    "duration": 14,
    "start_time": "2022-11-13T13:39:53.124Z"
   },
   {
    "duration": 10,
    "start_time": "2022-11-13T13:39:53.493Z"
   },
   {
    "duration": 10,
    "start_time": "2022-11-13T13:39:53.836Z"
   },
   {
    "duration": 5,
    "start_time": "2022-11-13T13:39:54.171Z"
   },
   {
    "duration": 9,
    "start_time": "2022-11-13T13:39:54.524Z"
   },
   {
    "duration": 6,
    "start_time": "2022-11-13T13:39:54.924Z"
   },
   {
    "duration": 9,
    "start_time": "2022-11-13T13:39:55.268Z"
   },
   {
    "duration": 49,
    "start_time": "2022-11-13T13:39:55.580Z"
   },
   {
    "duration": 7,
    "start_time": "2022-11-13T13:39:55.965Z"
   },
   {
    "duration": 6,
    "start_time": "2022-11-13T13:39:56.316Z"
   },
   {
    "duration": 7,
    "start_time": "2022-11-13T13:39:56.629Z"
   },
   {
    "duration": 5,
    "start_time": "2022-11-13T13:39:56.956Z"
   },
   {
    "duration": 7,
    "start_time": "2022-11-13T13:39:57.293Z"
   },
   {
    "duration": 7,
    "start_time": "2022-11-13T13:39:57.659Z"
   },
   {
    "duration": 9,
    "start_time": "2022-11-13T13:39:58.260Z"
   },
   {
    "duration": 5,
    "start_time": "2022-11-13T13:39:58.740Z"
   },
   {
    "duration": 161,
    "start_time": "2022-11-13T13:39:59.209Z"
   },
   {
    "duration": 332,
    "start_time": "2022-11-13T13:39:59.676Z"
   },
   {
    "duration": 291,
    "start_time": "2022-11-13T13:40:00.134Z"
   },
   {
    "duration": 4,
    "start_time": "2022-11-13T13:40:00.718Z"
   },
   {
    "duration": 5,
    "start_time": "2022-11-13T13:40:01.148Z"
   },
   {
    "duration": 5,
    "start_time": "2022-11-13T13:40:01.581Z"
   },
   {
    "duration": 13,
    "start_time": "2022-11-13T13:40:02.143Z"
   },
   {
    "duration": 383,
    "start_time": "2022-11-13T13:40:08.149Z"
   },
   {
    "duration": 312,
    "start_time": "2022-11-13T13:40:10.341Z"
   },
   {
    "duration": 309,
    "start_time": "2022-11-13T13:40:11.230Z"
   },
   {
    "duration": 293,
    "start_time": "2022-11-13T13:40:12.134Z"
   },
   {
    "duration": 453,
    "start_time": "2022-11-13T13:40:13.517Z"
   },
   {
    "duration": 161,
    "start_time": "2022-11-13T13:40:14.562Z"
   },
   {
    "duration": 225,
    "start_time": "2022-11-13T13:40:15.604Z"
   },
   {
    "duration": 212,
    "start_time": "2022-11-13T13:40:16.696Z"
   },
   {
    "duration": 160,
    "start_time": "2022-11-13T13:40:17.805Z"
   },
   {
    "duration": 190,
    "start_time": "2022-11-13T13:40:18.959Z"
   },
   {
    "duration": 155,
    "start_time": "2022-11-13T13:40:20.446Z"
   },
   {
    "duration": 159,
    "start_time": "2022-11-13T13:40:21.400Z"
   },
   {
    "duration": 315,
    "start_time": "2022-11-13T13:40:22.631Z"
   },
   {
    "duration": 156,
    "start_time": "2022-11-13T13:40:29.025Z"
   },
   {
    "duration": 146,
    "start_time": "2022-11-13T13:40:29.824Z"
   },
   {
    "duration": 661,
    "start_time": "2022-11-13T13:40:31.449Z"
   },
   {
    "duration": 189,
    "start_time": "2022-11-13T13:40:33.249Z"
   },
   {
    "duration": 183,
    "start_time": "2022-11-13T13:40:33.889Z"
   },
   {
    "duration": 169,
    "start_time": "2022-11-13T13:40:34.417Z"
   },
   {
    "duration": 174,
    "start_time": "2022-11-13T13:40:34.945Z"
   },
   {
    "duration": 301,
    "start_time": "2022-11-13T13:40:35.473Z"
   },
   {
    "duration": 183,
    "start_time": "2022-11-13T13:40:37.234Z"
   },
   {
    "duration": 186,
    "start_time": "2022-11-13T13:40:38.152Z"
   },
   {
    "duration": 143,
    "start_time": "2022-11-13T13:40:38.945Z"
   },
   {
    "duration": 27,
    "start_time": "2022-11-13T13:40:40.736Z"
   },
   {
    "duration": 168,
    "start_time": "2022-11-13T13:40:41.828Z"
   },
   {
    "duration": 359,
    "start_time": "2022-11-13T15:40:57.514Z"
   },
   {
    "duration": 2216,
    "start_time": "2022-11-13T15:40:57.875Z"
   },
   {
    "duration": 63,
    "start_time": "2022-11-13T15:41:00.092Z"
   },
   {
    "duration": 13,
    "start_time": "2022-11-13T15:41:00.169Z"
   },
   {
    "duration": 6,
    "start_time": "2022-11-13T15:41:00.184Z"
   },
   {
    "duration": 17,
    "start_time": "2022-11-13T15:41:00.191Z"
   },
   {
    "duration": 39,
    "start_time": "2022-11-13T15:41:00.209Z"
   },
   {
    "duration": 24,
    "start_time": "2022-11-13T15:41:00.249Z"
   },
   {
    "duration": 9,
    "start_time": "2022-11-13T15:41:00.275Z"
   },
   {
    "duration": 21,
    "start_time": "2022-11-13T15:41:00.287Z"
   },
   {
    "duration": 66,
    "start_time": "2022-11-13T15:41:00.309Z"
   },
   {
    "duration": 6,
    "start_time": "2022-11-13T15:41:00.377Z"
   },
   {
    "duration": 45,
    "start_time": "2022-11-13T15:41:00.385Z"
   },
   {
    "duration": 19,
    "start_time": "2022-11-13T15:41:00.432Z"
   },
   {
    "duration": 41,
    "start_time": "2022-11-13T15:41:00.452Z"
   },
   {
    "duration": 51,
    "start_time": "2022-11-13T15:41:00.495Z"
   },
   {
    "duration": 33,
    "start_time": "2022-11-13T15:41:00.547Z"
   },
   {
    "duration": 36,
    "start_time": "2022-11-13T15:41:00.582Z"
   },
   {
    "duration": 25,
    "start_time": "2022-11-13T15:41:00.619Z"
   },
   {
    "duration": 226,
    "start_time": "2022-11-13T15:41:00.646Z"
   },
   {
    "duration": 320,
    "start_time": "2022-11-13T15:41:00.874Z"
   },
   {
    "duration": 166,
    "start_time": "2022-11-13T15:41:01.196Z"
   },
   {
    "duration": 5,
    "start_time": "2022-11-13T15:41:01.364Z"
   },
   {
    "duration": 53,
    "start_time": "2022-11-13T15:41:01.370Z"
   },
   {
    "duration": 74,
    "start_time": "2022-11-13T15:41:01.425Z"
   },
   {
    "duration": 42,
    "start_time": "2022-11-13T15:41:01.500Z"
   },
   {
    "duration": 498,
    "start_time": "2022-11-13T15:41:01.543Z"
   },
   {
    "duration": 302,
    "start_time": "2022-11-13T15:41:02.044Z"
   },
   {
    "duration": 296,
    "start_time": "2022-11-13T15:41:02.347Z"
   },
   {
    "duration": 288,
    "start_time": "2022-11-13T15:41:02.645Z"
   },
   {
    "duration": 303,
    "start_time": "2022-11-13T15:41:02.935Z"
   },
   {
    "duration": 162,
    "start_time": "2022-11-13T15:41:03.240Z"
   },
   {
    "duration": 201,
    "start_time": "2022-11-13T15:41:03.403Z"
   },
   {
    "duration": 244,
    "start_time": "2022-11-13T15:41:03.605Z"
   },
   {
    "duration": 154,
    "start_time": "2022-11-13T15:41:03.850Z"
   },
   {
    "duration": 164,
    "start_time": "2022-11-13T15:41:04.005Z"
   },
   {
    "duration": 157,
    "start_time": "2022-11-13T15:41:04.171Z"
   },
   {
    "duration": 174,
    "start_time": "2022-11-13T15:41:04.330Z"
   },
   {
    "duration": 750,
    "start_time": "2022-11-13T15:41:04.506Z"
   },
   {
    "duration": 148,
    "start_time": "2022-11-13T15:41:05.257Z"
   },
   {
    "duration": 150,
    "start_time": "2022-11-13T15:41:05.407Z"
   },
   {
    "duration": 540,
    "start_time": "2022-11-13T15:41:05.567Z"
   },
   {
    "duration": 202,
    "start_time": "2022-11-13T15:41:06.109Z"
   },
   {
    "duration": 182,
    "start_time": "2022-11-13T15:41:06.313Z"
   },
   {
    "duration": 172,
    "start_time": "2022-11-13T15:41:06.497Z"
   },
   {
    "duration": 167,
    "start_time": "2022-11-13T15:41:06.671Z"
   },
   {
    "duration": 355,
    "start_time": "2022-11-13T15:41:06.839Z"
   },
   {
    "duration": 174,
    "start_time": "2022-11-13T15:41:07.196Z"
   },
   {
    "duration": 174,
    "start_time": "2022-11-13T15:41:07.371Z"
   },
   {
    "duration": 143,
    "start_time": "2022-11-13T15:41:07.547Z"
   },
   {
    "duration": 25,
    "start_time": "2022-11-13T15:41:07.691Z"
   },
   {
    "duration": 172,
    "start_time": "2022-11-13T15:41:07.718Z"
   },
   {
    "duration": 14,
    "start_time": "2022-11-13T15:41:49.662Z"
   },
   {
    "duration": 79,
    "start_time": "2022-11-13T15:41:52.565Z"
   },
   {
    "duration": 369,
    "start_time": "2023-05-08T08:08:35.230Z"
   },
   {
    "duration": 145,
    "start_time": "2023-05-08T08:16:57.846Z"
   },
   {
    "duration": 38,
    "start_time": "2023-05-08T08:17:28.661Z"
   },
   {
    "duration": 16,
    "start_time": "2023-05-08T08:17:46.769Z"
   },
   {
    "duration": 2734,
    "start_time": "2023-05-08T08:18:29.552Z"
   },
   {
    "duration": 53,
    "start_time": "2023-05-08T08:23:35.662Z"
   },
   {
    "duration": 3,
    "start_time": "2023-05-08T08:24:10.117Z"
   },
   {
    "duration": 46,
    "start_time": "2023-05-08T08:24:41.041Z"
   }
  ],
  "kernelspec": {
   "display_name": "Python 3 (ipykernel)",
   "language": "python",
   "name": "python3"
  },
  "language_info": {
   "codemirror_mode": {
    "name": "ipython",
    "version": 3
   },
   "file_extension": ".py",
   "mimetype": "text/x-python",
   "name": "python",
   "nbconvert_exporter": "python",
   "pygments_lexer": "ipython3",
   "version": "3.9.13"
  },
  "toc": {
   "base_numbering": 1,
   "nav_menu": {},
   "number_sections": true,
   "sideBar": true,
   "skip_h1_title": true,
   "title_cell": "Table of Contents",
   "title_sidebar": "Contents",
   "toc_cell": false,
   "toc_position": {},
   "toc_section_display": true,
   "toc_window_display": false
  }
 },
 "nbformat": 4,
 "nbformat_minor": 2
}
