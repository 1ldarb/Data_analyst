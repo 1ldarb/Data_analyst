{
 "cells": [
  {
   "cell_type": "markdown",
   "id": "78aa8f5c",
   "metadata": {},
   "source": [
    "# Проект по SQL"
   ]
  },
  {
   "cell_type": "markdown",
   "id": "0b9ee9d6",
   "metadata": {},
   "source": [
    "## Содержание проекта"
   ]
  },
  {
   "cell_type": "markdown",
   "id": "ba6ccaf3",
   "metadata": {},
   "source": [
    "**Описание проекта**\n",
    "\n",
    "**Цель проекта**\n",
    "\n",
    "**Описание данных**\n",
    "\n",
    "**Схема данных**\n",
    "\n",
    "**Задачи**\n",
    "\n",
    "**Общая информация о данных**\n",
    "\n",
    "**Анализ данных**\n",
    "\n",
    "**Общий вывод**\n",
    "\n",
    "**Рекомендации**\n"
   ]
  },
  {
   "cell_type": "markdown",
   "id": "caa1c846",
   "metadata": {},
   "source": [
    "## Описание проекта"
   ]
  },
  {
   "cell_type": "markdown",
   "id": "95deca95",
   "metadata": {},
   "source": [
    "Коронавирус застал мир врасплох, изменив привычный порядок вещей. В свободное время жители городов больше не выходят на улицу, не посещают кафе и торговые центры. Зато стало больше времени для книг. Это заметили стартаперы — и бросились создавать приложения для тех, кто любит читать."
   ]
  },
  {
   "cell_type": "markdown",
   "id": "243a0ba0",
   "metadata": {},
   "source": [
    "## Цель проекта"
   ]
  },
  {
   "cell_type": "markdown",
   "id": "c136f1fe",
   "metadata": {},
   "source": [
    "Чтобы получить целостное представление о продукте, необходимо изучить базы данных и найти в них целевую информацию."
   ]
  },
  {
   "cell_type": "markdown",
   "id": "7976d67b",
   "metadata": {},
   "source": [
    "## Описание данных"
   ]
  },
  {
   "cell_type": "markdown",
   "id": "ba88e445",
   "metadata": {},
   "source": [
    "**Таблица books**\n",
    "\n",
    "Содержит данные о книгах:\n",
    "\n",
    "book_id — идентификатор книги;\n",
    "\n",
    "author_id — идентификатор автора;\n",
    "\n",
    "title — название книги;\n",
    "\n",
    "num_pages — количество страниц;\n",
    "\n",
    "publication_date — дата публикации книги;\n",
    "\n",
    "publisher_id — идентификатор издателя.\n",
    "\n",
    "**Таблица authors**\n",
    "\n",
    "Содержит данные об авторах:\n",
    "\n",
    "author_id — идентификатор автора;\n",
    "\n",
    "author — имя автора.\n",
    "\n",
    "Таблица publishers\n",
    "\n",
    "Содержит данные об издательствах:\n",
    "\n",
    "publisher_id — идентификатор издательства;\n",
    "\n",
    "publisher — название издательства;\n",
    "\n",
    "**Таблица ratings**\n",
    "\n",
    "Содержит данные о пользовательских оценках книг:\n",
    "\n",
    "rating_id — идентификатор оценки;\n",
    "\n",
    "book_id — идентификатор книги;\n",
    "\n",
    "username — имя пользователя, оставившего оценку;\n",
    "\n",
    "rating — оценка книги.\n",
    "\n",
    "**Таблица reviews**\n",
    "\n",
    "Содержит данные о пользовательских обзорах:\n",
    "\n",
    "review_id — идентификатор обзора;\n",
    "\n",
    "book_id — идентификатор книги;\n",
    "\n",
    "username — имя автора обзора;\n",
    "\n",
    "text — текст обзора."
   ]
  },
  {
   "cell_type": "markdown",
   "id": "da2fa6cb",
   "metadata": {},
   "source": [
    "## Анализ данных"
   ]
  },
  {
   "cell_type": "markdown",
   "id": "50313385",
   "metadata": {},
   "source": [
    "- Посчитаем, сколько книг вышло после 1 января 2000 года;\n",
    "- Для каждой книги посчитаем количество обзоров и среднюю оценку;\n",
    "- Определим издательство, которое выпустило наибольшее число книг толще 50 страниц — так мы исключим из анализа брошюры;\n",
    "- Определим автора с самой высокой средней оценкой книг — учитываем только книги с 50 и более оценками;\n",
    "- Посчитаем среднее количество обзоров от пользователей, которые поставили больше 50 оценок."
   ]
  },
  {
   "cell_type": "markdown",
   "id": "6a1b5493",
   "metadata": {},
   "source": [
    "# Общая информация о данных"
   ]
  },
  {
   "cell_type": "code",
   "execution_count": 1,
   "id": "65080137",
   "metadata": {},
   "outputs": [],
   "source": [
    "# импортируем библиотеки\n",
    "import pandas as pd\n",
    "from sqlalchemy import create_engine\n",
    "# устанавливаем параметры\n",
    "db_config = {'user': 'praktikum_student', # имя пользователя\n",
    "'pwd': 'Sdf4$2;d-d30pp', # пароль\n",
    "'host': 'rc1b-wcoijxj3yxfsf3fs.mdb.yandexcloud.net',\n",
    "'port': 6432, # порт подключения\n",
    "'db': 'data-analyst-final-project-db'} # название базы данных\n",
    "connection_string = 'postgresql://{}:{}@{}:{}/{}'.format(db_config['user'],\n",
    " db_config['pwd'],\n",
    " db_config['host'],\n",
    " db_config['port'],\n",
    " db_config['db'])\n",
    "# сохраняем коннектор\n",
    "engine = create_engine(connection_string, connect_args={'sslmode':'require'}) "
   ]
  },
  {
   "cell_type": "code",
   "execution_count": 2,
   "id": "23de232a",
   "metadata": {},
   "outputs": [],
   "source": [
    "# функция для выполнения SQL-запросов и возврата результатов в виде DataFrame\n",
    "def execute_sql_query(query):\n",
    "    connection_string = 'postgresql://{}:{}@{}:{}/{}'.format(\n",
    "        db_config['user'],\n",
    "        db_config['pwd'],\n",
    "        db_config['host'],\n",
    "        db_config['port'],\n",
    "        db_config['db']\n",
    "    )\n",
    "    # Создаем коннектор\n",
    "    engine = create_engine(connection_string, connect_args={'sslmode':'require'}) \n",
    "    # Выполняем SQL-запрос и сохраняем результаты в DataFrame\n",
    "    df = pd.read_sql(query, con=engine)\n",
    "    # Возвращаем DataFrame с результатами\n",
    "    return df\n"
   ]
  },
  {
   "cell_type": "code",
   "execution_count": 3,
   "id": "92617942",
   "metadata": {},
   "outputs": [
    {
     "data": {
      "text/html": [
       "<div>\n",
       "<style scoped>\n",
       "    .dataframe tbody tr th:only-of-type {\n",
       "        vertical-align: middle;\n",
       "    }\n",
       "\n",
       "    .dataframe tbody tr th {\n",
       "        vertical-align: top;\n",
       "    }\n",
       "\n",
       "    .dataframe thead th {\n",
       "        text-align: right;\n",
       "    }\n",
       "</style>\n",
       "<table border=\"1\" class=\"dataframe\">\n",
       "  <thead>\n",
       "    <tr style=\"text-align: right;\">\n",
       "      <th></th>\n",
       "      <th>book_id</th>\n",
       "      <th>author_id</th>\n",
       "      <th>title</th>\n",
       "      <th>num_pages</th>\n",
       "      <th>publication_date</th>\n",
       "      <th>publisher_id</th>\n",
       "    </tr>\n",
       "  </thead>\n",
       "  <tbody>\n",
       "    <tr>\n",
       "      <th>0</th>\n",
       "      <td>1</td>\n",
       "      <td>546</td>\n",
       "      <td>'Salem's Lot</td>\n",
       "      <td>594</td>\n",
       "      <td>2005-11-01</td>\n",
       "      <td>93</td>\n",
       "    </tr>\n",
       "    <tr>\n",
       "      <th>1</th>\n",
       "      <td>2</td>\n",
       "      <td>465</td>\n",
       "      <td>1 000 Places to See Before You Die</td>\n",
       "      <td>992</td>\n",
       "      <td>2003-05-22</td>\n",
       "      <td>336</td>\n",
       "    </tr>\n",
       "    <tr>\n",
       "      <th>2</th>\n",
       "      <td>3</td>\n",
       "      <td>407</td>\n",
       "      <td>13 Little Blue Envelopes (Little Blue Envelope...</td>\n",
       "      <td>322</td>\n",
       "      <td>2010-12-21</td>\n",
       "      <td>135</td>\n",
       "    </tr>\n",
       "    <tr>\n",
       "      <th>3</th>\n",
       "      <td>4</td>\n",
       "      <td>82</td>\n",
       "      <td>1491: New Revelations of the Americas Before C...</td>\n",
       "      <td>541</td>\n",
       "      <td>2006-10-10</td>\n",
       "      <td>309</td>\n",
       "    </tr>\n",
       "    <tr>\n",
       "      <th>4</th>\n",
       "      <td>5</td>\n",
       "      <td>125</td>\n",
       "      <td>1776</td>\n",
       "      <td>386</td>\n",
       "      <td>2006-07-04</td>\n",
       "      <td>268</td>\n",
       "    </tr>\n",
       "    <tr>\n",
       "      <th>...</th>\n",
       "      <td>...</td>\n",
       "      <td>...</td>\n",
       "      <td>...</td>\n",
       "      <td>...</td>\n",
       "      <td>...</td>\n",
       "      <td>...</td>\n",
       "    </tr>\n",
       "    <tr>\n",
       "      <th>995</th>\n",
       "      <td>996</td>\n",
       "      <td>571</td>\n",
       "      <td>Wyrd Sisters (Discworld  #6; Witches #2)</td>\n",
       "      <td>265</td>\n",
       "      <td>2001-02-06</td>\n",
       "      <td>147</td>\n",
       "    </tr>\n",
       "    <tr>\n",
       "      <th>996</th>\n",
       "      <td>997</td>\n",
       "      <td>454</td>\n",
       "      <td>Xenocide (Ender's Saga  #3)</td>\n",
       "      <td>592</td>\n",
       "      <td>1996-07-15</td>\n",
       "      <td>297</td>\n",
       "    </tr>\n",
       "    <tr>\n",
       "      <th>997</th>\n",
       "      <td>998</td>\n",
       "      <td>201</td>\n",
       "      <td>Year of Wonders</td>\n",
       "      <td>358</td>\n",
       "      <td>2002-04-30</td>\n",
       "      <td>212</td>\n",
       "    </tr>\n",
       "    <tr>\n",
       "      <th>998</th>\n",
       "      <td>999</td>\n",
       "      <td>94</td>\n",
       "      <td>You Suck (A Love Story  #2)</td>\n",
       "      <td>328</td>\n",
       "      <td>2007-01-16</td>\n",
       "      <td>331</td>\n",
       "    </tr>\n",
       "    <tr>\n",
       "      <th>999</th>\n",
       "      <td>1000</td>\n",
       "      <td>509</td>\n",
       "      <td>Zen and the Art of Motorcycle Maintenance: An ...</td>\n",
       "      <td>540</td>\n",
       "      <td>2006-04-25</td>\n",
       "      <td>143</td>\n",
       "    </tr>\n",
       "  </tbody>\n",
       "</table>\n",
       "<p>1000 rows × 6 columns</p>\n",
       "</div>"
      ],
      "text/plain": [
       "     book_id  author_id                                              title  \\\n",
       "0          1        546                                       'Salem's Lot   \n",
       "1          2        465                 1 000 Places to See Before You Die   \n",
       "2          3        407  13 Little Blue Envelopes (Little Blue Envelope...   \n",
       "3          4         82  1491: New Revelations of the Americas Before C...   \n",
       "4          5        125                                               1776   \n",
       "..       ...        ...                                                ...   \n",
       "995      996        571           Wyrd Sisters (Discworld  #6; Witches #2)   \n",
       "996      997        454                        Xenocide (Ender's Saga  #3)   \n",
       "997      998        201                                    Year of Wonders   \n",
       "998      999         94                        You Suck (A Love Story  #2)   \n",
       "999     1000        509  Zen and the Art of Motorcycle Maintenance: An ...   \n",
       "\n",
       "     num_pages publication_date  publisher_id  \n",
       "0          594       2005-11-01            93  \n",
       "1          992       2003-05-22           336  \n",
       "2          322       2010-12-21           135  \n",
       "3          541       2006-10-10           309  \n",
       "4          386       2006-07-04           268  \n",
       "..         ...              ...           ...  \n",
       "995        265       2001-02-06           147  \n",
       "996        592       1996-07-15           297  \n",
       "997        358       2002-04-30           212  \n",
       "998        328       2007-01-16           331  \n",
       "999        540       2006-04-25           143  \n",
       "\n",
       "[1000 rows x 6 columns]"
      ]
     },
     "execution_count": 3,
     "metadata": {},
     "output_type": "execute_result"
    }
   ],
   "source": [
    "# Чтение данных из таблицы books\n",
    "query = 'SELECT * FROM books'\n",
    "df_books = execute_sql_query(query)\n",
    "df_books"
   ]
  },
  {
   "cell_type": "code",
   "execution_count": 4,
   "id": "79d7c9dc",
   "metadata": {},
   "outputs": [
    {
     "data": {
      "text/html": [
       "<div>\n",
       "<style scoped>\n",
       "    .dataframe tbody tr th:only-of-type {\n",
       "        vertical-align: middle;\n",
       "    }\n",
       "\n",
       "    .dataframe tbody tr th {\n",
       "        vertical-align: top;\n",
       "    }\n",
       "\n",
       "    .dataframe thead th {\n",
       "        text-align: right;\n",
       "    }\n",
       "</style>\n",
       "<table border=\"1\" class=\"dataframe\">\n",
       "  <thead>\n",
       "    <tr style=\"text-align: right;\">\n",
       "      <th></th>\n",
       "      <th>author_id</th>\n",
       "      <th>author</th>\n",
       "    </tr>\n",
       "  </thead>\n",
       "  <tbody>\n",
       "    <tr>\n",
       "      <th>0</th>\n",
       "      <td>1</td>\n",
       "      <td>A.S. Byatt</td>\n",
       "    </tr>\n",
       "    <tr>\n",
       "      <th>1</th>\n",
       "      <td>2</td>\n",
       "      <td>Aesop/Laura Harris/Laura Gibbs</td>\n",
       "    </tr>\n",
       "    <tr>\n",
       "      <th>2</th>\n",
       "      <td>3</td>\n",
       "      <td>Agatha Christie</td>\n",
       "    </tr>\n",
       "    <tr>\n",
       "      <th>3</th>\n",
       "      <td>4</td>\n",
       "      <td>Alan Brennert</td>\n",
       "    </tr>\n",
       "    <tr>\n",
       "      <th>4</th>\n",
       "      <td>5</td>\n",
       "      <td>Alan Moore/David   Lloyd</td>\n",
       "    </tr>\n",
       "    <tr>\n",
       "      <th>...</th>\n",
       "      <td>...</td>\n",
       "      <td>...</td>\n",
       "    </tr>\n",
       "    <tr>\n",
       "      <th>631</th>\n",
       "      <td>632</td>\n",
       "      <td>William Strunk Jr./E.B. White</td>\n",
       "    </tr>\n",
       "    <tr>\n",
       "      <th>632</th>\n",
       "      <td>633</td>\n",
       "      <td>Zadie Smith</td>\n",
       "    </tr>\n",
       "    <tr>\n",
       "      <th>633</th>\n",
       "      <td>634</td>\n",
       "      <td>Zilpha Keatley Snyder</td>\n",
       "    </tr>\n",
       "    <tr>\n",
       "      <th>634</th>\n",
       "      <td>635</td>\n",
       "      <td>Zora Neale Hurston</td>\n",
       "    </tr>\n",
       "    <tr>\n",
       "      <th>635</th>\n",
       "      <td>636</td>\n",
       "      <td>Åsne Seierstad/Ingrid Christopherson</td>\n",
       "    </tr>\n",
       "  </tbody>\n",
       "</table>\n",
       "<p>636 rows × 2 columns</p>\n",
       "</div>"
      ],
      "text/plain": [
       "     author_id                                author\n",
       "0            1                            A.S. Byatt\n",
       "1            2        Aesop/Laura Harris/Laura Gibbs\n",
       "2            3                       Agatha Christie\n",
       "3            4                         Alan Brennert\n",
       "4            5              Alan Moore/David   Lloyd\n",
       "..         ...                                   ...\n",
       "631        632         William Strunk Jr./E.B. White\n",
       "632        633                           Zadie Smith\n",
       "633        634                 Zilpha Keatley Snyder\n",
       "634        635                    Zora Neale Hurston\n",
       "635        636  Åsne Seierstad/Ingrid Christopherson\n",
       "\n",
       "[636 rows x 2 columns]"
      ]
     },
     "execution_count": 4,
     "metadata": {},
     "output_type": "execute_result"
    }
   ],
   "source": [
    "# Чтение данных из таблицы authors\n",
    "query = 'SELECT * FROM authors'\n",
    "df_authors = execute_sql_query(query)\n",
    "df_authors"
   ]
  },
  {
   "cell_type": "code",
   "execution_count": 5,
   "id": "7b1da9c8",
   "metadata": {},
   "outputs": [
    {
     "data": {
      "text/html": [
       "<div>\n",
       "<style scoped>\n",
       "    .dataframe tbody tr th:only-of-type {\n",
       "        vertical-align: middle;\n",
       "    }\n",
       "\n",
       "    .dataframe tbody tr th {\n",
       "        vertical-align: top;\n",
       "    }\n",
       "\n",
       "    .dataframe thead th {\n",
       "        text-align: right;\n",
       "    }\n",
       "</style>\n",
       "<table border=\"1\" class=\"dataframe\">\n",
       "  <thead>\n",
       "    <tr style=\"text-align: right;\">\n",
       "      <th></th>\n",
       "      <th>publisher_id</th>\n",
       "      <th>publisher</th>\n",
       "    </tr>\n",
       "  </thead>\n",
       "  <tbody>\n",
       "    <tr>\n",
       "      <th>0</th>\n",
       "      <td>1</td>\n",
       "      <td>Ace</td>\n",
       "    </tr>\n",
       "    <tr>\n",
       "      <th>1</th>\n",
       "      <td>2</td>\n",
       "      <td>Ace Book</td>\n",
       "    </tr>\n",
       "    <tr>\n",
       "      <th>2</th>\n",
       "      <td>3</td>\n",
       "      <td>Ace Books</td>\n",
       "    </tr>\n",
       "    <tr>\n",
       "      <th>3</th>\n",
       "      <td>4</td>\n",
       "      <td>Ace Hardcover</td>\n",
       "    </tr>\n",
       "    <tr>\n",
       "      <th>4</th>\n",
       "      <td>5</td>\n",
       "      <td>Addison Wesley Publishing Company</td>\n",
       "    </tr>\n",
       "    <tr>\n",
       "      <th>...</th>\n",
       "      <td>...</td>\n",
       "      <td>...</td>\n",
       "    </tr>\n",
       "    <tr>\n",
       "      <th>335</th>\n",
       "      <td>336</td>\n",
       "      <td>Workman Publishing Company</td>\n",
       "    </tr>\n",
       "    <tr>\n",
       "      <th>336</th>\n",
       "      <td>337</td>\n",
       "      <td>Wyatt Book</td>\n",
       "    </tr>\n",
       "    <tr>\n",
       "      <th>337</th>\n",
       "      <td>338</td>\n",
       "      <td>Yale University Press</td>\n",
       "    </tr>\n",
       "    <tr>\n",
       "      <th>338</th>\n",
       "      <td>339</td>\n",
       "      <td>Yearling</td>\n",
       "    </tr>\n",
       "    <tr>\n",
       "      <th>339</th>\n",
       "      <td>340</td>\n",
       "      <td>Yearling Books</td>\n",
       "    </tr>\n",
       "  </tbody>\n",
       "</table>\n",
       "<p>340 rows × 2 columns</p>\n",
       "</div>"
      ],
      "text/plain": [
       "     publisher_id                          publisher\n",
       "0               1                                Ace\n",
       "1               2                           Ace Book\n",
       "2               3                          Ace Books\n",
       "3               4                      Ace Hardcover\n",
       "4               5  Addison Wesley Publishing Company\n",
       "..            ...                                ...\n",
       "335           336         Workman Publishing Company\n",
       "336           337                         Wyatt Book\n",
       "337           338              Yale University Press\n",
       "338           339                           Yearling\n",
       "339           340                     Yearling Books\n",
       "\n",
       "[340 rows x 2 columns]"
      ]
     },
     "execution_count": 5,
     "metadata": {},
     "output_type": "execute_result"
    }
   ],
   "source": [
    "# Чтение данных из таблицы publishers\n",
    "query = 'SELECT * FROM publishers'\n",
    "df_publishers = execute_sql_query(query)\n",
    "df_publishers"
   ]
  },
  {
   "cell_type": "code",
   "execution_count": 6,
   "id": "ef7e1484",
   "metadata": {},
   "outputs": [
    {
     "data": {
      "text/html": [
       "<div>\n",
       "<style scoped>\n",
       "    .dataframe tbody tr th:only-of-type {\n",
       "        vertical-align: middle;\n",
       "    }\n",
       "\n",
       "    .dataframe tbody tr th {\n",
       "        vertical-align: top;\n",
       "    }\n",
       "\n",
       "    .dataframe thead th {\n",
       "        text-align: right;\n",
       "    }\n",
       "</style>\n",
       "<table border=\"1\" class=\"dataframe\">\n",
       "  <thead>\n",
       "    <tr style=\"text-align: right;\">\n",
       "      <th></th>\n",
       "      <th>rating_id</th>\n",
       "      <th>book_id</th>\n",
       "      <th>username</th>\n",
       "      <th>rating</th>\n",
       "    </tr>\n",
       "  </thead>\n",
       "  <tbody>\n",
       "    <tr>\n",
       "      <th>0</th>\n",
       "      <td>1</td>\n",
       "      <td>1</td>\n",
       "      <td>ryanfranco</td>\n",
       "      <td>4</td>\n",
       "    </tr>\n",
       "    <tr>\n",
       "      <th>1</th>\n",
       "      <td>2</td>\n",
       "      <td>1</td>\n",
       "      <td>grantpatricia</td>\n",
       "      <td>2</td>\n",
       "    </tr>\n",
       "    <tr>\n",
       "      <th>2</th>\n",
       "      <td>3</td>\n",
       "      <td>1</td>\n",
       "      <td>brandtandrea</td>\n",
       "      <td>5</td>\n",
       "    </tr>\n",
       "    <tr>\n",
       "      <th>3</th>\n",
       "      <td>4</td>\n",
       "      <td>2</td>\n",
       "      <td>lorichen</td>\n",
       "      <td>3</td>\n",
       "    </tr>\n",
       "    <tr>\n",
       "      <th>4</th>\n",
       "      <td>5</td>\n",
       "      <td>2</td>\n",
       "      <td>mariokeller</td>\n",
       "      <td>2</td>\n",
       "    </tr>\n",
       "    <tr>\n",
       "      <th>...</th>\n",
       "      <td>...</td>\n",
       "      <td>...</td>\n",
       "      <td>...</td>\n",
       "      <td>...</td>\n",
       "    </tr>\n",
       "    <tr>\n",
       "      <th>6451</th>\n",
       "      <td>6452</td>\n",
       "      <td>1000</td>\n",
       "      <td>carolrodriguez</td>\n",
       "      <td>4</td>\n",
       "    </tr>\n",
       "    <tr>\n",
       "      <th>6452</th>\n",
       "      <td>6453</td>\n",
       "      <td>1000</td>\n",
       "      <td>wendy18</td>\n",
       "      <td>4</td>\n",
       "    </tr>\n",
       "    <tr>\n",
       "      <th>6453</th>\n",
       "      <td>6454</td>\n",
       "      <td>1000</td>\n",
       "      <td>jarvispaul</td>\n",
       "      <td>5</td>\n",
       "    </tr>\n",
       "    <tr>\n",
       "      <th>6454</th>\n",
       "      <td>6455</td>\n",
       "      <td>1000</td>\n",
       "      <td>zross</td>\n",
       "      <td>2</td>\n",
       "    </tr>\n",
       "    <tr>\n",
       "      <th>6455</th>\n",
       "      <td>6456</td>\n",
       "      <td>1000</td>\n",
       "      <td>fharris</td>\n",
       "      <td>5</td>\n",
       "    </tr>\n",
       "  </tbody>\n",
       "</table>\n",
       "<p>6456 rows × 4 columns</p>\n",
       "</div>"
      ],
      "text/plain": [
       "      rating_id  book_id        username  rating\n",
       "0             1        1      ryanfranco       4\n",
       "1             2        1   grantpatricia       2\n",
       "2             3        1    brandtandrea       5\n",
       "3             4        2        lorichen       3\n",
       "4             5        2     mariokeller       2\n",
       "...         ...      ...             ...     ...\n",
       "6451       6452     1000  carolrodriguez       4\n",
       "6452       6453     1000         wendy18       4\n",
       "6453       6454     1000      jarvispaul       5\n",
       "6454       6455     1000           zross       2\n",
       "6455       6456     1000         fharris       5\n",
       "\n",
       "[6456 rows x 4 columns]"
      ]
     },
     "execution_count": 6,
     "metadata": {},
     "output_type": "execute_result"
    }
   ],
   "source": [
    "# Чтение данных из таблицы ratings\n",
    "query = 'SELECT * FROM ratings'\n",
    "df_ratings = execute_sql_query(query)\n",
    "df_ratings"
   ]
  },
  {
   "cell_type": "code",
   "execution_count": 7,
   "id": "0361683b",
   "metadata": {
    "scrolled": true
   },
   "outputs": [
    {
     "data": {
      "text/html": [
       "<div>\n",
       "<style scoped>\n",
       "    .dataframe tbody tr th:only-of-type {\n",
       "        vertical-align: middle;\n",
       "    }\n",
       "\n",
       "    .dataframe tbody tr th {\n",
       "        vertical-align: top;\n",
       "    }\n",
       "\n",
       "    .dataframe thead th {\n",
       "        text-align: right;\n",
       "    }\n",
       "</style>\n",
       "<table border=\"1\" class=\"dataframe\">\n",
       "  <thead>\n",
       "    <tr style=\"text-align: right;\">\n",
       "      <th></th>\n",
       "      <th>rating_id</th>\n",
       "      <th>book_id</th>\n",
       "      <th>username</th>\n",
       "      <th>rating</th>\n",
       "    </tr>\n",
       "  </thead>\n",
       "  <tbody>\n",
       "    <tr>\n",
       "      <th>0</th>\n",
       "      <td>1</td>\n",
       "      <td>1</td>\n",
       "      <td>ryanfranco</td>\n",
       "      <td>4</td>\n",
       "    </tr>\n",
       "    <tr>\n",
       "      <th>1</th>\n",
       "      <td>2</td>\n",
       "      <td>1</td>\n",
       "      <td>grantpatricia</td>\n",
       "      <td>2</td>\n",
       "    </tr>\n",
       "    <tr>\n",
       "      <th>2</th>\n",
       "      <td>3</td>\n",
       "      <td>1</td>\n",
       "      <td>brandtandrea</td>\n",
       "      <td>5</td>\n",
       "    </tr>\n",
       "    <tr>\n",
       "      <th>3</th>\n",
       "      <td>4</td>\n",
       "      <td>2</td>\n",
       "      <td>lorichen</td>\n",
       "      <td>3</td>\n",
       "    </tr>\n",
       "    <tr>\n",
       "      <th>4</th>\n",
       "      <td>5</td>\n",
       "      <td>2</td>\n",
       "      <td>mariokeller</td>\n",
       "      <td>2</td>\n",
       "    </tr>\n",
       "    <tr>\n",
       "      <th>...</th>\n",
       "      <td>...</td>\n",
       "      <td>...</td>\n",
       "      <td>...</td>\n",
       "      <td>...</td>\n",
       "    </tr>\n",
       "    <tr>\n",
       "      <th>6451</th>\n",
       "      <td>6452</td>\n",
       "      <td>1000</td>\n",
       "      <td>carolrodriguez</td>\n",
       "      <td>4</td>\n",
       "    </tr>\n",
       "    <tr>\n",
       "      <th>6452</th>\n",
       "      <td>6453</td>\n",
       "      <td>1000</td>\n",
       "      <td>wendy18</td>\n",
       "      <td>4</td>\n",
       "    </tr>\n",
       "    <tr>\n",
       "      <th>6453</th>\n",
       "      <td>6454</td>\n",
       "      <td>1000</td>\n",
       "      <td>jarvispaul</td>\n",
       "      <td>5</td>\n",
       "    </tr>\n",
       "    <tr>\n",
       "      <th>6454</th>\n",
       "      <td>6455</td>\n",
       "      <td>1000</td>\n",
       "      <td>zross</td>\n",
       "      <td>2</td>\n",
       "    </tr>\n",
       "    <tr>\n",
       "      <th>6455</th>\n",
       "      <td>6456</td>\n",
       "      <td>1000</td>\n",
       "      <td>fharris</td>\n",
       "      <td>5</td>\n",
       "    </tr>\n",
       "  </tbody>\n",
       "</table>\n",
       "<p>6456 rows × 4 columns</p>\n",
       "</div>"
      ],
      "text/plain": [
       "      rating_id  book_id        username  rating\n",
       "0             1        1      ryanfranco       4\n",
       "1             2        1   grantpatricia       2\n",
       "2             3        1    brandtandrea       5\n",
       "3             4        2        lorichen       3\n",
       "4             5        2     mariokeller       2\n",
       "...         ...      ...             ...     ...\n",
       "6451       6452     1000  carolrodriguez       4\n",
       "6452       6453     1000         wendy18       4\n",
       "6453       6454     1000      jarvispaul       5\n",
       "6454       6455     1000           zross       2\n",
       "6455       6456     1000         fharris       5\n",
       "\n",
       "[6456 rows x 4 columns]"
      ]
     },
     "execution_count": 7,
     "metadata": {},
     "output_type": "execute_result"
    }
   ],
   "source": [
    "# Чтение данных из таблицы reviews\n",
    "query = 'SELECT * FROM reviews'\n",
    "df_reviews = execute_sql_query(query)\n",
    "df_ratings\n"
   ]
  },
  {
   "cell_type": "markdown",
   "id": "4f6b7759",
   "metadata": {},
   "source": [
    "## Решение задач"
   ]
  },
  {
   "cell_type": "markdown",
   "id": "4d5ca78d",
   "metadata": {},
   "source": [
    "### Посчитаем, сколько книг вышло после 1 января 2000 года"
   ]
  },
  {
   "cell_type": "code",
   "execution_count": 8,
   "id": "25b55754",
   "metadata": {
    "scrolled": true
   },
   "outputs": [
    {
     "data": {
      "text/html": [
       "<div>\n",
       "<style scoped>\n",
       "    .dataframe tbody tr th:only-of-type {\n",
       "        vertical-align: middle;\n",
       "    }\n",
       "\n",
       "    .dataframe tbody tr th {\n",
       "        vertical-align: top;\n",
       "    }\n",
       "\n",
       "    .dataframe thead th {\n",
       "        text-align: right;\n",
       "    }\n",
       "</style>\n",
       "<table border=\"1\" class=\"dataframe\">\n",
       "  <thead>\n",
       "    <tr style=\"text-align: right;\">\n",
       "      <th></th>\n",
       "      <th>book_count</th>\n",
       "    </tr>\n",
       "  </thead>\n",
       "  <tbody>\n",
       "    <tr>\n",
       "      <th>0</th>\n",
       "      <td>819</td>\n",
       "    </tr>\n",
       "  </tbody>\n",
       "</table>\n",
       "</div>"
      ],
      "text/plain": [
       "   book_count\n",
       "0         819"
      ]
     },
     "execution_count": 8,
     "metadata": {},
     "output_type": "execute_result"
    }
   ],
   "source": [
    "# SQL-запрос\n",
    "query = \"SELECT COUNT(book_id) AS book_count FROM books WHERE publication_date > '2000-01-01';\"\n",
    "\n",
    "# Выполнение SQL-запроса и сохранение результата в DataFrame\n",
    "books_count = execute_sql_query(query)\n",
    "books_count\n"
   ]
  },
  {
   "cell_type": "markdown",
   "id": "4a858cd5",
   "metadata": {},
   "source": [
    "819 книг вышло после 1 января 2000 года"
   ]
  },
  {
   "cell_type": "markdown",
   "id": "1687bb52",
   "metadata": {},
   "source": [
    "### Для каждой книги посчитаем количество обзоров и среднюю оценку"
   ]
  },
  {
   "cell_type": "code",
   "execution_count": 9,
   "id": "dbe9dde0",
   "metadata": {
    "scrolled": false
   },
   "outputs": [
    {
     "data": {
      "text/html": [
       "<div>\n",
       "<style scoped>\n",
       "    .dataframe tbody tr th:only-of-type {\n",
       "        vertical-align: middle;\n",
       "    }\n",
       "\n",
       "    .dataframe tbody tr th {\n",
       "        vertical-align: top;\n",
       "    }\n",
       "\n",
       "    .dataframe thead th {\n",
       "        text-align: right;\n",
       "    }\n",
       "</style>\n",
       "<table border=\"1\" class=\"dataframe\">\n",
       "  <thead>\n",
       "    <tr style=\"text-align: right;\">\n",
       "      <th></th>\n",
       "      <th>book_id</th>\n",
       "      <th>title</th>\n",
       "      <th>num_reviews</th>\n",
       "      <th>avg_rating</th>\n",
       "    </tr>\n",
       "  </thead>\n",
       "  <tbody>\n",
       "    <tr>\n",
       "      <th>0</th>\n",
       "      <td>948</td>\n",
       "      <td>Twilight (Twilight  #1)</td>\n",
       "      <td>7</td>\n",
       "      <td>3.662500</td>\n",
       "    </tr>\n",
       "    <tr>\n",
       "      <th>1</th>\n",
       "      <td>302</td>\n",
       "      <td>Harry Potter and the Prisoner of Azkaban (Harr...</td>\n",
       "      <td>6</td>\n",
       "      <td>4.414634</td>\n",
       "    </tr>\n",
       "    <tr>\n",
       "      <th>2</th>\n",
       "      <td>299</td>\n",
       "      <td>Harry Potter and the Chamber of Secrets (Harry...</td>\n",
       "      <td>6</td>\n",
       "      <td>4.287500</td>\n",
       "    </tr>\n",
       "    <tr>\n",
       "      <th>3</th>\n",
       "      <td>656</td>\n",
       "      <td>The Book Thief</td>\n",
       "      <td>6</td>\n",
       "      <td>4.264151</td>\n",
       "    </tr>\n",
       "    <tr>\n",
       "      <th>4</th>\n",
       "      <td>734</td>\n",
       "      <td>The Glass Castle</td>\n",
       "      <td>6</td>\n",
       "      <td>4.206897</td>\n",
       "    </tr>\n",
       "    <tr>\n",
       "      <th>...</th>\n",
       "      <td>...</td>\n",
       "      <td>...</td>\n",
       "      <td>...</td>\n",
       "      <td>...</td>\n",
       "    </tr>\n",
       "    <tr>\n",
       "      <th>995</th>\n",
       "      <td>191</td>\n",
       "      <td>Disney's Beauty and the Beast (A Little Golden...</td>\n",
       "      <td>0</td>\n",
       "      <td>4.000000</td>\n",
       "    </tr>\n",
       "    <tr>\n",
       "      <th>996</th>\n",
       "      <td>387</td>\n",
       "      <td>Leonardo's Notebooks</td>\n",
       "      <td>0</td>\n",
       "      <td>4.000000</td>\n",
       "    </tr>\n",
       "    <tr>\n",
       "      <th>997</th>\n",
       "      <td>221</td>\n",
       "      <td>Essential Tales and Poems</td>\n",
       "      <td>0</td>\n",
       "      <td>4.000000</td>\n",
       "    </tr>\n",
       "    <tr>\n",
       "      <th>998</th>\n",
       "      <td>83</td>\n",
       "      <td>Anne Rice's The Vampire Lestat: A Graphic Novel</td>\n",
       "      <td>0</td>\n",
       "      <td>3.666667</td>\n",
       "    </tr>\n",
       "    <tr>\n",
       "      <th>999</th>\n",
       "      <td>808</td>\n",
       "      <td>The Natural Way to Draw</td>\n",
       "      <td>0</td>\n",
       "      <td>3.000000</td>\n",
       "    </tr>\n",
       "  </tbody>\n",
       "</table>\n",
       "<p>1000 rows × 4 columns</p>\n",
       "</div>"
      ],
      "text/plain": [
       "     book_id                                              title  num_reviews  \\\n",
       "0        948                            Twilight (Twilight  #1)            7   \n",
       "1        302  Harry Potter and the Prisoner of Azkaban (Harr...            6   \n",
       "2        299  Harry Potter and the Chamber of Secrets (Harry...            6   \n",
       "3        656                                     The Book Thief            6   \n",
       "4        734                                   The Glass Castle            6   \n",
       "..       ...                                                ...          ...   \n",
       "995      191  Disney's Beauty and the Beast (A Little Golden...            0   \n",
       "996      387                               Leonardo's Notebooks            0   \n",
       "997      221                          Essential Tales and Poems            0   \n",
       "998       83    Anne Rice's The Vampire Lestat: A Graphic Novel            0   \n",
       "999      808                            The Natural Way to Draw            0   \n",
       "\n",
       "     avg_rating  \n",
       "0      3.662500  \n",
       "1      4.414634  \n",
       "2      4.287500  \n",
       "3      4.264151  \n",
       "4      4.206897  \n",
       "..          ...  \n",
       "995    4.000000  \n",
       "996    4.000000  \n",
       "997    4.000000  \n",
       "998    3.666667  \n",
       "999    3.000000  \n",
       "\n",
       "[1000 rows x 4 columns]"
      ]
     },
     "execution_count": 9,
     "metadata": {},
     "output_type": "execute_result"
    }
   ],
   "source": [
    "# SQL-запрос\n",
    "query = \"\"\"\n",
    "    SELECT \n",
    "        b.book_id,\n",
    "        b.title,\n",
    "        COUNT(DISTINCT r.review_id) AS num_reviews,\n",
    "        AVG(rt.rating) AS avg_rating\n",
    "    FROM \n",
    "        books b\n",
    "    LEFT JOIN \n",
    "        reviews r ON b.book_id = r.book_id\n",
    "    LEFT JOIN \n",
    "        ratings rt ON b.book_id = rt.book_id\n",
    "    GROUP BY \n",
    "        b.book_id,\n",
    "        b.title\n",
    "    ORDER BY num_reviews DESC, avg_rating DESC\n",
    "\"\"\"\n",
    "\n",
    "# Выполнение SQL-запроса и сохранение результата в DataFrame\n",
    "book_stats = execute_sql_query(query)\n",
    "book_stats"
   ]
  },
  {
   "cell_type": "markdown",
   "id": "100f4900",
   "metadata": {},
   "source": [
    "Для каждой из тысячи книг определили количество обзоров и среднюю оценку."
   ]
  },
  {
   "cell_type": "code",
   "execution_count": 10,
   "id": "47d942ea",
   "metadata": {},
   "outputs": [
    {
     "data": {
      "text/html": [
       "<div>\n",
       "<style scoped>\n",
       "    .dataframe tbody tr th:only-of-type {\n",
       "        vertical-align: middle;\n",
       "    }\n",
       "\n",
       "    .dataframe tbody tr th {\n",
       "        vertical-align: top;\n",
       "    }\n",
       "\n",
       "    .dataframe thead th {\n",
       "        text-align: right;\n",
       "    }\n",
       "</style>\n",
       "<table border=\"1\" class=\"dataframe\">\n",
       "  <thead>\n",
       "    <tr style=\"text-align: right;\">\n",
       "      <th></th>\n",
       "      <th>count_review</th>\n",
       "    </tr>\n",
       "  </thead>\n",
       "  <tbody>\n",
       "    <tr>\n",
       "      <th>0</th>\n",
       "      <td>2793</td>\n",
       "    </tr>\n",
       "  </tbody>\n",
       "</table>\n",
       "</div>"
      ],
      "text/plain": [
       "   count_review\n",
       "0          2793"
      ]
     },
     "execution_count": 10,
     "metadata": {},
     "output_type": "execute_result"
    }
   ],
   "source": [
    "# SQL-запрос\n",
    "query = \"\"\"\n",
    "SELECT COUNT(*) AS count_review \n",
    "FROM reviews\n",
    "\"\"\"\n",
    "# Выполнение SQL-запроса и сохранение результата в DataFrame\n",
    "count_review = execute_sql_query(query)\n",
    "count_review"
   ]
  },
  {
   "cell_type": "markdown",
   "id": "07c4e541",
   "metadata": {},
   "source": [
    "2793 на 1000 книг было сделано"
   ]
  },
  {
   "cell_type": "markdown",
   "id": "b2ba4d8e",
   "metadata": {},
   "source": [
    "### Определим издательство, которое выпустило наибольшее число книг толще 50 страниц — так мы исключим из анализа брошюры"
   ]
  },
  {
   "cell_type": "code",
   "execution_count": 11,
   "id": "8d677a49",
   "metadata": {},
   "outputs": [
    {
     "data": {
      "text/html": [
       "<div>\n",
       "<style scoped>\n",
       "    .dataframe tbody tr th:only-of-type {\n",
       "        vertical-align: middle;\n",
       "    }\n",
       "\n",
       "    .dataframe tbody tr th {\n",
       "        vertical-align: top;\n",
       "    }\n",
       "\n",
       "    .dataframe thead th {\n",
       "        text-align: right;\n",
       "    }\n",
       "</style>\n",
       "<table border=\"1\" class=\"dataframe\">\n",
       "  <thead>\n",
       "    <tr style=\"text-align: right;\">\n",
       "      <th></th>\n",
       "      <th>publisher</th>\n",
       "      <th>num_books</th>\n",
       "    </tr>\n",
       "  </thead>\n",
       "  <tbody>\n",
       "    <tr>\n",
       "      <th>0</th>\n",
       "      <td>Penguin Books</td>\n",
       "      <td>42</td>\n",
       "    </tr>\n",
       "  </tbody>\n",
       "</table>\n",
       "</div>"
      ],
      "text/plain": [
       "       publisher  num_books\n",
       "0  Penguin Books         42"
      ]
     },
     "execution_count": 11,
     "metadata": {},
     "output_type": "execute_result"
    }
   ],
   "source": [
    "# SQL-запрос\n",
    "query = '''\n",
    "SELECT publishers.publisher, COUNT(books.book_id) as num_books\n",
    "FROM books\n",
    "JOIN publishers ON books.publisher_id = publishers.publisher_id\n",
    "WHERE books.num_pages > 50\n",
    "GROUP BY publishers.publisher\n",
    "ORDER BY num_books DESC\n",
    "LIMIT 1;\n",
    "'''\n",
    "# Выполнение SQL-запроса и сохранение результата в DataFrame\n",
    "more_than_50 = execute_sql_query(query)\n",
    "more_than_50"
   ]
  },
  {
   "cell_type": "markdown",
   "id": "c21a34b1",
   "metadata": {},
   "source": [
    "Penguin Books - издательство, которое выпустило наибольшее число книг."
   ]
  },
  {
   "cell_type": "markdown",
   "id": "065da28c",
   "metadata": {},
   "source": [
    "### Определим автора с самой высокой средней оценкой книг — учитываем только книги с 50 и более оценками"
   ]
  },
  {
   "cell_type": "code",
   "execution_count": 12,
   "id": "6ff9f7ee",
   "metadata": {},
   "outputs": [
    {
     "data": {
      "text/html": [
       "<div>\n",
       "<style scoped>\n",
       "    .dataframe tbody tr th:only-of-type {\n",
       "        vertical-align: middle;\n",
       "    }\n",
       "\n",
       "    .dataframe tbody tr th {\n",
       "        vertical-align: top;\n",
       "    }\n",
       "\n",
       "    .dataframe thead th {\n",
       "        text-align: right;\n",
       "    }\n",
       "</style>\n",
       "<table border=\"1\" class=\"dataframe\">\n",
       "  <thead>\n",
       "    <tr style=\"text-align: right;\">\n",
       "      <th></th>\n",
       "      <th>author_id</th>\n",
       "      <th>author</th>\n",
       "      <th>avg_rating</th>\n",
       "    </tr>\n",
       "  </thead>\n",
       "  <tbody>\n",
       "    <tr>\n",
       "      <th>0</th>\n",
       "      <td>236</td>\n",
       "      <td>J.K. Rowling/Mary GrandPré</td>\n",
       "      <td>4.287097</td>\n",
       "    </tr>\n",
       "  </tbody>\n",
       "</table>\n",
       "</div>"
      ],
      "text/plain": [
       "   author_id                      author  avg_rating\n",
       "0        236  J.K. Rowling/Mary GrandPré    4.287097"
      ]
     },
     "execution_count": 12,
     "metadata": {},
     "output_type": "execute_result"
    }
   ],
   "source": [
    "# SQL-запрос\n",
    "query = '''\n",
    "SELECT books.author_id, authors.author, AVG(ratings.rating) as avg_rating\n",
    "FROM books\n",
    "JOIN authors ON books.author_id = authors.author_id\n",
    "JOIN ratings ON books.book_id = ratings.book_id\n",
    "WHERE ratings.rating IS NOT NULL AND books.book_id IN (\n",
    "  SELECT book_id\n",
    "  FROM ratings\n",
    "  GROUP BY book_id\n",
    "  HAVING COUNT(rating_id) >= 50\n",
    ")\n",
    "GROUP BY books.author_id, authors.author\n",
    "ORDER BY avg_rating DESC\n",
    "LIMIT 1;\n",
    "'''\n",
    "\n",
    "# Выполнение SQL-запроса и сохранение результата в DataFrame\n",
    "highest_rating = execute_sql_query(query)\n",
    "highest_rating"
   ]
  },
  {
   "cell_type": "markdown",
   "id": "4b19310e",
   "metadata": {},
   "source": [
    "Джоан Роулинг - автор с самым высоким средним рейтингом произведений"
   ]
  },
  {
   "cell_type": "markdown",
   "id": "58806cf7",
   "metadata": {},
   "source": [
    "### Посчитаем среднее количество обзоров от пользователей, которые поставили больше 50 оценок."
   ]
  },
  {
   "cell_type": "code",
   "execution_count": 13,
   "id": "d8396b7a",
   "metadata": {},
   "outputs": [
    {
     "data": {
      "text/html": [
       "<div>\n",
       "<style scoped>\n",
       "    .dataframe tbody tr th:only-of-type {\n",
       "        vertical-align: middle;\n",
       "    }\n",
       "\n",
       "    .dataframe tbody tr th {\n",
       "        vertical-align: top;\n",
       "    }\n",
       "\n",
       "    .dataframe thead th {\n",
       "        text-align: right;\n",
       "    }\n",
       "</style>\n",
       "<table border=\"1\" class=\"dataframe\">\n",
       "  <thead>\n",
       "    <tr style=\"text-align: right;\">\n",
       "      <th></th>\n",
       "      <th>avg_num_reviews</th>\n",
       "    </tr>\n",
       "  </thead>\n",
       "  <tbody>\n",
       "    <tr>\n",
       "      <th>0</th>\n",
       "      <td>24.333333</td>\n",
       "    </tr>\n",
       "  </tbody>\n",
       "</table>\n",
       "</div>"
      ],
      "text/plain": [
       "   avg_num_reviews\n",
       "0        24.333333"
      ]
     },
     "execution_count": 13,
     "metadata": {},
     "output_type": "execute_result"
    }
   ],
   "source": [
    "# SQL-запрос\n",
    "query = '''\n",
    "SELECT AVG(num_reviews) as avg_num_reviews\n",
    "FROM (\n",
    "    SELECT username, COUNT(*) as num_reviews\n",
    "    FROM reviews\n",
    "    WHERE username IN (\n",
    "        SELECT username\n",
    "        FROM ratings\n",
    "        GROUP BY username\n",
    "        HAVING COUNT(*) > 50\n",
    "    )\n",
    "    GROUP BY username\n",
    ") as subquery;\n",
    "'''\n",
    "\n",
    "# Выполнение SQL-запроса и сохранение результата в DataFrame\n",
    "mean_review_count = execute_sql_query(query)\n",
    "mean_review_count"
   ]
  },
  {
   "cell_type": "markdown",
   "id": "f316a68f",
   "metadata": {},
   "source": [
    "Пользователи, поставившие больше 50 оценок, в среднем написали по 24 обзора."
   ]
  },
  {
   "cell_type": "markdown",
   "id": "08208af6",
   "metadata": {},
   "source": [
    "## Общий вывод"
   ]
  },
  {
   "cell_type": "markdown",
   "id": "adc4a6b4",
   "metadata": {},
   "source": [
    "В ходе изучения баз данных мы проделали следующую работу:\n",
    "    \n",
    "- Определили, сколько книг вышло после 1 января 2000 года - 819.\n",
    "- Определили количество обзоров и среднюю оценку для каждой из тысячи книг. Всего 2793 ревью.\n",
    "- Определили, что Penguin Books - издательство, которое выпустило наибольшее число книг.\n",
    "- Определили, что Джоан Роулинг - автор с самым высоким средним рейтингом прозведений\n",
    "- Определили, что пользователи, поставившие больше 50 оценок, в среднем написали по 24 обзора."
   ]
  },
  {
   "cell_type": "markdown",
   "id": "e9b6af5b",
   "metadata": {},
   "source": [
    "## Рекомендации"
   ]
  },
  {
   "cell_type": "markdown",
   "id": "06bdcef1",
   "metadata": {},
   "source": [
    "**Основываясь на вышеуказанных фактах, я могу предложить следующие рекомендации:**\n",
    "\n",
    "Разработать стратегию для продвижения и продажи книг, которые вышли после 1 января 2000 года. Так как их количество составляет 819, это может быть ценный сегмент рынка, на который стоит обратить внимание и разработать специальные маркетинговые активности.\n",
    "\n",
    "Анализировать и улучшать обзоры и оценки пользователей для каждой из тысячи книг. Высокий уровень обзоров и положительные оценки могут способствовать росту продаж и популярности книг. Необходимо отслеживать и анализировать обратную связь от пользователей и предпринимать меры для улучшения качества обзоров и оценок.\n",
    "\n",
    "Установить партнерство или сотрудничество с издательством Penguin Books, так как они выпустили наибольшее число книг. Это может предоставить возможности для совместных маркетинговых и продажных активностей, а также расширить ассортимент предлагаемых книг от этого издательства.\n",
    "\n",
    "Уделить внимание автору Джоан Роулинг, так как она имеет самый высокий средний рейтинг произведений. Это может быть индикатором ее популярности среди пользователей и потенциально может привести к увеличению продаж ее книг. Разработать маркетинговые стратегии, связанные с произведениями этого автора, такие как кампании по продвижению новых книг или рекламные активности, связанные с автором.\n",
    "\n",
    "Анализировать и взаимодействовать с пользователями, которые оставляют много оценок и пишут обзоры. Они могут быть ценными ресурсами для продвижения книг, так как в среднем они оставляют 24 обзора. Можно разработать программу лояльности или предложить бонусы таким пользователям, чтобы стимулировать их активность и вовлеченность в продвижении книг.\n",
    "\n",
    "Дополнительно исследовать и анализировать другие данные из базы данных, такие как жанры книг, их продажи, взаимодействие с пользователями и другие факторы, которые могут влиять на успех книг. На основе этих данных можно выявить тенденции и предпочтения пользователей, определить наиболее популярные жанры книг, и использовать эту информацию для разработки стратегий продвижения и маркетинговых кампаний.\n",
    "\n",
    "Улучшить взаимодействие с пользователями, особенно теми, кто оставляет обзоры и оценки. Это может включать улучшение пользовательского опыта на веб-сайте или в приложении, предоставление более удобных и простых способов оставлять обзоры и оценки, и активное взаимодействие с пользователями на социальных медиа и других платформах.\n",
    "\n",
    "Разработать программу лояльности или бонусную систему для поощрения пользователей, оставляющих обзоры и оценки. Это может включать предоставление скидок, подарков или других привилегий для активных пользователей, что может стимулировать их участие и лояльность к бренду.\n",
    "\n",
    "Использовать данные о пользователях, оставивших более 50 оценок, для создания сегментов аудитории и настройки таргетированных маркетинговых кампаний. Такие пользователи могут быть более заинтересованы в новых книгах, обзорах и рекомендациях, поэтому предоставление им персонализированного контента и предложений может увеличить их активность и вовлеченность.\n",
    "\n",
    "Внимательно отслеживать и анализировать конкурентную среду, включая другие издательства и авторов, чтобы адаптироваться к изменениям на рынке и оставаться конкурентоспособными. Это может включать мониторинг новых релизов, маркетинговых активностей конкурентов и анализ отзывов и рейтингов их книг, чтобы определить свои преимущества и разработать соответствующие маркетинговые стратегии."
   ]
  }
 ],
 "metadata": {
  "ExecuteTimeLog": [
   {
    "duration": 123,
    "start_time": "2023-04-18T16:36:50.614Z"
   },
   {
    "duration": 11123,
    "start_time": "2023-04-18T16:36:50.739Z"
   },
   {
    "duration": 7,
    "start_time": "2023-04-18T16:37:01.878Z"
   },
   {
    "duration": 507,
    "start_time": "2023-04-18T16:37:01.887Z"
   },
   {
    "duration": 327,
    "start_time": "2023-04-18T16:37:02.397Z"
   },
   {
    "duration": 310,
    "start_time": "2023-04-18T16:37:02.727Z"
   },
   {
    "duration": 440,
    "start_time": "2023-04-18T16:37:03.039Z"
   },
   {
    "duration": 421,
    "start_time": "2023-04-18T16:37:03.486Z"
   },
   {
    "duration": 284,
    "start_time": "2023-04-18T16:37:03.909Z"
   },
   {
    "duration": 322,
    "start_time": "2023-04-18T16:37:04.195Z"
   },
   {
    "duration": 289,
    "start_time": "2023-04-18T16:37:04.519Z"
   },
   {
    "duration": 309,
    "start_time": "2023-04-18T16:37:04.810Z"
   },
   {
    "duration": 310,
    "start_time": "2023-04-18T16:37:05.121Z"
   },
   {
    "duration": 49,
    "start_time": "2023-04-18T17:04:44.002Z"
   },
   {
    "duration": 5515,
    "start_time": "2023-04-18T17:04:53.149Z"
   },
   {
    "duration": 3,
    "start_time": "2023-04-18T17:04:58.667Z"
   },
   {
    "duration": 103,
    "start_time": "2023-04-18T17:04:58.672Z"
   },
   {
    "duration": 31,
    "start_time": "2023-04-18T17:04:58.778Z"
   },
   {
    "duration": 37,
    "start_time": "2023-04-18T17:04:58.811Z"
   },
   {
    "duration": 58,
    "start_time": "2023-04-18T17:04:58.850Z"
   },
   {
    "duration": 43,
    "start_time": "2023-04-18T17:04:58.910Z"
   },
   {
    "duration": 40,
    "start_time": "2023-04-18T17:04:58.955Z"
   },
   {
    "duration": 49,
    "start_time": "2023-04-18T17:04:58.997Z"
   },
   {
    "duration": 42,
    "start_time": "2023-04-18T17:04:59.105Z"
   },
   {
    "duration": 3,
    "start_time": "2023-04-18T17:06:44.122Z"
   },
   {
    "duration": 4,
    "start_time": "2023-04-18T17:06:50.813Z"
   },
   {
    "duration": 4,
    "start_time": "2023-04-18T17:09:03.919Z"
   },
   {
    "duration": 53,
    "start_time": "2023-04-18T17:13:05.114Z"
   },
   {
    "duration": 718,
    "start_time": "2023-04-18T17:13:41.730Z"
   },
   {
    "duration": 37,
    "start_time": "2023-04-18T17:13:44.945Z"
   },
   {
    "duration": 778,
    "start_time": "2023-04-18T17:13:45.782Z"
   },
   {
    "duration": 824,
    "start_time": "2023-04-18T17:14:30.906Z"
   },
   {
    "duration": 57,
    "start_time": "2023-04-18T17:14:56.038Z"
   },
   {
    "duration": 4,
    "start_time": "2023-04-18T17:15:01.740Z"
   },
   {
    "duration": 35,
    "start_time": "2023-04-18T17:17:40.583Z"
   },
   {
    "duration": 10276,
    "start_time": "2023-04-18T18:49:31.463Z"
   },
   {
    "duration": 5,
    "start_time": "2023-04-18T18:49:41.741Z"
   },
   {
    "duration": 331,
    "start_time": "2023-04-18T18:49:41.749Z"
   },
   {
    "duration": 295,
    "start_time": "2023-04-18T18:49:42.083Z"
   },
   {
    "duration": 264,
    "start_time": "2023-04-18T18:49:42.381Z"
   },
   {
    "duration": 339,
    "start_time": "2023-04-18T18:49:42.647Z"
   },
   {
    "duration": 338,
    "start_time": "2023-04-18T18:49:42.989Z"
   },
   {
    "duration": 271,
    "start_time": "2023-04-18T18:49:43.329Z"
   },
   {
    "duration": 317,
    "start_time": "2023-04-18T18:49:43.603Z"
   },
   {
    "duration": 285,
    "start_time": "2023-04-18T18:49:43.923Z"
   },
   {
    "duration": 273,
    "start_time": "2023-04-18T18:49:44.210Z"
   },
   {
    "duration": 282,
    "start_time": "2023-04-18T18:49:44.485Z"
   },
   {
    "duration": 265,
    "start_time": "2023-04-18T18:49:44.769Z"
   },
   {
    "duration": 308,
    "start_time": "2023-04-18T18:49:50.656Z"
   },
   {
    "duration": 335,
    "start_time": "2023-04-18T18:49:55.659Z"
   },
   {
    "duration": 9201,
    "start_time": "2023-04-19T04:04:38.893Z"
   },
   {
    "duration": 4,
    "start_time": "2023-04-19T04:04:48.096Z"
   },
   {
    "duration": 292,
    "start_time": "2023-04-19T04:04:48.101Z"
   },
   {
    "duration": 251,
    "start_time": "2023-04-19T04:04:48.395Z"
   },
   {
    "duration": 232,
    "start_time": "2023-04-19T04:04:48.648Z"
   },
   {
    "duration": 293,
    "start_time": "2023-04-19T04:04:48.882Z"
   },
   {
    "duration": 292,
    "start_time": "2023-04-19T04:04:49.176Z"
   },
   {
    "duration": 235,
    "start_time": "2023-04-19T04:04:49.470Z"
   },
   {
    "duration": 249,
    "start_time": "2023-04-19T04:04:49.707Z"
   },
   {
    "duration": 236,
    "start_time": "2023-04-19T04:04:55.988Z"
   },
   {
    "duration": 379,
    "start_time": "2023-04-19T04:07:08.431Z"
   },
   {
    "duration": 295,
    "start_time": "2023-04-19T04:08:02.347Z"
   },
   {
    "duration": 1557,
    "start_time": "2023-04-19T04:09:12.484Z"
   },
   {
    "duration": 1466,
    "start_time": "2023-04-19T04:09:34.662Z"
   },
   {
    "duration": 267,
    "start_time": "2023-04-19T04:09:54.028Z"
   },
   {
    "duration": 267,
    "start_time": "2023-04-19T04:10:33.534Z"
   },
   {
    "duration": 8665,
    "start_time": "2023-04-19T04:11:32.294Z"
   },
   {
    "duration": 3,
    "start_time": "2023-04-19T04:11:40.961Z"
   },
   {
    "duration": 279,
    "start_time": "2023-04-19T04:11:40.966Z"
   },
   {
    "duration": 242,
    "start_time": "2023-04-19T04:11:41.246Z"
   },
   {
    "duration": 235,
    "start_time": "2023-04-19T04:11:41.489Z"
   },
   {
    "duration": 276,
    "start_time": "2023-04-19T04:11:41.725Z"
   },
   {
    "duration": 297,
    "start_time": "2023-04-19T04:11:42.002Z"
   },
   {
    "duration": 224,
    "start_time": "2023-04-19T04:11:42.301Z"
   },
   {
    "duration": 251,
    "start_time": "2023-04-19T04:11:42.526Z"
   },
   {
    "duration": 230,
    "start_time": "2023-04-19T04:11:42.778Z"
   },
   {
    "duration": 228,
    "start_time": "2023-04-19T04:11:43.010Z"
   },
   {
    "duration": 232,
    "start_time": "2023-04-19T04:11:43.240Z"
   },
   {
    "duration": 233,
    "start_time": "2023-04-19T04:11:43.474Z"
   },
   {
    "duration": 252,
    "start_time": "2023-04-19T04:11:52.961Z"
   },
   {
    "duration": 261,
    "start_time": "2023-04-19T04:12:27.408Z"
   },
   {
    "duration": 13025,
    "start_time": "2023-04-19T23:11:33.347Z"
   },
   {
    "duration": 3,
    "start_time": "2023-04-19T23:11:46.374Z"
   },
   {
    "duration": 102,
    "start_time": "2023-04-19T23:11:46.379Z"
   },
   {
    "duration": 56,
    "start_time": "2023-04-19T23:11:46.482Z"
   },
   {
    "duration": 35,
    "start_time": "2023-04-19T23:11:46.540Z"
   },
   {
    "duration": 98,
    "start_time": "2023-04-19T23:11:46.577Z"
   },
   {
    "duration": 59,
    "start_time": "2023-04-19T23:11:46.677Z"
   },
   {
    "duration": 65,
    "start_time": "2023-04-19T23:11:46.738Z"
   },
   {
    "duration": 89,
    "start_time": "2023-04-19T23:11:46.805Z"
   },
   {
    "duration": 67,
    "start_time": "2023-04-19T23:11:46.896Z"
   },
   {
    "duration": 45,
    "start_time": "2023-04-19T23:11:46.965Z"
   },
   {
    "duration": 62,
    "start_time": "2023-04-19T23:11:47.011Z"
   },
   {
    "duration": 110,
    "start_time": "2023-04-19T23:11:47.075Z"
   }
  ],
  "kernelspec": {
   "display_name": "Python 3 (ipykernel)",
   "language": "python",
   "name": "python3"
  },
  "language_info": {
   "codemirror_mode": {
    "name": "ipython",
    "version": 3
   },
   "file_extension": ".py",
   "mimetype": "text/x-python",
   "name": "python",
   "nbconvert_exporter": "python",
   "pygments_lexer": "ipython3",
   "version": "3.9.5"
  },
  "toc": {
   "base_numbering": 1,
   "nav_menu": {},
   "number_sections": true,
   "sideBar": true,
   "skip_h1_title": true,
   "title_cell": "Table of Contents",
   "title_sidebar": "Contents",
   "toc_cell": false,
   "toc_position": {
    "height": "calc(100% - 180px)",
    "left": "10px",
    "top": "150px",
    "width": "512px"
   },
   "toc_section_display": true,
   "toc_window_display": false
  }
 },
 "nbformat": 4,
 "nbformat_minor": 5
}
