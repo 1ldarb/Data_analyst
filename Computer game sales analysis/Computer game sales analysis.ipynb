{
 "cells": [
  {
   "cell_type": "markdown",
   "metadata": {},
   "source": [
    "# Этап 1. Получение данных"
   ]
  },
  {
   "cell_type": "markdown",
   "metadata": {},
   "source": [
    "# Импорт библиотек"
   ]
  },
  {
   "cell_type": "code",
   "execution_count": 2,
   "metadata": {},
   "outputs": [],
   "source": [
    "import pandas as pd\n",
    "import numpy as np\n",
    "import seaborn as sns\n",
    "from scipy import stats as st\n",
    "import math\n",
    "import matplotlib.pyplot as plt\n",
    "import warnings\n",
    "warnings.filterwarnings('ignore')"
   ]
  },
  {
   "cell_type": "markdown",
   "metadata": {},
   "source": [
    "# Откройте файл с данными и изучите общую информацию"
   ]
  },
  {
   "cell_type": "code",
   "execution_count": 3,
   "metadata": {},
   "outputs": [
    {
     "name": "stdout",
     "output_type": "stream",
     "text": [
      "<class 'pandas.core.frame.DataFrame'>\n",
      "RangeIndex: 16715 entries, 0 to 16714\n",
      "Data columns (total 11 columns):\n",
      " #   Column           Non-Null Count  Dtype  \n",
      "---  ------           --------------  -----  \n",
      " 0   Name             16713 non-null  object \n",
      " 1   Platform         16715 non-null  object \n",
      " 2   Year_of_Release  16446 non-null  float64\n",
      " 3   Genre            16713 non-null  object \n",
      " 4   NA_sales         16715 non-null  float64\n",
      " 5   EU_sales         16715 non-null  float64\n",
      " 6   JP_sales         16715 non-null  float64\n",
      " 7   Other_sales      16715 non-null  float64\n",
      " 8   Critic_Score     8137 non-null   float64\n",
      " 9   User_Score       10014 non-null  object \n",
      " 10  Rating           9949 non-null   object \n",
      "dtypes: float64(6), object(5)\n",
      "memory usage: 1.4+ MB\n"
     ]
    },
    {
     "data": {
      "text/html": [
       "<div>\n",
       "<style scoped>\n",
       "    .dataframe tbody tr th:only-of-type {\n",
       "        vertical-align: middle;\n",
       "    }\n",
       "\n",
       "    .dataframe tbody tr th {\n",
       "        vertical-align: top;\n",
       "    }\n",
       "\n",
       "    .dataframe thead th {\n",
       "        text-align: right;\n",
       "    }\n",
       "</style>\n",
       "<table border=\"1\" class=\"dataframe\">\n",
       "  <thead>\n",
       "    <tr style=\"text-align: right;\">\n",
       "      <th></th>\n",
       "      <th>Name</th>\n",
       "      <th>Platform</th>\n",
       "      <th>Year_of_Release</th>\n",
       "      <th>Genre</th>\n",
       "      <th>NA_sales</th>\n",
       "      <th>EU_sales</th>\n",
       "      <th>JP_sales</th>\n",
       "      <th>Other_sales</th>\n",
       "      <th>Critic_Score</th>\n",
       "      <th>User_Score</th>\n",
       "      <th>Rating</th>\n",
       "    </tr>\n",
       "  </thead>\n",
       "  <tbody>\n",
       "    <tr>\n",
       "      <th>0</th>\n",
       "      <td>Wii Sports</td>\n",
       "      <td>Wii</td>\n",
       "      <td>2006.0</td>\n",
       "      <td>Sports</td>\n",
       "      <td>41.36</td>\n",
       "      <td>28.96</td>\n",
       "      <td>3.77</td>\n",
       "      <td>8.45</td>\n",
       "      <td>76.0</td>\n",
       "      <td>8</td>\n",
       "      <td>E</td>\n",
       "    </tr>\n",
       "    <tr>\n",
       "      <th>1</th>\n",
       "      <td>Super Mario Bros.</td>\n",
       "      <td>NES</td>\n",
       "      <td>1985.0</td>\n",
       "      <td>Platform</td>\n",
       "      <td>29.08</td>\n",
       "      <td>3.58</td>\n",
       "      <td>6.81</td>\n",
       "      <td>0.77</td>\n",
       "      <td>NaN</td>\n",
       "      <td>NaN</td>\n",
       "      <td>NaN</td>\n",
       "    </tr>\n",
       "    <tr>\n",
       "      <th>2</th>\n",
       "      <td>Mario Kart Wii</td>\n",
       "      <td>Wii</td>\n",
       "      <td>2008.0</td>\n",
       "      <td>Racing</td>\n",
       "      <td>15.68</td>\n",
       "      <td>12.76</td>\n",
       "      <td>3.79</td>\n",
       "      <td>3.29</td>\n",
       "      <td>82.0</td>\n",
       "      <td>8.3</td>\n",
       "      <td>E</td>\n",
       "    </tr>\n",
       "    <tr>\n",
       "      <th>3</th>\n",
       "      <td>Wii Sports Resort</td>\n",
       "      <td>Wii</td>\n",
       "      <td>2009.0</td>\n",
       "      <td>Sports</td>\n",
       "      <td>15.61</td>\n",
       "      <td>10.93</td>\n",
       "      <td>3.28</td>\n",
       "      <td>2.95</td>\n",
       "      <td>80.0</td>\n",
       "      <td>8</td>\n",
       "      <td>E</td>\n",
       "    </tr>\n",
       "    <tr>\n",
       "      <th>4</th>\n",
       "      <td>Pokemon Red/Pokemon Blue</td>\n",
       "      <td>GB</td>\n",
       "      <td>1996.0</td>\n",
       "      <td>Role-Playing</td>\n",
       "      <td>11.27</td>\n",
       "      <td>8.89</td>\n",
       "      <td>10.22</td>\n",
       "      <td>1.00</td>\n",
       "      <td>NaN</td>\n",
       "      <td>NaN</td>\n",
       "      <td>NaN</td>\n",
       "    </tr>\n",
       "    <tr>\n",
       "      <th>...</th>\n",
       "      <td>...</td>\n",
       "      <td>...</td>\n",
       "      <td>...</td>\n",
       "      <td>...</td>\n",
       "      <td>...</td>\n",
       "      <td>...</td>\n",
       "      <td>...</td>\n",
       "      <td>...</td>\n",
       "      <td>...</td>\n",
       "      <td>...</td>\n",
       "      <td>...</td>\n",
       "    </tr>\n",
       "    <tr>\n",
       "      <th>16710</th>\n",
       "      <td>Samurai Warriors: Sanada Maru</td>\n",
       "      <td>PS3</td>\n",
       "      <td>2016.0</td>\n",
       "      <td>Action</td>\n",
       "      <td>0.00</td>\n",
       "      <td>0.00</td>\n",
       "      <td>0.01</td>\n",
       "      <td>0.00</td>\n",
       "      <td>NaN</td>\n",
       "      <td>NaN</td>\n",
       "      <td>NaN</td>\n",
       "    </tr>\n",
       "    <tr>\n",
       "      <th>16711</th>\n",
       "      <td>LMA Manager 2007</td>\n",
       "      <td>X360</td>\n",
       "      <td>2006.0</td>\n",
       "      <td>Sports</td>\n",
       "      <td>0.00</td>\n",
       "      <td>0.01</td>\n",
       "      <td>0.00</td>\n",
       "      <td>0.00</td>\n",
       "      <td>NaN</td>\n",
       "      <td>NaN</td>\n",
       "      <td>NaN</td>\n",
       "    </tr>\n",
       "    <tr>\n",
       "      <th>16712</th>\n",
       "      <td>Haitaka no Psychedelica</td>\n",
       "      <td>PSV</td>\n",
       "      <td>2016.0</td>\n",
       "      <td>Adventure</td>\n",
       "      <td>0.00</td>\n",
       "      <td>0.00</td>\n",
       "      <td>0.01</td>\n",
       "      <td>0.00</td>\n",
       "      <td>NaN</td>\n",
       "      <td>NaN</td>\n",
       "      <td>NaN</td>\n",
       "    </tr>\n",
       "    <tr>\n",
       "      <th>16713</th>\n",
       "      <td>Spirits &amp; Spells</td>\n",
       "      <td>GBA</td>\n",
       "      <td>2003.0</td>\n",
       "      <td>Platform</td>\n",
       "      <td>0.01</td>\n",
       "      <td>0.00</td>\n",
       "      <td>0.00</td>\n",
       "      <td>0.00</td>\n",
       "      <td>NaN</td>\n",
       "      <td>NaN</td>\n",
       "      <td>NaN</td>\n",
       "    </tr>\n",
       "    <tr>\n",
       "      <th>16714</th>\n",
       "      <td>Winning Post 8 2016</td>\n",
       "      <td>PSV</td>\n",
       "      <td>2016.0</td>\n",
       "      <td>Simulation</td>\n",
       "      <td>0.00</td>\n",
       "      <td>0.00</td>\n",
       "      <td>0.01</td>\n",
       "      <td>0.00</td>\n",
       "      <td>NaN</td>\n",
       "      <td>NaN</td>\n",
       "      <td>NaN</td>\n",
       "    </tr>\n",
       "  </tbody>\n",
       "</table>\n",
       "<p>16715 rows × 11 columns</p>\n",
       "</div>"
      ],
      "text/plain": [
       "                                Name Platform  Year_of_Release         Genre  \\\n",
       "0                         Wii Sports      Wii           2006.0        Sports   \n",
       "1                  Super Mario Bros.      NES           1985.0      Platform   \n",
       "2                     Mario Kart Wii      Wii           2008.0        Racing   \n",
       "3                  Wii Sports Resort      Wii           2009.0        Sports   \n",
       "4           Pokemon Red/Pokemon Blue       GB           1996.0  Role-Playing   \n",
       "...                              ...      ...              ...           ...   \n",
       "16710  Samurai Warriors: Sanada Maru      PS3           2016.0        Action   \n",
       "16711               LMA Manager 2007     X360           2006.0        Sports   \n",
       "16712        Haitaka no Psychedelica      PSV           2016.0     Adventure   \n",
       "16713               Spirits & Spells      GBA           2003.0      Platform   \n",
       "16714            Winning Post 8 2016      PSV           2016.0    Simulation   \n",
       "\n",
       "       NA_sales  EU_sales  JP_sales  Other_sales  Critic_Score User_Score  \\\n",
       "0         41.36     28.96      3.77         8.45          76.0          8   \n",
       "1         29.08      3.58      6.81         0.77           NaN        NaN   \n",
       "2         15.68     12.76      3.79         3.29          82.0        8.3   \n",
       "3         15.61     10.93      3.28         2.95          80.0          8   \n",
       "4         11.27      8.89     10.22         1.00           NaN        NaN   \n",
       "...         ...       ...       ...          ...           ...        ...   \n",
       "16710      0.00      0.00      0.01         0.00           NaN        NaN   \n",
       "16711      0.00      0.01      0.00         0.00           NaN        NaN   \n",
       "16712      0.00      0.00      0.01         0.00           NaN        NaN   \n",
       "16713      0.01      0.00      0.00         0.00           NaN        NaN   \n",
       "16714      0.00      0.00      0.01         0.00           NaN        NaN   \n",
       "\n",
       "      Rating  \n",
       "0          E  \n",
       "1        NaN  \n",
       "2          E  \n",
       "3          E  \n",
       "4        NaN  \n",
       "...      ...  \n",
       "16710    NaN  \n",
       "16711    NaN  \n",
       "16712    NaN  \n",
       "16713    NaN  \n",
       "16714    NaN  \n",
       "\n",
       "[16715 rows x 11 columns]"
      ]
     },
     "execution_count": 3,
     "metadata": {},
     "output_type": "execute_result"
    },
    {
     "data": {
      "image/png": "[encoded data removed]",
      "text/plain": [
       "<Figure size 1080x1440 with 6 Axes>"
      ]
     },
     "metadata": {
      "needs_background": "light"
     },
     "output_type": "display_data"
    }
   ],
   "source": [
    "games = pd.read_csv('/datasets/games.csv')\n",
    "\n",
    "games.head(10)\n",
    "\n",
    "#выявляем типы данных\n",
    "games.info()\n",
    "\n",
    "games.hist(figsize=(15, 20))\n",
    "\n",
    "games"
   ]
  },
  {
   "cell_type": "code",
   "execution_count": 4,
   "metadata": {},
   "outputs": [
    {
     "data": {
      "text/plain": [
       "Name                  2\n",
       "Platform              0\n",
       "Year_of_Release     269\n",
       "Genre                 2\n",
       "NA_sales              0\n",
       "EU_sales              0\n",
       "JP_sales              0\n",
       "Other_sales           0\n",
       "Critic_Score       8578\n",
       "User_Score         6701\n",
       "Rating             6766\n",
       "dtype: int64"
      ]
     },
     "execution_count": 4,
     "metadata": {},
     "output_type": "execute_result"
    }
   ],
   "source": [
    "games.isna().sum() \n",
    "# из всех столбцов, где можно заменить пропуски, это Year_of_Release и Name\n",
    "# сделаем это ниже"
   ]
  },
  {
   "cell_type": "code",
   "execution_count": 5,
   "metadata": {},
   "outputs": [
    {
     "data": {
      "text/plain": [
       "0"
      ]
     },
     "execution_count": 5,
     "metadata": {},
     "output_type": "execute_result"
    }
   ],
   "source": [
    "games.duplicated().sum()\n",
    "\n",
    "# дубликатов нет, отлично!"
   ]
  },
  {
   "cell_type": "markdown",
   "metadata": {},
   "source": [
    "# Этап 2. Подготовьте данные"
   ]
  },
  {
   "cell_type": "code",
   "execution_count": 6,
   "metadata": {},
   "outputs": [],
   "source": [
    "#меняю названия столбцов\n",
    "games.rename(columns={'Year_of_Release':'year', 'NA_sales':'na', 'JP_sales':'jp', 'EU_sales':'eu', 'Other_sales':'other'}, inplace=True)"
   ]
  },
  {
   "cell_type": "code",
   "execution_count": 7,
   "metadata": {},
   "outputs": [],
   "source": [
    "games.columns = games.columns.str.lower()"
   ]
  },
  {
   "cell_type": "code",
   "execution_count": 8,
   "metadata": {},
   "outputs": [
    {
     "name": "stdout",
     "output_type": "stream",
     "text": [
      "<class 'pandas.core.frame.DataFrame'>\n",
      "RangeIndex: 16715 entries, 0 to 16714\n",
      "Data columns (total 11 columns):\n",
      " #   Column        Non-Null Count  Dtype  \n",
      "---  ------        --------------  -----  \n",
      " 0   name          16713 non-null  object \n",
      " 1   platform      16715 non-null  object \n",
      " 2   year          16446 non-null  float64\n",
      " 3   genre         16713 non-null  object \n",
      " 4   na            16715 non-null  float64\n",
      " 5   eu            16715 non-null  float64\n",
      " 6   jp            16715 non-null  float64\n",
      " 7   other         16715 non-null  float64\n",
      " 8   critic_score  8137 non-null   float64\n",
      " 9   user_score    10014 non-null  object \n",
      " 10  rating        9949 non-null   object \n",
      "dtypes: float64(6), object(5)\n",
      "memory usage: 1.4+ MB\n"
     ]
    }
   ],
   "source": [
    "games.info()\n",
    "#нужно поменять типы данных:year, user_score, raiting"
   ]
  },
  {
   "cell_type": "code",
   "execution_count": 9,
   "metadata": {},
   "outputs": [
    {
     "data": {
      "text/plain": [
       "array(['8', nan, '8.3', '8.5', '6.6', '8.4', '8.6', '7.7', '6.3', '7.4',\n",
       "       '8.2', '9', '7.9', '8.1', '8.7', '7.1', '3.4', '5.3', '4.8', '3.2',\n",
       "       '8.9', '6.4', '7.8', '7.5', '2.6', '7.2', '9.2', '7', '7.3', '4.3',\n",
       "       '7.6', '5.7', '5', '9.1', '6.5', 'tbd', '8.8', '6.9', '9.4', '6.8',\n",
       "       '6.1', '6.7', '5.4', '4', '4.9', '4.5', '9.3', '6.2', '4.2', '6',\n",
       "       '3.7', '4.1', '5.8', '5.6', '5.5', '4.4', '4.6', '5.9', '3.9',\n",
       "       '3.1', '2.9', '5.2', '3.3', '4.7', '5.1', '3.5', '2.5', '1.9', '3',\n",
       "       '2.7', '2.2', '2', '9.5', '2.1', '3.6', '2.8', '1.8', '3.8', '0',\n",
       "       '1.6', '9.6', '2.4', '1.7', '1.1', '0.3', '1.5', '0.7', '1.2',\n",
       "       '2.3', '0.5', '1.3', '0.2', '0.6', '1.4', '0.9', '1', '9.7'],\n",
       "      dtype=object)"
      ]
     },
     "execution_count": 9,
     "metadata": {},
     "output_type": "execute_result"
    }
   ],
   "source": [
    "games['year'] = games['year'].fillna(0)\n",
    "# заполняем пропущенные значения в столбце 'year' нулями\n",
    "#games['year'] = games['year'].astype(int)\n",
    "games[['year', 'critic_score']] = games[['year', 'critic_score']].astype('Int64')\n",
    "#games['user_score'] = games['user_score'].astype('Int64')\n",
    "games['user_score'].unique()\n"
   ]
  },
  {
   "cell_type": "markdown",
   "metadata": {},
   "source": [
    "Есть значение 'tbd' или to be determined = будет определено. Значит мы можем перевести это значение в nan"
   ]
  },
  {
   "cell_type": "code",
   "execution_count": 10,
   "metadata": {},
   "outputs": [],
   "source": [
    "games.loc[games['user_score'] == 'tbd', 'user_score'] = np.nan\n",
    "games['user_score'].unique()\n",
    "games['user_score'] = games['user_score'].astype('float')\n"
   ]
  },
  {
   "cell_type": "code",
   "execution_count": 11,
   "metadata": {},
   "outputs": [
    {
     "data": {
      "text/html": [
       "<div>\n",
       "<style scoped>\n",
       "    .dataframe tbody tr th:only-of-type {\n",
       "        vertical-align: middle;\n",
       "    }\n",
       "\n",
       "    .dataframe tbody tr th {\n",
       "        vertical-align: top;\n",
       "    }\n",
       "\n",
       "    .dataframe thead th {\n",
       "        text-align: right;\n",
       "    }\n",
       "</style>\n",
       "<table border=\"1\" class=\"dataframe\">\n",
       "  <thead>\n",
       "    <tr style=\"text-align: right;\">\n",
       "      <th></th>\n",
       "      <th>name</th>\n",
       "      <th>platform</th>\n",
       "      <th>year</th>\n",
       "      <th>genre</th>\n",
       "      <th>na</th>\n",
       "      <th>eu</th>\n",
       "      <th>jp</th>\n",
       "      <th>other</th>\n",
       "      <th>critic_score</th>\n",
       "      <th>user_score</th>\n",
       "      <th>rating</th>\n",
       "    </tr>\n",
       "  </thead>\n",
       "  <tbody>\n",
       "    <tr>\n",
       "      <th>659</th>\n",
       "      <td>NaN</td>\n",
       "      <td>GEN</td>\n",
       "      <td>1993</td>\n",
       "      <td>NaN</td>\n",
       "      <td>1.78</td>\n",
       "      <td>0.53</td>\n",
       "      <td>0.00</td>\n",
       "      <td>0.08</td>\n",
       "      <td>&lt;NA&gt;</td>\n",
       "      <td>NaN</td>\n",
       "      <td>NaN</td>\n",
       "    </tr>\n",
       "    <tr>\n",
       "      <th>14244</th>\n",
       "      <td>NaN</td>\n",
       "      <td>GEN</td>\n",
       "      <td>1993</td>\n",
       "      <td>NaN</td>\n",
       "      <td>0.00</td>\n",
       "      <td>0.00</td>\n",
       "      <td>0.03</td>\n",
       "      <td>0.00</td>\n",
       "      <td>&lt;NA&gt;</td>\n",
       "      <td>NaN</td>\n",
       "      <td>NaN</td>\n",
       "    </tr>\n",
       "  </tbody>\n",
       "</table>\n",
       "</div>"
      ],
      "text/plain": [
       "      name platform  year genre    na    eu    jp  other  critic_score  \\\n",
       "659    NaN      GEN  1993   NaN  1.78  0.53  0.00   0.08          <NA>   \n",
       "14244  NaN      GEN  1993   NaN  0.00  0.00  0.03   0.00          <NA>   \n",
       "\n",
       "       user_score rating  \n",
       "659           NaN    NaN  \n",
       "14244         NaN    NaN  "
      ]
     },
     "execution_count": 11,
     "metadata": {},
     "output_type": "execute_result"
    }
   ],
   "source": [
    "games[games['name'].isnull()]"
   ]
  },
  {
   "cell_type": "code",
   "execution_count": 12,
   "metadata": {},
   "outputs": [],
   "source": [
    "games = games.dropna(subset = ['name'])"
   ]
  },
  {
   "cell_type": "code",
   "execution_count": 13,
   "metadata": {},
   "outputs": [
    {
     "data": {
      "text/plain": [
       "name               0\n",
       "platform           0\n",
       "year               0\n",
       "genre              0\n",
       "na                 0\n",
       "eu                 0\n",
       "jp                 0\n",
       "other              0\n",
       "rating          6764\n",
       "critic_score    8576\n",
       "user_score      9123\n",
       "dtype: int64"
      ]
     },
     "execution_count": 13,
     "metadata": {},
     "output_type": "execute_result"
    }
   ],
   "source": [
    "games.isnull().sum(axis=0).sort_values()"
   ]
  },
  {
   "cell_type": "code",
   "execution_count": 14,
   "metadata": {},
   "outputs": [
    {
     "data": {
      "text/plain": [
       "<IntegerArray>\n",
       "[  76, <NA>,   82,   80,   89,   58,   87,   91,   61,   97,   95,   77,   88,\n",
       "   83,   94,   93,   85,   86,   98,   96,   90,   84,   73,   74,   78,   92,\n",
       "   71,   72,   68,   62,   49,   67,   81,   66,   56,   79,   70,   59,   64,\n",
       "   75,   60,   63,   69,   50,   25,   42,   44,   55,   48,   57,   29,   47,\n",
       "   65,   54,   20,   53,   37,   38,   33,   52,   30,   32,   43,   45,   51,\n",
       "   40,   46,   39,   34,   35,   41,   36,   28,   31,   27,   26,   19,   23,\n",
       "   24,   21,   17,   22,   13]\n",
       "Length: 83, dtype: Int64"
      ]
     },
     "execution_count": 14,
     "metadata": {},
     "output_type": "execute_result"
    }
   ],
   "source": [
    "games['critic_score'].unique()"
   ]
  },
  {
   "cell_type": "code",
   "execution_count": 15,
   "metadata": {},
   "outputs": [
    {
     "data": {
      "text/plain": [
       "array(['E', nan, 'M', 'T', 'E10+', 'K-A', 'AO', 'EC', 'RP'], dtype=object)"
      ]
     },
     "execution_count": 15,
     "metadata": {},
     "output_type": "execute_result"
    }
   ],
   "source": [
    "games['rating'].unique()"
   ]
  },
  {
   "cell_type": "code",
   "execution_count": 16,
   "metadata": {},
   "outputs": [
    {
     "data": {
      "text/plain": [
       "0        82.54\n",
       "1        40.24\n",
       "2        35.52\n",
       "3        32.77\n",
       "4        31.38\n",
       "         ...  \n",
       "16710     0.01\n",
       "16711     0.01\n",
       "16712     0.01\n",
       "16713     0.01\n",
       "16714     0.01\n",
       "Name: total_sales, Length: 16713, dtype: float64"
      ]
     },
     "execution_count": 16,
     "metadata": {},
     "output_type": "execute_result"
    }
   ],
   "source": [
    "# считаем суммы всех продаж\n",
    "games['total_sales'] = games['na'] + games['eu'] + games['jp'] + games['other']\n",
    "games['total_sales']"
   ]
  },
  {
   "cell_type": "markdown",
   "metadata": {},
   "source": [
    "**Вывод:** получилось много пропусков в столбцах rating, critic_score, user_score. видимо, эти игры еще не получили оценку. Оставляем как есть."
   ]
  },
  {
   "cell_type": "markdown",
   "metadata": {},
   "source": [
    "# Этап 3. Проведите исследовательский анализ данных"
   ]
  },
  {
   "cell_type": "code",
   "execution_count": 17,
   "metadata": {},
   "outputs": [
    {
     "data": {
      "text/plain": [
       "2016"
      ]
     },
     "execution_count": 17,
     "metadata": {},
     "output_type": "execute_result"
    }
   ],
   "source": [
    "# найдем максимальное значение\n",
    "games['year'].max()"
   ]
  },
  {
   "cell_type": "code",
   "execution_count": 18,
   "metadata": {},
   "outputs": [
    {
     "data": {
      "text/plain": [
       "1980"
      ]
     },
     "execution_count": 18,
     "metadata": {},
     "output_type": "execute_result"
    }
   ],
   "source": [
    "# games['year'].min()\n",
    "\n",
    "games[games['year'] > 1900]['year'].min()"
   ]
  },
  {
   "cell_type": "code",
   "execution_count": 19,
   "metadata": {},
   "outputs": [
    {
     "data": {
      "text/plain": [
       "<AxesSubplot:>"
      ]
     },
     "execution_count": 19,
     "metadata": {},
     "output_type": "execute_result"
    },
    {
     "data": {
      "image/png": "[encoded data removed]",
      "text/plain": [
       "<Figure size 432x288 with 1 Axes>"
      ]
     },
     "metadata": {
      "needs_background": "light"
     },
     "output_type": "display_data"
    }
   ],
   "source": [
    "games['year'].hist(bins = 25, range=(1979, 2017))"
   ]
  },
  {
   "cell_type": "code",
   "execution_count": 20,
   "metadata": {},
   "outputs": [
    {
     "data": {
      "text/plain": [
       "<AxesSubplot:>"
      ]
     },
     "execution_count": 20,
     "metadata": {},
     "output_type": "execute_result"
    },
    {
     "data": {
      "image/png": "[encoded data removed]",
      "text/plain": [
       "<Figure size 432x288 with 1 Axes>"
      ]
     },
     "metadata": {
      "needs_background": "light"
     },
     "output_type": "display_data"
    }
   ],
   "source": [
    "games['year'].hist(bins = 10, range=(1990, 1995))"
   ]
  },
  {
   "cell_type": "markdown",
   "metadata": {},
   "source": [
    "Игры начали выпускаться с 1980. Данные до 1994 года не так сильно важны"
   ]
  },
  {
   "cell_type": "code",
   "execution_count": 21,
   "metadata": {},
   "outputs": [
    {
     "data": {
      "text/plain": [
       "<AxesSubplot:>"
      ]
     },
     "execution_count": 21,
     "metadata": {},
     "output_type": "execute_result"
    },
    {
     "data": {
      "image/png": "[encoded data removed]",
      "text/plain": [
       "<Figure size 432x288 with 1 Axes>"
      ]
     },
     "metadata": {
      "needs_background": "light"
     },
     "output_type": "display_data"
    }
   ],
   "source": [
    "games['year'].hist(bins = 10, range=(2005, 2009))"
   ]
  },
  {
   "cell_type": "markdown",
   "metadata": {},
   "source": [
    "Пожалуй самый важный период с 2005 по 2009 год. В этот промежуток времени выпускалось наибольшее количество игр"
   ]
  },
  {
   "cell_type": "code",
   "execution_count": 22,
   "metadata": {},
   "outputs": [
    {
     "data": {
      "text/html": [
       "<div>\n",
       "<style scoped>\n",
       "    .dataframe tbody tr th:only-of-type {\n",
       "        vertical-align: middle;\n",
       "    }\n",
       "\n",
       "    .dataframe tbody tr th {\n",
       "        vertical-align: top;\n",
       "    }\n",
       "\n",
       "    .dataframe thead th {\n",
       "        text-align: right;\n",
       "    }\n",
       "</style>\n",
       "<table border=\"1\" class=\"dataframe\">\n",
       "  <thead>\n",
       "    <tr style=\"text-align: right;\">\n",
       "      <th></th>\n",
       "      <th>total_sales</th>\n",
       "    </tr>\n",
       "    <tr>\n",
       "      <th>platform</th>\n",
       "      <th></th>\n",
       "    </tr>\n",
       "  </thead>\n",
       "  <tbody>\n",
       "    <tr>\n",
       "      <th>PS2</th>\n",
       "      <td>1255.77</td>\n",
       "    </tr>\n",
       "    <tr>\n",
       "      <th>X360</th>\n",
       "      <td>971.42</td>\n",
       "    </tr>\n",
       "    <tr>\n",
       "      <th>PS3</th>\n",
       "      <td>939.65</td>\n",
       "    </tr>\n",
       "    <tr>\n",
       "      <th>Wii</th>\n",
       "      <td>907.51</td>\n",
       "    </tr>\n",
       "    <tr>\n",
       "      <th>DS</th>\n",
       "      <td>806.12</td>\n",
       "    </tr>\n",
       "    <tr>\n",
       "      <th>PS</th>\n",
       "      <td>730.86</td>\n",
       "    </tr>\n",
       "    <tr>\n",
       "      <th>GBA</th>\n",
       "      <td>317.85</td>\n",
       "    </tr>\n",
       "    <tr>\n",
       "      <th>PS4</th>\n",
       "      <td>314.14</td>\n",
       "    </tr>\n",
       "    <tr>\n",
       "      <th>PSP</th>\n",
       "      <td>294.05</td>\n",
       "    </tr>\n",
       "    <tr>\n",
       "      <th>PC</th>\n",
       "      <td>259.52</td>\n",
       "    </tr>\n",
       "    <tr>\n",
       "      <th>3DS</th>\n",
       "      <td>259.00</td>\n",
       "    </tr>\n",
       "    <tr>\n",
       "      <th>XB</th>\n",
       "      <td>257.74</td>\n",
       "    </tr>\n",
       "    <tr>\n",
       "      <th>GB</th>\n",
       "      <td>255.46</td>\n",
       "    </tr>\n",
       "    <tr>\n",
       "      <th>NES</th>\n",
       "      <td>251.05</td>\n",
       "    </tr>\n",
       "    <tr>\n",
       "      <th>N64</th>\n",
       "      <td>218.68</td>\n",
       "    </tr>\n",
       "    <tr>\n",
       "      <th>SNES</th>\n",
       "      <td>200.04</td>\n",
       "    </tr>\n",
       "    <tr>\n",
       "      <th>GC</th>\n",
       "      <td>198.93</td>\n",
       "    </tr>\n",
       "    <tr>\n",
       "      <th>XOne</th>\n",
       "      <td>159.32</td>\n",
       "    </tr>\n",
       "    <tr>\n",
       "      <th>2600</th>\n",
       "      <td>96.98</td>\n",
       "    </tr>\n",
       "    <tr>\n",
       "      <th>WiiU</th>\n",
       "      <td>82.19</td>\n",
       "    </tr>\n",
       "    <tr>\n",
       "      <th>PSV</th>\n",
       "      <td>54.07</td>\n",
       "    </tr>\n",
       "    <tr>\n",
       "      <th>SAT</th>\n",
       "      <td>33.59</td>\n",
       "    </tr>\n",
       "    <tr>\n",
       "      <th>GEN</th>\n",
       "      <td>28.35</td>\n",
       "    </tr>\n",
       "    <tr>\n",
       "      <th>DC</th>\n",
       "      <td>15.95</td>\n",
       "    </tr>\n",
       "    <tr>\n",
       "      <th>SCD</th>\n",
       "      <td>1.86</td>\n",
       "    </tr>\n",
       "    <tr>\n",
       "      <th>NG</th>\n",
       "      <td>1.44</td>\n",
       "    </tr>\n",
       "    <tr>\n",
       "      <th>WS</th>\n",
       "      <td>1.42</td>\n",
       "    </tr>\n",
       "    <tr>\n",
       "      <th>TG16</th>\n",
       "      <td>0.16</td>\n",
       "    </tr>\n",
       "    <tr>\n",
       "      <th>3DO</th>\n",
       "      <td>0.10</td>\n",
       "    </tr>\n",
       "    <tr>\n",
       "      <th>GG</th>\n",
       "      <td>0.04</td>\n",
       "    </tr>\n",
       "    <tr>\n",
       "      <th>PCFX</th>\n",
       "      <td>0.03</td>\n",
       "    </tr>\n",
       "  </tbody>\n",
       "</table>\n",
       "</div>"
      ],
      "text/plain": [
       "          total_sales\n",
       "platform             \n",
       "PS2           1255.77\n",
       "X360           971.42\n",
       "PS3            939.65\n",
       "Wii            907.51\n",
       "DS             806.12\n",
       "PS             730.86\n",
       "GBA            317.85\n",
       "PS4            314.14\n",
       "PSP            294.05\n",
       "PC             259.52\n",
       "3DS            259.00\n",
       "XB             257.74\n",
       "GB             255.46\n",
       "NES            251.05\n",
       "N64            218.68\n",
       "SNES           200.04\n",
       "GC             198.93\n",
       "XOne           159.32\n",
       "2600            96.98\n",
       "WiiU            82.19\n",
       "PSV             54.07\n",
       "SAT             33.59\n",
       "GEN             28.35\n",
       "DC              15.95\n",
       "SCD              1.86\n",
       "NG               1.44\n",
       "WS               1.42\n",
       "TG16             0.16\n",
       "3DO              0.10\n",
       "GG               0.04\n",
       "PCFX             0.03"
      ]
     },
     "execution_count": 22,
     "metadata": {},
     "output_type": "execute_result"
    }
   ],
   "source": [
    "#top10_platforms = games['platform'].value_counts().head(10)\n",
    "platforms_ascending = games.pivot_table(index = 'platform', values = 'total_sales', aggfunc = 'sum').sort_values(by = 'total_sales', ascending = False)\n",
    "#top10_platforms = platforms_ascending.head(10).reset_index()\n",
    "top10_platforms = platforms_ascending.reset_index()\n",
    "iloc_top10_platforms = top10_platforms.iloc[0:10]\n",
    "#top10_platforms_dict =top10_platforms.unique()\n",
    "top10_platforms = iloc_top10_platforms['platform'].unique()\n",
    "platforms_ascending"
   ]
  },
  {
   "cell_type": "code",
   "execution_count": 23,
   "metadata": {},
   "outputs": [
    {
     "data": {
      "text/plain": [
       "<AxesSubplot:xlabel='platform'>"
      ]
     },
     "execution_count": 23,
     "metadata": {},
     "output_type": "execute_result"
    },
    {
     "data": {
      "image/png": "[encoded data removed]",
      "text/plain": [
       "<Figure size 1080x360 with 1 Axes>"
      ]
     },
     "metadata": {
      "needs_background": "light"
     },
     "output_type": "display_data"
    }
   ],
   "source": [
    "iloc_top10_platforms.plot(x=\"platform\", y=\"total_sales\", kind='bar', figsize=(15,5))"
   ]
  },
  {
   "cell_type": "code",
   "execution_count": 24,
   "metadata": {},
   "outputs": [
    {
     "data": {
      "image/png": "[encoded data removed]",
      "text/plain": [
       "<Figure size 1080x360 with 1 Axes>"
      ]
     },
     "metadata": {
      "needs_background": "light"
     },
     "output_type": "display_data"
    },
    {
     "data": {
      "image/png": "[encoded data removed]",
      "text/plain": [
       "<Figure size 1080x360 with 1 Axes>"
      ]
     },
     "metadata": {
      "needs_background": "light"
     },
     "output_type": "display_data"
    },
    {
     "data": {
      "image/png": "[encoded data removed]",
      "text/plain": [
       "<Figure size 1080x360 with 1 Axes>"
      ]
     },
     "metadata": {
      "needs_background": "light"
     },
     "output_type": "display_data"
    },
    {
     "data": {
      "image/png": "[encoded data removed]",
      "text/plain": [
       "<Figure size 1080x360 with 1 Axes>"
      ]
     },
     "metadata": {
      "needs_background": "light"
     },
     "output_type": "display_data"
    },
    {
     "data": {
      "image/png": "[encoded data removed]",
      "text/plain": [
       "<Figure size 1080x360 with 1 Axes>"
      ]
     },
     "metadata": {
      "needs_background": "light"
     },
     "output_type": "display_data"
    },
    {
     "data": {
      "image/png": "[encoded data removed]",
      "text/plain": [
       "<Figure size 1080x360 with 1 Axes>"
      ]
     },
     "metadata": {
      "needs_background": "light"
     },
     "output_type": "display_data"
    },
    {
     "data": {
      "image/png": "[encoded data removed]",
      "text/plain": [
       "<Figure size 1080x360 with 1 Axes>"
      ]
     },
     "metadata": {
      "needs_background": "light"
     },
     "output_type": "display_data"
    },
    {
     "data": {
      "image/png": "[encoded data removed]",
      "text/plain": [
       "<Figure size 1080x360 with 1 Axes>"
      ]
     },
     "metadata": {
      "needs_background": "light"
     },
     "output_type": "display_data"
    },
    {
     "data": {
      "image/png": "[encoded data removed]",
      "text/plain": [
       "<Figure size 1080x360 with 1 Axes>"
      ]
     },
     "metadata": {
      "needs_background": "light"
     },
     "output_type": "display_data"
    },
    {
     "data": {
      "image/png": "[encoded data removed]",
      "text/plain": [
       "<Figure size 1080x360 with 1 Axes>"
      ]
     },
     "metadata": {
      "needs_background": "light"
     },
     "output_type": "display_data"
    }
   ],
   "source": [
    "for platform in top10_platforms:\n",
    "    games[games['platform'] == platform].pivot_table(index = 'year', values = 'total_sales', aggfunc = 'sum').plot(kind = 'bar', figsize=(15,5))\n",
    "    plt.title(platform)\n"
   ]
  },
  {
   "cell_type": "markdown",
   "metadata": {},
   "source": [
    "Вывод: В среднем платформа существует 10 лет. Большинство платформ появляется в начале 2000-x, особенно в 2006 году\n",
    "\n",
    "Чем больше выборка, тем точнее результат, но прогноз нам нужно сделать на 2017 год. Соотвественно чем дальше мы отклоняемся, тем сильнее прогноз может быть искажет. По моему мнению актуальный период 2006 - 2016."
   ]
  },
  {
   "cell_type": "code",
   "execution_count": 25,
   "metadata": {},
   "outputs": [],
   "source": [
    "actual_data = games.query('year >= 2015') #возьмем все данные после 2015 года\n",
    "#sns.catplot(x='platform')"
   ]
  },
  {
   "cell_type": "markdown",
   "metadata": {},
   "source": [
    "Графики по количеству выпущенных игр за актуальный период на разных платформах"
   ]
  },
  {
   "cell_type": "code",
   "execution_count": 26,
   "metadata": {},
   "outputs": [
    {
     "data": {
      "text/plain": [
       "<AxesSubplot:xlabel='year'>"
      ]
     },
     "execution_count": 26,
     "metadata": {},
     "output_type": "execute_result"
    },
    {
     "data": {
      "image/png": "[encoded data removed]",
      "text/plain": [
       "<Figure size 1080x360 with 1 Axes>"
      ]
     },
     "metadata": {
      "needs_background": "light"
     },
     "output_type": "display_data"
    }
   ],
   "source": [
    "actual_data.query('platform in @top10_platforms').pivot_table(index='year', columns = 'platform', values='total_sales', aggfunc='sum').plot(figsize=(15, 5))"
   ]
  },
  {
   "cell_type": "markdown",
   "metadata": {},
   "source": [
    "Все игры на платформах идут на снижение по продажам. Среди них игры на PS4 продаются гораздо чаще, скорее всего, потому что консоль появилась не так давно. PS4 является потенциально прибыльной, также PC, потому что показывает хоть небольшие, но стабильные продажи. падает сильнее всего спрос на консоли: X360, PS3. На остальные консоли уже давно упал спрос, либо вообще не продаются.\n",
    "\n",
    "Итого потенциально прибыльные:\n",
    "\n",
    "PC, PS4, XOne\n",
    "Потенциально не будут продаваться:\n",
    "\n",
    "X360, PS3"
   ]
  },
  {
   "cell_type": "code",
   "execution_count": 27,
   "metadata": {},
   "outputs": [
    {
     "data": {
      "text/html": [
       "<div>\n",
       "<style scoped>\n",
       "    .dataframe tbody tr th:only-of-type {\n",
       "        vertical-align: middle;\n",
       "    }\n",
       "\n",
       "    .dataframe tbody tr th {\n",
       "        vertical-align: top;\n",
       "    }\n",
       "\n",
       "    .dataframe thead th {\n",
       "        text-align: right;\n",
       "    }\n",
       "</style>\n",
       "<table border=\"1\" class=\"dataframe\">\n",
       "  <thead>\n",
       "    <tr style=\"text-align: right;\">\n",
       "      <th></th>\n",
       "      <th>total_sales</th>\n",
       "    </tr>\n",
       "    <tr>\n",
       "      <th>platform</th>\n",
       "      <th></th>\n",
       "    </tr>\n",
       "  </thead>\n",
       "  <tbody>\n",
       "    <tr>\n",
       "      <th>PS4</th>\n",
       "      <td>188.15</td>\n",
       "    </tr>\n",
       "    <tr>\n",
       "      <th>XOne</th>\n",
       "      <td>86.29</td>\n",
       "    </tr>\n",
       "    <tr>\n",
       "      <th>3DS</th>\n",
       "      <td>42.92</td>\n",
       "    </tr>\n",
       "    <tr>\n",
       "      <th>WiiU</th>\n",
       "      <td>20.95</td>\n",
       "    </tr>\n",
       "    <tr>\n",
       "      <th>PS3</th>\n",
       "      <td>20.42</td>\n",
       "    </tr>\n",
       "    <tr>\n",
       "      <th>PC</th>\n",
       "      <td>13.77</td>\n",
       "    </tr>\n",
       "    <tr>\n",
       "      <th>X360</th>\n",
       "      <td>13.48</td>\n",
       "    </tr>\n",
       "    <tr>\n",
       "      <th>PSV</th>\n",
       "      <td>10.50</td>\n",
       "    </tr>\n",
       "    <tr>\n",
       "      <th>Wii</th>\n",
       "      <td>1.32</td>\n",
       "    </tr>\n",
       "    <tr>\n",
       "      <th>PSP</th>\n",
       "      <td>0.12</td>\n",
       "    </tr>\n",
       "  </tbody>\n",
       "</table>\n",
       "</div>"
      ],
      "text/plain": [
       "          total_sales\n",
       "platform             \n",
       "PS4            188.15\n",
       "XOne            86.29\n",
       "3DS             42.92\n",
       "WiiU            20.95\n",
       "PS3             20.42\n",
       "PC              13.77\n",
       "X360            13.48\n",
       "PSV             10.50\n",
       "Wii              1.32\n",
       "PSP              0.12"
      ]
     },
     "execution_count": 27,
     "metadata": {},
     "output_type": "execute_result"
    }
   ],
   "source": [
    "top5_platforms = actual_data['platform'].value_counts().head(5)\n",
    "platforms_ascending = actual_data.pivot_table(index = 'platform', values = 'total_sales', aggfunc = 'sum').sort_values(by = 'total_sales', ascending = False)\n",
    "#top5_platforms = platforms_ascending.head(5).reset_index()\n",
    "top5_platforms = platforms_ascending.reset_index()\n",
    "iloc_top5_platforms = top5_platforms.iloc[0:5]\n",
    "#top5_platforms_dict =top5_platforms.unique()\n",
    "top5_platforms = iloc_top5_platforms['platform'].unique()\n",
    "platforms_ascending\n"
   ]
  },
  {
   "cell_type": "code",
   "execution_count": 28,
   "metadata": {},
   "outputs": [
    {
     "data": {
      "text/plain": [
       "<AxesSubplot:>"
      ]
     },
     "execution_count": 28,
     "metadata": {},
     "output_type": "execute_result"
    },
    {
     "data": {
      "image/png": "[encoded data removed]",
      "text/plain": [
       "<Figure size 432x288 with 1 Axes>"
      ]
     },
     "metadata": {
      "needs_background": "light"
     },
     "output_type": "display_data"
    }
   ],
   "source": [
    "actual_data.query('platform in @top5_platforms').pivot_table(index = 'name', columns = 'platform', values = 'total_sales', aggfunc = 'sum'\n",
    "                       ).plot(kind='box', ylim=(0,1.9))"
   ]
  },
  {
   "cell_type": "markdown",
   "metadata": {
    "scrolled": true
   },
   "source": [
    "На графике мы видем, что мы не учли консоли - XOne и 3DS. Добавим их в список потенциально прибыльных."
   ]
  },
  {
   "cell_type": "code",
   "execution_count": 29,
   "metadata": {},
   "outputs": [
    {
     "ename": "NameError",
     "evalue": "name 'PSP' is not defined",
     "output_type": "error",
     "traceback": [
      "\u001b[0;31m---------------------------------------------------------------------------\u001b[0m",
      "\u001b[0;31mNameError\u001b[0m                                 Traceback (most recent call last)",
      "\u001b[0;32m/tmp/ipykernel_190/1685273008.py\u001b[0m in \u001b[0;36m<module>\u001b[0;34m\u001b[0m\n\u001b[0;32m----> 1\u001b[0;31m \u001b[0mPSP_cor\u001b[0m \u001b[0;34m=\u001b[0m \u001b[0mPSP\u001b[0m\u001b[0;34m[\u001b[0m\u001b[0;34m[\u001b[0m\u001b[0;34m'critic_score'\u001b[0m\u001b[0;34m,\u001b[0m\u001b[0;34m'user_score'\u001b[0m\u001b[0;34m,\u001b[0m \u001b[0;34m'total_sales'\u001b[0m\u001b[0;34m]\u001b[0m\u001b[0;34m]\u001b[0m\u001b[0;34m\u001b[0m\u001b[0;34m\u001b[0m\u001b[0m\n\u001b[0m\u001b[1;32m      2\u001b[0m \u001b[0mPSP_cor\u001b[0m\u001b[0;34m.\u001b[0m\u001b[0mcorr\u001b[0m\u001b[0;34m(\u001b[0m\u001b[0;34m)\u001b[0m\u001b[0;34m\u001b[0m\u001b[0;34m\u001b[0m\u001b[0m\n",
      "\u001b[0;31mNameError\u001b[0m: name 'PSP' is not defined"
     ]
    }
   ],
   "source": [
    "PSP_cor = PSP[['critic_score','user_score', 'total_sales']]\n",
    "PSP_cor.corr()"
   ]
  },
  {
   "cell_type": "markdown",
   "metadata": {},
   "source": [
    "По диаграмме видно, что в целом оценки критиков с оценками пользователей совпадают. По таблице можно сказать, что игровая аудитория прислушивается не только к критикам, но и к игрокам. PSP не самый удачный пример, потому что количество продаж не сильно зависит от оценок"
   ]
  },
  {
   "cell_type": "code",
   "execution_count": 33,
   "metadata": {},
   "outputs": [],
   "source": [
    "XOne = actual_data.query('platform == \"XOne\"')\n",
    "PS4 = actual_data.query('platform == \"PS4\"')\n",
    "PC = actual_data.query('platform == \"PC\"')"
   ]
  },
  {
   "cell_type": "code",
   "execution_count": 34,
   "metadata": {},
   "outputs": [
    {
     "data": {
      "text/html": [
       "<div>\n",
       "<style scoped>\n",
       "    .dataframe tbody tr th:only-of-type {\n",
       "        vertical-align: middle;\n",
       "    }\n",
       "\n",
       "    .dataframe tbody tr th {\n",
       "        vertical-align: top;\n",
       "    }\n",
       "\n",
       "    .dataframe thead th {\n",
       "        text-align: right;\n",
       "    }\n",
       "</style>\n",
       "<table border=\"1\" class=\"dataframe\">\n",
       "  <thead>\n",
       "    <tr style=\"text-align: right;\">\n",
       "      <th></th>\n",
       "      <th>critic_score</th>\n",
       "      <th>user_score</th>\n",
       "      <th>total_sales</th>\n",
       "    </tr>\n",
       "  </thead>\n",
       "  <tbody>\n",
       "    <tr>\n",
       "      <th>critic_score</th>\n",
       "      <td>1.000000</td>\n",
       "      <td>0.482804</td>\n",
       "      <td>0.377332</td>\n",
       "    </tr>\n",
       "    <tr>\n",
       "      <th>user_score</th>\n",
       "      <td>0.482804</td>\n",
       "      <td>1.000000</td>\n",
       "      <td>0.150381</td>\n",
       "    </tr>\n",
       "    <tr>\n",
       "      <th>total_sales</th>\n",
       "      <td>0.377332</td>\n",
       "      <td>0.150381</td>\n",
       "      <td>1.000000</td>\n",
       "    </tr>\n",
       "  </tbody>\n",
       "</table>\n",
       "</div>"
      ],
      "text/plain": [
       "              critic_score  user_score  total_sales\n",
       "critic_score      1.000000    0.482804     0.377332\n",
       "user_score        0.482804    1.000000     0.150381\n",
       "total_sales       0.377332    0.150381     1.000000"
      ]
     },
     "execution_count": 34,
     "metadata": {},
     "output_type": "execute_result"
    }
   ],
   "source": [
    "PC_cor = PC[['critic_score','user_score', 'total_sales']]\n",
    "PC_cor.corr()"
   ]
  },
  {
   "cell_type": "code",
   "execution_count": 35,
   "metadata": {},
   "outputs": [
    {
     "data": {
      "text/html": [
       "<div>\n",
       "<style scoped>\n",
       "    .dataframe tbody tr th:only-of-type {\n",
       "        vertical-align: middle;\n",
       "    }\n",
       "\n",
       "    .dataframe tbody tr th {\n",
       "        vertical-align: top;\n",
       "    }\n",
       "\n",
       "    .dataframe thead th {\n",
       "        text-align: right;\n",
       "    }\n",
       "</style>\n",
       "<table border=\"1\" class=\"dataframe\">\n",
       "  <thead>\n",
       "    <tr style=\"text-align: right;\">\n",
       "      <th></th>\n",
       "      <th>critic_score</th>\n",
       "      <th>user_score</th>\n",
       "      <th>total_sales</th>\n",
       "    </tr>\n",
       "  </thead>\n",
       "  <tbody>\n",
       "    <tr>\n",
       "      <th>critic_score</th>\n",
       "      <td>1.000000</td>\n",
       "      <td>0.533330</td>\n",
       "      <td>0.392849</td>\n",
       "    </tr>\n",
       "    <tr>\n",
       "      <th>user_score</th>\n",
       "      <td>0.533330</td>\n",
       "      <td>1.000000</td>\n",
       "      <td>-0.059738</td>\n",
       "    </tr>\n",
       "    <tr>\n",
       "      <th>total_sales</th>\n",
       "      <td>0.392849</td>\n",
       "      <td>-0.059738</td>\n",
       "      <td>1.000000</td>\n",
       "    </tr>\n",
       "  </tbody>\n",
       "</table>\n",
       "</div>"
      ],
      "text/plain": [
       "              critic_score  user_score  total_sales\n",
       "critic_score      1.000000    0.533330     0.392849\n",
       "user_score        0.533330    1.000000    -0.059738\n",
       "total_sales       0.392849   -0.059738     1.000000"
      ]
     },
     "execution_count": 35,
     "metadata": {},
     "output_type": "execute_result"
    }
   ],
   "source": [
    "PS4_cor = PS4[['critic_score','user_score', 'total_sales']]\n",
    "PS4_cor.corr()"
   ]
  },
  {
   "cell_type": "code",
   "execution_count": 36,
   "metadata": {},
   "outputs": [
    {
     "data": {
      "text/html": [
       "<div>\n",
       "<style scoped>\n",
       "    .dataframe tbody tr th:only-of-type {\n",
       "        vertical-align: middle;\n",
       "    }\n",
       "\n",
       "    .dataframe tbody tr th {\n",
       "        vertical-align: top;\n",
       "    }\n",
       "\n",
       "    .dataframe thead th {\n",
       "        text-align: right;\n",
       "    }\n",
       "</style>\n",
       "<table border=\"1\" class=\"dataframe\">\n",
       "  <thead>\n",
       "    <tr style=\"text-align: right;\">\n",
       "      <th></th>\n",
       "      <th>critic_score</th>\n",
       "      <th>user_score</th>\n",
       "      <th>total_sales</th>\n",
       "    </tr>\n",
       "  </thead>\n",
       "  <tbody>\n",
       "    <tr>\n",
       "      <th>critic_score</th>\n",
       "      <td>1.000000</td>\n",
       "      <td>0.459443</td>\n",
       "      <td>0.430889</td>\n",
       "    </tr>\n",
       "    <tr>\n",
       "      <th>user_score</th>\n",
       "      <td>0.459443</td>\n",
       "      <td>1.000000</td>\n",
       "      <td>-0.041467</td>\n",
       "    </tr>\n",
       "    <tr>\n",
       "      <th>total_sales</th>\n",
       "      <td>0.430889</td>\n",
       "      <td>-0.041467</td>\n",
       "      <td>1.000000</td>\n",
       "    </tr>\n",
       "  </tbody>\n",
       "</table>\n",
       "</div>"
      ],
      "text/plain": [
       "              critic_score  user_score  total_sales\n",
       "critic_score      1.000000    0.459443     0.430889\n",
       "user_score        0.459443    1.000000    -0.041467\n",
       "total_sales       0.430889   -0.041467     1.000000"
      ]
     },
     "execution_count": 36,
     "metadata": {},
     "output_type": "execute_result"
    }
   ],
   "source": [
    "XOne_cor = XOne[['critic_score','user_score', 'total_sales']]\n",
    "XOne_cor.corr()"
   ]
  },
  {
   "cell_type": "markdown",
   "metadata": {},
   "source": [
    "По платформам PC, PS4, XOne однозначно можно сказать, что оценки критиков влияют на количество продаж, а оценки пользователей не принимают во внимание."
   ]
  },
  {
   "cell_type": "code",
   "execution_count": 39,
   "metadata": {},
   "outputs": [
    {
     "data": {
      "text/plain": [
       "<AxesSubplot:>"
      ]
     },
     "execution_count": 39,
     "metadata": {},
     "output_type": "execute_result"
    },
    {
     "data": {
      "image/png": "[encoded data removed]",
      "text/plain": [
       "<Figure size 864x576 with 1 Axes>"
      ]
     },
     "metadata": {
      "needs_background": "light"
     },
     "output_type": "display_data"
    }
   ],
   "source": [
    "actual_data.pivot_table(index = 'name', columns = 'genre', values = 'total_sales', aggfunc = 'sum').plot(kind='box', ylim=(0,7.5), figsize=(12,8), fontsize=14, rot=90, whis=3.0)\n"
   ]
  },
  {
   "cell_type": "markdown",
   "metadata": {},
   "source": [
    "##### Смотрим самые популярные игровые жанры по продажам."
   ]
  },
  {
   "cell_type": "code",
   "execution_count": 370,
   "metadata": {},
   "outputs": [
    {
     "data": {
      "text/plain": [
       "<AxesSubplot:ylabel='total_sales'>"
      ]
     },
     "execution_count": 370,
     "metadata": {},
     "output_type": "execute_result"
    },
    {
     "data": {
      "image/png": "[encoded data removed]",
      "text/plain": [
       "<Figure size 720x720 with 1 Axes>"
      ]
     },
     "metadata": {},
     "output_type": "display_data"
    }
   ],
   "source": [
    "actual_data.pivot_table(index = 'genre', values = 'total_sales', aggfunc = 'sum').sort_values(ascending=False, by = 'total_sales').plot(kind='pie', figsize=(10,10), y= 'total_sales')"
   ]
  },
  {
   "cell_type": "code",
   "execution_count": 371,
   "metadata": {},
   "outputs": [
    {
     "data": {
      "text/html": [
       "<div>\n",
       "<style scoped>\n",
       "    .dataframe tbody tr th:only-of-type {\n",
       "        vertical-align: middle;\n",
       "    }\n",
       "\n",
       "    .dataframe tbody tr th {\n",
       "        vertical-align: top;\n",
       "    }\n",
       "\n",
       "    .dataframe thead th {\n",
       "        text-align: right;\n",
       "    }\n",
       "</style>\n",
       "<table border=\"1\" class=\"dataframe\">\n",
       "  <thead>\n",
       "    <tr style=\"text-align: right;\">\n",
       "      <th></th>\n",
       "      <th>total_sales</th>\n",
       "    </tr>\n",
       "    <tr>\n",
       "      <th>genre</th>\n",
       "      <th></th>\n",
       "    </tr>\n",
       "  </thead>\n",
       "  <tbody>\n",
       "    <tr>\n",
       "      <th>Shooter</th>\n",
       "      <td>105.73</td>\n",
       "    </tr>\n",
       "    <tr>\n",
       "      <th>Action</th>\n",
       "      <td>102.13</td>\n",
       "    </tr>\n",
       "    <tr>\n",
       "      <th>Sports</th>\n",
       "      <td>64.33</td>\n",
       "    </tr>\n",
       "    <tr>\n",
       "      <th>Role-Playing</th>\n",
       "      <td>55.82</td>\n",
       "    </tr>\n",
       "    <tr>\n",
       "      <th>Misc</th>\n",
       "      <td>14.17</td>\n",
       "    </tr>\n",
       "    <tr>\n",
       "      <th>Fighting</th>\n",
       "      <td>12.37</td>\n",
       "    </tr>\n",
       "    <tr>\n",
       "      <th>Adventure</th>\n",
       "      <td>11.98</td>\n",
       "    </tr>\n",
       "    <tr>\n",
       "      <th>Racing</th>\n",
       "      <td>10.86</td>\n",
       "    </tr>\n",
       "    <tr>\n",
       "      <th>Platform</th>\n",
       "      <td>9.28</td>\n",
       "    </tr>\n",
       "    <tr>\n",
       "      <th>Simulation</th>\n",
       "      <td>7.55</td>\n",
       "    </tr>\n",
       "    <tr>\n",
       "      <th>Strategy</th>\n",
       "      <td>2.98</td>\n",
       "    </tr>\n",
       "    <tr>\n",
       "      <th>Puzzle</th>\n",
       "      <td>0.72</td>\n",
       "    </tr>\n",
       "  </tbody>\n",
       "</table>\n",
       "</div>"
      ],
      "text/plain": [
       "              total_sales\n",
       "genre                    \n",
       "Shooter            105.73\n",
       "Action             102.13\n",
       "Sports              64.33\n",
       "Role-Playing        55.82\n",
       "Misc                14.17\n",
       "Fighting            12.37\n",
       "Adventure           11.98\n",
       "Racing              10.86\n",
       "Platform             9.28\n",
       "Simulation           7.55\n",
       "Strategy             2.98\n",
       "Puzzle               0.72"
      ]
     },
     "execution_count": 371,
     "metadata": {},
     "output_type": "execute_result"
    }
   ],
   "source": [
    "actual_data.pivot_table(index = 'genre', values = 'total_sales', aggfunc = 'sum').sort_values(ascending=False, by = 'total_sales')"
   ]
  },
  {
   "cell_type": "markdown",
   "metadata": {},
   "source": [
    "ВЫВОД:\n",
    "\n",
    "Самые прибыльные жанры - Shooter, Action, Sports.\n",
    "\n",
    "Наименее прибыльные жанры - Strategy, Puzzle"
   ]
  },
  {
   "cell_type": "markdown",
   "metadata": {},
   "source": [
    "# Составьте портрет пользователя каждого региона"
   ]
  },
  {
   "cell_type": "code",
   "execution_count": 372,
   "metadata": {},
   "outputs": [
    {
     "data": {
      "text/plain": [
       "<AxesSubplot:xlabel='platform'>"
      ]
     },
     "execution_count": 372,
     "metadata": {},
     "output_type": "execute_result"
    },
    {
     "data": {
      "image/png": "[encoded data removed]",
      "text/plain": [
       "<Figure size 1080x360 with 1 Axes>"
      ]
     },
     "metadata": {
      "needs_background": "light"
     },
     "output_type": "display_data"
    }
   ],
   "source": [
    "actual_data.pivot_table(index = 'platform', values = 'na', aggfunc = 'sum').sort_values(ascending=False, by = 'na').plot(kind = 'bar', figsize=(15,5))"
   ]
  },
  {
   "cell_type": "markdown",
   "metadata": {},
   "source": [
    "Пользователи Северной Америки больше всего предпочитают PS4. На втором месте XOne."
   ]
  },
  {
   "cell_type": "code",
   "execution_count": 373,
   "metadata": {},
   "outputs": [
    {
     "data": {
      "text/plain": [
       "<AxesSubplot:xlabel='platform'>"
      ]
     },
     "execution_count": 373,
     "metadata": {},
     "output_type": "execute_result"
    },
    {
     "data": {
      "image/png": "[encoded data removed]",
      "text/plain": [
       "<Figure size 1080x360 with 1 Axes>"
      ]
     },
     "metadata": {
      "needs_background": "light"
     },
     "output_type": "display_data"
    }
   ],
   "source": [
    "actual_data.pivot_table(index = 'platform', values = 'eu', aggfunc = 'sum').sort_values(ascending=False, by = 'eu').plot(kind = 'bar', figsize=(15,5))"
   ]
  },
  {
   "cell_type": "markdown",
   "metadata": {},
   "source": [
    "Как и в Северной Америке в Европе лидирует PS4. На втором месте XOne."
   ]
  },
  {
   "cell_type": "code",
   "execution_count": 374,
   "metadata": {},
   "outputs": [
    {
     "data": {
      "text/plain": [
       "<AxesSubplot:xlabel='platform'>"
      ]
     },
     "execution_count": 374,
     "metadata": {},
     "output_type": "execute_result"
    },
    {
     "data": {
      "image/png": "[encoded data removed]",
      "text/plain": [
       "<Figure size 1080x360 with 1 Axes>"
      ]
     },
     "metadata": {
      "needs_background": "light"
     },
     "output_type": "display_data"
    }
   ],
   "source": [
    "actual_data.pivot_table(index = 'platform', values = 'jp', aggfunc = 'sum').sort_values(ascending=False, by = 'jp').plot(kind = 'bar', figsize=(15,5))"
   ]
  },
  {
   "cell_type": "markdown",
   "metadata": {},
   "source": [
    "Подавляющее большинство японских пользователей играют в японские платформы, что неудивительно из-за большого разнообразия платформ"
   ]
  },
  {
   "cell_type": "markdown",
   "metadata": {},
   "source": [
    "#### Можно сделать общий вывод, что японские платформы лидеры по всему мира."
   ]
  },
  {
   "cell_type": "code",
   "execution_count": 375,
   "metadata": {},
   "outputs": [
    {
     "data": {
      "text/html": [
       "<div>\n",
       "<style scoped>\n",
       "    .dataframe tbody tr th:only-of-type {\n",
       "        vertical-align: middle;\n",
       "    }\n",
       "\n",
       "    .dataframe tbody tr th {\n",
       "        vertical-align: top;\n",
       "    }\n",
       "\n",
       "    .dataframe thead th {\n",
       "        text-align: right;\n",
       "    }\n",
       "</style>\n",
       "<table border=\"1\" class=\"dataframe\">\n",
       "  <thead>\n",
       "    <tr style=\"text-align: right;\">\n",
       "      <th></th>\n",
       "      <th>na</th>\n",
       "    </tr>\n",
       "    <tr>\n",
       "      <th>genre</th>\n",
       "      <th></th>\n",
       "    </tr>\n",
       "  </thead>\n",
       "  <tbody>\n",
       "    <tr>\n",
       "      <th>Shooter</th>\n",
       "      <td>48.18</td>\n",
       "    </tr>\n",
       "    <tr>\n",
       "      <th>Action</th>\n",
       "      <td>33.68</td>\n",
       "    </tr>\n",
       "    <tr>\n",
       "      <th>Sports</th>\n",
       "      <td>26.31</td>\n",
       "    </tr>\n",
       "    <tr>\n",
       "      <th>Role-Playing</th>\n",
       "      <td>19.82</td>\n",
       "    </tr>\n",
       "    <tr>\n",
       "      <th>Misc</th>\n",
       "      <td>5.58</td>\n",
       "    </tr>\n",
       "    <tr>\n",
       "      <th>Fighting</th>\n",
       "      <td>5.54</td>\n",
       "    </tr>\n",
       "    <tr>\n",
       "      <th>Adventure</th>\n",
       "      <td>3.84</td>\n",
       "    </tr>\n",
       "    <tr>\n",
       "      <th>Platform</th>\n",
       "      <td>3.78</td>\n",
       "    </tr>\n",
       "    <tr>\n",
       "      <th>Racing</th>\n",
       "      <td>2.82</td>\n",
       "    </tr>\n",
       "    <tr>\n",
       "      <th>Simulation</th>\n",
       "      <td>1.36</td>\n",
       "    </tr>\n",
       "    <tr>\n",
       "      <th>Strategy</th>\n",
       "      <td>0.82</td>\n",
       "    </tr>\n",
       "    <tr>\n",
       "      <th>Puzzle</th>\n",
       "      <td>0.06</td>\n",
       "    </tr>\n",
       "  </tbody>\n",
       "</table>\n",
       "</div>"
      ],
      "text/plain": [
       "                 na\n",
       "genre              \n",
       "Shooter       48.18\n",
       "Action        33.68\n",
       "Sports        26.31\n",
       "Role-Playing  19.82\n",
       "Misc           5.58\n",
       "Fighting       5.54\n",
       "Adventure      3.84\n",
       "Platform       3.78\n",
       "Racing         2.82\n",
       "Simulation     1.36\n",
       "Strategy       0.82\n",
       "Puzzle         0.06"
      ]
     },
     "execution_count": 375,
     "metadata": {},
     "output_type": "execute_result"
    }
   ],
   "source": [
    "\n",
    "actual_data.pivot_table(index = 'genre', values = 'na', aggfunc = 'sum').sort_values(ascending=False, by = 'na')"
   ]
  },
  {
   "cell_type": "code",
   "execution_count": 376,
   "metadata": {},
   "outputs": [
    {
     "data": {
      "text/html": [
       "<div>\n",
       "<style scoped>\n",
       "    .dataframe tbody tr th:only-of-type {\n",
       "        vertical-align: middle;\n",
       "    }\n",
       "\n",
       "    .dataframe tbody tr th {\n",
       "        vertical-align: top;\n",
       "    }\n",
       "\n",
       "    .dataframe thead th {\n",
       "        text-align: right;\n",
       "    }\n",
       "</style>\n",
       "<table border=\"1\" class=\"dataframe\">\n",
       "  <thead>\n",
       "    <tr style=\"text-align: right;\">\n",
       "      <th></th>\n",
       "      <th>eu</th>\n",
       "    </tr>\n",
       "    <tr>\n",
       "      <th>genre</th>\n",
       "      <th></th>\n",
       "    </tr>\n",
       "  </thead>\n",
       "  <tbody>\n",
       "    <tr>\n",
       "      <th>Shooter</th>\n",
       "      <td>40.28</td>\n",
       "    </tr>\n",
       "    <tr>\n",
       "      <th>Action</th>\n",
       "      <td>34.82</td>\n",
       "    </tr>\n",
       "    <tr>\n",
       "      <th>Sports</th>\n",
       "      <td>27.82</td>\n",
       "    </tr>\n",
       "    <tr>\n",
       "      <th>Role-Playing</th>\n",
       "      <td>17.21</td>\n",
       "    </tr>\n",
       "    <tr>\n",
       "      <th>Racing</th>\n",
       "      <td>6.52</td>\n",
       "    </tr>\n",
       "    <tr>\n",
       "      <th>Adventure</th>\n",
       "      <td>4.67</td>\n",
       "    </tr>\n",
       "    <tr>\n",
       "      <th>Misc</th>\n",
       "      <td>4.26</td>\n",
       "    </tr>\n",
       "    <tr>\n",
       "      <th>Simulation</th>\n",
       "      <td>3.74</td>\n",
       "    </tr>\n",
       "    <tr>\n",
       "      <th>Fighting</th>\n",
       "      <td>3.72</td>\n",
       "    </tr>\n",
       "    <tr>\n",
       "      <th>Platform</th>\n",
       "      <td>3.20</td>\n",
       "    </tr>\n",
       "    <tr>\n",
       "      <th>Strategy</th>\n",
       "      <td>1.57</td>\n",
       "    </tr>\n",
       "    <tr>\n",
       "      <th>Puzzle</th>\n",
       "      <td>0.13</td>\n",
       "    </tr>\n",
       "  </tbody>\n",
       "</table>\n",
       "</div>"
      ],
      "text/plain": [
       "                 eu\n",
       "genre              \n",
       "Shooter       40.28\n",
       "Action        34.82\n",
       "Sports        27.82\n",
       "Role-Playing  17.21\n",
       "Racing         6.52\n",
       "Adventure      4.67\n",
       "Misc           4.26\n",
       "Simulation     3.74\n",
       "Fighting       3.72\n",
       "Platform       3.20\n",
       "Strategy       1.57\n",
       "Puzzle         0.13"
      ]
     },
     "execution_count": 376,
     "metadata": {},
     "output_type": "execute_result"
    }
   ],
   "source": [
    "actual_data.pivot_table(index = 'genre', values = 'eu', aggfunc = 'sum').sort_values(ascending=False, by = 'eu')"
   ]
  },
  {
   "cell_type": "code",
   "execution_count": 377,
   "metadata": {},
   "outputs": [
    {
     "data": {
      "text/html": [
       "<div>\n",
       "<style scoped>\n",
       "    .dataframe tbody tr th:only-of-type {\n",
       "        vertical-align: middle;\n",
       "    }\n",
       "\n",
       "    .dataframe tbody tr th {\n",
       "        vertical-align: top;\n",
       "    }\n",
       "\n",
       "    .dataframe thead th {\n",
       "        text-align: right;\n",
       "    }\n",
       "</style>\n",
       "<table border=\"1\" class=\"dataframe\">\n",
       "  <thead>\n",
       "    <tr style=\"text-align: right;\">\n",
       "      <th></th>\n",
       "      <th>jp</th>\n",
       "    </tr>\n",
       "    <tr>\n",
       "      <th>genre</th>\n",
       "      <th></th>\n",
       "    </tr>\n",
       "  </thead>\n",
       "  <tbody>\n",
       "    <tr>\n",
       "      <th>Action</th>\n",
       "      <td>23.05</td>\n",
       "    </tr>\n",
       "    <tr>\n",
       "      <th>Role-Playing</th>\n",
       "      <td>13.41</td>\n",
       "    </tr>\n",
       "    <tr>\n",
       "      <th>Shooter</th>\n",
       "      <td>3.79</td>\n",
       "    </tr>\n",
       "    <tr>\n",
       "      <th>Misc</th>\n",
       "      <td>3.19</td>\n",
       "    </tr>\n",
       "    <tr>\n",
       "      <th>Adventure</th>\n",
       "      <td>2.22</td>\n",
       "    </tr>\n",
       "    <tr>\n",
       "      <th>Simulation</th>\n",
       "      <td>1.93</td>\n",
       "    </tr>\n",
       "    <tr>\n",
       "      <th>Sports</th>\n",
       "      <td>1.65</td>\n",
       "    </tr>\n",
       "    <tr>\n",
       "      <th>Fighting</th>\n",
       "      <td>1.54</td>\n",
       "    </tr>\n",
       "    <tr>\n",
       "      <th>Platform</th>\n",
       "      <td>1.42</td>\n",
       "    </tr>\n",
       "    <tr>\n",
       "      <th>Puzzle</th>\n",
       "      <td>0.52</td>\n",
       "    </tr>\n",
       "    <tr>\n",
       "      <th>Strategy</th>\n",
       "      <td>0.39</td>\n",
       "    </tr>\n",
       "    <tr>\n",
       "      <th>Racing</th>\n",
       "      <td>0.29</td>\n",
       "    </tr>\n",
       "  </tbody>\n",
       "</table>\n",
       "</div>"
      ],
      "text/plain": [
       "                 jp\n",
       "genre              \n",
       "Action        23.05\n",
       "Role-Playing  13.41\n",
       "Shooter        3.79\n",
       "Misc           3.19\n",
       "Adventure      2.22\n",
       "Simulation     1.93\n",
       "Sports         1.65\n",
       "Fighting       1.54\n",
       "Platform       1.42\n",
       "Puzzle         0.52\n",
       "Strategy       0.39\n",
       "Racing         0.29"
      ]
     },
     "execution_count": 377,
     "metadata": {},
     "output_type": "execute_result"
    }
   ],
   "source": [
    "actual_data.pivot_table(index = 'genre', values = 'jp', aggfunc = 'sum').sort_values(ascending=False, by = 'jp')"
   ]
  },
  {
   "cell_type": "markdown",
   "metadata": {},
   "source": [
    "ВЫВОД: Пользователи Европы и Северной Америки играют в целом в одни и те же консоли и игровая индустрия больше развита в домашнем уюте, поэтому популярны жанры - Action, Sports, Shooter. В японии преобладают пользователи с портативными консолями, в которые можно играть не только дома, поэтому они предпочитают жанр - Role-Playing и редко играют в игры с жанром - shooter."
   ]
  },
  {
   "cell_type": "code",
   "execution_count": 378,
   "metadata": {},
   "outputs": [
    {
     "data": {
      "text/plain": [
       "31       12.25\n",
       "77        7.30\n",
       "87        6.70\n",
       "94        6.49\n",
       "99        6.71\n",
       "         ...  \n",
       "16699     0.01\n",
       "16703     0.01\n",
       "16710     0.01\n",
       "16712     0.01\n",
       "16714     0.01\n",
       "Name: region, Length: 1108, dtype: float64"
      ]
     },
     "execution_count": 378,
     "metadata": {},
     "output_type": "execute_result"
    }
   ],
   "source": [
    "actual_data['region'] = actual_data['eu'] + actual_data['jp'] + actual_data['na']\n",
    "actual_data['region']"
   ]
  },
  {
   "cell_type": "code",
   "execution_count": 379,
   "metadata": {},
   "outputs": [
    {
     "data": {
      "text/html": [
       "<div>\n",
       "<style scoped>\n",
       "    .dataframe tbody tr th:only-of-type {\n",
       "        vertical-align: middle;\n",
       "    }\n",
       "\n",
       "    .dataframe tbody tr th {\n",
       "        vertical-align: top;\n",
       "    }\n",
       "\n",
       "    .dataframe thead th {\n",
       "        text-align: right;\n",
       "    }\n",
       "</style>\n",
       "<table border=\"1\" class=\"dataframe\">\n",
       "  <thead>\n",
       "    <tr style=\"text-align: right;\">\n",
       "      <th></th>\n",
       "      <th>eu</th>\n",
       "      <th>jp</th>\n",
       "      <th>na</th>\n",
       "    </tr>\n",
       "    <tr>\n",
       "      <th>rating</th>\n",
       "      <th></th>\n",
       "      <th></th>\n",
       "      <th></th>\n",
       "    </tr>\n",
       "  </thead>\n",
       "  <tbody>\n",
       "    <tr>\n",
       "      <th>E</th>\n",
       "      <td>34.83</td>\n",
       "      <td>5.25</td>\n",
       "      <td>26.59</td>\n",
       "    </tr>\n",
       "    <tr>\n",
       "      <th>E10+</th>\n",
       "      <td>11.54</td>\n",
       "      <td>3.27</td>\n",
       "      <td>17.87</td>\n",
       "    </tr>\n",
       "    <tr>\n",
       "      <th>M</th>\n",
       "      <td>45.54</td>\n",
       "      <td>4.29</td>\n",
       "      <td>47.03</td>\n",
       "    </tr>\n",
       "    <tr>\n",
       "      <th>T</th>\n",
       "      <td>20.32</td>\n",
       "      <td>7.70</td>\n",
       "      <td>22.86</td>\n",
       "    </tr>\n",
       "  </tbody>\n",
       "</table>\n",
       "</div>"
      ],
      "text/plain": [
       "           eu    jp     na\n",
       "rating                    \n",
       "E       34.83  5.25  26.59\n",
       "E10+    11.54  3.27  17.87\n",
       "M       45.54  4.29  47.03\n",
       "T       20.32  7.70  22.86"
      ]
     },
     "execution_count": 379,
     "metadata": {},
     "output_type": "execute_result"
    }
   ],
   "source": [
    "ESRB = actual_data.pivot_table(index = 'rating', values = ['eu','jp','na'], aggfunc = 'sum')\n",
    "ESRB"
   ]
  },
  {
   "cell_type": "markdown",
   "metadata": {},
   "source": [
    "Да, рейтинг влияет на продажи в отдельных регионах. Так, например, игры с рейтингом EC продавались в основном только в Северной Америке"
   ]
  },
  {
   "cell_type": "markdown",
   "metadata": {},
   "source": [
    "# Этап 4. Проверьте гипотезы"
   ]
  },
  {
   "cell_type": "markdown",
   "metadata": {},
   "source": [
    "1 гипотеза:\n",
    "\n",
    "Средние пользовательские рейтинги платформ Xbox One и PC одинаковые;\n",
    "\n",
    "2 гипотеза:\n",
    "\n",
    "Средние пользовательские рейтинги жанров Action (англ. «действие», экшен-игры) и Sports (англ. «спортивные соревнования») разные."
   ]
  },
  {
   "cell_type": "code",
   "execution_count": 380,
   "metadata": {},
   "outputs": [
    {
     "name": "stdout",
     "output_type": "stream",
     "text": [
      "Средний пользовательский рейтинг платформы Xbox One: 6.542148760330578\n",
      "Средний пользовательский рейтинг платформы PC 6.29642857142857\n"
     ]
    }
   ],
   "source": [
    "XOne = actual_data[(actual_data['platform'] == 'XOne') &  (actual_data['user_score'] > 0)]['user_score']#.mean().round()\n",
    "PC = actual_data[(actual_data['platform'] == 'PC') &  (actual_data['user_score'] > 0)]['user_score']#.mean().round()\n",
    "print('Средний пользовательский рейтинг платформы Xbox One:', XOne.mean())\n",
    "print('Средний пользовательский рейтинг платформы PC', PC.mean())"
   ]
  },
  {
   "cell_type": "markdown",
   "metadata": {},
   "source": [
    "H0: Средние пользовательские рейтинги платформ Xbox One и PC одинаковые\n",
    "\n",
    "H1: Средние пользовательские рейтинги платформ Xbox One и PC разные"
   ]
  },
  {
   "cell_type": "code",
   "execution_count": 381,
   "metadata": {},
   "outputs": [
    {
     "name": "stdout",
     "output_type": "stream",
     "text": [
      "p-значение: 0.2946308864003345\n",
      "Не получилось отвергнуть нулевую гипотезу\n"
     ]
    }
   ],
   "source": [
    "#проверяем первую гипотезу\n",
    "\n",
    "alpha = .05\n",
    "\n",
    "results = st.ttest_ind(XOne, PC, equal_var=False)\n",
    "\n",
    "print('p-значение:', results.pvalue)\n",
    "\n",
    "\n",
    "if (results.pvalue < alpha):\n",
    "    print(\"Отвергаем нулевую гипотезу\")\n",
    "else:\n",
    "    print(\"Не получилось отвергнуть нулевую гипотезу\")"
   ]
  },
  {
   "cell_type": "markdown",
   "metadata": {},
   "source": [
    "Вывод: 1 гипотеза подтвердилась. Средние пользовательские рейтинги платформ Xbox One и PC одинаковые\n",
    "H0: Средние пользовательские рейтинги жанров Action (англ. «действие», экшен-игры) и Sports (англ. «спортивные соревнования») одинаковые\n",
    "\n",
    "H1: Средние пользовательские рейтинги жанров Action (англ. «действие», экшен-игры) и Sports (англ. «спортивные соревнования») разные"
   ]
  },
  {
   "cell_type": "code",
   "execution_count": 382,
   "metadata": {},
   "outputs": [
    {
     "name": "stdout",
     "output_type": "stream",
     "text": [
      "Средний пользовательский рейтинг жанра Action: 6.808290155440415\n",
      "Средний пользовательский рейтинг жанра Sports 5.198780487804878\n"
     ]
    }
   ],
   "source": [
    "Action = actual_data[(actual_data['genre'] == 'Action') &  (actual_data['user_score'] > 0)]['user_score']#.mean().round()\n",
    "Sports = actual_data[(actual_data['genre'] == 'Sports') &  (actual_data['user_score'] > 0)]['user_score']#.mean().round()\n",
    "print('Средний пользовательский рейтинг жанра Action:', Action.mean())\n",
    "print('Средний пользовательский рейтинг жанра Sports', Sports.mean())"
   ]
  },
  {
   "cell_type": "code",
   "execution_count": 383,
   "metadata": {},
   "outputs": [
    {
     "name": "stdout",
     "output_type": "stream",
     "text": [
      "p-значение: 5.97163549920592e-10\n",
      "Отвергаем нулевую гипотезу\n"
     ]
    }
   ],
   "source": [
    "#проверяем вторую гипотезу\n",
    "\n",
    "alpha = .05\n",
    "\n",
    "results = st.ttest_ind(Action, Sports, equal_var=False)\n",
    "\n",
    "print('p-значение:', results.pvalue)\n",
    "\n",
    "\n",
    "if (results.pvalue < alpha):\n",
    "    print(\"Отвергаем нулевую гипотезу\")\n",
    "else:\n",
    "    print(\"Не получилось отвергнуть нулевую гипотезу\")"
   ]
  },
  {
   "cell_type": "markdown",
   "metadata": {},
   "source": [
    "Вывод: 2 гипотеза не подтвердилась. Средние пользовательские рейтинги жанров Action и Sports одинаковые."
   ]
  },
  {
   "cell_type": "markdown",
   "metadata": {},
   "source": [
    "# Общий вывод"
   ]
  },
  {
   "cell_type": "markdown",
   "metadata": {},
   "source": [
    "Критерии определяющие успешность игры:\n",
    "\n",
    "- Регион\n",
    "- Рейтинг ассоциации, определяющей возрастной рейтинг компьютерных игр\n",
    "- Платформа, которая наиболее распространена в данном регионе\n",
    "- Жанр\n",
    "- Рейтинг критиков (влияет на количество продаж во всех регионах)\n",
    "Игры, которые будут продаваться в Северной Америке лучше всего:\n",
    "- ESRB: E, M, T\n",
    "- Платформ(в порядке убывания): PS4, Xbox One, 3DS\n",
    "- Жанры: Action, Sports, Shooter, Misc, Role-Playing\n",
    "\n",
    "Игры, которые будут продаваться в Европе лучше всего:\n",
    "- ESRB: E, M, T\n",
    "- Платформы: PS4, Xbox One, PC\n",
    "- Жанры: Action, Sports, Shooter, Misc, Racing\n",
    "\n",
    "Игры, которые будут продаваться в Японии лучше всего:\n",
    "- ESRB: E, T, M\n",
    "- Платформы: 3DS, PS4, PSV\n",
    "- Жанры: Role-Playing, Action, Misc, Sports, Platform\n",
    "\n",
    "*Рейтинги, жанры, платформы указаны в порядке убывания*"
   ]
  }
 ],
 "metadata": {
  "ExecuteTimeLog": [
   {
    "duration": 382,
    "start_time": "2022-11-29T08:02:33.144Z"
   },
   {
    "duration": 62,
    "start_time": "2022-11-29T08:02:58.403Z"
   },
   {
    "duration": 112,
    "start_time": "2022-11-29T08:03:07.531Z"
   },
   {
    "duration": 2,
    "start_time": "2022-11-29T08:03:09.675Z"
   },
   {
    "duration": 56,
    "start_time": "2022-11-29T08:03:10.235Z"
   },
   {
    "duration": 38,
    "start_time": "2022-11-29T08:03:14.526Z"
   },
   {
    "duration": 2,
    "start_time": "2022-11-29T08:12:08.975Z"
   },
   {
    "duration": 22,
    "start_time": "2022-11-29T08:12:15.707Z"
   },
   {
    "duration": 12,
    "start_time": "2022-11-29T08:13:31.306Z"
   },
   {
    "duration": 8,
    "start_time": "2022-11-29T08:13:40.168Z"
   },
   {
    "duration": 9,
    "start_time": "2022-11-29T08:13:51.210Z"
   },
   {
    "duration": 7,
    "start_time": "2022-11-29T08:14:01.872Z"
   },
   {
    "duration": 5,
    "start_time": "2022-11-29T08:14:36.895Z"
   },
   {
    "duration": 3,
    "start_time": "2022-11-29T08:14:56.946Z"
   },
   {
    "duration": 4,
    "start_time": "2022-11-29T08:15:01.024Z"
   },
   {
    "duration": 7,
    "start_time": "2022-11-29T08:15:11.764Z"
   },
   {
    "duration": 2,
    "start_time": "2022-11-29T08:15:18.180Z"
   },
   {
    "duration": 55,
    "start_time": "2022-11-29T08:15:18.538Z"
   },
   {
    "duration": 29,
    "start_time": "2022-11-29T08:15:18.778Z"
   },
   {
    "duration": 17,
    "start_time": "2022-11-29T08:15:18.993Z"
   },
   {
    "duration": 21,
    "start_time": "2022-11-29T08:15:23.531Z"
   },
   {
    "duration": 3,
    "start_time": "2022-11-29T08:16:03.552Z"
   },
   {
    "duration": 30,
    "start_time": "2022-11-29T08:16:05.787Z"
   },
   {
    "duration": 3,
    "start_time": "2022-11-29T08:17:00.569Z"
   },
   {
    "duration": 22,
    "start_time": "2022-11-29T08:17:01.266Z"
   },
   {
    "duration": 16,
    "start_time": "2022-11-29T08:18:11.706Z"
   },
   {
    "duration": 21,
    "start_time": "2022-11-29T14:24:38.435Z"
   },
   {
    "duration": 9,
    "start_time": "2022-11-29T14:25:03.743Z"
   },
   {
    "duration": 7,
    "start_time": "2022-11-29T14:36:31.423Z"
   },
   {
    "duration": 4,
    "start_time": "2022-11-29T14:36:43.496Z"
   },
   {
    "duration": 9,
    "start_time": "2022-11-29T14:36:53.608Z"
   },
   {
    "duration": 847,
    "start_time": "2022-11-29T14:45:50.291Z"
   },
   {
    "duration": 9,
    "start_time": "2022-11-29T14:45:51.397Z"
   },
   {
    "duration": 775,
    "start_time": "2022-11-29T14:46:11.615Z"
   },
   {
    "duration": 2,
    "start_time": "2022-11-29T14:46:20.580Z"
   },
   {
    "duration": 53,
    "start_time": "2022-11-29T14:46:21.052Z"
   },
   {
    "duration": 23,
    "start_time": "2022-11-29T14:46:21.485Z"
   },
   {
    "duration": 4,
    "start_time": "2022-11-29T14:46:21.924Z"
   },
   {
    "duration": 22,
    "start_time": "2022-11-29T14:46:22.518Z"
   },
   {
    "duration": 15,
    "start_time": "2022-11-29T14:46:23.596Z"
   },
   {
    "duration": 9,
    "start_time": "2022-11-29T14:46:27.933Z"
   },
   {
    "duration": 891,
    "start_time": "2022-11-29T14:46:31.166Z"
   },
   {
    "duration": 6,
    "start_time": "2022-11-29T14:46:43.472Z"
   },
   {
    "duration": 17,
    "start_time": "2022-11-29T14:47:28.747Z"
   },
   {
    "duration": 16,
    "start_time": "2022-11-29T14:48:33.838Z"
   },
   {
    "duration": 3,
    "start_time": "2022-11-29T14:48:46.796Z"
   },
   {
    "duration": 51,
    "start_time": "2022-11-29T14:48:47.013Z"
   },
   {
    "duration": 23,
    "start_time": "2022-11-29T14:48:47.237Z"
   },
   {
    "duration": 3,
    "start_time": "2022-11-29T14:48:47.460Z"
   },
   {
    "duration": 22,
    "start_time": "2022-11-29T14:48:47.660Z"
   },
   {
    "duration": 15,
    "start_time": "2022-11-29T14:48:47.917Z"
   },
   {
    "duration": 8,
    "start_time": "2022-11-29T14:48:48.855Z"
   },
   {
    "duration": 12,
    "start_time": "2022-11-29T14:48:49.407Z"
   },
   {
    "duration": 4,
    "start_time": "2022-11-29T14:48:50.724Z"
   },
   {
    "duration": 6,
    "start_time": "2022-11-29T14:49:08.378Z"
   },
   {
    "duration": 8,
    "start_time": "2022-11-29T14:49:53.402Z"
   },
   {
    "duration": 6,
    "start_time": "2022-11-29T14:50:12.154Z"
   },
   {
    "duration": 6,
    "start_time": "2022-11-29T14:56:16.470Z"
   },
   {
    "duration": 7,
    "start_time": "2022-11-29T14:56:43.248Z"
   },
   {
    "duration": 6,
    "start_time": "2022-11-29T14:56:49.865Z"
   },
   {
    "duration": 10,
    "start_time": "2022-11-29T15:01:47.033Z"
   },
   {
    "duration": 11,
    "start_time": "2022-11-29T15:02:24.919Z"
   },
   {
    "duration": 10,
    "start_time": "2022-11-29T15:02:37.970Z"
   },
   {
    "duration": 10,
    "start_time": "2022-11-29T15:03:07.781Z"
   },
   {
    "duration": 5,
    "start_time": "2022-11-29T15:05:27.199Z"
   },
   {
    "duration": 11,
    "start_time": "2022-11-29T15:05:31.894Z"
   },
   {
    "duration": 6,
    "start_time": "2022-11-29T15:05:34.279Z"
   },
   {
    "duration": 10,
    "start_time": "2022-11-29T15:06:02.827Z"
   },
   {
    "duration": 5,
    "start_time": "2022-11-29T15:07:35.307Z"
   },
   {
    "duration": 15,
    "start_time": "2022-11-29T15:10:28.239Z"
   },
   {
    "duration": 9,
    "start_time": "2022-11-29T15:10:49.515Z"
   },
   {
    "duration": 21,
    "start_time": "2022-11-29T15:10:54.427Z"
   },
   {
    "duration": 9,
    "start_time": "2022-11-29T15:11:12.503Z"
   },
   {
    "duration": 13,
    "start_time": "2022-11-29T15:12:09.301Z"
   },
   {
    "duration": 10,
    "start_time": "2022-11-29T15:12:10.086Z"
   },
   {
    "duration": 7,
    "start_time": "2022-11-29T15:12:11.630Z"
   },
   {
    "duration": 5,
    "start_time": "2022-11-29T15:12:16.111Z"
   },
   {
    "duration": 5,
    "start_time": "2022-11-29T15:12:18.431Z"
   },
   {
    "duration": 10,
    "start_time": "2022-11-29T15:12:23.152Z"
   },
   {
    "duration": 5,
    "start_time": "2022-11-29T15:12:24.065Z"
   },
   {
    "duration": 9,
    "start_time": "2022-11-29T15:12:26.994Z"
   },
   {
    "duration": 7,
    "start_time": "2022-11-29T15:12:27.689Z"
   },
   {
    "duration": 9,
    "start_time": "2022-11-29T15:12:28.368Z"
   },
   {
    "duration": 14,
    "start_time": "2022-11-29T15:13:27.780Z"
   },
   {
    "duration": 8,
    "start_time": "2022-11-29T15:14:02.334Z"
   },
   {
    "duration": 2,
    "start_time": "2022-11-29T15:14:15.351Z"
   },
   {
    "duration": 60,
    "start_time": "2022-11-29T15:14:15.909Z"
   },
   {
    "duration": 21,
    "start_time": "2022-11-29T15:14:16.487Z"
   },
   {
    "duration": 3,
    "start_time": "2022-11-29T15:14:20.848Z"
   },
   {
    "duration": 410,
    "start_time": "2022-11-30T08:41:30.076Z"
   },
   {
    "duration": 203,
    "start_time": "2022-11-30T08:41:30.488Z"
   },
   {
    "duration": 25,
    "start_time": "2022-11-30T08:41:30.693Z"
   },
   {
    "duration": 3,
    "start_time": "2022-11-30T08:41:30.720Z"
   },
   {
    "duration": 39,
    "start_time": "2022-11-30T08:41:30.725Z"
   },
   {
    "duration": 31,
    "start_time": "2022-11-30T08:41:30.766Z"
   },
   {
    "duration": 43,
    "start_time": "2022-11-30T08:41:30.799Z"
   },
   {
    "duration": 35,
    "start_time": "2022-11-30T08:41:30.844Z"
   },
   {
    "duration": 33,
    "start_time": "2022-11-30T08:41:30.881Z"
   },
   {
    "duration": 35,
    "start_time": "2022-11-30T08:41:30.915Z"
   },
   {
    "duration": 56,
    "start_time": "2022-11-30T08:41:30.951Z"
   },
   {
    "duration": 35,
    "start_time": "2022-11-30T08:41:31.008Z"
   },
   {
    "duration": 26,
    "start_time": "2022-11-30T08:41:31.045Z"
   },
   {
    "duration": 33,
    "start_time": "2022-11-30T08:41:31.073Z"
   },
   {
    "duration": 21,
    "start_time": "2022-11-30T08:41:31.107Z"
   },
   {
    "duration": 1266,
    "start_time": "2022-11-30T08:43:02.343Z"
   },
   {
    "duration": 9,
    "start_time": "2022-11-30T08:43:49.061Z"
   },
   {
    "duration": 1137,
    "start_time": "2022-11-30T08:47:41.629Z"
   },
   {
    "duration": 6,
    "start_time": "2022-11-30T08:47:50.517Z"
   },
   {
    "duration": 5,
    "start_time": "2022-11-30T08:48:27.531Z"
   },
   {
    "duration": 9,
    "start_time": "2022-11-30T08:49:24.233Z"
   },
   {
    "duration": 608,
    "start_time": "2022-11-30T08:50:09.153Z"
   },
   {
    "duration": 116,
    "start_time": "2022-11-30T08:50:44.263Z"
   },
   {
    "duration": 133,
    "start_time": "2022-11-30T08:52:14.622Z"
   },
   {
    "duration": 72,
    "start_time": "2022-11-30T08:53:08.732Z"
   },
   {
    "duration": 17,
    "start_time": "2022-11-30T08:54:24.736Z"
   },
   {
    "duration": 5,
    "start_time": "2022-11-30T08:54:33.817Z"
   },
   {
    "duration": 6,
    "start_time": "2022-11-30T08:54:41.267Z"
   },
   {
    "duration": 11,
    "start_time": "2022-11-30T08:55:08.462Z"
   },
   {
    "duration": 77,
    "start_time": "2022-11-30T08:55:16.775Z"
   },
   {
    "duration": 12,
    "start_time": "2022-11-30T08:55:48.859Z"
   },
   {
    "duration": 66,
    "start_time": "2022-11-30T08:56:13.751Z"
   },
   {
    "duration": 81,
    "start_time": "2022-11-30T08:56:23.357Z"
   },
   {
    "duration": 18,
    "start_time": "2022-11-30T09:03:27.244Z"
   },
   {
    "duration": 19,
    "start_time": "2022-11-30T09:03:34.362Z"
   },
   {
    "duration": 16,
    "start_time": "2022-11-30T09:03:42.709Z"
   },
   {
    "duration": 21,
    "start_time": "2022-11-30T09:04:03.468Z"
   },
   {
    "duration": 12,
    "start_time": "2022-11-30T09:04:22.934Z"
   },
   {
    "duration": 14,
    "start_time": "2022-11-30T09:04:28.183Z"
   },
   {
    "duration": 23,
    "start_time": "2022-11-30T09:04:55.392Z"
   },
   {
    "duration": 309,
    "start_time": "2022-11-30T09:10:20.658Z"
   },
   {
    "duration": 332,
    "start_time": "2022-11-30T09:10:51.421Z"
   },
   {
    "duration": 11,
    "start_time": "2022-11-30T09:15:21.591Z"
   },
   {
    "duration": 1279,
    "start_time": "2022-11-30T09:15:32.848Z"
   },
   {
    "duration": 3,
    "start_time": "2022-11-30T09:15:54.308Z"
   },
   {
    "duration": 174,
    "start_time": "2022-11-30T09:15:54.312Z"
   },
   {
    "duration": 20,
    "start_time": "2022-11-30T09:15:54.487Z"
   },
   {
    "duration": 55,
    "start_time": "2022-11-30T09:15:54.509Z"
   },
   {
    "duration": 93,
    "start_time": "2022-11-30T09:15:54.565Z"
   },
   {
    "duration": 90,
    "start_time": "2022-11-30T09:15:54.660Z"
   },
   {
    "duration": 42,
    "start_time": "2022-11-30T09:15:54.752Z"
   },
   {
    "duration": 63,
    "start_time": "2022-11-30T09:15:54.795Z"
   },
   {
    "duration": 32,
    "start_time": "2022-11-30T09:15:54.860Z"
   },
   {
    "duration": 66,
    "start_time": "2022-11-30T09:15:54.894Z"
   },
   {
    "duration": 20,
    "start_time": "2022-11-30T09:15:54.962Z"
   },
   {
    "duration": 8,
    "start_time": "2022-11-30T09:15:54.984Z"
   },
   {
    "duration": 17,
    "start_time": "2022-11-30T09:15:54.994Z"
   },
   {
    "duration": 11,
    "start_time": "2022-11-30T09:15:55.013Z"
   },
   {
    "duration": 12,
    "start_time": "2022-11-30T09:15:55.026Z"
   },
   {
    "duration": 11,
    "start_time": "2022-11-30T09:15:55.040Z"
   },
   {
    "duration": 28,
    "start_time": "2022-11-30T09:15:55.053Z"
   },
   {
    "duration": 13,
    "start_time": "2022-11-30T09:15:55.083Z"
   },
   {
    "duration": 183,
    "start_time": "2022-11-30T09:15:55.098Z"
   },
   {
    "duration": 131,
    "start_time": "2022-11-30T09:15:55.282Z"
   },
   {
    "duration": 156,
    "start_time": "2022-11-30T09:15:55.415Z"
   },
   {
    "duration": 1185,
    "start_time": "2022-11-30T09:15:55.572Z"
   },
   {
    "duration": 398,
    "start_time": "2022-12-01T08:10:04.079Z"
   },
   {
    "duration": 186,
    "start_time": "2022-12-01T08:10:04.479Z"
   },
   {
    "duration": 36,
    "start_time": "2022-12-01T08:10:04.667Z"
   },
   {
    "duration": 4,
    "start_time": "2022-12-01T08:10:04.704Z"
   },
   {
    "duration": 21,
    "start_time": "2022-12-01T08:10:04.711Z"
   },
   {
    "duration": 15,
    "start_time": "2022-12-01T08:10:04.734Z"
   },
   {
    "duration": 10,
    "start_time": "2022-12-01T08:10:04.751Z"
   },
   {
    "duration": 7,
    "start_time": "2022-12-01T08:10:04.762Z"
   },
   {
    "duration": 6,
    "start_time": "2022-12-01T08:10:04.770Z"
   },
   {
    "duration": 36,
    "start_time": "2022-12-01T08:10:04.777Z"
   },
   {
    "duration": 10,
    "start_time": "2022-12-01T08:10:04.815Z"
   },
   {
    "duration": 9,
    "start_time": "2022-12-01T08:10:04.827Z"
   },
   {
    "duration": 16,
    "start_time": "2022-12-01T08:10:04.837Z"
   },
   {
    "duration": 10,
    "start_time": "2022-12-01T08:10:04.855Z"
   },
   {
    "duration": 8,
    "start_time": "2022-12-01T08:10:04.867Z"
   },
   {
    "duration": 7,
    "start_time": "2022-12-01T08:10:04.877Z"
   },
   {
    "duration": 5,
    "start_time": "2022-12-01T08:10:04.914Z"
   },
   {
    "duration": 21,
    "start_time": "2022-12-01T08:10:04.920Z"
   },
   {
    "duration": 538,
    "start_time": "2022-12-01T08:10:04.943Z"
   },
   {
    "duration": 122,
    "start_time": "2022-12-01T08:10:05.483Z"
   },
   {
    "duration": 146,
    "start_time": "2022-12-01T08:10:05.613Z"
   },
   {
    "duration": 43,
    "start_time": "2022-12-05T08:34:23.469Z"
   },
   {
    "duration": 340,
    "start_time": "2022-12-05T08:34:29.943Z"
   },
   {
    "duration": 215,
    "start_time": "2022-12-05T08:34:30.286Z"
   },
   {
    "duration": 25,
    "start_time": "2022-12-05T08:34:30.503Z"
   },
   {
    "duration": 10,
    "start_time": "2022-12-05T08:34:30.530Z"
   },
   {
    "duration": 48,
    "start_time": "2022-12-05T08:34:30.542Z"
   },
   {
    "duration": 29,
    "start_time": "2022-12-05T08:34:30.592Z"
   },
   {
    "duration": 21,
    "start_time": "2022-12-05T08:34:30.623Z"
   },
   {
    "duration": 24,
    "start_time": "2022-12-05T08:34:30.645Z"
   },
   {
    "duration": 18,
    "start_time": "2022-12-05T08:34:30.670Z"
   },
   {
    "duration": 15,
    "start_time": "2022-12-05T08:34:30.689Z"
   },
   {
    "duration": 23,
    "start_time": "2022-12-05T08:34:30.706Z"
   },
   {
    "duration": 30,
    "start_time": "2022-12-05T08:34:30.730Z"
   },
   {
    "duration": 41,
    "start_time": "2022-12-05T08:34:30.761Z"
   },
   {
    "duration": 30,
    "start_time": "2022-12-05T08:34:30.805Z"
   },
   {
    "duration": 27,
    "start_time": "2022-12-05T08:34:30.836Z"
   },
   {
    "duration": 21,
    "start_time": "2022-12-05T08:34:30.864Z"
   },
   {
    "duration": 23,
    "start_time": "2022-12-05T08:34:30.887Z"
   },
   {
    "duration": 15,
    "start_time": "2022-12-05T08:34:30.912Z"
   },
   {
    "duration": 536,
    "start_time": "2022-12-05T08:34:30.929Z"
   },
   {
    "duration": 118,
    "start_time": "2022-12-05T08:34:31.467Z"
   },
   {
    "duration": 142,
    "start_time": "2022-12-05T08:34:31.586Z"
   },
   {
    "duration": 10,
    "start_time": "2022-12-05T08:34:31.730Z"
   },
   {
    "duration": 15,
    "start_time": "2022-12-05T08:34:48.341Z"
   },
   {
    "duration": 10,
    "start_time": "2022-12-05T08:35:37.153Z"
   },
   {
    "duration": 6,
    "start_time": "2022-12-05T08:35:41.534Z"
   },
   {
    "duration": 1222,
    "start_time": "2022-12-05T08:37:49.170Z"
   },
   {
    "duration": 3,
    "start_time": "2022-12-05T08:38:03.195Z"
   },
   {
    "duration": 55,
    "start_time": "2022-12-05T08:38:03.200Z"
   },
   {
    "duration": 78,
    "start_time": "2022-12-05T08:38:03.256Z"
   },
   {
    "duration": 3,
    "start_time": "2022-12-05T08:38:03.335Z"
   },
   {
    "duration": 21,
    "start_time": "2022-12-05T08:38:03.339Z"
   },
   {
    "duration": 27,
    "start_time": "2022-12-05T08:38:03.361Z"
   },
   {
    "duration": 9,
    "start_time": "2022-12-05T08:38:03.390Z"
   },
   {
    "duration": 7,
    "start_time": "2022-12-05T08:38:03.400Z"
   },
   {
    "duration": 9,
    "start_time": "2022-12-05T08:38:03.409Z"
   },
   {
    "duration": 6,
    "start_time": "2022-12-05T08:38:03.420Z"
   },
   {
    "duration": 10,
    "start_time": "2022-12-05T08:38:03.428Z"
   },
   {
    "duration": 5,
    "start_time": "2022-12-05T08:38:03.439Z"
   },
   {
    "duration": 37,
    "start_time": "2022-12-05T08:38:03.445Z"
   },
   {
    "duration": 17,
    "start_time": "2022-12-05T08:38:03.483Z"
   },
   {
    "duration": 15,
    "start_time": "2022-12-05T08:38:03.502Z"
   },
   {
    "duration": 7,
    "start_time": "2022-12-05T08:38:03.519Z"
   },
   {
    "duration": 6,
    "start_time": "2022-12-05T08:38:03.527Z"
   },
   {
    "duration": 9,
    "start_time": "2022-12-05T08:38:03.534Z"
   },
   {
    "duration": 173,
    "start_time": "2022-12-05T08:38:03.544Z"
   },
   {
    "duration": 129,
    "start_time": "2022-12-05T08:38:03.719Z"
   },
   {
    "duration": 170,
    "start_time": "2022-12-05T08:38:03.849Z"
   },
   {
    "duration": 11,
    "start_time": "2022-12-05T08:38:04.021Z"
   },
   {
    "duration": 16,
    "start_time": "2022-12-05T08:38:04.034Z"
   },
   {
    "duration": 1231,
    "start_time": "2022-12-05T08:38:04.054Z"
   },
   {
    "duration": 1175,
    "start_time": "2022-12-05T08:39:08.831Z"
   },
   {
    "duration": 1193,
    "start_time": "2022-12-05T08:39:17.936Z"
   },
   {
    "duration": 1169,
    "start_time": "2022-12-05T08:39:28.494Z"
   },
   {
    "duration": 16,
    "start_time": "2022-12-05T08:40:22.236Z"
   },
   {
    "duration": 438,
    "start_time": "2022-12-05T08:42:40.955Z"
   },
   {
    "duration": 58,
    "start_time": "2022-12-05T08:42:41.396Z"
   },
   {
    "duration": 50,
    "start_time": "2022-12-05T08:42:41.455Z"
   },
   {
    "duration": 62,
    "start_time": "2022-12-05T08:42:41.507Z"
   },
   {
    "duration": 95,
    "start_time": "2022-12-05T08:42:41.570Z"
   },
   {
    "duration": 71,
    "start_time": "2022-12-05T08:42:41.667Z"
   },
   {
    "duration": 93,
    "start_time": "2022-12-05T08:42:41.740Z"
   },
   {
    "duration": 60,
    "start_time": "2022-12-05T08:42:41.835Z"
   },
   {
    "duration": 52,
    "start_time": "2022-12-05T08:42:41.897Z"
   },
   {
    "duration": 72,
    "start_time": "2022-12-05T08:42:41.952Z"
   },
   {
    "duration": 93,
    "start_time": "2022-12-05T08:42:42.025Z"
   },
   {
    "duration": 97,
    "start_time": "2022-12-05T08:42:42.120Z"
   },
   {
    "duration": 42,
    "start_time": "2022-12-05T08:42:42.219Z"
   },
   {
    "duration": 77,
    "start_time": "2022-12-05T08:42:42.263Z"
   },
   {
    "duration": 78,
    "start_time": "2022-12-05T08:42:42.342Z"
   },
   {
    "duration": 37,
    "start_time": "2022-12-05T08:42:42.421Z"
   },
   {
    "duration": 45,
    "start_time": "2022-12-05T08:42:42.459Z"
   },
   {
    "duration": 53,
    "start_time": "2022-12-05T08:42:42.506Z"
   },
   {
    "duration": 496,
    "start_time": "2022-12-05T08:42:42.560Z"
   },
   {
    "duration": 143,
    "start_time": "2022-12-05T08:42:43.058Z"
   },
   {
    "duration": 170,
    "start_time": "2022-12-05T08:42:43.203Z"
   },
   {
    "duration": 19,
    "start_time": "2022-12-05T08:42:43.374Z"
   },
   {
    "duration": 47,
    "start_time": "2022-12-05T08:42:43.395Z"
   },
   {
    "duration": 44,
    "start_time": "2022-12-05T08:42:43.444Z"
   },
   {
    "duration": 1641,
    "start_time": "2022-12-05T08:42:43.490Z"
   },
   {
    "duration": 0,
    "start_time": "2022-12-05T08:42:45.132Z"
   },
   {
    "duration": 0,
    "start_time": "2022-12-05T08:46:34.777Z"
   },
   {
    "duration": 0,
    "start_time": "2022-12-05T08:46:34.779Z"
   },
   {
    "duration": 0,
    "start_time": "2022-12-05T08:46:34.780Z"
   },
   {
    "duration": 0,
    "start_time": "2022-12-05T08:46:34.782Z"
   },
   {
    "duration": 0,
    "start_time": "2022-12-05T08:46:34.783Z"
   },
   {
    "duration": 0,
    "start_time": "2022-12-05T08:46:34.784Z"
   },
   {
    "duration": 0,
    "start_time": "2022-12-05T08:46:34.785Z"
   },
   {
    "duration": 0,
    "start_time": "2022-12-05T08:46:34.786Z"
   },
   {
    "duration": 1,
    "start_time": "2022-12-05T08:46:34.787Z"
   },
   {
    "duration": 0,
    "start_time": "2022-12-05T08:46:34.789Z"
   },
   {
    "duration": 1,
    "start_time": "2022-12-05T08:46:34.791Z"
   },
   {
    "duration": 0,
    "start_time": "2022-12-05T08:46:34.793Z"
   },
   {
    "duration": 0,
    "start_time": "2022-12-05T08:46:34.795Z"
   },
   {
    "duration": 0,
    "start_time": "2022-12-05T08:46:34.796Z"
   },
   {
    "duration": 0,
    "start_time": "2022-12-05T08:46:34.797Z"
   },
   {
    "duration": 0,
    "start_time": "2022-12-05T08:46:34.798Z"
   },
   {
    "duration": 0,
    "start_time": "2022-12-05T08:46:34.799Z"
   },
   {
    "duration": 0,
    "start_time": "2022-12-05T08:46:34.799Z"
   },
   {
    "duration": 0,
    "start_time": "2022-12-05T08:46:34.800Z"
   },
   {
    "duration": 0,
    "start_time": "2022-12-05T08:46:34.801Z"
   },
   {
    "duration": 0,
    "start_time": "2022-12-05T08:46:34.802Z"
   },
   {
    "duration": 0,
    "start_time": "2022-12-05T08:46:34.804Z"
   },
   {
    "duration": 0,
    "start_time": "2022-12-05T08:46:34.805Z"
   },
   {
    "duration": 0,
    "start_time": "2022-12-05T08:46:34.806Z"
   },
   {
    "duration": 3,
    "start_time": "2022-12-05T08:46:36.759Z"
   },
   {
    "duration": 62,
    "start_time": "2022-12-05T08:46:36.764Z"
   },
   {
    "duration": 18,
    "start_time": "2022-12-05T08:46:36.828Z"
   },
   {
    "duration": 5,
    "start_time": "2022-12-05T08:46:36.848Z"
   },
   {
    "duration": 21,
    "start_time": "2022-12-05T08:46:36.855Z"
   },
   {
    "duration": 30,
    "start_time": "2022-12-05T08:46:36.878Z"
   },
   {
    "duration": 10,
    "start_time": "2022-12-05T08:46:36.910Z"
   },
   {
    "duration": 6,
    "start_time": "2022-12-05T08:46:36.921Z"
   },
   {
    "duration": 4,
    "start_time": "2022-12-05T08:46:36.930Z"
   },
   {
    "duration": 7,
    "start_time": "2022-12-05T08:46:36.936Z"
   },
   {
    "duration": 11,
    "start_time": "2022-12-05T08:46:36.944Z"
   },
   {
    "duration": 24,
    "start_time": "2022-12-05T08:46:36.957Z"
   },
   {
    "duration": 27,
    "start_time": "2022-12-05T08:46:36.983Z"
   },
   {
    "duration": 11,
    "start_time": "2022-12-05T08:46:37.012Z"
   },
   {
    "duration": 20,
    "start_time": "2022-12-05T08:46:37.024Z"
   },
   {
    "duration": 15,
    "start_time": "2022-12-05T08:46:37.045Z"
   },
   {
    "duration": 7,
    "start_time": "2022-12-05T08:46:37.062Z"
   },
   {
    "duration": 17,
    "start_time": "2022-12-05T08:46:37.071Z"
   },
   {
    "duration": 169,
    "start_time": "2022-12-05T08:46:37.090Z"
   },
   {
    "duration": 134,
    "start_time": "2022-12-05T08:46:37.261Z"
   },
   {
    "duration": 153,
    "start_time": "2022-12-05T08:46:37.397Z"
   },
   {
    "duration": 10,
    "start_time": "2022-12-05T08:46:37.551Z"
   },
   {
    "duration": 20,
    "start_time": "2022-12-05T08:46:37.562Z"
   },
   {
    "duration": 1226,
    "start_time": "2022-12-05T08:46:37.586Z"
   },
   {
    "duration": 10,
    "start_time": "2022-12-05T08:48:21.892Z"
   },
   {
    "duration": 2,
    "start_time": "2022-12-05T08:48:54.436Z"
   },
   {
    "duration": 62,
    "start_time": "2022-12-05T08:48:54.440Z"
   },
   {
    "duration": 21,
    "start_time": "2022-12-05T08:48:54.503Z"
   },
   {
    "duration": 3,
    "start_time": "2022-12-05T08:48:54.526Z"
   },
   {
    "duration": 21,
    "start_time": "2022-12-05T08:48:54.531Z"
   },
   {
    "duration": 40,
    "start_time": "2022-12-05T08:48:54.554Z"
   },
   {
    "duration": 11,
    "start_time": "2022-12-05T08:48:54.596Z"
   },
   {
    "duration": 6,
    "start_time": "2022-12-05T08:48:54.609Z"
   },
   {
    "duration": 6,
    "start_time": "2022-12-05T08:48:54.617Z"
   },
   {
    "duration": 6,
    "start_time": "2022-12-05T08:48:54.625Z"
   },
   {
    "duration": 8,
    "start_time": "2022-12-05T08:48:54.634Z"
   },
   {
    "duration": 35,
    "start_time": "2022-12-05T08:48:54.644Z"
   },
   {
    "duration": 19,
    "start_time": "2022-12-05T08:48:54.683Z"
   },
   {
    "duration": 9,
    "start_time": "2022-12-05T08:48:54.703Z"
   },
   {
    "duration": 10,
    "start_time": "2022-12-05T08:48:54.714Z"
   },
   {
    "duration": 8,
    "start_time": "2022-12-05T08:48:54.726Z"
   },
   {
    "duration": 3,
    "start_time": "2022-12-05T08:48:54.736Z"
   },
   {
    "duration": 59,
    "start_time": "2022-12-05T08:48:54.740Z"
   },
   {
    "duration": 148,
    "start_time": "2022-12-05T08:48:54.801Z"
   },
   {
    "duration": 128,
    "start_time": "2022-12-05T08:48:54.950Z"
   },
   {
    "duration": 159,
    "start_time": "2022-12-05T08:48:55.082Z"
   },
   {
    "duration": 10,
    "start_time": "2022-12-05T08:48:55.243Z"
   },
   {
    "duration": 6,
    "start_time": "2022-12-05T08:48:55.254Z"
   },
   {
    "duration": 21,
    "start_time": "2022-12-05T08:48:55.262Z"
   },
   {
    "duration": 587,
    "start_time": "2022-12-05T11:56:00.817Z"
   },
   {
    "duration": 10,
    "start_time": "2022-12-05T11:59:57.206Z"
   },
   {
    "duration": 3,
    "start_time": "2022-12-05T12:00:08.090Z"
   },
   {
    "duration": 2,
    "start_time": "2022-12-05T12:00:12.032Z"
   },
   {
    "duration": 74,
    "start_time": "2022-12-05T12:00:12.036Z"
   },
   {
    "duration": 20,
    "start_time": "2022-12-05T12:00:12.112Z"
   },
   {
    "duration": 3,
    "start_time": "2022-12-05T12:00:12.134Z"
   },
   {
    "duration": 25,
    "start_time": "2022-12-05T12:00:12.139Z"
   },
   {
    "duration": 13,
    "start_time": "2022-12-05T12:00:12.177Z"
   },
   {
    "duration": 9,
    "start_time": "2022-12-05T12:00:12.191Z"
   },
   {
    "duration": 13,
    "start_time": "2022-12-05T12:00:12.201Z"
   },
   {
    "duration": 4,
    "start_time": "2022-12-05T12:00:12.216Z"
   },
   {
    "duration": 6,
    "start_time": "2022-12-05T12:00:12.222Z"
   },
   {
    "duration": 9,
    "start_time": "2022-12-05T12:00:12.231Z"
   },
   {
    "duration": 6,
    "start_time": "2022-12-05T12:00:12.241Z"
   },
   {
    "duration": 12,
    "start_time": "2022-12-05T12:00:12.278Z"
   },
   {
    "duration": 10,
    "start_time": "2022-12-05T12:00:12.292Z"
   },
   {
    "duration": 9,
    "start_time": "2022-12-05T12:00:12.303Z"
   },
   {
    "duration": 11,
    "start_time": "2022-12-05T12:00:12.313Z"
   },
   {
    "duration": 6,
    "start_time": "2022-12-05T12:00:12.325Z"
   },
   {
    "duration": 11,
    "start_time": "2022-12-05T12:00:12.333Z"
   },
   {
    "duration": 175,
    "start_time": "2022-12-05T12:00:12.345Z"
   },
   {
    "duration": 117,
    "start_time": "2022-12-05T12:00:12.522Z"
   },
   {
    "duration": 154,
    "start_time": "2022-12-05T12:00:12.641Z"
   },
   {
    "duration": 10,
    "start_time": "2022-12-05T12:00:12.797Z"
   },
   {
    "duration": 8,
    "start_time": "2022-12-05T12:00:12.809Z"
   },
   {
    "duration": 14,
    "start_time": "2022-12-05T12:00:12.818Z"
   },
   {
    "duration": 13,
    "start_time": "2022-12-05T12:13:48.994Z"
   },
   {
    "duration": 19,
    "start_time": "2022-12-05T12:13:55.811Z"
   },
   {
    "duration": 3,
    "start_time": "2022-12-05T12:14:41.143Z"
   },
   {
    "duration": 68,
    "start_time": "2022-12-05T12:14:41.148Z"
   },
   {
    "duration": 21,
    "start_time": "2022-12-05T12:14:41.218Z"
   },
   {
    "duration": 21,
    "start_time": "2022-12-05T12:14:41.241Z"
   },
   {
    "duration": 46,
    "start_time": "2022-12-05T12:14:41.264Z"
   },
   {
    "duration": 26,
    "start_time": "2022-12-05T12:14:41.311Z"
   },
   {
    "duration": 23,
    "start_time": "2022-12-05T12:14:41.339Z"
   },
   {
    "duration": 14,
    "start_time": "2022-12-05T12:14:41.363Z"
   },
   {
    "duration": 25,
    "start_time": "2022-12-05T12:14:41.379Z"
   },
   {
    "duration": 6,
    "start_time": "2022-12-05T12:14:41.405Z"
   },
   {
    "duration": 10,
    "start_time": "2022-12-05T12:14:41.413Z"
   },
   {
    "duration": 5,
    "start_time": "2022-12-05T12:14:41.424Z"
   },
   {
    "duration": 18,
    "start_time": "2022-12-05T12:14:41.431Z"
   },
   {
    "duration": 7,
    "start_time": "2022-12-05T12:14:41.450Z"
   },
   {
    "duration": 9,
    "start_time": "2022-12-05T12:14:41.459Z"
   },
   {
    "duration": 15,
    "start_time": "2022-12-05T12:14:41.469Z"
   },
   {
    "duration": 4,
    "start_time": "2022-12-05T12:14:41.485Z"
   },
   {
    "duration": 9,
    "start_time": "2022-12-05T12:14:41.491Z"
   },
   {
    "duration": 165,
    "start_time": "2022-12-05T12:14:41.502Z"
   },
   {
    "duration": 140,
    "start_time": "2022-12-05T12:14:41.669Z"
   },
   {
    "duration": 144,
    "start_time": "2022-12-05T12:14:41.810Z"
   },
   {
    "duration": 28,
    "start_time": "2022-12-05T12:14:41.955Z"
   },
   {
    "duration": 0,
    "start_time": "2022-12-05T12:14:41.985Z"
   },
   {
    "duration": 0,
    "start_time": "2022-12-05T12:14:41.986Z"
   },
   {
    "duration": 361,
    "start_time": "2022-12-05T12:14:57.814Z"
   },
   {
    "duration": 10,
    "start_time": "2022-12-05T12:40:44.766Z"
   },
   {
    "duration": 8,
    "start_time": "2022-12-05T12:41:27.120Z"
   },
   {
    "duration": 5,
    "start_time": "2022-12-05T12:41:55.153Z"
   },
   {
    "duration": 10,
    "start_time": "2022-12-05T12:41:59.192Z"
   },
   {
    "duration": 5394,
    "start_time": "2022-12-05T12:42:11.713Z"
   },
   {
    "duration": 17,
    "start_time": "2022-12-05T12:48:02.151Z"
   },
   {
    "duration": 5,
    "start_time": "2022-12-05T12:53:20.584Z"
   },
   {
    "duration": 4838,
    "start_time": "2022-12-05T12:53:27.116Z"
   },
   {
    "duration": 4,
    "start_time": "2022-12-05T13:03:06.567Z"
   },
   {
    "duration": 6,
    "start_time": "2022-12-05T13:03:07.042Z"
   },
   {
    "duration": 5999,
    "start_time": "2022-12-05T13:03:07.744Z"
   },
   {
    "duration": 4,
    "start_time": "2022-12-05T13:03:24.508Z"
   },
   {
    "duration": 4866,
    "start_time": "2022-12-05T13:03:27.699Z"
   },
   {
    "duration": 11,
    "start_time": "2022-12-05T13:04:59.067Z"
   },
   {
    "duration": 10,
    "start_time": "2022-12-05T13:05:04.295Z"
   },
   {
    "duration": 21,
    "start_time": "2022-12-05T13:24:08.088Z"
   },
   {
    "duration": 27,
    "start_time": "2022-12-05T13:26:35.461Z"
   },
   {
    "duration": 7,
    "start_time": "2022-12-05T13:27:20.531Z"
   },
   {
    "duration": 25,
    "start_time": "2022-12-05T13:27:43.686Z"
   },
   {
    "duration": 17,
    "start_time": "2022-12-05T13:28:09.743Z"
   },
   {
    "duration": 332,
    "start_time": "2022-12-05T13:28:20.801Z"
   },
   {
    "duration": 304,
    "start_time": "2022-12-05T13:34:22.996Z"
   },
   {
    "duration": 6,
    "start_time": "2022-12-05T13:36:55.728Z"
   },
   {
    "duration": 115,
    "start_time": "2022-12-05T13:37:38.631Z"
   },
   {
    "duration": 11,
    "start_time": "2022-12-05T14:00:02.945Z"
   },
   {
    "duration": 868,
    "start_time": "2022-12-05T14:00:46.686Z"
   },
   {
    "duration": 356,
    "start_time": "2022-12-05T14:01:05.966Z"
   },
   {
    "duration": 144,
    "start_time": "2022-12-05T14:04:32.744Z"
   },
   {
    "duration": 12,
    "start_time": "2022-12-05T14:08:24.004Z"
   },
   {
    "duration": 3,
    "start_time": "2022-12-05T14:13:21.578Z"
   },
   {
    "duration": 80,
    "start_time": "2022-12-05T14:13:21.584Z"
   },
   {
    "duration": 15,
    "start_time": "2022-12-05T14:13:21.666Z"
   },
   {
    "duration": 20,
    "start_time": "2022-12-05T14:13:21.682Z"
   },
   {
    "duration": 29,
    "start_time": "2022-12-05T14:13:21.704Z"
   },
   {
    "duration": 25,
    "start_time": "2022-12-05T14:13:21.735Z"
   },
   {
    "duration": 11,
    "start_time": "2022-12-05T14:13:21.762Z"
   },
   {
    "duration": 26,
    "start_time": "2022-12-05T14:13:21.774Z"
   },
   {
    "duration": 18,
    "start_time": "2022-12-05T14:13:21.802Z"
   },
   {
    "duration": 11,
    "start_time": "2022-12-05T14:13:21.821Z"
   },
   {
    "duration": 11,
    "start_time": "2022-12-05T14:13:21.834Z"
   },
   {
    "duration": 6,
    "start_time": "2022-12-05T14:13:21.847Z"
   },
   {
    "duration": 18,
    "start_time": "2022-12-05T14:13:21.855Z"
   },
   {
    "duration": 9,
    "start_time": "2022-12-05T14:13:21.876Z"
   },
   {
    "duration": 9,
    "start_time": "2022-12-05T14:13:21.887Z"
   },
   {
    "duration": 8,
    "start_time": "2022-12-05T14:13:21.897Z"
   },
   {
    "duration": 5,
    "start_time": "2022-12-05T14:13:21.906Z"
   },
   {
    "duration": 10,
    "start_time": "2022-12-05T14:13:21.912Z"
   },
   {
    "duration": 182,
    "start_time": "2022-12-05T14:13:21.923Z"
   },
   {
    "duration": 122,
    "start_time": "2022-12-05T14:13:22.107Z"
   },
   {
    "duration": 149,
    "start_time": "2022-12-05T14:13:22.231Z"
   },
   {
    "duration": 324,
    "start_time": "2022-12-05T14:13:22.381Z"
   },
   {
    "duration": 3,
    "start_time": "2022-12-05T14:13:22.707Z"
   },
   {
    "duration": 8,
    "start_time": "2022-12-05T14:13:22.713Z"
   },
   {
    "duration": 4967,
    "start_time": "2022-12-05T14:13:22.722Z"
   },
   {
    "duration": 11,
    "start_time": "2022-12-05T14:13:27.690Z"
   },
   {
    "duration": 6,
    "start_time": "2022-12-05T14:13:27.703Z"
   },
   {
    "duration": 8,
    "start_time": "2022-12-05T14:13:27.711Z"
   },
   {
    "duration": 331,
    "start_time": "2022-12-05T14:13:27.721Z"
   },
   {
    "duration": 291,
    "start_time": "2022-12-05T14:13:28.053Z"
   },
   {
    "duration": 8,
    "start_time": "2022-12-05T14:13:28.346Z"
   },
   {
    "duration": 145,
    "start_time": "2022-12-05T14:13:50.272Z"
   },
   {
    "duration": 125,
    "start_time": "2022-12-05T14:14:54.225Z"
   },
   {
    "duration": 225,
    "start_time": "2022-12-05T14:16:28.610Z"
   },
   {
    "duration": 1265,
    "start_time": "2022-12-05T14:17:05.263Z"
   },
   {
    "duration": 1278,
    "start_time": "2022-12-05T14:20:15.662Z"
   },
   {
    "duration": 79,
    "start_time": "2022-12-05T14:20:29.771Z"
   },
   {
    "duration": 852,
    "start_time": "2022-12-05T14:22:57.422Z"
   },
   {
    "duration": 8,
    "start_time": "2022-12-05T14:25:35.737Z"
   },
   {
    "duration": 4,
    "start_time": "2022-12-05T14:25:44.664Z"
   },
   {
    "duration": 2347,
    "start_time": "2022-12-05T14:25:59.703Z"
   },
   {
    "duration": 6,
    "start_time": "2022-12-05T14:26:08.595Z"
   },
   {
    "duration": 23,
    "start_time": "2022-12-05T14:26:16.355Z"
   },
   {
    "duration": 7,
    "start_time": "2022-12-05T14:26:59.757Z"
   },
   {
    "duration": 1227,
    "start_time": "2022-12-05T14:27:05.648Z"
   },
   {
    "duration": 9,
    "start_time": "2022-12-05T14:33:03.017Z"
   },
   {
    "duration": 8,
    "start_time": "2022-12-05T14:33:12.520Z"
   },
   {
    "duration": 121,
    "start_time": "2022-12-05T14:34:25.657Z"
   },
   {
    "duration": 3,
    "start_time": "2022-12-05T14:34:39.572Z"
   },
   {
    "duration": 58,
    "start_time": "2022-12-05T14:34:39.577Z"
   },
   {
    "duration": 14,
    "start_time": "2022-12-05T14:34:39.637Z"
   },
   {
    "duration": 4,
    "start_time": "2022-12-05T14:34:39.653Z"
   },
   {
    "duration": 24,
    "start_time": "2022-12-05T14:34:39.659Z"
   },
   {
    "duration": 16,
    "start_time": "2022-12-05T14:34:39.685Z"
   },
   {
    "duration": 8,
    "start_time": "2022-12-05T14:34:39.703Z"
   },
   {
    "duration": 5,
    "start_time": "2022-12-05T14:34:39.713Z"
   },
   {
    "duration": 6,
    "start_time": "2022-12-05T14:34:39.721Z"
   },
   {
    "duration": 6,
    "start_time": "2022-12-05T14:34:39.728Z"
   },
   {
    "duration": 12,
    "start_time": "2022-12-05T14:34:39.736Z"
   },
   {
    "duration": 29,
    "start_time": "2022-12-05T14:34:39.749Z"
   },
   {
    "duration": 13,
    "start_time": "2022-12-05T14:34:39.780Z"
   },
   {
    "duration": 8,
    "start_time": "2022-12-05T14:34:39.795Z"
   },
   {
    "duration": 11,
    "start_time": "2022-12-05T14:34:39.805Z"
   },
   {
    "duration": 14,
    "start_time": "2022-12-05T14:34:39.818Z"
   },
   {
    "duration": 5,
    "start_time": "2022-12-05T14:34:39.834Z"
   },
   {
    "duration": 38,
    "start_time": "2022-12-05T14:34:39.841Z"
   },
   {
    "duration": 164,
    "start_time": "2022-12-05T14:34:39.881Z"
   },
   {
    "duration": 125,
    "start_time": "2022-12-05T14:34:40.046Z"
   },
   {
    "duration": 158,
    "start_time": "2022-12-05T14:34:40.172Z"
   },
   {
    "duration": 308,
    "start_time": "2022-12-05T14:34:40.332Z"
   },
   {
    "duration": 4,
    "start_time": "2022-12-05T14:34:40.641Z"
   },
   {
    "duration": 8,
    "start_time": "2022-12-05T14:34:40.647Z"
   },
   {
    "duration": 4990,
    "start_time": "2022-12-05T14:34:40.657Z"
   },
   {
    "duration": 12,
    "start_time": "2022-12-05T14:34:45.649Z"
   },
   {
    "duration": 21,
    "start_time": "2022-12-05T14:34:45.663Z"
   },
   {
    "duration": 8,
    "start_time": "2022-12-05T14:34:45.686Z"
   },
   {
    "duration": 314,
    "start_time": "2022-12-05T14:34:45.698Z"
   },
   {
    "duration": 294,
    "start_time": "2022-12-05T14:34:46.014Z"
   },
   {
    "duration": 10,
    "start_time": "2022-12-05T14:34:46.309Z"
   },
   {
    "duration": 129,
    "start_time": "2022-12-05T14:34:46.320Z"
   },
   {
    "duration": 6,
    "start_time": "2022-12-05T14:37:37.967Z"
   },
   {
    "duration": 115,
    "start_time": "2022-12-05T14:38:57.041Z"
   },
   {
    "duration": 3,
    "start_time": "2022-12-05T14:39:05.955Z"
   },
   {
    "duration": 57,
    "start_time": "2022-12-05T14:39:05.960Z"
   },
   {
    "duration": 20,
    "start_time": "2022-12-05T14:39:06.018Z"
   },
   {
    "duration": 6,
    "start_time": "2022-12-05T14:39:06.040Z"
   },
   {
    "duration": 21,
    "start_time": "2022-12-05T14:39:06.048Z"
   },
   {
    "duration": 12,
    "start_time": "2022-12-05T14:39:06.078Z"
   },
   {
    "duration": 8,
    "start_time": "2022-12-05T14:39:06.092Z"
   },
   {
    "duration": 6,
    "start_time": "2022-12-05T14:39:06.102Z"
   },
   {
    "duration": 5,
    "start_time": "2022-12-05T14:39:06.110Z"
   },
   {
    "duration": 8,
    "start_time": "2022-12-05T14:39:06.116Z"
   },
   {
    "duration": 10,
    "start_time": "2022-12-05T14:39:06.126Z"
   },
   {
    "duration": 42,
    "start_time": "2022-12-05T14:39:06.137Z"
   },
   {
    "duration": 18,
    "start_time": "2022-12-05T14:39:06.180Z"
   },
   {
    "duration": 6,
    "start_time": "2022-12-05T14:39:06.200Z"
   },
   {
    "duration": 17,
    "start_time": "2022-12-05T14:39:06.207Z"
   },
   {
    "duration": 8,
    "start_time": "2022-12-05T14:39:06.226Z"
   },
   {
    "duration": 22,
    "start_time": "2022-12-05T14:39:06.236Z"
   },
   {
    "duration": 21,
    "start_time": "2022-12-05T14:39:06.260Z"
   },
   {
    "duration": 146,
    "start_time": "2022-12-05T14:39:06.283Z"
   },
   {
    "duration": 111,
    "start_time": "2022-12-05T14:39:06.431Z"
   },
   {
    "duration": 146,
    "start_time": "2022-12-05T14:39:06.543Z"
   },
   {
    "duration": 300,
    "start_time": "2022-12-05T14:39:06.691Z"
   },
   {
    "duration": 3,
    "start_time": "2022-12-05T14:39:06.993Z"
   },
   {
    "duration": 8,
    "start_time": "2022-12-05T14:39:06.998Z"
   },
   {
    "duration": 6187,
    "start_time": "2022-12-05T14:39:07.007Z"
   },
   {
    "duration": 10,
    "start_time": "2022-12-05T14:39:13.196Z"
   },
   {
    "duration": 7,
    "start_time": "2022-12-05T14:39:13.208Z"
   },
   {
    "duration": 8,
    "start_time": "2022-12-05T14:39:13.217Z"
   },
   {
    "duration": 314,
    "start_time": "2022-12-05T14:39:13.228Z"
   },
   {
    "duration": 298,
    "start_time": "2022-12-05T14:39:13.544Z"
   },
   {
    "duration": 148,
    "start_time": "2022-12-05T14:39:13.844Z"
   },
   {
    "duration": 161,
    "start_time": "2022-12-05T14:39:13.995Z"
   },
   {
    "duration": 3,
    "start_time": "2022-12-05T14:39:20.151Z"
   },
   {
    "duration": 59,
    "start_time": "2022-12-05T14:39:20.156Z"
   },
   {
    "duration": 16,
    "start_time": "2022-12-05T14:39:20.218Z"
   },
   {
    "duration": 10,
    "start_time": "2022-12-05T14:39:20.236Z"
   },
   {
    "duration": 22,
    "start_time": "2022-12-05T14:39:20.248Z"
   },
   {
    "duration": 20,
    "start_time": "2022-12-05T14:39:20.271Z"
   },
   {
    "duration": 11,
    "start_time": "2022-12-05T14:39:20.292Z"
   },
   {
    "duration": 12,
    "start_time": "2022-12-05T14:39:20.305Z"
   },
   {
    "duration": 10,
    "start_time": "2022-12-05T14:39:20.318Z"
   },
   {
    "duration": 7,
    "start_time": "2022-12-05T14:39:20.330Z"
   },
   {
    "duration": 12,
    "start_time": "2022-12-05T14:39:20.340Z"
   },
   {
    "duration": 5,
    "start_time": "2022-12-05T14:39:20.354Z"
   },
   {
    "duration": 15,
    "start_time": "2022-12-05T14:39:20.379Z"
   },
   {
    "duration": 12,
    "start_time": "2022-12-05T14:39:20.396Z"
   },
   {
    "duration": 15,
    "start_time": "2022-12-05T14:39:20.409Z"
   },
   {
    "duration": 17,
    "start_time": "2022-12-05T14:39:20.426Z"
   },
   {
    "duration": 8,
    "start_time": "2022-12-05T14:39:20.445Z"
   },
   {
    "duration": 25,
    "start_time": "2022-12-05T14:39:20.454Z"
   },
   {
    "duration": 154,
    "start_time": "2022-12-05T14:39:20.481Z"
   },
   {
    "duration": 114,
    "start_time": "2022-12-05T14:39:20.636Z"
   },
   {
    "duration": 159,
    "start_time": "2022-12-05T14:39:20.752Z"
   },
   {
    "duration": 313,
    "start_time": "2022-12-05T14:39:20.912Z"
   },
   {
    "duration": 3,
    "start_time": "2022-12-05T14:39:21.227Z"
   },
   {
    "duration": 8,
    "start_time": "2022-12-05T14:39:21.231Z"
   },
   {
    "duration": 4954,
    "start_time": "2022-12-05T14:39:21.240Z"
   },
   {
    "duration": 11,
    "start_time": "2022-12-05T14:39:26.196Z"
   },
   {
    "duration": 7,
    "start_time": "2022-12-05T14:39:26.208Z"
   },
   {
    "duration": 7,
    "start_time": "2022-12-05T14:39:26.217Z"
   },
   {
    "duration": 316,
    "start_time": "2022-12-05T14:39:26.227Z"
   },
   {
    "duration": 294,
    "start_time": "2022-12-05T14:39:26.545Z"
   },
   {
    "duration": 117,
    "start_time": "2022-12-05T14:39:26.841Z"
   },
   {
    "duration": 123,
    "start_time": "2022-12-05T14:40:44.573Z"
   },
   {
    "duration": 108,
    "start_time": "2022-12-05T14:41:27.744Z"
   },
   {
    "duration": 131,
    "start_time": "2022-12-05T14:42:04.022Z"
   },
   {
    "duration": 9,
    "start_time": "2022-12-05T14:42:12.340Z"
   },
   {
    "duration": 24,
    "start_time": "2022-12-05T14:42:34.791Z"
   },
   {
    "duration": 151,
    "start_time": "2022-12-05T14:42:51.378Z"
   },
   {
    "duration": 147,
    "start_time": "2022-12-05T14:43:09.988Z"
   },
   {
    "duration": 85,
    "start_time": "2022-12-06T08:07:27.073Z"
   },
   {
    "duration": 76,
    "start_time": "2022-12-06T08:07:38.398Z"
   },
   {
    "duration": 42,
    "start_time": "2022-12-06T08:08:02.087Z"
   },
   {
    "duration": 1351,
    "start_time": "2022-12-06T08:08:11.996Z"
   },
   {
    "duration": 197,
    "start_time": "2022-12-06T08:08:13.349Z"
   },
   {
    "duration": 23,
    "start_time": "2022-12-06T08:08:13.547Z"
   },
   {
    "duration": 3,
    "start_time": "2022-12-06T08:08:13.573Z"
   },
   {
    "duration": 26,
    "start_time": "2022-12-06T08:08:13.577Z"
   },
   {
    "duration": 17,
    "start_time": "2022-12-06T08:08:13.605Z"
   },
   {
    "duration": 9,
    "start_time": "2022-12-06T08:08:13.624Z"
   },
   {
    "duration": 9,
    "start_time": "2022-12-06T08:08:13.635Z"
   },
   {
    "duration": 8,
    "start_time": "2022-12-06T08:08:13.645Z"
   },
   {
    "duration": 5,
    "start_time": "2022-12-06T08:08:13.656Z"
   },
   {
    "duration": 11,
    "start_time": "2022-12-06T08:08:13.663Z"
   },
   {
    "duration": 39,
    "start_time": "2022-12-06T08:08:13.676Z"
   },
   {
    "duration": 23,
    "start_time": "2022-12-06T08:08:13.717Z"
   },
   {
    "duration": 11,
    "start_time": "2022-12-06T08:08:13.742Z"
   },
   {
    "duration": 9,
    "start_time": "2022-12-06T08:08:13.754Z"
   },
   {
    "duration": 10,
    "start_time": "2022-12-06T08:08:13.764Z"
   },
   {
    "duration": 5,
    "start_time": "2022-12-06T08:08:13.776Z"
   },
   {
    "duration": 39,
    "start_time": "2022-12-06T08:08:13.782Z"
   },
   {
    "duration": 186,
    "start_time": "2022-12-06T08:08:13.823Z"
   },
   {
    "duration": 135,
    "start_time": "2022-12-06T08:08:14.012Z"
   },
   {
    "duration": 168,
    "start_time": "2022-12-06T08:08:14.148Z"
   },
   {
    "duration": 348,
    "start_time": "2022-12-06T08:08:14.318Z"
   },
   {
    "duration": 6,
    "start_time": "2022-12-06T08:08:14.668Z"
   },
   {
    "duration": 15,
    "start_time": "2022-12-06T08:08:14.676Z"
   },
   {
    "duration": 5499,
    "start_time": "2022-12-06T08:08:14.693Z"
   },
   {
    "duration": 12,
    "start_time": "2022-12-06T08:08:20.193Z"
   },
   {
    "duration": 32,
    "start_time": "2022-12-06T08:08:20.214Z"
   },
   {
    "duration": 18,
    "start_time": "2022-12-06T08:08:20.252Z"
   },
   {
    "duration": 368,
    "start_time": "2022-12-06T08:08:20.273Z"
   },
   {
    "duration": 292,
    "start_time": "2022-12-06T08:08:20.643Z"
   },
   {
    "duration": 465,
    "start_time": "2022-12-06T08:08:20.938Z"
   },
   {
    "duration": 169,
    "start_time": "2022-12-06T08:09:54.609Z"
   },
   {
    "duration": 155,
    "start_time": "2022-12-06T08:10:09.379Z"
   },
   {
    "duration": 152,
    "start_time": "2022-12-06T08:10:15.899Z"
   },
   {
    "duration": 148,
    "start_time": "2022-12-06T08:10:55.034Z"
   },
   {
    "duration": 162,
    "start_time": "2022-12-06T08:11:16.127Z"
   },
   {
    "duration": 366,
    "start_time": "2022-12-06T08:11:54.839Z"
   },
   {
    "duration": 169,
    "start_time": "2022-12-06T08:14:08.816Z"
   },
   {
    "duration": 123,
    "start_time": "2022-12-06T08:27:26.092Z"
   },
   {
    "duration": 200,
    "start_time": "2022-12-06T08:27:38.839Z"
   },
   {
    "duration": 1411,
    "start_time": "2022-12-06T08:29:49.215Z"
   },
   {
    "duration": 394,
    "start_time": "2022-12-06T08:29:57.633Z"
   },
   {
    "duration": 145,
    "start_time": "2022-12-06T08:31:15.980Z"
   },
   {
    "duration": 7,
    "start_time": "2022-12-06T08:31:43.833Z"
   },
   {
    "duration": 4,
    "start_time": "2022-12-06T08:33:41.762Z"
   },
   {
    "duration": 4,
    "start_time": "2022-12-06T08:33:59.086Z"
   },
   {
    "duration": 5,
    "start_time": "2022-12-06T08:34:12.583Z"
   },
   {
    "duration": 139,
    "start_time": "2022-12-06T08:34:58.758Z"
   },
   {
    "duration": 3,
    "start_time": "2022-12-06T10:00:43.985Z"
   },
   {
    "duration": 57,
    "start_time": "2022-12-06T10:00:43.990Z"
   },
   {
    "duration": 16,
    "start_time": "2022-12-06T10:00:44.049Z"
   },
   {
    "duration": 4,
    "start_time": "2022-12-06T10:00:44.067Z"
   },
   {
    "duration": 24,
    "start_time": "2022-12-06T10:00:44.073Z"
   },
   {
    "duration": 23,
    "start_time": "2022-12-06T10:00:44.099Z"
   },
   {
    "duration": 8,
    "start_time": "2022-12-06T10:00:44.124Z"
   },
   {
    "duration": 6,
    "start_time": "2022-12-06T10:00:44.134Z"
   },
   {
    "duration": 7,
    "start_time": "2022-12-06T10:00:44.141Z"
   },
   {
    "duration": 6,
    "start_time": "2022-12-06T10:00:44.150Z"
   },
   {
    "duration": 10,
    "start_time": "2022-12-06T10:00:44.158Z"
   },
   {
    "duration": 4,
    "start_time": "2022-12-06T10:00:44.170Z"
   },
   {
    "duration": 43,
    "start_time": "2022-12-06T10:00:44.175Z"
   },
   {
    "duration": 9,
    "start_time": "2022-12-06T10:00:44.220Z"
   },
   {
    "duration": 10,
    "start_time": "2022-12-06T10:00:44.231Z"
   },
   {
    "duration": 9,
    "start_time": "2022-12-06T10:00:44.242Z"
   },
   {
    "duration": 11,
    "start_time": "2022-12-06T10:01:43.005Z"
   },
   {
    "duration": 9,
    "start_time": "2022-12-06T10:02:28.730Z"
   },
   {
    "duration": 70,
    "start_time": "2022-12-06T10:02:55.366Z"
   },
   {
    "duration": 17,
    "start_time": "2022-12-06T10:03:09.232Z"
   },
   {
    "duration": 267,
    "start_time": "2022-12-06T10:03:59.736Z"
   },
   {
    "duration": 12,
    "start_time": "2022-12-06T10:05:06.617Z"
   },
   {
    "duration": 14,
    "start_time": "2022-12-06T10:05:25.042Z"
   },
   {
    "duration": 24,
    "start_time": "2022-12-06T10:05:56.182Z"
   },
   {
    "duration": 20,
    "start_time": "2022-12-06T10:07:07.110Z"
   },
   {
    "duration": 25,
    "start_time": "2022-12-06T10:07:29.314Z"
   },
   {
    "duration": 10,
    "start_time": "2022-12-06T10:11:16.217Z"
   },
   {
    "duration": 3,
    "start_time": "2022-12-06T10:11:22.388Z"
   },
   {
    "duration": 56,
    "start_time": "2022-12-06T10:11:22.393Z"
   },
   {
    "duration": 16,
    "start_time": "2022-12-06T10:11:22.450Z"
   },
   {
    "duration": 12,
    "start_time": "2022-12-06T10:11:22.468Z"
   },
   {
    "duration": 33,
    "start_time": "2022-12-06T10:11:22.481Z"
   },
   {
    "duration": 17,
    "start_time": "2022-12-06T10:11:22.516Z"
   },
   {
    "duration": 9,
    "start_time": "2022-12-06T10:11:22.535Z"
   },
   {
    "duration": 6,
    "start_time": "2022-12-06T10:11:22.546Z"
   },
   {
    "duration": 5,
    "start_time": "2022-12-06T10:11:22.554Z"
   },
   {
    "duration": 10,
    "start_time": "2022-12-06T10:11:22.561Z"
   },
   {
    "duration": 15,
    "start_time": "2022-12-06T10:11:22.572Z"
   },
   {
    "duration": 32,
    "start_time": "2022-12-06T10:11:22.589Z"
   },
   {
    "duration": 17,
    "start_time": "2022-12-06T10:11:22.623Z"
   },
   {
    "duration": 9,
    "start_time": "2022-12-06T10:11:22.641Z"
   },
   {
    "duration": 12,
    "start_time": "2022-12-06T10:11:22.652Z"
   },
   {
    "duration": 8,
    "start_time": "2022-12-06T10:11:22.666Z"
   },
   {
    "duration": 38,
    "start_time": "2022-12-06T10:11:22.676Z"
   },
   {
    "duration": 9,
    "start_time": "2022-12-06T10:11:22.716Z"
   },
   {
    "duration": 291,
    "start_time": "2022-12-06T10:11:22.728Z"
   },
   {
    "duration": 16,
    "start_time": "2022-12-06T10:11:23.021Z"
   },
   {
    "duration": 24,
    "start_time": "2022-12-06T10:11:23.039Z"
   },
   {
    "duration": 49,
    "start_time": "2022-12-06T10:11:23.065Z"
   },
   {
    "duration": 11,
    "start_time": "2022-12-06T10:12:33.619Z"
   },
   {
    "duration": 25,
    "start_time": "2022-12-06T10:12:43.631Z"
   },
   {
    "duration": 9,
    "start_time": "2022-12-06T10:14:07.183Z"
   },
   {
    "duration": 10,
    "start_time": "2022-12-06T10:14:28.169Z"
   },
   {
    "duration": 6,
    "start_time": "2022-12-06T10:14:31.554Z"
   },
   {
    "duration": 4,
    "start_time": "2022-12-06T10:15:09.112Z"
   },
   {
    "duration": 51,
    "start_time": "2022-12-06T10:15:09.118Z"
   },
   {
    "duration": 15,
    "start_time": "2022-12-06T10:15:09.171Z"
   },
   {
    "duration": 5,
    "start_time": "2022-12-06T10:15:09.188Z"
   },
   {
    "duration": 34,
    "start_time": "2022-12-06T10:15:09.194Z"
   },
   {
    "duration": 15,
    "start_time": "2022-12-06T10:15:09.230Z"
   },
   {
    "duration": 8,
    "start_time": "2022-12-06T10:15:09.248Z"
   },
   {
    "duration": 7,
    "start_time": "2022-12-06T10:15:09.258Z"
   },
   {
    "duration": 5,
    "start_time": "2022-12-06T10:15:09.268Z"
   },
   {
    "duration": 38,
    "start_time": "2022-12-06T10:15:09.275Z"
   },
   {
    "duration": 10,
    "start_time": "2022-12-06T10:15:09.315Z"
   },
   {
    "duration": 6,
    "start_time": "2022-12-06T10:15:09.326Z"
   },
   {
    "duration": 15,
    "start_time": "2022-12-06T10:15:09.334Z"
   },
   {
    "duration": 11,
    "start_time": "2022-12-06T10:15:09.350Z"
   },
   {
    "duration": 13,
    "start_time": "2022-12-06T10:15:09.363Z"
   },
   {
    "duration": 9,
    "start_time": "2022-12-06T10:15:09.378Z"
   },
   {
    "duration": 34,
    "start_time": "2022-12-06T10:15:09.389Z"
   },
   {
    "duration": 8,
    "start_time": "2022-12-06T10:15:09.425Z"
   },
   {
    "duration": 304,
    "start_time": "2022-12-06T10:15:09.434Z"
   },
   {
    "duration": 16,
    "start_time": "2022-12-06T10:15:09.740Z"
   },
   {
    "duration": 29,
    "start_time": "2022-12-06T10:15:09.757Z"
   },
   {
    "duration": 46,
    "start_time": "2022-12-06T10:15:09.787Z"
   },
   {
    "duration": 0,
    "start_time": "2022-12-06T10:15:09.834Z"
   },
   {
    "duration": 6,
    "start_time": "2022-12-06T10:15:13.398Z"
   },
   {
    "duration": 108,
    "start_time": "2022-12-06T10:17:47.399Z"
   },
   {
    "duration": 70,
    "start_time": "2022-12-06T10:17:54.389Z"
   },
   {
    "duration": 0,
    "start_time": "2022-12-06T10:17:54.461Z"
   },
   {
    "duration": 0,
    "start_time": "2022-12-06T10:17:54.462Z"
   },
   {
    "duration": 0,
    "start_time": "2022-12-06T10:17:54.463Z"
   },
   {
    "duration": 0,
    "start_time": "2022-12-06T10:17:54.464Z"
   },
   {
    "duration": 0,
    "start_time": "2022-12-06T10:17:54.465Z"
   },
   {
    "duration": 0,
    "start_time": "2022-12-06T10:17:54.466Z"
   },
   {
    "duration": 0,
    "start_time": "2022-12-06T10:17:54.467Z"
   },
   {
    "duration": 0,
    "start_time": "2022-12-06T10:17:54.468Z"
   },
   {
    "duration": 0,
    "start_time": "2022-12-06T10:17:54.470Z"
   },
   {
    "duration": 1,
    "start_time": "2022-12-06T10:17:54.470Z"
   },
   {
    "duration": 0,
    "start_time": "2022-12-06T10:17:54.471Z"
   },
   {
    "duration": 69,
    "start_time": "2022-12-06T10:18:02.144Z"
   },
   {
    "duration": 7,
    "start_time": "2022-12-06T10:18:08.930Z"
   },
   {
    "duration": 71,
    "start_time": "2022-12-06T10:18:33.492Z"
   },
   {
    "duration": 10,
    "start_time": "2022-12-06T10:18:39.453Z"
   },
   {
    "duration": 70,
    "start_time": "2022-12-06T10:19:21.787Z"
   },
   {
    "duration": 73,
    "start_time": "2022-12-06T10:19:41.326Z"
   },
   {
    "duration": 5,
    "start_time": "2022-12-06T10:19:52.336Z"
   },
   {
    "duration": 65,
    "start_time": "2022-12-06T10:21:03.969Z"
   },
   {
    "duration": 7,
    "start_time": "2022-12-06T10:21:10.873Z"
   },
   {
    "duration": 74,
    "start_time": "2022-12-06T10:21:36.598Z"
   },
   {
    "duration": 83,
    "start_time": "2022-12-06T10:21:42.343Z"
   },
   {
    "duration": 16,
    "start_time": "2022-12-06T10:21:50.335Z"
   },
   {
    "duration": 7,
    "start_time": "2022-12-06T10:22:37.247Z"
   },
   {
    "duration": 76,
    "start_time": "2022-12-06T10:22:47.187Z"
   },
   {
    "duration": 0,
    "start_time": "2022-12-06T10:22:47.265Z"
   },
   {
    "duration": 0,
    "start_time": "2022-12-06T10:22:47.267Z"
   },
   {
    "duration": 0,
    "start_time": "2022-12-06T10:22:47.268Z"
   },
   {
    "duration": 0,
    "start_time": "2022-12-06T10:22:47.269Z"
   },
   {
    "duration": 0,
    "start_time": "2022-12-06T10:22:47.270Z"
   },
   {
    "duration": 0,
    "start_time": "2022-12-06T10:22:47.271Z"
   },
   {
    "duration": 0,
    "start_time": "2022-12-06T10:22:47.272Z"
   },
   {
    "duration": 0,
    "start_time": "2022-12-06T10:22:47.273Z"
   },
   {
    "duration": 0,
    "start_time": "2022-12-06T10:22:47.274Z"
   },
   {
    "duration": 0,
    "start_time": "2022-12-06T10:22:47.276Z"
   },
   {
    "duration": 0,
    "start_time": "2022-12-06T10:22:47.277Z"
   },
   {
    "duration": 0,
    "start_time": "2022-12-06T10:22:47.278Z"
   },
   {
    "duration": 0,
    "start_time": "2022-12-06T10:22:47.278Z"
   },
   {
    "duration": 0,
    "start_time": "2022-12-06T10:22:47.279Z"
   },
   {
    "duration": 0,
    "start_time": "2022-12-06T10:22:47.280Z"
   },
   {
    "duration": 0,
    "start_time": "2022-12-06T10:22:47.281Z"
   },
   {
    "duration": 8,
    "start_time": "2022-12-06T10:22:54.536Z"
   },
   {
    "duration": 75,
    "start_time": "2022-12-06T10:23:59.081Z"
   },
   {
    "duration": 67,
    "start_time": "2022-12-06T10:24:04.289Z"
   },
   {
    "duration": 66,
    "start_time": "2022-12-06T10:24:07.864Z"
   },
   {
    "duration": 17,
    "start_time": "2022-12-06T10:24:07.932Z"
   },
   {
    "duration": 38,
    "start_time": "2022-12-06T10:24:07.951Z"
   },
   {
    "duration": 56,
    "start_time": "2022-12-06T10:24:07.991Z"
   },
   {
    "duration": 61,
    "start_time": "2022-12-06T10:24:08.049Z"
   },
   {
    "duration": 233,
    "start_time": "2022-12-06T10:24:08.112Z"
   },
   {
    "duration": 61,
    "start_time": "2022-12-06T10:24:08.347Z"
   },
   {
    "duration": 13,
    "start_time": "2022-12-06T10:24:08.410Z"
   },
   {
    "duration": 64,
    "start_time": "2022-12-06T10:24:08.425Z"
   },
   {
    "duration": 32,
    "start_time": "2022-12-06T10:24:08.490Z"
   },
   {
    "duration": 81,
    "start_time": "2022-12-06T10:24:31.608Z"
   },
   {
    "duration": 74,
    "start_time": "2022-12-06T10:25:15.001Z"
   },
   {
    "duration": 74,
    "start_time": "2022-12-06T10:25:21.346Z"
   },
   {
    "duration": 11,
    "start_time": "2022-12-06T10:25:29.899Z"
   },
   {
    "duration": 70,
    "start_time": "2022-12-06T10:25:51.474Z"
   },
   {
    "duration": 24,
    "start_time": "2022-12-06T10:25:56.946Z"
   },
   {
    "duration": 68,
    "start_time": "2022-12-06T10:26:22.744Z"
   },
   {
    "duration": 14,
    "start_time": "2022-12-06T10:26:26.929Z"
   },
   {
    "duration": 20,
    "start_time": "2022-12-06T10:27:12.055Z"
   },
   {
    "duration": 13,
    "start_time": "2022-12-06T10:28:31.526Z"
   },
   {
    "duration": 7,
    "start_time": "2022-12-06T10:28:52.205Z"
   },
   {
    "duration": 276,
    "start_time": "2022-12-06T10:29:11.392Z"
   },
   {
    "duration": 14,
    "start_time": "2022-12-06T10:29:29.817Z"
   },
   {
    "duration": 27,
    "start_time": "2022-12-06T10:29:47.139Z"
   },
   {
    "duration": 28,
    "start_time": "2022-12-06T10:31:36.492Z"
   },
   {
    "duration": 6,
    "start_time": "2022-12-06T10:32:14.997Z"
   },
   {
    "duration": 131,
    "start_time": "2022-12-06T10:32:44.350Z"
   },
   {
    "duration": 31,
    "start_time": "2022-12-06T10:37:30.260Z"
   },
   {
    "duration": 3,
    "start_time": "2022-12-06T10:37:41.109Z"
   },
   {
    "duration": 6,
    "start_time": "2022-12-06T10:37:56.877Z"
   },
   {
    "duration": 29,
    "start_time": "2022-12-06T10:38:51.347Z"
   },
   {
    "duration": 6,
    "start_time": "2022-12-06T10:39:21.200Z"
   },
   {
    "duration": 6,
    "start_time": "2022-12-06T10:39:23.689Z"
   },
   {
    "duration": 24,
    "start_time": "2022-12-06T10:39:51.244Z"
   },
   {
    "duration": 16,
    "start_time": "2022-12-06T10:41:40.182Z"
   },
   {
    "duration": 22,
    "start_time": "2022-12-06T10:56:10.640Z"
   },
   {
    "duration": 4,
    "start_time": "2022-12-06T11:00:56.456Z"
   },
   {
    "duration": 1166,
    "start_time": "2022-12-06T11:04:01.379Z"
   },
   {
    "duration": 75,
    "start_time": "2022-12-06T11:06:48.513Z"
   },
   {
    "duration": 71,
    "start_time": "2022-12-06T11:07:00.465Z"
   },
   {
    "duration": 3,
    "start_time": "2022-12-06T11:08:22.521Z"
   },
   {
    "duration": 4,
    "start_time": "2022-12-06T11:08:45.105Z"
   },
   {
    "duration": 14,
    "start_time": "2022-12-06T11:09:03.349Z"
   },
   {
    "duration": 12,
    "start_time": "2022-12-06T11:09:49.274Z"
   },
   {
    "duration": 8,
    "start_time": "2022-12-06T11:10:21.215Z"
   },
   {
    "duration": 16,
    "start_time": "2022-12-06T11:10:35.673Z"
   },
   {
    "duration": 9,
    "start_time": "2022-12-06T11:10:48.323Z"
   },
   {
    "duration": 9,
    "start_time": "2022-12-06T11:10:58.204Z"
   },
   {
    "duration": 8,
    "start_time": "2022-12-06T11:11:09.299Z"
   },
   {
    "duration": 6,
    "start_time": "2022-12-06T11:11:19.527Z"
   },
   {
    "duration": 7,
    "start_time": "2022-12-06T11:11:33.768Z"
   },
   {
    "duration": 6,
    "start_time": "2022-12-06T11:12:50.284Z"
   },
   {
    "duration": 7,
    "start_time": "2022-12-06T11:13:05.241Z"
   },
   {
    "duration": 183,
    "start_time": "2022-12-06T11:13:20.130Z"
   },
   {
    "duration": 126,
    "start_time": "2022-12-06T11:13:32.762Z"
   },
   {
    "duration": 144,
    "start_time": "2022-12-06T11:13:50.381Z"
   },
   {
    "duration": 164,
    "start_time": "2022-12-06T11:14:05.310Z"
   },
   {
    "duration": 18,
    "start_time": "2022-12-06T11:14:28.650Z"
   },
   {
    "duration": 160,
    "start_time": "2022-12-06T11:14:39.041Z"
   },
   {
    "duration": 2004,
    "start_time": "2022-12-06T11:14:51.500Z"
   },
   {
    "duration": 7,
    "start_time": "2022-12-06T11:15:24.831Z"
   },
   {
    "duration": 304,
    "start_time": "2022-12-06T11:15:44.489Z"
   },
   {
    "duration": 298,
    "start_time": "2022-12-06T11:16:06.479Z"
   },
   {
    "duration": 129,
    "start_time": "2022-12-06T11:16:37.562Z"
   },
   {
    "duration": 12,
    "start_time": "2022-12-06T11:16:46.848Z"
   },
   {
    "duration": 11,
    "start_time": "2022-12-06T11:17:11.238Z"
   },
   {
    "duration": 9,
    "start_time": "2022-12-06T11:17:21.487Z"
   },
   {
    "duration": 13,
    "start_time": "2022-12-06T11:17:30.568Z"
   },
   {
    "duration": 10,
    "start_time": "2022-12-06T11:17:39.723Z"
   },
   {
    "duration": 269,
    "start_time": "2022-12-06T11:17:58.701Z"
   },
   {
    "duration": 353,
    "start_time": "2022-12-06T11:18:49.896Z"
   },
   {
    "duration": 16,
    "start_time": "2022-12-06T11:19:01.212Z"
   },
   {
    "duration": 74,
    "start_time": "2022-12-06T11:19:10.278Z"
   },
   {
    "duration": 2,
    "start_time": "2022-12-06T11:19:24.523Z"
   },
   {
    "duration": 230,
    "start_time": "2022-12-06T11:19:38.828Z"
   },
   {
    "duration": 330,
    "start_time": "2022-12-06T11:19:59.216Z"
   },
   {
    "duration": 181,
    "start_time": "2022-12-06T11:20:09.611Z"
   },
   {
    "duration": 295,
    "start_time": "2022-12-06T11:20:30.316Z"
   },
   {
    "duration": 21,
    "start_time": "2022-12-06T11:21:07.685Z"
   },
   {
    "duration": 18,
    "start_time": "2022-12-06T11:21:15.761Z"
   },
   {
    "duration": 20,
    "start_time": "2022-12-06T11:21:23.184Z"
   },
   {
    "duration": 8,
    "start_time": "2022-12-06T11:21:42.012Z"
   },
   {
    "duration": 16,
    "start_time": "2022-12-06T11:21:51.406Z"
   },
   {
    "duration": 11,
    "start_time": "2022-12-06T11:24:25.662Z"
   },
   {
    "duration": 6,
    "start_time": "2022-12-06T11:24:47.978Z"
   },
   {
    "duration": 10,
    "start_time": "2022-12-06T11:25:08.699Z"
   },
   {
    "duration": 6,
    "start_time": "2022-12-06T11:25:28.434Z"
   },
   {
    "duration": 46,
    "start_time": "2022-12-07T07:48:02.505Z"
   },
   {
    "duration": 1250,
    "start_time": "2022-12-07T07:48:12.128Z"
   },
   {
    "duration": 217,
    "start_time": "2022-12-07T07:48:13.380Z"
   },
   {
    "duration": 4,
    "start_time": "2022-12-07T07:48:13.599Z"
   },
   {
    "duration": 12,
    "start_time": "2022-12-07T07:48:13.605Z"
   },
   {
    "duration": 15,
    "start_time": "2022-12-07T07:48:13.618Z"
   },
   {
    "duration": 12,
    "start_time": "2022-12-07T07:48:13.635Z"
   },
   {
    "duration": 8,
    "start_time": "2022-12-07T07:48:13.648Z"
   },
   {
    "duration": 33,
    "start_time": "2022-12-07T07:48:13.657Z"
   },
   {
    "duration": 8,
    "start_time": "2022-12-07T07:48:13.691Z"
   },
   {
    "duration": 22,
    "start_time": "2022-12-07T07:48:13.702Z"
   },
   {
    "duration": 21,
    "start_time": "2022-12-07T07:48:13.726Z"
   },
   {
    "duration": 22,
    "start_time": "2022-12-07T07:48:13.748Z"
   },
   {
    "duration": 15,
    "start_time": "2022-12-07T07:48:13.772Z"
   },
   {
    "duration": 4,
    "start_time": "2022-12-07T07:48:13.789Z"
   },
   {
    "duration": 13,
    "start_time": "2022-12-07T07:48:13.795Z"
   },
   {
    "duration": 170,
    "start_time": "2022-12-07T07:48:13.809Z"
   },
   {
    "duration": 160,
    "start_time": "2022-12-07T07:48:13.981Z"
   },
   {
    "duration": 158,
    "start_time": "2022-12-07T07:48:14.143Z"
   },
   {
    "duration": 15,
    "start_time": "2022-12-07T07:48:14.303Z"
   },
   {
    "duration": 177,
    "start_time": "2022-12-07T07:48:14.320Z"
   },
   {
    "duration": 1924,
    "start_time": "2022-12-07T07:48:14.498Z"
   },
   {
    "duration": 6,
    "start_time": "2022-12-07T07:48:16.423Z"
   },
   {
    "duration": 259,
    "start_time": "2022-12-07T07:48:16.430Z"
   },
   {
    "duration": 268,
    "start_time": "2022-12-07T07:48:16.691Z"
   },
   {
    "duration": 134,
    "start_time": "2022-12-07T07:48:16.961Z"
   },
   {
    "duration": 9,
    "start_time": "2022-12-07T07:48:17.096Z"
   },
   {
    "duration": 11,
    "start_time": "2022-12-07T07:48:17.106Z"
   },
   {
    "duration": 8,
    "start_time": "2022-12-07T07:48:17.119Z"
   },
   {
    "duration": 12,
    "start_time": "2022-12-07T07:48:17.128Z"
   },
   {
    "duration": 15,
    "start_time": "2022-12-07T07:48:17.141Z"
   },
   {
    "duration": 258,
    "start_time": "2022-12-07T07:48:17.157Z"
   },
   {
    "duration": 324,
    "start_time": "2022-12-07T07:48:17.417Z"
   },
   {
    "duration": 14,
    "start_time": "2022-12-07T07:48:17.742Z"
   },
   {
    "duration": 202,
    "start_time": "2022-12-07T07:48:17.757Z"
   },
   {
    "duration": 199,
    "start_time": "2022-12-07T07:48:17.961Z"
   },
   {
    "duration": 295,
    "start_time": "2022-12-07T07:48:18.161Z"
   },
   {
    "duration": 21,
    "start_time": "2022-12-07T07:48:18.457Z"
   },
   {
    "duration": 12,
    "start_time": "2022-12-07T07:48:18.479Z"
   },
   {
    "duration": 11,
    "start_time": "2022-12-07T07:48:18.493Z"
   },
   {
    "duration": 7,
    "start_time": "2022-12-07T07:48:18.505Z"
   },
   {
    "duration": 16,
    "start_time": "2022-12-07T07:48:18.513Z"
   },
   {
    "duration": 9,
    "start_time": "2022-12-07T07:48:18.530Z"
   },
   {
    "duration": 4,
    "start_time": "2022-12-07T07:48:18.540Z"
   },
   {
    "duration": 38,
    "start_time": "2022-12-07T07:48:18.546Z"
   },
   {
    "duration": 14,
    "start_time": "2022-12-07T07:48:18.586Z"
   },
   {
    "duration": 110,
    "start_time": "2022-12-07T07:51:02.342Z"
   },
   {
    "duration": 56,
    "start_time": "2022-12-07T07:51:14.349Z"
   },
   {
    "duration": 798,
    "start_time": "2022-12-07T07:51:22.952Z"
   },
   {
    "duration": 9,
    "start_time": "2022-12-07T08:02:13.433Z"
   },
   {
    "duration": 14,
    "start_time": "2022-12-07T08:03:18.657Z"
   },
   {
    "duration": 8,
    "start_time": "2022-12-07T08:03:20.884Z"
   },
   {
    "duration": 120,
    "start_time": "2022-12-07T08:22:24.565Z"
   },
   {
    "duration": 69,
    "start_time": "2022-12-07T08:22:34.006Z"
   },
   {
    "duration": 27,
    "start_time": "2022-12-07T08:23:45.890Z"
   },
   {
    "duration": 3,
    "start_time": "2022-12-07T08:23:54.770Z"
   },
   {
    "duration": 822,
    "start_time": "2022-12-07T08:23:54.775Z"
   },
   {
    "duration": 10,
    "start_time": "2022-12-07T08:23:55.598Z"
   },
   {
    "duration": 15,
    "start_time": "2022-12-07T08:23:55.609Z"
   },
   {
    "duration": 4,
    "start_time": "2022-12-07T08:23:55.626Z"
   },
   {
    "duration": 6,
    "start_time": "2022-12-07T08:23:55.631Z"
   },
   {
    "duration": 41,
    "start_time": "2022-12-07T08:23:55.638Z"
   },
   {
    "duration": 10,
    "start_time": "2022-12-07T08:23:55.680Z"
   },
   {
    "duration": 7,
    "start_time": "2022-12-07T08:23:55.692Z"
   },
   {
    "duration": 15,
    "start_time": "2022-12-07T08:23:55.700Z"
   },
   {
    "duration": 6,
    "start_time": "2022-12-07T08:23:55.718Z"
   },
   {
    "duration": 10,
    "start_time": "2022-12-07T08:23:55.725Z"
   },
   {
    "duration": 8,
    "start_time": "2022-12-07T08:23:55.737Z"
   },
   {
    "duration": 32,
    "start_time": "2022-12-07T08:23:55.746Z"
   },
   {
    "duration": 7,
    "start_time": "2022-12-07T08:23:55.780Z"
   },
   {
    "duration": 4,
    "start_time": "2022-12-07T08:23:55.789Z"
   },
   {
    "duration": 8,
    "start_time": "2022-12-07T08:23:55.794Z"
   },
   {
    "duration": 171,
    "start_time": "2022-12-07T08:23:55.803Z"
   },
   {
    "duration": 129,
    "start_time": "2022-12-07T08:23:55.977Z"
   },
   {
    "duration": 239,
    "start_time": "2022-12-07T08:23:56.108Z"
   },
   {
    "duration": 15,
    "start_time": "2022-12-07T08:23:56.349Z"
   },
   {
    "duration": 164,
    "start_time": "2022-12-07T08:23:56.377Z"
   },
   {
    "duration": 1762,
    "start_time": "2022-12-07T08:23:56.543Z"
   },
   {
    "duration": 7,
    "start_time": "2022-12-07T08:23:58.306Z"
   },
   {
    "duration": 24,
    "start_time": "2022-12-07T08:23:58.314Z"
   },
   {
    "duration": 0,
    "start_time": "2022-12-07T08:23:58.341Z"
   },
   {
    "duration": 0,
    "start_time": "2022-12-07T08:23:58.342Z"
   },
   {
    "duration": 0,
    "start_time": "2022-12-07T08:23:58.344Z"
   },
   {
    "duration": 0,
    "start_time": "2022-12-07T08:23:58.345Z"
   },
   {
    "duration": 0,
    "start_time": "2022-12-07T08:23:58.346Z"
   },
   {
    "duration": 0,
    "start_time": "2022-12-07T08:23:58.348Z"
   },
   {
    "duration": 0,
    "start_time": "2022-12-07T08:23:58.349Z"
   },
   {
    "duration": 0,
    "start_time": "2022-12-07T08:23:58.350Z"
   },
   {
    "duration": 0,
    "start_time": "2022-12-07T08:23:58.352Z"
   },
   {
    "duration": 0,
    "start_time": "2022-12-07T08:23:58.378Z"
   },
   {
    "duration": 0,
    "start_time": "2022-12-07T08:23:58.379Z"
   },
   {
    "duration": 0,
    "start_time": "2022-12-07T08:23:58.381Z"
   },
   {
    "duration": 0,
    "start_time": "2022-12-07T08:23:58.382Z"
   },
   {
    "duration": 0,
    "start_time": "2022-12-07T08:23:58.383Z"
   },
   {
    "duration": 0,
    "start_time": "2022-12-07T08:23:58.385Z"
   },
   {
    "duration": 0,
    "start_time": "2022-12-07T08:23:58.386Z"
   },
   {
    "duration": 0,
    "start_time": "2022-12-07T08:23:58.387Z"
   },
   {
    "duration": 0,
    "start_time": "2022-12-07T08:23:58.389Z"
   },
   {
    "duration": 0,
    "start_time": "2022-12-07T08:23:58.390Z"
   },
   {
    "duration": 0,
    "start_time": "2022-12-07T08:23:58.391Z"
   },
   {
    "duration": 0,
    "start_time": "2022-12-07T08:23:58.393Z"
   },
   {
    "duration": 0,
    "start_time": "2022-12-07T08:23:58.394Z"
   },
   {
    "duration": 8,
    "start_time": "2022-12-07T08:24:18.604Z"
   },
   {
    "duration": 21,
    "start_time": "2022-12-07T08:24:57.354Z"
   },
   {
    "duration": 3,
    "start_time": "2022-12-07T08:25:53.533Z"
   },
   {
    "duration": 1009,
    "start_time": "2022-12-07T08:25:53.538Z"
   },
   {
    "duration": 9,
    "start_time": "2022-12-07T08:25:54.548Z"
   },
   {
    "duration": 27,
    "start_time": "2022-12-07T08:25:54.559Z"
   },
   {
    "duration": 3,
    "start_time": "2022-12-07T08:25:54.588Z"
   },
   {
    "duration": 14,
    "start_time": "2022-12-07T08:25:54.593Z"
   },
   {
    "duration": 19,
    "start_time": "2022-12-07T08:25:54.608Z"
   },
   {
    "duration": 9,
    "start_time": "2022-12-07T08:25:54.628Z"
   },
   {
    "duration": 7,
    "start_time": "2022-12-07T08:25:54.638Z"
   },
   {
    "duration": 31,
    "start_time": "2022-12-07T08:25:54.647Z"
   },
   {
    "duration": 7,
    "start_time": "2022-12-07T08:25:54.681Z"
   },
   {
    "duration": 11,
    "start_time": "2022-12-07T08:25:54.689Z"
   },
   {
    "duration": 7,
    "start_time": "2022-12-07T08:25:54.701Z"
   },
   {
    "duration": 6,
    "start_time": "2022-12-07T08:25:54.709Z"
   },
   {
    "duration": 9,
    "start_time": "2022-12-07T08:25:54.716Z"
   },
   {
    "duration": 4,
    "start_time": "2022-12-07T08:25:54.726Z"
   },
   {
    "duration": 50,
    "start_time": "2022-12-07T08:25:54.731Z"
   },
   {
    "duration": 165,
    "start_time": "2022-12-07T08:25:54.782Z"
   },
   {
    "duration": 140,
    "start_time": "2022-12-07T08:25:54.949Z"
   },
   {
    "duration": 187,
    "start_time": "2022-12-07T08:25:55.090Z"
   },
   {
    "duration": 19,
    "start_time": "2022-12-07T08:25:55.279Z"
   },
   {
    "duration": 194,
    "start_time": "2022-12-07T08:25:55.301Z"
   },
   {
    "duration": 1984,
    "start_time": "2022-12-07T08:25:55.497Z"
   },
   {
    "duration": 6,
    "start_time": "2022-12-07T08:25:57.482Z"
   },
   {
    "duration": 26,
    "start_time": "2022-12-07T08:25:57.490Z"
   },
   {
    "duration": 0,
    "start_time": "2022-12-07T08:25:57.518Z"
   },
   {
    "duration": 0,
    "start_time": "2022-12-07T08:25:57.520Z"
   },
   {
    "duration": 0,
    "start_time": "2022-12-07T08:25:57.521Z"
   },
   {
    "duration": 0,
    "start_time": "2022-12-07T08:25:57.522Z"
   },
   {
    "duration": 0,
    "start_time": "2022-12-07T08:25:57.523Z"
   },
   {
    "duration": 0,
    "start_time": "2022-12-07T08:25:57.524Z"
   },
   {
    "duration": 0,
    "start_time": "2022-12-07T08:25:57.525Z"
   },
   {
    "duration": 0,
    "start_time": "2022-12-07T08:25:57.526Z"
   },
   {
    "duration": 0,
    "start_time": "2022-12-07T08:25:57.527Z"
   },
   {
    "duration": 0,
    "start_time": "2022-12-07T08:25:57.528Z"
   },
   {
    "duration": 0,
    "start_time": "2022-12-07T08:25:57.529Z"
   },
   {
    "duration": 0,
    "start_time": "2022-12-07T08:25:57.530Z"
   },
   {
    "duration": 0,
    "start_time": "2022-12-07T08:25:57.531Z"
   },
   {
    "duration": 0,
    "start_time": "2022-12-07T08:25:57.532Z"
   },
   {
    "duration": 0,
    "start_time": "2022-12-07T08:25:57.533Z"
   },
   {
    "duration": 0,
    "start_time": "2022-12-07T08:25:57.534Z"
   },
   {
    "duration": 0,
    "start_time": "2022-12-07T08:25:57.535Z"
   },
   {
    "duration": 0,
    "start_time": "2022-12-07T08:25:57.536Z"
   },
   {
    "duration": 0,
    "start_time": "2022-12-07T08:25:57.537Z"
   },
   {
    "duration": 0,
    "start_time": "2022-12-07T08:25:57.538Z"
   },
   {
    "duration": 0,
    "start_time": "2022-12-07T08:25:57.578Z"
   },
   {
    "duration": 0,
    "start_time": "2022-12-07T08:25:57.579Z"
   },
   {
    "duration": 6,
    "start_time": "2022-12-07T08:26:33.202Z"
   },
   {
    "duration": 246,
    "start_time": "2022-12-07T08:26:34.939Z"
   },
   {
    "duration": 7,
    "start_time": "2022-12-07T08:27:12.370Z"
   },
   {
    "duration": 211,
    "start_time": "2022-12-07T08:27:15.192Z"
   },
   {
    "duration": 191,
    "start_time": "2022-12-07T08:30:58.277Z"
   },
   {
    "duration": 114,
    "start_time": "2022-12-07T08:31:24.405Z"
   },
   {
    "duration": 9,
    "start_time": "2022-12-07T08:31:28.101Z"
   },
   {
    "duration": 9,
    "start_time": "2022-12-07T08:31:37.230Z"
   },
   {
    "duration": 8,
    "start_time": "2022-12-07T08:31:37.951Z"
   },
   {
    "duration": 10,
    "start_time": "2022-12-07T08:31:38.847Z"
   },
   {
    "duration": 10,
    "start_time": "2022-12-07T08:31:39.454Z"
   },
   {
    "duration": 204,
    "start_time": "2022-12-07T08:36:37.742Z"
   },
   {
    "duration": 16,
    "start_time": "2022-12-07T08:40:34.617Z"
   },
   {
    "duration": 143,
    "start_time": "2022-12-07T08:40:48.288Z"
   },
   {
    "duration": 920,
    "start_time": "2022-12-07T08:40:58.129Z"
   },
   {
    "duration": 175,
    "start_time": "2022-12-07T08:41:16.547Z"
   },
   {
    "duration": 17,
    "start_time": "2022-12-07T08:44:52.727Z"
   },
   {
    "duration": 18,
    "start_time": "2022-12-07T08:45:18.421Z"
   },
   {
    "duration": 18,
    "start_time": "2022-12-07T08:45:53.346Z"
   },
   {
    "duration": 314,
    "start_time": "2022-12-07T08:45:58.979Z"
   },
   {
    "duration": 1747,
    "start_time": "2022-12-07T08:46:07.191Z"
   },
   {
    "duration": 194,
    "start_time": "2022-12-07T08:46:18.349Z"
   },
   {
    "duration": 16,
    "start_time": "2022-12-07T08:47:36.577Z"
   },
   {
    "duration": 9,
    "start_time": "2022-12-07T08:49:25.100Z"
   },
   {
    "duration": 13,
    "start_time": "2022-12-07T08:49:31.778Z"
   },
   {
    "duration": 16,
    "start_time": "2022-12-07T08:50:27.726Z"
   },
   {
    "duration": 27,
    "start_time": "2022-12-07T08:50:37.013Z"
   },
   {
    "duration": 19,
    "start_time": "2022-12-07T08:53:03.384Z"
   },
   {
    "duration": 4,
    "start_time": "2022-12-07T08:54:04.538Z"
   },
   {
    "duration": 7,
    "start_time": "2022-12-07T08:54:09.656Z"
   },
   {
    "duration": 7,
    "start_time": "2022-12-07T08:54:21.465Z"
   },
   {
    "duration": 3,
    "start_time": "2022-12-07T08:55:29.181Z"
   },
   {
    "duration": 916,
    "start_time": "2022-12-07T08:55:29.186Z"
   },
   {
    "duration": 8,
    "start_time": "2022-12-07T08:55:30.104Z"
   },
   {
    "duration": 44,
    "start_time": "2022-12-07T08:55:30.114Z"
   },
   {
    "duration": 24,
    "start_time": "2022-12-07T08:55:30.160Z"
   },
   {
    "duration": 33,
    "start_time": "2022-12-07T08:55:30.186Z"
   },
   {
    "duration": 39,
    "start_time": "2022-12-07T08:55:30.221Z"
   },
   {
    "duration": 19,
    "start_time": "2022-12-07T08:55:30.262Z"
   },
   {
    "duration": 28,
    "start_time": "2022-12-07T08:55:30.283Z"
   },
   {
    "duration": 45,
    "start_time": "2022-12-07T08:55:30.313Z"
   },
   {
    "duration": 34,
    "start_time": "2022-12-07T08:55:30.360Z"
   },
   {
    "duration": 39,
    "start_time": "2022-12-07T08:55:30.396Z"
   },
   {
    "duration": 45,
    "start_time": "2022-12-07T08:55:30.437Z"
   },
   {
    "duration": 42,
    "start_time": "2022-12-07T08:55:30.483Z"
   },
   {
    "duration": 33,
    "start_time": "2022-12-07T08:55:30.527Z"
   },
   {
    "duration": 37,
    "start_time": "2022-12-07T08:55:30.562Z"
   },
   {
    "duration": 29,
    "start_time": "2022-12-07T08:55:30.601Z"
   },
   {
    "duration": 176,
    "start_time": "2022-12-07T08:55:30.631Z"
   },
   {
    "duration": 126,
    "start_time": "2022-12-07T08:55:30.809Z"
   },
   {
    "duration": 163,
    "start_time": "2022-12-07T08:55:30.937Z"
   },
   {
    "duration": 17,
    "start_time": "2022-12-07T08:55:31.101Z"
   },
   {
    "duration": 192,
    "start_time": "2022-12-07T08:55:31.119Z"
   },
   {
    "duration": 1849,
    "start_time": "2022-12-07T08:55:31.312Z"
   },
   {
    "duration": 14,
    "start_time": "2022-12-07T08:55:33.164Z"
   },
   {
    "duration": 337,
    "start_time": "2022-12-07T08:55:33.179Z"
   },
   {
    "duration": 206,
    "start_time": "2022-12-07T08:55:33.518Z"
   },
   {
    "duration": 8,
    "start_time": "2022-12-07T08:55:33.726Z"
   },
   {
    "duration": 128,
    "start_time": "2022-12-07T08:55:33.735Z"
   },
   {
    "duration": 15,
    "start_time": "2022-12-07T08:55:33.865Z"
   },
   {
    "duration": 14,
    "start_time": "2022-12-07T08:55:33.881Z"
   },
   {
    "duration": 14,
    "start_time": "2022-12-07T08:55:33.897Z"
   },
   {
    "duration": 12,
    "start_time": "2022-12-07T08:55:33.912Z"
   },
   {
    "duration": 9,
    "start_time": "2022-12-07T08:55:33.926Z"
   },
   {
    "duration": 292,
    "start_time": "2022-12-07T08:55:33.936Z"
   },
   {
    "duration": 323,
    "start_time": "2022-12-07T08:55:34.230Z"
   },
   {
    "duration": 28,
    "start_time": "2022-12-07T08:55:34.555Z"
   },
   {
    "duration": 157,
    "start_time": "2022-12-07T08:55:34.585Z"
   },
   {
    "duration": 186,
    "start_time": "2022-12-07T08:55:34.743Z"
   },
   {
    "duration": 167,
    "start_time": "2022-12-07T08:55:34.931Z"
   },
   {
    "duration": 13,
    "start_time": "2022-12-07T08:55:35.100Z"
   },
   {
    "duration": 26,
    "start_time": "2022-12-07T08:55:35.114Z"
   },
   {
    "duration": 19,
    "start_time": "2022-12-07T08:55:35.141Z"
   },
   {
    "duration": 11,
    "start_time": "2022-12-07T08:55:35.161Z"
   },
   {
    "duration": 19,
    "start_time": "2022-12-07T08:55:35.178Z"
   },
   {
    "duration": 7,
    "start_time": "2022-12-07T08:55:35.199Z"
   },
   {
    "duration": 6,
    "start_time": "2022-12-07T08:55:35.207Z"
   },
   {
    "duration": 10,
    "start_time": "2022-12-07T08:55:35.215Z"
   },
   {
    "duration": 8,
    "start_time": "2022-12-07T08:55:35.227Z"
   },
   {
    "duration": 17,
    "start_time": "2022-12-07T08:56:58.976Z"
   },
   {
    "duration": 213,
    "start_time": "2022-12-07T08:57:23.319Z"
   },
   {
    "duration": 4,
    "start_time": "2022-12-07T08:58:04.266Z"
   },
   {
    "duration": 12,
    "start_time": "2022-12-07T08:58:24.459Z"
   },
   {
    "duration": 20,
    "start_time": "2022-12-07T09:08:22.898Z"
   },
   {
    "duration": 244,
    "start_time": "2022-12-07T09:08:52.836Z"
   },
   {
    "duration": 555,
    "start_time": "2022-12-07T09:09:07.013Z"
   },
   {
    "duration": 217,
    "start_time": "2022-12-07T09:21:45.487Z"
   },
   {
    "duration": 23,
    "start_time": "2022-12-07T09:24:05.519Z"
   },
   {
    "duration": 315,
    "start_time": "2022-12-07T09:26:34.076Z"
   },
   {
    "duration": 4,
    "start_time": "2022-12-07T09:37:09.883Z"
   },
   {
    "duration": 6,
    "start_time": "2022-12-07T09:37:18.942Z"
   },
   {
    "duration": 11,
    "start_time": "2022-12-07T09:37:49.980Z"
   },
   {
    "duration": 14,
    "start_time": "2022-12-07T09:37:53.909Z"
   },
   {
    "duration": 13,
    "start_time": "2022-12-07T09:38:15.295Z"
   },
   {
    "duration": 11,
    "start_time": "2022-12-07T09:38:36.043Z"
   },
   {
    "duration": 12,
    "start_time": "2022-12-07T09:38:59.045Z"
   },
   {
    "duration": 11,
    "start_time": "2022-12-07T09:39:13.775Z"
   },
   {
    "duration": 13,
    "start_time": "2022-12-07T09:39:18.646Z"
   },
   {
    "duration": 56,
    "start_time": "2022-12-07T09:39:41.968Z"
   },
   {
    "duration": 6,
    "start_time": "2022-12-07T09:43:50.011Z"
   },
   {
    "duration": 19,
    "start_time": "2022-12-07T09:45:51.467Z"
   },
   {
    "duration": 21,
    "start_time": "2022-12-07T10:05:20.769Z"
   },
   {
    "duration": 49,
    "start_time": "2022-12-07T10:05:30.756Z"
   },
   {
    "duration": 17,
    "start_time": "2022-12-07T10:05:45.991Z"
   },
   {
    "duration": 12,
    "start_time": "2022-12-07T10:05:48.716Z"
   },
   {
    "duration": 13,
    "start_time": "2022-12-07T10:06:15.428Z"
   },
   {
    "duration": 24,
    "start_time": "2022-12-07T10:10:29.306Z"
   },
   {
    "duration": 27,
    "start_time": "2022-12-07T10:11:32.375Z"
   },
   {
    "duration": 19,
    "start_time": "2022-12-07T10:11:54.868Z"
   },
   {
    "duration": 21,
    "start_time": "2022-12-07T10:12:04.854Z"
   },
   {
    "duration": 16,
    "start_time": "2022-12-07T10:12:35.179Z"
   },
   {
    "duration": 18,
    "start_time": "2022-12-07T10:12:46.330Z"
   },
   {
    "duration": 10,
    "start_time": "2022-12-07T10:13:17.006Z"
   },
   {
    "duration": 11,
    "start_time": "2022-12-07T10:13:21.759Z"
   },
   {
    "duration": 11,
    "start_time": "2022-12-07T10:17:59.104Z"
   },
   {
    "duration": 4,
    "start_time": "2022-12-07T10:18:04.153Z"
   },
   {
    "duration": 802,
    "start_time": "2022-12-07T10:18:04.159Z"
   },
   {
    "duration": 15,
    "start_time": "2022-12-07T10:18:04.963Z"
   },
   {
    "duration": 14,
    "start_time": "2022-12-07T10:18:04.980Z"
   },
   {
    "duration": 4,
    "start_time": "2022-12-07T10:18:04.995Z"
   },
   {
    "duration": 6,
    "start_time": "2022-12-07T10:18:05.000Z"
   },
   {
    "duration": 27,
    "start_time": "2022-12-07T10:18:05.007Z"
   },
   {
    "duration": 25,
    "start_time": "2022-12-07T10:18:05.036Z"
   },
   {
    "duration": 25,
    "start_time": "2022-12-07T10:18:05.063Z"
   },
   {
    "duration": 20,
    "start_time": "2022-12-07T10:18:05.090Z"
   },
   {
    "duration": 7,
    "start_time": "2022-12-07T10:18:05.112Z"
   },
   {
    "duration": 17,
    "start_time": "2022-12-07T10:18:05.121Z"
   },
   {
    "duration": 11,
    "start_time": "2022-12-07T10:18:05.140Z"
   },
   {
    "duration": 9,
    "start_time": "2022-12-07T10:18:05.153Z"
   },
   {
    "duration": 7,
    "start_time": "2022-12-07T10:18:05.178Z"
   },
   {
    "duration": 4,
    "start_time": "2022-12-07T10:18:05.186Z"
   },
   {
    "duration": 8,
    "start_time": "2022-12-07T10:18:05.192Z"
   },
   {
    "duration": 167,
    "start_time": "2022-12-07T10:18:05.201Z"
   },
   {
    "duration": 128,
    "start_time": "2022-12-07T10:18:05.369Z"
   },
   {
    "duration": 157,
    "start_time": "2022-12-07T10:18:05.498Z"
   },
   {
    "duration": 29,
    "start_time": "2022-12-07T10:18:05.657Z"
   },
   {
    "duration": 185,
    "start_time": "2022-12-07T10:18:05.688Z"
   },
   {
    "duration": 2014,
    "start_time": "2022-12-07T10:18:05.874Z"
   },
   {
    "duration": 7,
    "start_time": "2022-12-07T10:18:07.890Z"
   },
   {
    "duration": 214,
    "start_time": "2022-12-07T10:18:07.899Z"
   },
   {
    "duration": 212,
    "start_time": "2022-12-07T10:18:08.115Z"
   },
   {
    "duration": 25,
    "start_time": "2022-12-07T10:18:08.329Z"
   },
   {
    "duration": 23,
    "start_time": "2022-12-07T10:18:08.356Z"
   },
   {
    "duration": 13,
    "start_time": "2022-12-07T10:18:08.383Z"
   },
   {
    "duration": 9,
    "start_time": "2022-12-07T10:18:08.398Z"
   },
   {
    "duration": 11,
    "start_time": "2022-12-07T10:18:08.409Z"
   },
   {
    "duration": 11,
    "start_time": "2022-12-07T10:18:08.422Z"
   },
   {
    "duration": 254,
    "start_time": "2022-12-07T10:18:08.435Z"
   },
   {
    "duration": 342,
    "start_time": "2022-12-07T10:18:08.691Z"
   },
   {
    "duration": 16,
    "start_time": "2022-12-07T10:18:09.035Z"
   },
   {
    "duration": 177,
    "start_time": "2022-12-07T10:18:09.053Z"
   },
   {
    "duration": 192,
    "start_time": "2022-12-07T10:18:09.232Z"
   },
   {
    "duration": 179,
    "start_time": "2022-12-07T10:18:09.426Z"
   },
   {
    "duration": 17,
    "start_time": "2022-12-07T10:18:09.608Z"
   },
   {
    "duration": 16,
    "start_time": "2022-12-07T10:18:09.627Z"
   },
   {
    "duration": 12,
    "start_time": "2022-12-07T10:18:09.644Z"
   },
   {
    "duration": 26,
    "start_time": "2022-12-07T10:18:09.657Z"
   },
   {
    "duration": 17,
    "start_time": "2022-12-07T10:18:09.684Z"
   },
   {
    "duration": 8,
    "start_time": "2022-12-07T10:18:09.702Z"
   },
   {
    "duration": 11,
    "start_time": "2022-12-07T10:18:09.711Z"
   },
   {
    "duration": 9,
    "start_time": "2022-12-07T10:18:09.723Z"
   },
   {
    "duration": 11,
    "start_time": "2022-12-07T10:18:09.733Z"
   },
   {
    "duration": 30,
    "start_time": "2022-12-07T10:18:50.419Z"
   },
   {
    "duration": 25,
    "start_time": "2022-12-07T10:18:59.337Z"
   },
   {
    "duration": 18,
    "start_time": "2022-12-07T10:19:22.525Z"
   },
   {
    "duration": 22,
    "start_time": "2022-12-07T10:21:05.715Z"
   },
   {
    "duration": 23,
    "start_time": "2022-12-07T10:21:20.198Z"
   },
   {
    "duration": 26,
    "start_time": "2022-12-07T10:21:35.668Z"
   },
   {
    "duration": 35,
    "start_time": "2022-12-07T10:21:41.953Z"
   },
   {
    "duration": 22,
    "start_time": "2022-12-07T10:22:04.684Z"
   },
   {
    "duration": 21,
    "start_time": "2022-12-07T10:22:25.125Z"
   },
   {
    "duration": 23,
    "start_time": "2022-12-07T10:23:45.437Z"
   },
   {
    "duration": 15,
    "start_time": "2022-12-07T10:23:59.393Z"
   },
   {
    "duration": 4,
    "start_time": "2022-12-07T10:27:49.062Z"
   },
   {
    "duration": 175,
    "start_time": "2022-12-07T10:30:12.580Z"
   },
   {
    "duration": 169,
    "start_time": "2022-12-07T10:30:29.949Z"
   },
   {
    "duration": 176,
    "start_time": "2022-12-07T10:31:49.873Z"
   },
   {
    "duration": 149,
    "start_time": "2022-12-07T10:32:42.089Z"
   },
   {
    "duration": 23,
    "start_time": "2022-12-07T10:32:44.514Z"
   },
   {
    "duration": 4,
    "start_time": "2022-12-07T10:33:01.221Z"
   },
   {
    "duration": 847,
    "start_time": "2022-12-07T10:33:01.227Z"
   },
   {
    "duration": 16,
    "start_time": "2022-12-07T10:33:02.076Z"
   },
   {
    "duration": 18,
    "start_time": "2022-12-07T10:33:02.094Z"
   },
   {
    "duration": 3,
    "start_time": "2022-12-07T10:33:02.114Z"
   },
   {
    "duration": 6,
    "start_time": "2022-12-07T10:33:02.118Z"
   },
   {
    "duration": 20,
    "start_time": "2022-12-07T10:33:02.126Z"
   },
   {
    "duration": 22,
    "start_time": "2022-12-07T10:33:02.147Z"
   },
   {
    "duration": 39,
    "start_time": "2022-12-07T10:33:02.177Z"
   },
   {
    "duration": 16,
    "start_time": "2022-12-07T10:33:02.218Z"
   },
   {
    "duration": 20,
    "start_time": "2022-12-07T10:33:02.236Z"
   },
   {
    "duration": 15,
    "start_time": "2022-12-07T10:33:02.258Z"
   },
   {
    "duration": 36,
    "start_time": "2022-12-07T10:33:02.275Z"
   },
   {
    "duration": 223,
    "start_time": "2022-12-07T10:33:02.312Z"
   },
   {
    "duration": 18,
    "start_time": "2022-12-07T10:33:02.536Z"
   },
   {
    "duration": 43,
    "start_time": "2022-12-07T10:33:02.556Z"
   },
   {
    "duration": 23,
    "start_time": "2022-12-07T10:33:02.600Z"
   },
   {
    "duration": 141,
    "start_time": "2022-12-07T10:33:02.624Z"
   },
   {
    "duration": 150,
    "start_time": "2022-12-07T10:33:02.767Z"
   },
   {
    "duration": 154,
    "start_time": "2022-12-07T10:33:02.919Z"
   },
   {
    "duration": 28,
    "start_time": "2022-12-07T10:33:03.074Z"
   },
   {
    "duration": 178,
    "start_time": "2022-12-07T10:33:03.104Z"
   },
   {
    "duration": 2031,
    "start_time": "2022-12-07T10:33:03.285Z"
   },
   {
    "duration": 6,
    "start_time": "2022-12-07T10:33:05.318Z"
   },
   {
    "duration": 228,
    "start_time": "2022-12-07T10:33:05.325Z"
   },
   {
    "duration": 30,
    "start_time": "2022-12-07T10:33:05.555Z"
   },
   {
    "duration": 170,
    "start_time": "2022-12-07T10:33:05.589Z"
   },
   {
    "duration": 9,
    "start_time": "2022-12-07T10:33:05.761Z"
   },
   {
    "duration": 22,
    "start_time": "2022-12-07T10:33:05.780Z"
   },
   {
    "duration": 23,
    "start_time": "2022-12-07T10:33:05.803Z"
   },
   {
    "duration": 13,
    "start_time": "2022-12-07T10:33:05.827Z"
   },
   {
    "duration": 11,
    "start_time": "2022-12-07T10:33:05.842Z"
   },
   {
    "duration": 257,
    "start_time": "2022-12-07T10:33:05.854Z"
   },
   {
    "duration": 360,
    "start_time": "2022-12-07T10:33:06.112Z"
   },
   {
    "duration": 21,
    "start_time": "2022-12-07T10:33:06.474Z"
   },
   {
    "duration": 184,
    "start_time": "2022-12-07T10:33:06.497Z"
   },
   {
    "duration": 188,
    "start_time": "2022-12-07T10:33:06.683Z"
   },
   {
    "duration": 179,
    "start_time": "2022-12-07T10:33:06.877Z"
   },
   {
    "duration": 23,
    "start_time": "2022-12-07T10:33:07.058Z"
   },
   {
    "duration": 20,
    "start_time": "2022-12-07T10:33:07.083Z"
   },
   {
    "duration": 12,
    "start_time": "2022-12-07T10:33:07.104Z"
   },
   {
    "duration": 8,
    "start_time": "2022-12-07T10:33:07.117Z"
   },
   {
    "duration": 17,
    "start_time": "2022-12-07T10:33:07.127Z"
   },
   {
    "duration": 7,
    "start_time": "2022-12-07T10:33:07.146Z"
   },
   {
    "duration": 9,
    "start_time": "2022-12-07T10:33:07.179Z"
   },
   {
    "duration": 17,
    "start_time": "2022-12-07T10:33:07.191Z"
   },
   {
    "duration": 6,
    "start_time": "2022-12-07T10:33:07.210Z"
   },
   {
    "duration": 237,
    "start_time": "2022-12-07T10:34:07.146Z"
   },
   {
    "duration": 66,
    "start_time": "2022-12-07T10:44:48.340Z"
   },
   {
    "duration": 190,
    "start_time": "2022-12-07T10:49:45.013Z"
   },
   {
    "duration": 4,
    "start_time": "2022-12-07T11:02:42.171Z"
   },
   {
    "duration": 1042,
    "start_time": "2022-12-07T11:02:42.177Z"
   },
   {
    "duration": 9,
    "start_time": "2022-12-07T11:02:43.221Z"
   },
   {
    "duration": 27,
    "start_time": "2022-12-07T11:02:43.231Z"
   },
   {
    "duration": 16,
    "start_time": "2022-12-07T11:02:43.259Z"
   },
   {
    "duration": 24,
    "start_time": "2022-12-07T11:02:43.276Z"
   },
   {
    "duration": 37,
    "start_time": "2022-12-07T11:02:43.302Z"
   },
   {
    "duration": 42,
    "start_time": "2022-12-07T11:02:43.341Z"
   },
   {
    "duration": 24,
    "start_time": "2022-12-07T11:02:43.385Z"
   },
   {
    "duration": 34,
    "start_time": "2022-12-07T11:02:43.410Z"
   },
   {
    "duration": 24,
    "start_time": "2022-12-07T11:02:43.447Z"
   },
   {
    "duration": 35,
    "start_time": "2022-12-07T11:02:43.473Z"
   },
   {
    "duration": 28,
    "start_time": "2022-12-07T11:02:43.510Z"
   },
   {
    "duration": 12,
    "start_time": "2022-12-07T11:02:43.540Z"
   },
   {
    "duration": 33,
    "start_time": "2022-12-07T11:02:43.554Z"
   },
   {
    "duration": 29,
    "start_time": "2022-12-07T11:02:43.589Z"
   },
   {
    "duration": 28,
    "start_time": "2022-12-07T11:02:43.620Z"
   },
   {
    "duration": 155,
    "start_time": "2022-12-07T11:02:43.650Z"
   },
   {
    "duration": 122,
    "start_time": "2022-12-07T11:02:43.807Z"
   },
   {
    "duration": 191,
    "start_time": "2022-12-07T11:02:43.931Z"
   },
   {
    "duration": 22,
    "start_time": "2022-12-07T11:02:44.123Z"
   },
   {
    "duration": 208,
    "start_time": "2022-12-07T11:02:44.147Z"
   },
   {
    "duration": 1874,
    "start_time": "2022-12-07T11:02:44.357Z"
   },
   {
    "duration": 7,
    "start_time": "2022-12-07T11:02:46.233Z"
   },
   {
    "duration": 216,
    "start_time": "2022-12-07T11:02:46.242Z"
   },
   {
    "duration": 27,
    "start_time": "2022-12-07T11:02:46.460Z"
   },
   {
    "duration": 162,
    "start_time": "2022-12-07T11:02:46.489Z"
   },
   {
    "duration": 10,
    "start_time": "2022-12-07T11:02:46.653Z"
   },
   {
    "duration": 10,
    "start_time": "2022-12-07T11:02:46.677Z"
   },
   {
    "duration": 23,
    "start_time": "2022-12-07T11:02:46.688Z"
   },
   {
    "duration": 27,
    "start_time": "2022-12-07T11:02:46.713Z"
   },
   {
    "duration": 32,
    "start_time": "2022-12-07T11:02:46.741Z"
   },
   {
    "duration": 255,
    "start_time": "2022-12-07T11:02:46.775Z"
   },
   {
    "duration": 366,
    "start_time": "2022-12-07T11:02:47.032Z"
   },
   {
    "duration": 15,
    "start_time": "2022-12-07T11:02:47.400Z"
   },
   {
    "duration": 183,
    "start_time": "2022-12-07T11:02:47.417Z"
   },
   {
    "duration": 189,
    "start_time": "2022-12-07T11:02:47.602Z"
   },
   {
    "duration": 179,
    "start_time": "2022-12-07T11:02:47.792Z"
   },
   {
    "duration": 14,
    "start_time": "2022-12-07T11:02:47.977Z"
   },
   {
    "duration": 15,
    "start_time": "2022-12-07T11:02:47.993Z"
   },
   {
    "duration": 24,
    "start_time": "2022-12-07T11:02:48.010Z"
   },
   {
    "duration": 7,
    "start_time": "2022-12-07T11:02:48.036Z"
   },
   {
    "duration": 37,
    "start_time": "2022-12-07T11:02:48.045Z"
   },
   {
    "duration": 18,
    "start_time": "2022-12-07T11:02:48.084Z"
   },
   {
    "duration": 23,
    "start_time": "2022-12-07T11:02:48.103Z"
   },
   {
    "duration": 19,
    "start_time": "2022-12-07T11:02:48.128Z"
   },
   {
    "duration": 43,
    "start_time": "2022-12-07T11:02:48.149Z"
   },
   {
    "duration": 64,
    "start_time": "2023-05-09T09:20:56.483Z"
   },
   {
    "duration": 1065,
    "start_time": "2023-05-09T09:21:01.836Z"
   },
   {
    "duration": 852,
    "start_time": "2023-05-09T09:21:02.903Z"
   },
   {
    "duration": 12,
    "start_time": "2023-05-09T09:21:03.758Z"
   },
   {
    "duration": 33,
    "start_time": "2023-05-09T09:21:03.773Z"
   },
   {
    "duration": 6,
    "start_time": "2023-05-09T09:21:03.808Z"
   },
   {
    "duration": 5,
    "start_time": "2023-05-09T09:21:03.815Z"
   },
   {
    "duration": 18,
    "start_time": "2023-05-09T09:21:03.823Z"
   },
   {
    "duration": 12,
    "start_time": "2023-05-09T09:21:03.843Z"
   },
   {
    "duration": 10,
    "start_time": "2023-05-09T09:21:04.205Z"
   },
   {
    "duration": 14,
    "start_time": "2023-05-09T09:21:04.403Z"
   },
   {
    "duration": 8,
    "start_time": "2023-05-09T09:21:04.603Z"
   },
   {
    "duration": 13,
    "start_time": "2023-05-09T09:21:04.831Z"
   },
   {
    "duration": 10,
    "start_time": "2023-05-09T09:21:05.055Z"
   },
   {
    "duration": 6,
    "start_time": "2023-05-09T09:21:05.286Z"
   },
   {
    "duration": 9,
    "start_time": "2023-05-09T09:21:05.493Z"
   },
   {
    "duration": 5,
    "start_time": "2023-05-09T09:21:06.131Z"
   },
   {
    "duration": 9,
    "start_time": "2023-05-09T09:21:06.332Z"
   },
   {
    "duration": 200,
    "start_time": "2023-05-09T09:21:06.541Z"
   },
   {
    "duration": 135,
    "start_time": "2023-05-09T09:21:06.754Z"
   },
   {
    "duration": 147,
    "start_time": "2023-05-09T09:21:07.188Z"
   },
   {
    "duration": 25,
    "start_time": "2023-05-09T09:21:07.615Z"
   },
   {
    "duration": 172,
    "start_time": "2023-05-09T09:21:07.838Z"
   },
   {
    "duration": 2135,
    "start_time": "2023-05-09T09:21:08.038Z"
   },
   {
    "duration": 8,
    "start_time": "2023-05-09T09:21:10.175Z"
   },
   {
    "duration": 288,
    "start_time": "2023-05-09T09:21:10.194Z"
   },
   {
    "duration": 24,
    "start_time": "2023-05-09T09:21:10.484Z"
   },
   {
    "duration": 191,
    "start_time": "2023-05-09T09:21:10.510Z"
   },
   {
    "duration": 68,
    "start_time": "2023-05-09T09:21:10.703Z"
   },
   {
    "duration": 0,
    "start_time": "2023-05-09T09:21:10.773Z"
   },
   {
    "duration": 0,
    "start_time": "2023-05-09T09:21:10.775Z"
   },
   {
    "duration": 9,
    "start_time": "2023-05-09T09:21:10.957Z"
   },
   {
    "duration": 11,
    "start_time": "2023-05-09T09:21:11.198Z"
   },
   {
    "duration": 297,
    "start_time": "2023-05-09T09:21:11.653Z"
   },
   {
    "duration": 9,
    "start_time": "2023-05-09T09:21:26.167Z"
   },
   {
    "duration": 8,
    "start_time": "2023-05-09T09:21:26.696Z"
   },
   {
    "duration": 12,
    "start_time": "2023-05-09T09:21:27.559Z"
   },
   {
    "duration": 13,
    "start_time": "2023-05-09T09:21:28.342Z"
   },
   {
    "duration": 350,
    "start_time": "2023-05-09T09:21:29.504Z"
   },
   {
    "duration": 282,
    "start_time": "2023-05-09T09:22:27.400Z"
   },
   {
    "duration": 290,
    "start_time": "2023-05-09T09:50:33.578Z"
   }
  ],
  "kernelspec": {
   "display_name": "Python 3 (ipykernel)",
   "language": "python",
   "name": "python3"
  },
  "language_info": {
   "codemirror_mode": {
    "name": "ipython",
    "version": 3
   },
   "file_extension": ".py",
   "mimetype": "text/x-python",
   "name": "python",
   "nbconvert_exporter": "python",
   "pygments_lexer": "ipython3",
   "version": "3.9.5"
  },
  "toc": {
   "base_numbering": 1,
   "nav_menu": {},
   "number_sections": true,
   "sideBar": true,
   "skip_h1_title": true,
   "title_cell": "Table of Contents",
   "title_sidebar": "Contents",
   "toc_cell": false,
   "toc_position": {},
   "toc_section_display": true,
   "toc_window_display": false
  }
 },
 "nbformat": 4,
 "nbformat_minor": 2
}
